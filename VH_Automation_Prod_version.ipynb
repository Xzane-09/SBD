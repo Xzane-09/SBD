{
 "cells": [
  {
   "cell_type": "markdown",
   "metadata": {
    "id": "Z9aNrsHUcFpY"
   },
   "source": [
    "## Install the libraries"
   ]
  },
  {
   "cell_type": "code",
   "execution_count": null,
   "metadata": {
    "id": "qvlVlfNFnFTs"
   },
   "outputs": [],
   "source": [
    "# Manual snippet to upgrade any package IF the code fails to update by itself \n",
    "#!pip install --upgrade openpyxl"
   ]
  },
  {
   "cell_type": "code",
   "execution_count": 1,
   "metadata": {
    "colab": {
     "base_uri": "https://localhost:8080/"
    },
    "id": "Dijod-x7sRmO",
    "outputId": "123ea3ac-9a31-4b3d-eb6e-02e3fbe15775"
   },
   "outputs": [
    {
     "name": "stdout",
     "output_type": "stream",
     "text": [
      "python-Levenshtein\n",
      "fuzzywuzzy\n",
      "gTTS\n",
      "openpyxl\n"
     ]
    }
   ],
   "source": [
    "import sys\n",
    "import subprocess\n",
    "\n",
    "# List of libraries:\n",
    "list_lib = ['googletrans==3.1.0a0','python-Levenshtein','fuzzywuzzy','gTTS','unidecode']\n",
    "upd_lib = ['openpyxl']\n",
    "\n",
    "for lib in upd_lib:\n",
    "  subprocess.check_call([sys.executable, '-m', 'pip', 'install','--upgrade', lib])\n",
    "\n",
    "# implement pip as a subprocess:\n",
    "for lib in list_lib:\n",
    "  subprocess.check_call([sys.executable, '-m', 'pip', 'install',lib])\n",
    "\n",
    "# process output with an API in the subprocess module:\n",
    "reqs = subprocess.check_output([sys.executable, '-m', 'pip',\n",
    "'freeze'])\n",
    "\n",
    "for lib in list_lib:\n",
    "  installed_packages = [r.decode().split('==')[0] for r in reqs.split()]\n",
    "  if lib in installed_packages:\n",
    "    print(lib)\n",
    "\n",
    "for lib in upd_lib:\n",
    "  installed_packages = [r.decode().split('==')[0] for r in reqs.split()]\n",
    "  if lib in installed_packages:\n",
    "    print(lib)\n",
    "\n",
    "\n"
   ]
  },
  {
   "cell_type": "markdown",
   "metadata": {
    "id": "NQ0dW6AbdQRP"
   },
   "source": [
    "## Import the libraries"
   ]
  },
  {
   "cell_type": "code",
   "execution_count": 2,
   "metadata": {
    "id": "AEcVK0VhcFpf"
   },
   "outputs": [],
   "source": [
    "#  ========================================= Basic Imports ====================================================================== \n",
    "import pandas as pd\n",
    "import os\n",
    "import io\n",
    "import sys\n",
    "from datetime import datetime, timedelta\n",
    "import re\n",
    "import glob\n",
    "import numpy as np\n",
    "import ssl\n",
    "import warnings\n",
    "from google.colab import drive\n",
    "from google.colab import files\n",
    "import chardet\n",
    "import unicodedata\n",
    "from unidecode import unidecode\n",
    "\n",
    "warnings.filterwarnings(\"ignore\")\n",
    "\n",
    "#========================================= Processing Bar notification ====================================================\n",
    "from googletrans  import Translator\n",
    "translator = Translator(service_urls = ['translate.googleapis.com']) \n",
    "\n",
    "#========================================= Processing Bar notification ====================================================\n",
    "from tqdm.notebook import tqdm\n",
    "from fuzzywuzzy import fuzz\n",
    "from fuzzywuzzy import process\n",
    "\n",
    "#========================================= Model Imports ==================================================================\n",
    "from sklearn.model_selection import train_test_split\n",
    "from sklearn.feature_extraction.text import CountVectorizer\n",
    "from sklearn.feature_extraction.text import TfidfTransformer\n",
    "from sklearn.linear_model import SGDClassifier\n",
    "from sklearn import preprocessing\n",
    "from sklearn.preprocessing import RobustScaler,MinMaxScaler,MaxAbsScaler\n",
    "\n",
    "#========================================= For sound notification =========================================================\n",
    "from gtts import gTTS\n",
    "\n",
    "    "
   ]
  },
  {
   "cell_type": "code",
   "execution_count": 3,
   "metadata": {
    "id": "l8ylWIK5cFph"
   },
   "outputs": [],
   "source": [
    "process_start_time =  datetime.now()\n",
    "scaling = MaxAbsScaler\n",
    "tfidf_transformer = TfidfTransformer()\n",
    "count_vect = CountVectorizer()\n",
    "SGD = SGDClassifier(loss='hinge', penalty='l2', max_iter=1000, learning_rate='constant',eta0 = 0.1)\n",
    "\n"
   ]
  },
  {
   "cell_type": "markdown",
   "metadata": {
    "id": "0XlG0SG9cFpp"
   },
   "source": [
    "### All definations"
   ]
  },
  {
   "cell_type": "code",
   "execution_count": 4,
   "metadata": {
    "id": "fvGdyLdfcFpq"
   },
   "outputs": [],
   "source": [
    "def reading_master_files():\n",
    "  uploads = files.upload()\n",
    "  tot_files = len(uploads.keys())\n",
    "\n",
    "  if tot_files>1:\n",
    "    frame=[]\n",
    "    total = 0\n",
    "    for fn in uploads.keys():\n",
    "        file = pd.read_excel(io.BytesIO(uploads[fn]))\n",
    "        rep_col = 'Predicted Names/ Model Cleansed'\n",
    "        rep_col_dict = {'Predicted Names/ Model Cleansed':'New Supplier'} # new supplier as manually harmonized names/previously harmonized/model cleansed\n",
    "        for col in file.columns:\n",
    "            if col == rep_col:\n",
    "                file.rename(columns = rep_col_dict, inplace = True)\n",
    "        file = file[['DataSource','Vendor number','Vendor name', 'New Supplier']]\n",
    "        dimen = file.shape\n",
    "        nr = dimen[0]\n",
    "        nc = dimen[1]\n",
    "        total=total+nr\n",
    "        file.reset_index(inplace=True,drop=True)\n",
    "        frame.append(file)\n",
    "    consolidated_df = pd.concat(frame,sort=False)\n",
    "    consolidated_df.reset_index(inplace=True,drop=True)\n",
    "    raw_df = consolidated_df.copy()\n",
    "\n",
    "    for fn in uploads.keys():\n",
    "      with open(fn, 'rb') as rawdata:\n",
    "        result = chardet.detect(rawdata.read(18))\n",
    "        print(f'Filename: {fn}\\nInfo: {result} \\n')\n",
    "\n",
    "  else:\n",
    "    filename = uploads.keys()\n",
    "    filename = str(filename)\n",
    "    filename = re.findall(r\"\\'.*?\\'\", filename)[0]\n",
    "    filename = re.sub(\"'\",\"\",filename)\n",
    "    with open(filename, 'rb') as rawdata:\n",
    "      result = chardet.detect(rawdata.read(18))\n",
    "      print(f'Filename: {filename}\\nInfo: {result} \\n')\n",
    "    file = pd.read_excel(io.BytesIO(uploads[filename]))\n",
    "    dimen = file.shape\n",
    "    nr = dimen[0]\n",
    "    nc = dimen[1]\n",
    "    total=nr\n",
    "    file = file[['DataSource','Vendor number','Vendor name', 'New Supplier']]\n",
    "    raw_df = file.copy()\n",
    "\n",
    "  return(raw_df,total,tot_files)\n",
    "\n",
    "\n",
    "def vendor_harmonized_stop_word(name):\n",
    "    s = \" \".join([i for i in re.split(r' ', name) if not i in vendor_harmonized_stopwords]).strip()\n",
    "    return s\n",
    "\n",
    "\n",
    "def trim_spaces(name):\n",
    "#    s = \" \".join([i for i in re.split(r' ', name)]).strip()\n",
    "#    return s\n",
    "    s = \" \".join(name.split()).strip()\n",
    "    return s\n",
    "\n",
    "\n",
    "def new_old_match_stopword(name):\n",
    "    s = \"\".join([i for i in re.split(r' ', name) if not i in new_old_match_stopwords]).strip()\n",
    "    return s\n",
    "\n",
    "\n",
    "def Clean_Vendor_Name_stopword(name):\n",
    "    s = \" \".join([i for i in re.split(r' ', name) if not i in new_old_match_stopwords]).strip()\n",
    "    return s\n",
    "\n",
    "    \n",
    "\n",
    "def rep(name): # same function name has been used twice recheck the dependency and change accordingly\n",
    "    return(name.replace(\"`\",\"\",1))\n",
    "\n",
    "\n",
    "def norm_vendorNames(vname): # same function name has been used twice recheck the dependency and change accordingly\n",
    "  normalized = unicodedata.normalize('NFD', vname)\n",
    "  norm_vname = u\"\".join([c for c in normalized if not unicodedata.combining(c)])\n",
    "  return(norm_vname)\n",
    "\n",
    "\n",
    "def decode_vnames(vname):\n",
    "  return(unidecode(vname))\n",
    "\n",
    "\n",
    "def data_clean(file):\n",
    "    proc_df = file\n",
    "    proc_df['Vendor name'] = proc_df['Vendor name'].apply(lambda x: str(x)) # added this line to remove suhong type of city names from vendor names. Do the same with other defs \n",
    "    proc_df= final_output_sup_name_Cleaning(proc_df,'Vendor name')  # added function to remove city names\n",
    "    proc_df['Vendor name'] = proc_df['Vendor name'].apply(decode_vnames)\n",
    "    proc_df['Clean_Vendor_Name'] = proc_df['Vendor name'].apply(lambda x: str(x))\n",
    "    proc_df['Clean_Vendor_Name'] = proc_df['Clean_Vendor_Name'].apply(lambda x: x.replace('DO NOT USE', ''))\n",
    "    proc_df['Clean_Vendor_Name'] = proc_df['Clean_Vendor_Name'].apply(decode_vnames)\n",
    "    proc_df['Clean_Vendor_Name'] = proc_df['Clean_Vendor_Name'].apply(lambda x: re.sub(\"([^\\x00-\\x7F])+\",\" \",x))\n",
    "    proc_df= final_output_sup_name_Cleaning(proc_df,'Clean_Vendor_Name') # added function to remove city names\n",
    "    proc_df['Clean_Vendor_Name'] = proc_df['Clean_Vendor_Name'].apply(lambda x: re.sub('[#,.,/,]', ' ',x))\n",
    "    proc_df['Clean_Vendor_Name'] = proc_df['Clean_Vendor_Name'].apply(lambda x: re.sub(r'[^\\w\\s]', '', x))\n",
    "    proc_df['Clean_Vendor_Name'] = proc_df['Clean_Vendor_Name'].apply(lambda x: x.lower())\n",
    "    proc_df['Clean_Vendor_Name'] = proc_df['Clean_Vendor_Name'].apply(vendor_harmonized_stop_word)\n",
    "    \n",
    "    proc_df['Clean_Vendor_Name'] = proc_df['Clean_Vendor_Name'].apply(Clean_Vendor_Name_stopword) # added this new line\n",
    "    proc_df['Clean_Vendor_Name'] = proc_df['Clean_Vendor_Name'].apply(trim_spaces) # added this new line\n",
    "\n",
    "    proc_df['New Supplier'] = proc_df['New Supplier'].apply(decode_vnames)\n",
    "    \n",
    "    return proc_df\n",
    "\n",
    "\n",
    "def data_clean_initials(file):\n",
    "    proc_df = file\n",
    "    proc_df['Vendor_name_Initials'] = proc_df['Clean_Vendor_Name'].apply(lambda x: str(x))\n",
    "    #proc_df['Vendor_name_Initials'] = proc_df['Vendor_name_Initials'].apply(lambda x: re.sub(\"([^\\x00-\\x7F])+\",\" \",x))\n",
    "    #print()\n",
    "    proc_df['Vendor_name_Initials'] = proc_df['Vendor_name_Initials'].apply(lambda x: x[0])\n",
    "    proc_df['Vendor_name_Initials'] = proc_df['Vendor_name_Initials'].apply(lambda x: re.sub(\"([^\\x00-\\x7F])+\",\" \",x))\n",
    "    proc_df['Vendor_name_Initials'] = proc_df['Vendor_name_Initials'].apply(lambda x: re.sub('[@,?,#,(,),*,+,.,-,_,`,~]', ' ',x))\n",
    "    #proc_df['Clean_Vendor_Name'] = proc_df['Clean_Vendor_Name'].apply(vendor_harmonized_stop_word)\n",
    "    \n",
    "    proc_df['New_Supplier'] = proc_df['New Supplier'].apply(lambda x: str(x))\n",
    "    proc_df['New_Supplier'] = proc_df['New Supplier'].apply(lambda x: re.sub(\"([^\\x00-\\x7F])+\",\" \",x))\n",
    "    proc_df['New_Supplier'] = proc_df['New_Supplier'].apply(lambda x: re.sub('[@?#()*_~]', '',x))\n",
    "    proc_df['New_Supplier'] = proc_df['New_Supplier'].apply(lambda x: x.lower())\n",
    "    proc_df['New_Supplier'] = proc_df['New_Supplier'].apply(lambda x: re.sub('\"', '',x))\n",
    "    proc_df['New_Supplier'] = proc_df['New_Supplier'].apply(lambda x: re.sub(\"'\", '',x))\n",
    "    #proc_df['New_Supplier'] = proc_df['New_Supplier'].apply(lambda x: re.sub(r'-', ' ', x))\n",
    "    #proc_df['New_Supplier'] = proc_df['New_Supplier'].apply(lambda x: re.sub(r'[^\\s]', '', x))\n",
    "    proc_df['New_Supplier'] = proc_df['New_Supplier'].apply(vendor_harmonized_stop_word) \n",
    "    return proc_df\n",
    "\n",
    "\n",
    "\n",
    "def input_df_data_clean(file):\n",
    "    proc_df = file\n",
    "    \n",
    "    # Below steps are the cleaning for vendors:\n",
    "    proc_df['Vendor name'] = proc_df['Vendor name'].apply(lambda x: str(x))  \n",
    "    proc_df= final_output_sup_name_Cleaning(proc_df,'Vendor name')\n",
    "    proc_df['Vendor name'] = proc_df['Vendor name'].apply(decode_vnames)\n",
    "    proc_df['Clean_Vendor_Name'] = proc_df['Vendor name'].apply(lambda x: str(x))\n",
    "    proc_df['Clean_Vendor_Name'] = proc_df['Clean_Vendor_Name'].apply(decode_vnames)\n",
    "    proc_df['Clean_Vendor_Name'] = proc_df['Clean_Vendor_Name'].apply(lambda x: re.sub(\"([^\\x00-\\x7F])+\",\" \",x))\n",
    "    proc_df['Clean_Vendor_Name'] = proc_df['Clean_Vendor_Name'].apply(lambda x: re.sub('[#,.,/,]', ' ',x))\n",
    "    proc_df['Clean_Vendor_Name'] = proc_df['Clean_Vendor_Name'].apply(vendor_harmonized_stop_word)\n",
    "    proc_df['Clean_Vendor_Name'] = proc_df['Clean_Vendor_Name'].apply(lambda x: re.sub(\"([^\\x00-\\x7F])+\",\" \",x))\n",
    "    proc_df= final_output_sup_name_Cleaning(proc_df,'Clean_Vendor_Name')\n",
    "    proc_df['Clean_Vendor_Name'] = proc_df['Clean_Vendor_Name'].apply(lambda x: re.sub(r'[^\\w\\s]', '', x))\n",
    "    proc_df['Clean_Vendor_Name'] = proc_df['Clean_Vendor_Name'].apply(lambda x: x.lower())\n",
    "    proc_df['Clean_Vendor_Name'] = proc_df['Clean_Vendor_Name'].apply(Clean_Vendor_Name_stopword)# added this line extra\n",
    "    proc_df['Clean_Vendor_Name'] = proc_df['Clean_Vendor_Name'].apply(trim_spaces)\n",
    "    proc_df.replace(\"\", np.nan, inplace=True) #try with commenting this line and below too to check the difference\n",
    "    proc_df.dropna(subset = [\"Clean_Vendor_Name\"],inplace=True)\n",
    "    return proc_df\n",
    "\n",
    "\n",
    "def crisp_vendor_name(file):\n",
    "    proc_df = file\n",
    "    proc_df['crisp_vendor_name'] = proc_df['Clean_Vendor_Name'].apply(lambda x: str(x))\n",
    "    #proc_df['crisp_vendor_name'] = proc_df['crisp_vendor_name'].apply(lambda x: re.sub(\"([^\\x00-\\x7F])+\",\" \",x))\n",
    "    #proc_df['crisp_vendor_name'] = proc_df['crisp_vendor_name'].apply(lambda x: re.sub(' ', '',x))\n",
    "    proc_df['crisp_vendor_name'] = proc_df['crisp_vendor_name'].apply(new_old_match_stopword)\n",
    "    return proc_df\n",
    "\n",
    "\n",
    "   \n",
    "def input_df_data_ini(file):\n",
    "    proc_df = file\n",
    "    proc_df['Vendor_name_Initials'] = proc_df['Clean_Vendor_Name'].apply(lambda x: re.sub(\"([^\\x00-\\x7F])+\",\" \",x))\n",
    "    proc_df['Vendor_name_Initials'] = proc_df['Vendor_name_Initials'].apply(lambda x: x[0])\n",
    "    proc_df['Vendor_name_Initials'] = proc_df['Vendor_name_Initials'].apply(lambda x: re.sub(\"([^\\x00-\\x7F])+\",\" \",x))\n",
    "    proc_df['Vendor_name_Initials'] = proc_df['Vendor_name_Initials'].apply(lambda x: re.sub('[@,?,#,(,),*,+,.,-,_,`,~]', ' ',x))\n",
    "    #proc_df['Clean_Vendor_Name'] = proc_df['Clean_Vendor_Name'].apply(vendor_stop_word)\n",
    "    return proc_df\n",
    "\n",
    "\n",
    "def inp_CleaningChamber(file):\n",
    "    proc_df = file\n",
    "    proc_df['Vendor_Name_cleansed'] = proc_df['Vendor name'].apply(lambda x: str(x))\n",
    "    proc_df['Vendor_Name_cleansed'] = proc_df['Vendor_Name_cleansed'].apply(lambda x: re.sub(\"([^\\x00-\\x7F])+\",\" \",x))\n",
    "    proc_df= final_output_sup_name_Cleaning(proc_df,'Vendor_Name_cleansed') # Added function to remove city names\n",
    "    proc_df['Vendor_Name_cleansed'] = proc_df['Vendor_Name_cleansed'].apply(lambda x: re.sub('[@?#()*_~/]', ' ',x))\n",
    "    proc_df['Vendor_Name_cleansed'] = proc_df['Vendor_Name_cleansed'].apply(lambda x: x.lower())\n",
    "    proc_df['Vendor_Name_cleansed'] = proc_df['Vendor_Name_cleansed'].apply(lambda x: re.sub('\"', '',x))\n",
    "    #proc_df['Vendor_Name_cleansed'] = proc_df['Vendor_Name_cleansed'].apply(lambda x: re.sub(\"'\", '',x))\n",
    "    #proc_df['Vendor_Name_cleansed'] = proc_df['Vendor_Name_cleansed'].apply(lambda x: re.sub(r'-', ' ', x))\n",
    "    #proc_df['New_Supplier'] = proc_df['New_Supplier'].apply(lambda x: re.sub(r'[^\\s]', '', x))\n",
    "    proc_df['Vendor_Name_cleansed'] = proc_df['Vendor_Name_cleansed'].apply(vendor_harmonized_stop_word)\n",
    "    proc_df['Vendor_Name_cleansed'] = proc_df['Vendor_Name_cleansed'].apply(trim_spaces)\n",
    "    return proc_df\n",
    "\n",
    "\n",
    "def bucket_df(df,initials_lists):\n",
    "    bucket_df_list =[]\n",
    "    grp_df = df.groupby(df.Vendor_name_Initials)\n",
    "    for char in initials_lists:\n",
    "        bucket_df_list.append(grp_df.get_group(char))\n",
    "    return(bucket_df_list)\n",
    "\n",
    "\n",
    "def bucket_df_dup(dframe,unique_counts):\n",
    "    bucket_df_list =[]\n",
    "    grp_df = dframe.groupby(dframe['#VN'])\n",
    "    for char in unique_counts:\n",
    "        bucket_df_list.append(grp_df.get_group(char))\n",
    "    return(bucket_df_list)\n",
    "\n",
    "\n",
    "\n",
    "def time_util(pred_time):\n",
    "    # total_seconds = pred_time.seconds\n",
    "    seconds = int(pred_time.total_seconds())\n",
    "    secs_in_a_min = 60\n",
    "    minutes, seconds = divmod(seconds, secs_in_a_min)\n",
    "\n",
    "    time_fmt = f\"{minutes:02d} {seconds:02d} secs\"\n",
    "\n",
    "    if minutes > 0:\n",
    "        suffix = 's' if minutes > 1 else \"\"\n",
    "        return f'{minutes} min{suffix} & {seconds} secs'\n",
    "\n",
    "    return time_fmt\n",
    "\n",
    "\n",
    "def sgd_clf(i):\n",
    "    Tot_St_Time = datetime.now()\n",
    "    grp_number = np.unique(grp_clean_main_df_list[i]['Vendor_name_Initials'])[0]\n",
    "    Train_X,Test_X,Train_Y,Test_Y = train_test_split(grp_clean_main_df_list[i]['Clean_Vendor_Name'],grp_clean_main_df_list[i]['New_Supplier'],test_size=0.00001, random_state=0)\n",
    "    X_train_counts = count_vect.fit_transform(Train_X)\n",
    "    X_train_tfidf = tfidf_transformer.fit_transform(X_train_counts)\n",
    "    sgd_clf=SGD.fit(X_train_tfidf,Train_Y)\n",
    "    Tot_End_Time = datetime.now()\n",
    "    Tot_time_taken = Tot_End_Time - Tot_St_Time\n",
    "    return(time_util(Tot_time_taken),grp_number,sgd_clf)\n",
    "\n",
    "def Match_wordLength(i):\n",
    "    if (merged_final['Model_pred_Supplier'][i] == merged_final['Prev_Predicted_Supplier'][i]):\n",
    "        merged_final['Match_word_len'].loc[i] = 'Same Length'\n",
    "    else:\n",
    "        merged_final['Match_word_len'].loc[i] = 'Different Length'\n",
    "    return(merged_final['Match_word_len'])\n",
    "\n",
    "def rep(name):\n",
    "    return(name.replace(\"-\",\"\",1))\n",
    "\n",
    "\n",
    "def trans_name(name):\n",
    "  srch = re.search(\"([^\\x00-\\x7F])+\",name)==None\n",
    "  if srch:\n",
    "    return(name)\n",
    "  else:\n",
    "    return(translator.translate(str(name), dest = 'en').text)\n",
    "\n",
    "\n",
    "punc = '''!(-[](){};`:)/'\"\\,<>.?@#$%^*+_~'''  \n",
    "invalid_punc = ['*','#']\n",
    "def rem_first_char_punc(name):  # check this whether it is implemented or not\n",
    "    count = 0\n",
    "    frame=[]\n",
    "    for i in range(len(name)):\n",
    "        if name[i] in punc:\n",
    "            frame.append(name[i])\n",
    "            #print(name[i])\n",
    "            count = count+1\n",
    "    unq_name_punc = np.unique(frame)\n",
    "    unq_name_punc = unq_name_punc.tolist()\n",
    "    for i in range(len(invalid_punc)):\n",
    "        if invalid_punc[i] in unq_name_punc:\n",
    "            name=name.replace(invalid_punc[i],'')\n",
    "\n",
    "    limit = 0\n",
    "    for i in range(len(name)):\n",
    "        if name[i] not in punc:\n",
    "            #print(name[i])\n",
    "            break\n",
    "        else:\n",
    "            #print(name[i])\n",
    "            limit = limit + 1\n",
    "            #break\n",
    "    upper_limit = limit  \n",
    "    #print(upper_limit) \n",
    "    for i in range(upper_limit):\n",
    "        if name[0] in punc:\n",
    "            #print(f'the found punctuation is \"{name[0]}\"')\n",
    "            name=name.replace(name[0],'',1)\n",
    "    return(name)\n",
    "\n",
    "\n",
    "def ds_cleansing(name):\n",
    "  #print(type(name))\n",
    "  if type(name) is np.str:\n",
    "    punc_list = [',','.']\n",
    "    for c in name:\n",
    "        if c not in punc_list:\n",
    "            pass\n",
    "        else:\n",
    "            split_string = re.split(f\"[{c}]\", name)\n",
    "            name = split_string[len(split_string)-1].strip()\n",
    "  else:\n",
    "    pass\n",
    "  return(name)\n",
    "\n",
    "\n",
    "def rep_harmonized_sup_name(name):\n",
    "  #name = str(name)\n",
    "  for i in re.split(r' ', name):\n",
    "    if str.upper(i) in supplier_stopwords:\n",
    "      idx = name.index(i)\n",
    "      if idx == 0:\n",
    "        return(name.replace(i,\"\",1))\n",
    "    else:\n",
    "      return(name)\n",
    "\n",
    "\n",
    "def final_output_sup_name_Cleaning(file,column_name):\n",
    "    proc_df = file.copy()\n",
    "    proc_df[column_name]= proc_df[column_name].apply(rep_harmonized_sup_name)\n",
    "    return(proc_df)\n",
    "\n",
    "\n",
    "\n",
    "def vendorFlag_wo_VN(i):\n",
    "    #if (input_df['Clean_Vendor_Name'].iloc[i] in clean_main_df['Clean_Vendor_Name']):\n",
    "    if (input_df['Clean_Vendor_Name'][i] in clean_main_df['Clean_Vendor_Name'].values)|(input_df['crisp_vendor_name'][i] in clean_main_df['crisp_vendor_name'].values):\n",
    "      input_df['Vendor_Flag'].iloc[i] = 'Old'\n",
    "    #elif (input_df['crisp_Vendor_Name'][i] in clean_main_df['crisp_Vendor_Name'].values):\n",
    "    #  input_df['Vendor_Flag'].iloc[i] = 'Old'\n",
    "    else:\n",
    "      input_df['Vendor_Flag'].iloc[i] = 'New'\n",
    "    return(input_df)\n",
    "\n",
    "\n",
    "\n",
    "def vendorFlag(i): # New logic provided Daniel\n",
    "    #if (input_df['Clean_Vendor_Name'].iloc[i] in clean_main_df['Clean_Vendor_Name']):\n",
    "    if ((input_df['Clean_Vendor_Name'][i] in clean_main_df['Clean_Vendor_Name'].values) and\\\n",
    "        (input_df['DataSource'][i] in clean_main_df['DataSource'].values) and\\\n",
    "        (input_df['Vendor number'][i] in clean_main_df['Vendor number'].values))\\\n",
    "    or ((input_df['crisp_vendor_name'][i] in clean_main_df['crisp_vendor_name'].values) and (input_df['DataSource'][i] in clean_main_df['DataSource'].values) and (input_df['Vendor number'][i] in clean_main_df['Vendor number'].values)):\n",
    "      #if(input_df['DataSource'][i] in clean_df['DataSource'].values) and (input_df['Vendor number'][i] in clean_df['Vendor number'].values):\n",
    "      input_df['Vendor_Flag'].iloc[i] = 'Old'\n",
    "    #elif (input_df['crisp_Vendor_Name'][i] in clean_main_df['crisp_Vendor_Name'].values):\n",
    "    #  input_df['Vendor_Flag'].iloc[i] = 'Old'\n",
    "    else:\n",
    "      input_df['Vendor_Flag'].iloc[i] = 'New'\n",
    "    return(input_df)\n",
    "\n",
    "\n",
    "def lingual_check(file):\n",
    "  proc_df = file\n",
    "  for n in proc_df[proc_df.columns[0]]:\n",
    "#  #print(n)\n",
    "    srch = re.search(\"([^\\x00-\\x7F])+\",n)==None\n",
    "    if srch:\n",
    "      print('no match')\n",
    "      break\n",
    "    else:\n",
    "      print('There are other format of languages present in the file')\n",
    "      break\n",
    "\n",
    "\n",
    "\n",
    "# Drop unwanted column names by giving the list of column names in  a list\n",
    "def drop_cols_df(col_list,dataframe):\n",
    "  for col in dataframe.columns:\n",
    "    if col not in col_list:\n",
    "      dataframe.drop(columns=col,axis=1,inplace=True)\n",
    "                \n",
    "\n",
    "# For checking whether there are any duplicates or not\n",
    "\n",
    "def dup_count(check_dataframe):\n",
    "  dup_count= check_dataframe[check_dataframe.duplicated()==True].count().unique()[0]\n",
    "  dup_dataframe = check_dataframe[check_dataframe.duplicated()==True]\n",
    "\n",
    "  return(dup_count,dup_dataframe)\n",
    "\n",
    "\n",
    "def check_dup_count(check_df):\n",
    "  count_dup, dup_df = dup_count(check_df)\n",
    "  #globals()['count_duplicates'] = count_dup\n",
    "  if count_dup > 1 and count_dup < 8:\n",
    "      print('Total Duplicates in Dataset: ',count_dup)\n",
    "  else:\n",
    "    print('Total Duplicates in Dataset: ',count_dup)\n",
    "\n",
    "  return(count_dup,dup_df)\n",
    "\n",
    "\n",
    "# To count foreign names\n",
    "def count_foreign(df,col_name):\n",
    "  count = 0\n",
    "  for n in df[col_name]:\n",
    "    srch = re.search(\"([^\\x00-\\x7F])+\",n)==None\n",
    "    if srch:\n",
    "      pass\n",
    "    else:\n",
    "      count = count + 1\n",
    "  #print(f'Other name formats in \"new supplier\" column : {count}')\n",
    "  return(count)\n",
    "\n",
    "\n",
    "\n",
    "def unique_vendor_flag(n):\n",
    "  if n==2:\n",
    "    x,y = input_df.Vendor_Flag.unique()\n",
    "    return(x,y)\n",
    "  else:\n",
    "    return(input_df.Vendor_Flag.unique())\n",
    "\n",
    "\n"
   ]
  },
  {
   "cell_type": "code",
   "execution_count": 5,
   "metadata": {
    "colab": {
     "base_uri": "https://localhost:8080/",
     "height": 130,
     "resources": {
      "http://localhost:8080/nbextensions/google.colab/files.js": {
       "data": "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",
       "headers": [
        [
         "content-type",
         "application/javascript"
        ]
       ],
       "ok": true,
       "status": 200,
       "status_text": "OK"
      }
     }
    },
    "id": "rHgjk3etmN4E",
    "outputId": "006b3bb5-e116-4cf2-934d-31a65ebc9066"
   },
   "outputs": [
    {
     "data": {
      "text/html": [
       "\n",
       "     <input type=\"file\" id=\"files-e1d56f67-dfbf-40ff-bb12-7b7dab9e618e\" name=\"files[]\" multiple disabled\n",
       "        style=\"border:none\" />\n",
       "     <output id=\"result-e1d56f67-dfbf-40ff-bb12-7b7dab9e618e\">\n",
       "      Upload widget is only available when the cell has been executed in the\n",
       "      current browser session. Please rerun this cell to enable.\n",
       "      </output>\n",
       "      <script src=\"/nbextensions/google.colab/files.js\"></script> "
      ],
      "text/plain": [
       "<IPython.core.display.HTML object>"
      ]
     },
     "metadata": {},
     "output_type": "display_data"
    },
    {
     "name": "stdout",
     "output_type": "stream",
     "text": [
      "Saving Master data.xlsx to Master data.xlsx\n",
      "Filename: Master data.xlsx\n",
      "Info: {'encoding': None, 'confidence': 0.0, 'language': None} \n",
      "\n"
     ]
    }
   ],
   "source": [
    "master_file,length,no_of_files = reading_master_files()"
   ]
  },
  {
   "cell_type": "code",
   "execution_count": 8,
   "metadata": {
    "colab": {
     "base_uri": "https://localhost:8080/"
    },
    "id": "f_OJU3fCOVT3",
    "outputId": "e6f34ea5-7f97-4af5-edbf-babed1f78b3b"
   },
   "outputs": [
    {
     "name": "stdout",
     "output_type": "stream",
     "text": [
      "User uploaded master file with 228994 records\n"
     ]
    }
   ],
   "source": [
    "print('User uploaded master file with {length} records'.format(length=length))"
   ]
  },
  {
   "cell_type": "code",
   "execution_count": 9,
   "metadata": {
    "colab": {
     "base_uri": "https://localhost:8080/",
     "height": 174
    },
    "id": "Ju2PYB2pKSvt",
    "outputId": "33072aea-1a3e-4d12-f035-ce17ea7a90ca"
   },
   "outputs": [
    {
     "data": {
      "text/html": [
       "\n",
       "  <div id=\"df-57992eea-1691-4e63-afd7-38811d4cd9e8\">\n",
       "    <div class=\"colab-df-container\">\n",
       "      <div>\n",
       "<style scoped>\n",
       "    .dataframe tbody tr th:only-of-type {\n",
       "        vertical-align: middle;\n",
       "    }\n",
       "\n",
       "    .dataframe tbody tr th {\n",
       "        vertical-align: top;\n",
       "    }\n",
       "\n",
       "    .dataframe thead th {\n",
       "        text-align: right;\n",
       "    }\n",
       "</style>\n",
       "<table border=\"1\" class=\"dataframe\">\n",
       "  <thead>\n",
       "    <tr style=\"text-align: right;\">\n",
       "      <th></th>\n",
       "      <th>DataSource</th>\n",
       "      <th>Vendor number</th>\n",
       "      <th>Vendor name</th>\n",
       "      <th>New Supplier</th>\n",
       "    </tr>\n",
       "  </thead>\n",
       "  <tbody>\n",
       "    <tr>\n",
       "      <th>0</th>\n",
       "      <td>68. 3rd Party Security</td>\n",
       "      <td>6412</td>\n",
       "      <td>� Leeuwenburgh Mark</td>\n",
       "      <td>LEEUWENBURGH MARK</td>\n",
       "    </tr>\n",
       "    <tr>\n",
       "      <th>1</th>\n",
       "      <td>10. SAP C11</td>\n",
       "      <td>30117052</td>\n",
       "      <td>\"ANTIESTATICA DE MEXICO, SA de CV\"</td>\n",
       "      <td>ANTIESTATICA DE MEXICO</td>\n",
       "    </tr>\n",
       "    <tr>\n",
       "      <th>2</th>\n",
       "      <td>15. SAP SP1</td>\n",
       "      <td>102156</td>\n",
       "      <td>\"Le Bleu, Phillip\"</td>\n",
       "      <td>LE BLEU PHILLIP</td>\n",
       "    </tr>\n",
       "    <tr>\n",
       "      <th>3</th>\n",
       "      <td>12. SAP SEP</td>\n",
       "      <td>110302</td>\n",
       "      <td># 3W # DO NOT USE</td>\n",
       "      <td>MICROSOFT</td>\n",
       "    </tr>\n",
       "  </tbody>\n",
       "</table>\n",
       "</div>\n",
       "      <button class=\"colab-df-convert\" onclick=\"convertToInteractive('df-57992eea-1691-4e63-afd7-38811d4cd9e8')\"\n",
       "              title=\"Convert this dataframe to an interactive table.\"\n",
       "              style=\"display:none;\">\n",
       "        \n",
       "  <svg xmlns=\"http://www.w3.org/2000/svg\" height=\"24px\"viewBox=\"0 0 24 24\"\n",
       "       width=\"24px\">\n",
       "    <path d=\"M0 0h24v24H0V0z\" fill=\"none\"/>\n",
       "    <path d=\"M18.56 5.44l.94 2.06.94-2.06 2.06-.94-2.06-.94-.94-2.06-.94 2.06-2.06.94zm-11 1L8.5 8.5l.94-2.06 2.06-.94-2.06-.94L8.5 2.5l-.94 2.06-2.06.94zm10 10l.94 2.06.94-2.06 2.06-.94-2.06-.94-.94-2.06-.94 2.06-2.06.94z\"/><path d=\"M17.41 7.96l-1.37-1.37c-.4-.4-.92-.59-1.43-.59-.52 0-1.04.2-1.43.59L10.3 9.45l-7.72 7.72c-.78.78-.78 2.05 0 2.83L4 21.41c.39.39.9.59 1.41.59.51 0 1.02-.2 1.41-.59l7.78-7.78 2.81-2.81c.8-.78.8-2.07 0-2.86zM5.41 20L4 18.59l7.72-7.72 1.47 1.35L5.41 20z\"/>\n",
       "  </svg>\n",
       "      </button>\n",
       "      \n",
       "  <style>\n",
       "    .colab-df-container {\n",
       "      display:flex;\n",
       "      flex-wrap:wrap;\n",
       "      gap: 12px;\n",
       "    }\n",
       "\n",
       "    .colab-df-convert {\n",
       "      background-color: #E8F0FE;\n",
       "      border: none;\n",
       "      border-radius: 50%;\n",
       "      cursor: pointer;\n",
       "      display: none;\n",
       "      fill: #1967D2;\n",
       "      height: 32px;\n",
       "      padding: 0 0 0 0;\n",
       "      width: 32px;\n",
       "    }\n",
       "\n",
       "    .colab-df-convert:hover {\n",
       "      background-color: #E2EBFA;\n",
       "      box-shadow: 0px 1px 2px rgba(60, 64, 67, 0.3), 0px 1px 3px 1px rgba(60, 64, 67, 0.15);\n",
       "      fill: #174EA6;\n",
       "    }\n",
       "\n",
       "    [theme=dark] .colab-df-convert {\n",
       "      background-color: #3B4455;\n",
       "      fill: #D2E3FC;\n",
       "    }\n",
       "\n",
       "    [theme=dark] .colab-df-convert:hover {\n",
       "      background-color: #434B5C;\n",
       "      box-shadow: 0px 1px 3px 1px rgba(0, 0, 0, 0.15);\n",
       "      filter: drop-shadow(0px 1px 2px rgba(0, 0, 0, 0.3));\n",
       "      fill: #FFFFFF;\n",
       "    }\n",
       "  </style>\n",
       "\n",
       "      <script>\n",
       "        const buttonEl =\n",
       "          document.querySelector('#df-57992eea-1691-4e63-afd7-38811d4cd9e8 button.colab-df-convert');\n",
       "        buttonEl.style.display =\n",
       "          google.colab.kernel.accessAllowed ? 'block' : 'none';\n",
       "\n",
       "        async function convertToInteractive(key) {\n",
       "          const element = document.querySelector('#df-57992eea-1691-4e63-afd7-38811d4cd9e8');\n",
       "          const dataTable =\n",
       "            await google.colab.kernel.invokeFunction('convertToInteractive',\n",
       "                                                     [key], {});\n",
       "          if (!dataTable) return;\n",
       "\n",
       "          const docLinkHtml = 'Like what you see? Visit the ' +\n",
       "            '<a target=\"_blank\" href=https://colab.research.google.com/notebooks/data_table.ipynb>data table notebook</a>'\n",
       "            + ' to learn more about interactive tables.';\n",
       "          element.innerHTML = '';\n",
       "          dataTable['output_type'] = 'display_data';\n",
       "          await google.colab.output.renderOutput(dataTable, element);\n",
       "          const docLink = document.createElement('div');\n",
       "          docLink.innerHTML = docLinkHtml;\n",
       "          element.appendChild(docLink);\n",
       "        }\n",
       "      </script>\n",
       "    </div>\n",
       "  </div>\n",
       "  "
      ],
      "text/plain": [
       "               DataSource Vendor number                         Vendor name  \\\n",
       "0  68. 3rd Party Security          6412                 � Leeuwenburgh Mark   \n",
       "1             10. SAP C11      30117052  \"ANTIESTATICA DE MEXICO, SA de CV\"   \n",
       "2             15. SAP SP1        102156                  \"Le Bleu, Phillip\"   \n",
       "3             12. SAP SEP        110302                   # 3W # DO NOT USE   \n",
       "\n",
       "             New Supplier  \n",
       "0       LEEUWENBURGH MARK  \n",
       "1  ANTIESTATICA DE MEXICO  \n",
       "2         LE BLEU PHILLIP  \n",
       "3               MICROSOFT  "
      ]
     },
     "execution_count": 9,
     "metadata": {},
     "output_type": "execute_result"
    }
   ],
   "source": [
    "# Master file\n",
    "master_file.head(4)"
   ]
  },
  {
   "cell_type": "code",
   "execution_count": 9,
   "metadata": {
    "id": "pGlHsbJ7geCh"
   },
   "outputs": [],
   "source": []
  },
  {
   "cell_type": "code",
   "execution_count": 10,
   "metadata": {
    "colab": {
     "base_uri": "https://localhost:8080/"
    },
    "id": "alobBup8cFpn",
    "outputId": "2aa94e34-a04b-4c75-a9a3-890944aaf853"
   },
   "outputs": [
    {
     "name": "stdout",
     "output_type": "stream",
     "text": [
      "<class 'pandas.core.frame.DataFrame'>\n",
      "Int64Index: 107913 entries, 0 to 228993\n",
      "Columns: 4 entries, DataSource to New Supplier\n",
      "dtypes: object(4)\n",
      "memory usage: 4.1+ MB\n"
     ]
    }
   ],
   "source": [
    "raw_df = master_file.copy()\n",
    "raw_df.drop_duplicates(inplace=True) # Drop duplicates for the combination of DataSource, Vendor number nd Vendor name\n",
    "#raw_df['Vendor name'].drop_duplicates(inplace=True)\n",
    "raw_df.info(verbose=False)"
   ]
  },
  {
   "cell_type": "markdown",
   "metadata": {
    "id": "zizTQ_gmcFpo"
   },
   "source": [
    "#### Dropping the null rows:"
   ]
  },
  {
   "cell_type": "code",
   "execution_count": 11,
   "metadata": {
    "colab": {
     "base_uri": "https://localhost:8080/"
    },
    "id": "B176vEdLcFpo",
    "outputId": "a5c399a2-cb86-4725-aedf-232a24ce0218"
   },
   "outputs": [
    {
     "name": "stdout",
     "output_type": "stream",
     "text": [
      "<class 'pandas.core.frame.DataFrame'>\n",
      "Int64Index: 107854 entries, 0 to 228993\n",
      "Data columns (total 4 columns):\n",
      " #   Column         Non-Null Count   Dtype \n",
      "---  ------         --------------   ----- \n",
      " 0   DataSource     107854 non-null  object\n",
      " 1   Vendor number  107854 non-null  object\n",
      " 2   Vendor name    107854 non-null  object\n",
      " 3   New Supplier   107854 non-null  object\n",
      "dtypes: object(4)\n",
      "memory usage: 4.1+ MB\n"
     ]
    }
   ],
   "source": [
    "# Use raw_df to get vendor number and DataSource at the end. So copy only Vendor name and new supplier to df\n",
    "df = raw_df.copy()\n",
    "df.replace(\"\", np.nan, inplace=True)\n",
    "df.dropna(inplace=True)  # Here is first drop NA\n",
    "df.drop_duplicates(inplace=True) # Dropping duplicates\n",
    "#df['Vendor name'].drop_duplicates(inplace=True) # Dropping duplicates Distinguish between NA and duplicates\n",
    "df.info()"
   ]
  },
  {
   "cell_type": "code",
   "execution_count": 12,
   "metadata": {
    "id": "qgqa8rZ_guku"
   },
   "outputs": [],
   "source": [
    "#df[df['Vendor name'].str.contains('Suzhou')]"
   ]
  },
  {
   "cell_type": "code",
   "execution_count": 13,
   "metadata": {
    "id": "qLyVcmCS3RLr"
   },
   "outputs": [],
   "source": [
    "after_drop_na_1 = df.shape[0]"
   ]
  },
  {
   "cell_type": "code",
   "execution_count": 14,
   "metadata": {
    "colab": {
     "base_uri": "https://localhost:8080/"
    },
    "id": "S_YFmHc75jpe",
    "outputId": "bed3e202-638b-4302-ad15-93d0561be4c5"
   },
   "outputs": [
    {
     "data": {
      "text/plain": [
       "121140"
      ]
     },
     "execution_count": 14,
     "metadata": {},
     "output_type": "execute_result"
    }
   ],
   "source": [
    "no_of_null_records1= length - after_drop_na_1\n",
    "no_of_null_records1"
   ]
  },
  {
   "cell_type": "markdown",
   "metadata": {
    "id": "JPtTeObZxv2U"
   },
   "source": [
    "# Analysis of minimum injection of duplicate vendor names"
   ]
  },
  {
   "cell_type": "code",
   "execution_count": 15,
   "metadata": {
    "colab": {
     "base_uri": "https://localhost:8080/"
    },
    "id": "gKUv-Ag4x5Kb",
    "outputId": "c994331c-459d-4385-9930-386593bd149b"
   },
   "outputs": [
    {
     "data": {
      "text/plain": [
       "93389"
      ]
     },
     "execution_count": 15,
     "metadata": {},
     "output_type": "execute_result"
    }
   ],
   "source": [
    "df['Vendor name'].nunique()"
   ]
  },
  {
   "cell_type": "code",
   "execution_count": 16,
   "metadata": {
    "colab": {
     "base_uri": "https://localhost:8080/"
    },
    "id": "_Uo6oOCnx5jb",
    "outputId": "349f97ac-8ac3-4df9-a49c-b792c4962d32"
   },
   "outputs": [
    {
     "data": {
      "text/plain": [
       "EMPLOYEE                                                     233\n",
       "ULINE                                                         35\n",
       "GRAINGER                                                      29\n",
       "AT&T                                                          22\n",
       "MOTION INDUSTRIES INC                                         18\n",
       "                                                            ... \n",
       "GOWLING STRATHY & HENDERSON/ATTN 160 ELGIN ST  SUITE 2600      1\n",
       "Gowin Mechanical, Inc. dba Mid-South Metal Works               1\n",
       "GOWAN MOTORS NAVAN ROAD LTD                                    1\n",
       "GOWAN MOTORS NAVAN ROAD                                        1\n",
       "龙岩市财富贸易有限公司                                                    1\n",
       "Name: Vendor name, Length: 93389, dtype: int64"
      ]
     },
     "execution_count": 16,
     "metadata": {},
     "output_type": "execute_result"
    }
   ],
   "source": [
    "df_dup_analysis = df['Vendor name'].value_counts()\n",
    "df_dup_analysis"
   ]
  },
  {
   "cell_type": "code",
   "execution_count": 16,
   "metadata": {
    "id": "G_LgGxccKJHf"
   },
   "outputs": [],
   "source": []
  },
  {
   "cell_type": "code",
   "execution_count": 17,
   "metadata": {
    "id": "xpOUwAg2x5pS"
   },
   "outputs": [],
   "source": [
    "df_dup_analysis = pd.DataFrame(df_dup_analysis)"
   ]
  },
  {
   "cell_type": "code",
   "execution_count": 18,
   "metadata": {
    "id": "v1dlI0jcz6FM"
   },
   "outputs": [],
   "source": [
    "df_dup_analysis.reset_index(inplace=True)\n",
    "df_dup_analysis.rename(columns = {'index':'Vendor name','Vendor name': '#VN'}, inplace = True)\n"
   ]
  },
  {
   "cell_type": "code",
   "execution_count": 19,
   "metadata": {
    "colab": {
     "base_uri": "https://localhost:8080/",
     "height": 81
    },
    "id": "zUnL9DuQLUdp",
    "outputId": "386c9396-383d-4dde-8468-c97d22ac54fd"
   },
   "outputs": [
    {
     "data": {
      "text/html": [
       "\n",
       "  <div id=\"df-5117498f-1f26-4fbb-a939-024be35377a8\">\n",
       "    <div class=\"colab-df-container\">\n",
       "      <div>\n",
       "<style scoped>\n",
       "    .dataframe tbody tr th:only-of-type {\n",
       "        vertical-align: middle;\n",
       "    }\n",
       "\n",
       "    .dataframe tbody tr th {\n",
       "        vertical-align: top;\n",
       "    }\n",
       "\n",
       "    .dataframe thead th {\n",
       "        text-align: right;\n",
       "    }\n",
       "</style>\n",
       "<table border=\"1\" class=\"dataframe\">\n",
       "  <thead>\n",
       "    <tr style=\"text-align: right;\">\n",
       "      <th></th>\n",
       "      <th>Vendor name</th>\n",
       "      <th>#VN</th>\n",
       "    </tr>\n",
       "  </thead>\n",
       "  <tbody>\n",
       "    <tr>\n",
       "      <th>47971</th>\n",
       "      <td>SMITH MACHINERY COMPANY</td>\n",
       "      <td>1</td>\n",
       "    </tr>\n",
       "  </tbody>\n",
       "</table>\n",
       "</div>\n",
       "      <button class=\"colab-df-convert\" onclick=\"convertToInteractive('df-5117498f-1f26-4fbb-a939-024be35377a8')\"\n",
       "              title=\"Convert this dataframe to an interactive table.\"\n",
       "              style=\"display:none;\">\n",
       "        \n",
       "  <svg xmlns=\"http://www.w3.org/2000/svg\" height=\"24px\"viewBox=\"0 0 24 24\"\n",
       "       width=\"24px\">\n",
       "    <path d=\"M0 0h24v24H0V0z\" fill=\"none\"/>\n",
       "    <path d=\"M18.56 5.44l.94 2.06.94-2.06 2.06-.94-2.06-.94-.94-2.06-.94 2.06-2.06.94zm-11 1L8.5 8.5l.94-2.06 2.06-.94-2.06-.94L8.5 2.5l-.94 2.06-2.06.94zm10 10l.94 2.06.94-2.06 2.06-.94-2.06-.94-.94-2.06-.94 2.06-2.06.94z\"/><path d=\"M17.41 7.96l-1.37-1.37c-.4-.4-.92-.59-1.43-.59-.52 0-1.04.2-1.43.59L10.3 9.45l-7.72 7.72c-.78.78-.78 2.05 0 2.83L4 21.41c.39.39.9.59 1.41.59.51 0 1.02-.2 1.41-.59l7.78-7.78 2.81-2.81c.8-.78.8-2.07 0-2.86zM5.41 20L4 18.59l7.72-7.72 1.47 1.35L5.41 20z\"/>\n",
       "  </svg>\n",
       "      </button>\n",
       "      \n",
       "  <style>\n",
       "    .colab-df-container {\n",
       "      display:flex;\n",
       "      flex-wrap:wrap;\n",
       "      gap: 12px;\n",
       "    }\n",
       "\n",
       "    .colab-df-convert {\n",
       "      background-color: #E8F0FE;\n",
       "      border: none;\n",
       "      border-radius: 50%;\n",
       "      cursor: pointer;\n",
       "      display: none;\n",
       "      fill: #1967D2;\n",
       "      height: 32px;\n",
       "      padding: 0 0 0 0;\n",
       "      width: 32px;\n",
       "    }\n",
       "\n",
       "    .colab-df-convert:hover {\n",
       "      background-color: #E2EBFA;\n",
       "      box-shadow: 0px 1px 2px rgba(60, 64, 67, 0.3), 0px 1px 3px 1px rgba(60, 64, 67, 0.15);\n",
       "      fill: #174EA6;\n",
       "    }\n",
       "\n",
       "    [theme=dark] .colab-df-convert {\n",
       "      background-color: #3B4455;\n",
       "      fill: #D2E3FC;\n",
       "    }\n",
       "\n",
       "    [theme=dark] .colab-df-convert:hover {\n",
       "      background-color: #434B5C;\n",
       "      box-shadow: 0px 1px 3px 1px rgba(0, 0, 0, 0.15);\n",
       "      filter: drop-shadow(0px 1px 2px rgba(0, 0, 0, 0.3));\n",
       "      fill: #FFFFFF;\n",
       "    }\n",
       "  </style>\n",
       "\n",
       "      <script>\n",
       "        const buttonEl =\n",
       "          document.querySelector('#df-5117498f-1f26-4fbb-a939-024be35377a8 button.colab-df-convert');\n",
       "        buttonEl.style.display =\n",
       "          google.colab.kernel.accessAllowed ? 'block' : 'none';\n",
       "\n",
       "        async function convertToInteractive(key) {\n",
       "          const element = document.querySelector('#df-5117498f-1f26-4fbb-a939-024be35377a8');\n",
       "          const dataTable =\n",
       "            await google.colab.kernel.invokeFunction('convertToInteractive',\n",
       "                                                     [key], {});\n",
       "          if (!dataTable) return;\n",
       "\n",
       "          const docLinkHtml = 'Like what you see? Visit the ' +\n",
       "            '<a target=\"_blank\" href=https://colab.research.google.com/notebooks/data_table.ipynb>data table notebook</a>'\n",
       "            + ' to learn more about interactive tables.';\n",
       "          element.innerHTML = '';\n",
       "          dataTable['output_type'] = 'display_data';\n",
       "          await google.colab.output.renderOutput(dataTable, element);\n",
       "          const docLink = document.createElement('div');\n",
       "          docLink.innerHTML = docLinkHtml;\n",
       "          element.appendChild(docLink);\n",
       "        }\n",
       "      </script>\n",
       "    </div>\n",
       "  </div>\n",
       "  "
      ],
      "text/plain": [
       "                   Vendor name  #VN\n",
       "47971  SMITH MACHINERY COMPANY    1"
      ]
     },
     "execution_count": 19,
     "metadata": {},
     "output_type": "execute_result"
    }
   ],
   "source": [
    "df_dup_analysis[df_dup_analysis['Vendor name']=='SMITH MACHINERY COMPANY']"
   ]
  },
  {
   "cell_type": "code",
   "execution_count": 20,
   "metadata": {
    "colab": {
     "base_uri": "https://localhost:8080/"
    },
    "id": "43zeHX0oz6HR",
    "outputId": "a9a1dc1a-68e0-4815-f21c-15770000a755"
   },
   "outputs": [
    {
     "data": {
      "text/plain": [
       "#VN    4.0\n",
       "dtype: float64"
      ]
     },
     "execution_count": 20,
     "metadata": {},
     "output_type": "execute_result"
    }
   ],
   "source": [
    "df_dup_analysis[df_dup_analysis['#VN']>=4].median() # this shows that each sample should have minimum 4 dummy entries. \n",
    "\n",
    "# Now write a function to increase the Master data dynamically only that group where the values are less than 4"
   ]
  },
  {
   "cell_type": "code",
   "execution_count": 21,
   "metadata": {
    "id": "6LdKBweUz6JL"
   },
   "outputs": [],
   "source": [
    "df_dup_analysis_less_4 = df_dup_analysis[df_dup_analysis['#VN']<4]"
   ]
  },
  {
   "cell_type": "code",
   "execution_count": 22,
   "metadata": {
    "colab": {
     "base_uri": "https://localhost:8080/",
     "height": 423
    },
    "id": "9pvMpdmmz6K7",
    "outputId": "5b6d828a-c95a-423e-ba39-fc8d5c8ac07b"
   },
   "outputs": [
    {
     "data": {
      "text/html": [
       "\n",
       "  <div id=\"df-58ed8138-7533-40a2-9130-9a094052a525\">\n",
       "    <div class=\"colab-df-container\">\n",
       "      <div>\n",
       "<style scoped>\n",
       "    .dataframe tbody tr th:only-of-type {\n",
       "        vertical-align: middle;\n",
       "    }\n",
       "\n",
       "    .dataframe tbody tr th {\n",
       "        vertical-align: top;\n",
       "    }\n",
       "\n",
       "    .dataframe thead th {\n",
       "        text-align: right;\n",
       "    }\n",
       "</style>\n",
       "<table border=\"1\" class=\"dataframe\">\n",
       "  <thead>\n",
       "    <tr style=\"text-align: right;\">\n",
       "      <th></th>\n",
       "      <th>Vendor name</th>\n",
       "      <th>#VN</th>\n",
       "    </tr>\n",
       "  </thead>\n",
       "  <tbody>\n",
       "    <tr>\n",
       "      <th>632</th>\n",
       "      <td>UNIVERSAL PUNCH CORP</td>\n",
       "      <td>3</td>\n",
       "    </tr>\n",
       "    <tr>\n",
       "      <th>633</th>\n",
       "      <td>RDO EQUIPMENT CO</td>\n",
       "      <td>3</td>\n",
       "    </tr>\n",
       "    <tr>\n",
       "      <th>634</th>\n",
       "      <td>Genetec Inc.</td>\n",
       "      <td>3</td>\n",
       "    </tr>\n",
       "    <tr>\n",
       "      <th>635</th>\n",
       "      <td>BOB STEPHENS &amp; ASSOCIATES</td>\n",
       "      <td>3</td>\n",
       "    </tr>\n",
       "    <tr>\n",
       "      <th>636</th>\n",
       "      <td>WESCO AIRCRAFT</td>\n",
       "      <td>3</td>\n",
       "    </tr>\n",
       "    <tr>\n",
       "      <th>...</th>\n",
       "      <td>...</td>\n",
       "      <td>...</td>\n",
       "    </tr>\n",
       "    <tr>\n",
       "      <th>93384</th>\n",
       "      <td>GOWLING STRATHY &amp; HENDERSON/ATTN 160 ELGIN ST ...</td>\n",
       "      <td>1</td>\n",
       "    </tr>\n",
       "    <tr>\n",
       "      <th>93385</th>\n",
       "      <td>Gowin Mechanical, Inc. dba Mid-South Metal Works</td>\n",
       "      <td>1</td>\n",
       "    </tr>\n",
       "    <tr>\n",
       "      <th>93386</th>\n",
       "      <td>GOWAN MOTORS NAVAN ROAD LTD</td>\n",
       "      <td>1</td>\n",
       "    </tr>\n",
       "    <tr>\n",
       "      <th>93387</th>\n",
       "      <td>GOWAN MOTORS NAVAN ROAD</td>\n",
       "      <td>1</td>\n",
       "    </tr>\n",
       "    <tr>\n",
       "      <th>93388</th>\n",
       "      <td>龙岩市财富贸易有限公司</td>\n",
       "      <td>1</td>\n",
       "    </tr>\n",
       "  </tbody>\n",
       "</table>\n",
       "<p>92757 rows × 2 columns</p>\n",
       "</div>\n",
       "      <button class=\"colab-df-convert\" onclick=\"convertToInteractive('df-58ed8138-7533-40a2-9130-9a094052a525')\"\n",
       "              title=\"Convert this dataframe to an interactive table.\"\n",
       "              style=\"display:none;\">\n",
       "        \n",
       "  <svg xmlns=\"http://www.w3.org/2000/svg\" height=\"24px\"viewBox=\"0 0 24 24\"\n",
       "       width=\"24px\">\n",
       "    <path d=\"M0 0h24v24H0V0z\" fill=\"none\"/>\n",
       "    <path d=\"M18.56 5.44l.94 2.06.94-2.06 2.06-.94-2.06-.94-.94-2.06-.94 2.06-2.06.94zm-11 1L8.5 8.5l.94-2.06 2.06-.94-2.06-.94L8.5 2.5l-.94 2.06-2.06.94zm10 10l.94 2.06.94-2.06 2.06-.94-2.06-.94-.94-2.06-.94 2.06-2.06.94z\"/><path d=\"M17.41 7.96l-1.37-1.37c-.4-.4-.92-.59-1.43-.59-.52 0-1.04.2-1.43.59L10.3 9.45l-7.72 7.72c-.78.78-.78 2.05 0 2.83L4 21.41c.39.39.9.59 1.41.59.51 0 1.02-.2 1.41-.59l7.78-7.78 2.81-2.81c.8-.78.8-2.07 0-2.86zM5.41 20L4 18.59l7.72-7.72 1.47 1.35L5.41 20z\"/>\n",
       "  </svg>\n",
       "      </button>\n",
       "      \n",
       "  <style>\n",
       "    .colab-df-container {\n",
       "      display:flex;\n",
       "      flex-wrap:wrap;\n",
       "      gap: 12px;\n",
       "    }\n",
       "\n",
       "    .colab-df-convert {\n",
       "      background-color: #E8F0FE;\n",
       "      border: none;\n",
       "      border-radius: 50%;\n",
       "      cursor: pointer;\n",
       "      display: none;\n",
       "      fill: #1967D2;\n",
       "      height: 32px;\n",
       "      padding: 0 0 0 0;\n",
       "      width: 32px;\n",
       "    }\n",
       "\n",
       "    .colab-df-convert:hover {\n",
       "      background-color: #E2EBFA;\n",
       "      box-shadow: 0px 1px 2px rgba(60, 64, 67, 0.3), 0px 1px 3px 1px rgba(60, 64, 67, 0.15);\n",
       "      fill: #174EA6;\n",
       "    }\n",
       "\n",
       "    [theme=dark] .colab-df-convert {\n",
       "      background-color: #3B4455;\n",
       "      fill: #D2E3FC;\n",
       "    }\n",
       "\n",
       "    [theme=dark] .colab-df-convert:hover {\n",
       "      background-color: #434B5C;\n",
       "      box-shadow: 0px 1px 3px 1px rgba(0, 0, 0, 0.15);\n",
       "      filter: drop-shadow(0px 1px 2px rgba(0, 0, 0, 0.3));\n",
       "      fill: #FFFFFF;\n",
       "    }\n",
       "  </style>\n",
       "\n",
       "      <script>\n",
       "        const buttonEl =\n",
       "          document.querySelector('#df-58ed8138-7533-40a2-9130-9a094052a525 button.colab-df-convert');\n",
       "        buttonEl.style.display =\n",
       "          google.colab.kernel.accessAllowed ? 'block' : 'none';\n",
       "\n",
       "        async function convertToInteractive(key) {\n",
       "          const element = document.querySelector('#df-58ed8138-7533-40a2-9130-9a094052a525');\n",
       "          const dataTable =\n",
       "            await google.colab.kernel.invokeFunction('convertToInteractive',\n",
       "                                                     [key], {});\n",
       "          if (!dataTable) return;\n",
       "\n",
       "          const docLinkHtml = 'Like what you see? Visit the ' +\n",
       "            '<a target=\"_blank\" href=https://colab.research.google.com/notebooks/data_table.ipynb>data table notebook</a>'\n",
       "            + ' to learn more about interactive tables.';\n",
       "          element.innerHTML = '';\n",
       "          dataTable['output_type'] = 'display_data';\n",
       "          await google.colab.output.renderOutput(dataTable, element);\n",
       "          const docLink = document.createElement('div');\n",
       "          docLink.innerHTML = docLinkHtml;\n",
       "          element.appendChild(docLink);\n",
       "        }\n",
       "      </script>\n",
       "    </div>\n",
       "  </div>\n",
       "  "
      ],
      "text/plain": [
       "                                             Vendor name  #VN\n",
       "632                                 UNIVERSAL PUNCH CORP    3\n",
       "633                                     RDO EQUIPMENT CO    3\n",
       "634                                         Genetec Inc.    3\n",
       "635                            BOB STEPHENS & ASSOCIATES    3\n",
       "636                                       WESCO AIRCRAFT    3\n",
       "...                                                  ...  ...\n",
       "93384  GOWLING STRATHY & HENDERSON/ATTN 160 ELGIN ST ...    1\n",
       "93385   Gowin Mechanical, Inc. dba Mid-South Metal Works    1\n",
       "93386                        GOWAN MOTORS NAVAN ROAD LTD    1\n",
       "93387                            GOWAN MOTORS NAVAN ROAD    1\n",
       "93388                                        龙岩市财富贸易有限公司    1\n",
       "\n",
       "[92757 rows x 2 columns]"
      ]
     },
     "execution_count": 22,
     "metadata": {},
     "output_type": "execute_result"
    }
   ],
   "source": [
    "df_dup_analysis_less_4"
   ]
  },
  {
   "cell_type": "code",
   "execution_count": 23,
   "metadata": {
    "id": "G_p9db-7O0pG"
   },
   "outputs": [],
   "source": [
    "df_dup_analysis_less_4_list = df_dup_analysis_less_4['#VN'].unique()\n",
    "df_dup_analysis_less_4_list = df_dup_analysis_less_4_list.tolist()"
   ]
  },
  {
   "cell_type": "code",
   "execution_count": 24,
   "metadata": {
    "colab": {
     "base_uri": "https://localhost:8080/"
    },
    "id": "iEpElxBDdTp_",
    "outputId": "137feab8-bbe1-4970-de6a-634942d46a42"
   },
   "outputs": [
    {
     "data": {
      "text/plain": [
       "3"
      ]
     },
     "execution_count": 24,
     "metadata": {},
     "output_type": "execute_result"
    }
   ],
   "source": [
    "df_dup_analysis_less_4_list[0]"
   ]
  },
  {
   "cell_type": "code",
   "execution_count": 25,
   "metadata": {
    "id": "2dTqugfxz6Mp"
   },
   "outputs": [],
   "source": [
    "#bucket_df_dup(df_dup_analysis_less_4,df_dup_analysis_less_4_list)  # Crashing"
   ]
  },
  {
   "cell_type": "code",
   "execution_count": 26,
   "metadata": {
    "colab": {
     "base_uri": "https://localhost:8080/"
    },
    "id": "h4xZrM7Kab0Q",
    "outputId": "73221b55-12b2-4b79-bad4-35f99305745d"
   },
   "outputs": [
    {
     "name": "stdout",
     "output_type": "stream",
     "text": [
      "<class 'pandas.core.frame.DataFrame'>\n",
      "Int64Index: 92757 entries, 632 to 93388\n",
      "Data columns (total 2 columns):\n",
      " #   Column       Non-Null Count  Dtype \n",
      "---  ------       --------------  ----- \n",
      " 0   Vendor name  92757 non-null  object\n",
      " 1   #VN          92757 non-null  int64 \n",
      "dtypes: int64(1), object(1)\n",
      "memory usage: 2.1+ MB\n"
     ]
    }
   ],
   "source": [
    "df_dup_analysis_less_4.info()"
   ]
  },
  {
   "cell_type": "code",
   "execution_count": 27,
   "metadata": {
    "id": "iAvaFWOKbrzA"
   },
   "outputs": [],
   "source": [
    "#df_dup_analysis_less_4 = df_dup_analysis_less_4.astype({'#VN':str})"
   ]
  },
  {
   "cell_type": "code",
   "execution_count": 28,
   "metadata": {
    "id": "JifSvFkJb7N0"
   },
   "outputs": [],
   "source": [
    "#df_dup_analysis_less_4.info()"
   ]
  },
  {
   "cell_type": "code",
   "execution_count": 29,
   "metadata": {
    "colab": {
     "base_uri": "https://localhost:8080/",
     "height": 172
    },
    "id": "FEb2Dg1miQik",
    "outputId": "e6195607-f8b0-41a6-b892-1803cb1d40f5"
   },
   "outputs": [
    {
     "ename": "NameError",
     "evalue": "ignored",
     "output_type": "error",
     "traceback": [
      "\u001b[0;31m---------------------------------------------------------------------------\u001b[0m",
      "\u001b[0;31mNameError\u001b[0m                                 Traceback (most recent call last)",
      "\u001b[0;32m<ipython-input-29-db496374a398>\u001b[0m in \u001b[0;36m<module>\u001b[0;34m()\u001b[0m\n\u001b[0;32m----> 1\u001b[0;31m \u001b[0mpd\u001b[0m\u001b[0;34m.\u001b[0m\u001b[0mconcat\u001b[0m\u001b[0;34m(\u001b[0m\u001b[0;34m[\u001b[0m\u001b[0mgrp_test\u001b[0m\u001b[0;34m.\u001b[0m\u001b[0mget_group\u001b[0m\u001b[0;34m(\u001b[0m\u001b[0;36m3\u001b[0m\u001b[0;34m)\u001b[0m\u001b[0;34m]\u001b[0m\u001b[0;34m*\u001b[0m\u001b[0;36m2\u001b[0m\u001b[0;34m,\u001b[0m\u001b[0mignore_index\u001b[0m\u001b[0;34m=\u001b[0m\u001b[0;32mTrue\u001b[0m\u001b[0;34m)\u001b[0m\u001b[0;34m\u001b[0m\u001b[0;34m\u001b[0m\u001b[0m\n\u001b[0m",
      "\u001b[0;31mNameError\u001b[0m: name 'grp_test' is not defined"
     ]
    }
   ],
   "source": [
    "pd.concat([grp_test.get_group(3)]*2,ignore_index=True)"
   ]
  },
  {
   "cell_type": "code",
   "execution_count": null,
   "metadata": {
    "id": "XQ9Zz06dOxQO"
   },
   "outputs": [],
   "source": [
    "df_dup_analysis_less_4_list[1]"
   ]
  },
  {
   "cell_type": "code",
   "execution_count": 30,
   "metadata": {
    "colab": {
     "base_uri": "https://localhost:8080/"
    },
    "id": "nLASc0KxOxSi",
    "outputId": "b3cd6b14-6fa9-4235-cf49-dbed91e58192"
   },
   "outputs": [
    {
     "name": "stdout",
     "output_type": "stream",
     "text": [
      "3\n",
      "2\n",
      "1\n"
     ]
    }
   ],
   "source": [
    "grp_test = df_dup_analysis_less_4.groupby(by = df_dup_analysis_less_4['#VN'])\n",
    "dup_frame = []\n",
    "for i in range(len(df_dup_analysis_less_4_list)):\n",
    "  #print(i)\n",
    "  n_times = (4-(i+1))\n",
    "  print(n_times)\n",
    "  temp_df = pd.concat([grp_test.get_group(i+1)]*n_times,ignore_index=True)\n",
    "  dup_frame.append(temp_df)\n",
    "\n",
    "final_dup_df = pd.concat(dup_frame)\n",
    "final_dup_df.reset_index(drop=True, inplace=True)\n"
   ]
  },
  {
   "cell_type": "code",
   "execution_count": 31,
   "metadata": {
    "colab": {
     "base_uri": "https://localhost:8080/",
     "height": 423
    },
    "id": "ZU6w-XWug2BS",
    "outputId": "d2ca9e30-41a6-4ed8-a8a3-3ee4cf5f888b"
   },
   "outputs": [
    {
     "data": {
      "text/html": [
       "\n",
       "  <div id=\"df-46996f7c-d3b4-4ab9-ad1f-51b146584d59\">\n",
       "    <div class=\"colab-df-container\">\n",
       "      <div>\n",
       "<style scoped>\n",
       "    .dataframe tbody tr th:only-of-type {\n",
       "        vertical-align: middle;\n",
       "    }\n",
       "\n",
       "    .dataframe tbody tr th {\n",
       "        vertical-align: top;\n",
       "    }\n",
       "\n",
       "    .dataframe thead th {\n",
       "        text-align: right;\n",
       "    }\n",
       "</style>\n",
       "<table border=\"1\" class=\"dataframe\">\n",
       "  <thead>\n",
       "    <tr style=\"text-align: right;\">\n",
       "      <th></th>\n",
       "      <th>Vendor name</th>\n",
       "      <th>#VN</th>\n",
       "    </tr>\n",
       "  </thead>\n",
       "  <tbody>\n",
       "    <tr>\n",
       "      <th>0</th>\n",
       "      <td>Polymed Ltd</td>\n",
       "      <td>1</td>\n",
       "    </tr>\n",
       "    <tr>\n",
       "      <th>1</th>\n",
       "      <td>POLI PMI INDUSTRIA E COMERCIO LTDA</td>\n",
       "      <td>1</td>\n",
       "    </tr>\n",
       "    <tr>\n",
       "      <th>2</th>\n",
       "      <td>Pipe Line Contractors Association/of Canada</td>\n",
       "      <td>1</td>\n",
       "    </tr>\n",
       "    <tr>\n",
       "      <th>3</th>\n",
       "      <td>PERFUR REI PERFURACOES LTDA ME</td>\n",
       "      <td>1</td>\n",
       "    </tr>\n",
       "    <tr>\n",
       "      <th>4</th>\n",
       "      <td>RITA ANDERSON</td>\n",
       "      <td>1</td>\n",
       "    </tr>\n",
       "    <tr>\n",
       "      <th>...</th>\n",
       "      <td>...</td>\n",
       "      <td>...</td>\n",
       "    </tr>\n",
       "    <tr>\n",
       "      <th>266692</th>\n",
       "      <td>ROCKFORM CARBIDE MANUFACTURING, INC.</td>\n",
       "      <td>3</td>\n",
       "    </tr>\n",
       "    <tr>\n",
       "      <th>266693</th>\n",
       "      <td>GORE FREIGHT COMPANY LLC</td>\n",
       "      <td>3</td>\n",
       "    </tr>\n",
       "    <tr>\n",
       "      <th>266694</th>\n",
       "      <td>MOUNTZ INC</td>\n",
       "      <td>3</td>\n",
       "    </tr>\n",
       "    <tr>\n",
       "      <th>266695</th>\n",
       "      <td>L&amp;T TECHNOLOGY SERVICES LIMITED</td>\n",
       "      <td>3</td>\n",
       "    </tr>\n",
       "    <tr>\n",
       "      <th>266696</th>\n",
       "      <td>HERR INDUSTRIAL INC</td>\n",
       "      <td>3</td>\n",
       "    </tr>\n",
       "  </tbody>\n",
       "</table>\n",
       "<p>266697 rows × 2 columns</p>\n",
       "</div>\n",
       "      <button class=\"colab-df-convert\" onclick=\"convertToInteractive('df-46996f7c-d3b4-4ab9-ad1f-51b146584d59')\"\n",
       "              title=\"Convert this dataframe to an interactive table.\"\n",
       "              style=\"display:none;\">\n",
       "        \n",
       "  <svg xmlns=\"http://www.w3.org/2000/svg\" height=\"24px\"viewBox=\"0 0 24 24\"\n",
       "       width=\"24px\">\n",
       "    <path d=\"M0 0h24v24H0V0z\" fill=\"none\"/>\n",
       "    <path d=\"M18.56 5.44l.94 2.06.94-2.06 2.06-.94-2.06-.94-.94-2.06-.94 2.06-2.06.94zm-11 1L8.5 8.5l.94-2.06 2.06-.94-2.06-.94L8.5 2.5l-.94 2.06-2.06.94zm10 10l.94 2.06.94-2.06 2.06-.94-2.06-.94-.94-2.06-.94 2.06-2.06.94z\"/><path d=\"M17.41 7.96l-1.37-1.37c-.4-.4-.92-.59-1.43-.59-.52 0-1.04.2-1.43.59L10.3 9.45l-7.72 7.72c-.78.78-.78 2.05 0 2.83L4 21.41c.39.39.9.59 1.41.59.51 0 1.02-.2 1.41-.59l7.78-7.78 2.81-2.81c.8-.78.8-2.07 0-2.86zM5.41 20L4 18.59l7.72-7.72 1.47 1.35L5.41 20z\"/>\n",
       "  </svg>\n",
       "      </button>\n",
       "      \n",
       "  <style>\n",
       "    .colab-df-container {\n",
       "      display:flex;\n",
       "      flex-wrap:wrap;\n",
       "      gap: 12px;\n",
       "    }\n",
       "\n",
       "    .colab-df-convert {\n",
       "      background-color: #E8F0FE;\n",
       "      border: none;\n",
       "      border-radius: 50%;\n",
       "      cursor: pointer;\n",
       "      display: none;\n",
       "      fill: #1967D2;\n",
       "      height: 32px;\n",
       "      padding: 0 0 0 0;\n",
       "      width: 32px;\n",
       "    }\n",
       "\n",
       "    .colab-df-convert:hover {\n",
       "      background-color: #E2EBFA;\n",
       "      box-shadow: 0px 1px 2px rgba(60, 64, 67, 0.3), 0px 1px 3px 1px rgba(60, 64, 67, 0.15);\n",
       "      fill: #174EA6;\n",
       "    }\n",
       "\n",
       "    [theme=dark] .colab-df-convert {\n",
       "      background-color: #3B4455;\n",
       "      fill: #D2E3FC;\n",
       "    }\n",
       "\n",
       "    [theme=dark] .colab-df-convert:hover {\n",
       "      background-color: #434B5C;\n",
       "      box-shadow: 0px 1px 3px 1px rgba(0, 0, 0, 0.15);\n",
       "      filter: drop-shadow(0px 1px 2px rgba(0, 0, 0, 0.3));\n",
       "      fill: #FFFFFF;\n",
       "    }\n",
       "  </style>\n",
       "\n",
       "      <script>\n",
       "        const buttonEl =\n",
       "          document.querySelector('#df-46996f7c-d3b4-4ab9-ad1f-51b146584d59 button.colab-df-convert');\n",
       "        buttonEl.style.display =\n",
       "          google.colab.kernel.accessAllowed ? 'block' : 'none';\n",
       "\n",
       "        async function convertToInteractive(key) {\n",
       "          const element = document.querySelector('#df-46996f7c-d3b4-4ab9-ad1f-51b146584d59');\n",
       "          const dataTable =\n",
       "            await google.colab.kernel.invokeFunction('convertToInteractive',\n",
       "                                                     [key], {});\n",
       "          if (!dataTable) return;\n",
       "\n",
       "          const docLinkHtml = 'Like what you see? Visit the ' +\n",
       "            '<a target=\"_blank\" href=https://colab.research.google.com/notebooks/data_table.ipynb>data table notebook</a>'\n",
       "            + ' to learn more about interactive tables.';\n",
       "          element.innerHTML = '';\n",
       "          dataTable['output_type'] = 'display_data';\n",
       "          await google.colab.output.renderOutput(dataTable, element);\n",
       "          const docLink = document.createElement('div');\n",
       "          docLink.innerHTML = docLinkHtml;\n",
       "          element.appendChild(docLink);\n",
       "        }\n",
       "      </script>\n",
       "    </div>\n",
       "  </div>\n",
       "  "
      ],
      "text/plain": [
       "                                        Vendor name  #VN\n",
       "0                                       Polymed Ltd    1\n",
       "1                POLI PMI INDUSTRIA E COMERCIO LTDA    1\n",
       "2       Pipe Line Contractors Association/of Canada    1\n",
       "3                    PERFUR REI PERFURACOES LTDA ME    1\n",
       "4                                     RITA ANDERSON    1\n",
       "...                                             ...  ...\n",
       "266692         ROCKFORM CARBIDE MANUFACTURING, INC.    3\n",
       "266693                     GORE FREIGHT COMPANY LLC    3\n",
       "266694                                   MOUNTZ INC    3\n",
       "266695              L&T TECHNOLOGY SERVICES LIMITED    3\n",
       "266696                          HERR INDUSTRIAL INC    3\n",
       "\n",
       "[266697 rows x 2 columns]"
      ]
     },
     "execution_count": 31,
     "metadata": {},
     "output_type": "execute_result"
    }
   ],
   "source": [
    "final_dup_df"
   ]
  },
  {
   "cell_type": "code",
   "execution_count": 32,
   "metadata": {
    "id": "e2GgcTXMOxVl"
   },
   "outputs": [],
   "source": [
    "#from google.colab import data_table\n",
    "#data_table.DataTable(df_dup_analysis_less_4)"
   ]
  },
  {
   "cell_type": "code",
   "execution_count": 33,
   "metadata": {
    "id": "hSEFHmTZOxYB"
   },
   "outputs": [],
   "source": [
    "ds_frame = []\n",
    "for i in range(final_dup_df.shape[0]):\n",
    "  ds_frame.append(f'DS_{i}')\n",
    "\n",
    "vn_frame = []\n",
    "for i in range(final_dup_df.shape[0]):\n",
    "  vn_frame.append(f'VN_{i}')"
   ]
  },
  {
   "cell_type": "code",
   "execution_count": 34,
   "metadata": {
    "id": "645_vazWOxbS"
   },
   "outputs": [],
   "source": [
    "final_dup_df.insert(0,'DataSource',ds_frame)\n",
    "final_dup_df.insert(1,'Vendor number',vn_frame)\n"
   ]
  },
  {
   "cell_type": "code",
   "execution_count": 35,
   "metadata": {
    "colab": {
     "base_uri": "https://localhost:8080/",
     "height": 423
    },
    "id": "V3qbiriWOxdt",
    "outputId": "3ec27299-4d8b-4684-f566-7a72ac76e0ea"
   },
   "outputs": [
    {
     "data": {
      "text/html": [
       "\n",
       "  <div id=\"df-3bdb9928-034b-4ed8-be04-da363d7f3151\">\n",
       "    <div class=\"colab-df-container\">\n",
       "      <div>\n",
       "<style scoped>\n",
       "    .dataframe tbody tr th:only-of-type {\n",
       "        vertical-align: middle;\n",
       "    }\n",
       "\n",
       "    .dataframe tbody tr th {\n",
       "        vertical-align: top;\n",
       "    }\n",
       "\n",
       "    .dataframe thead th {\n",
       "        text-align: right;\n",
       "    }\n",
       "</style>\n",
       "<table border=\"1\" class=\"dataframe\">\n",
       "  <thead>\n",
       "    <tr style=\"text-align: right;\">\n",
       "      <th></th>\n",
       "      <th>DataSource</th>\n",
       "      <th>Vendor number</th>\n",
       "      <th>Vendor name</th>\n",
       "      <th>#VN</th>\n",
       "    </tr>\n",
       "  </thead>\n",
       "  <tbody>\n",
       "    <tr>\n",
       "      <th>246816</th>\n",
       "      <td>DS_246816</td>\n",
       "      <td>VN_246816</td>\n",
       "      <td>J &amp; M Plating</td>\n",
       "      <td>2</td>\n",
       "    </tr>\n",
       "    <tr>\n",
       "      <th>246817</th>\n",
       "      <td>DS_246817</td>\n",
       "      <td>VN_246817</td>\n",
       "      <td>NEOPOST FRANCE</td>\n",
       "      <td>2</td>\n",
       "    </tr>\n",
       "    <tr>\n",
       "      <th>246818</th>\n",
       "      <td>DS_246818</td>\n",
       "      <td>VN_246818</td>\n",
       "      <td>PROWIT S.C.</td>\n",
       "      <td>2</td>\n",
       "    </tr>\n",
       "    <tr>\n",
       "      <th>246819</th>\n",
       "      <td>DS_246819</td>\n",
       "      <td>VN_246819</td>\n",
       "      <td>J &amp; L TURNING INC/DBA ALLIANCE BROACH &amp; TOOL</td>\n",
       "      <td>2</td>\n",
       "    </tr>\n",
       "    <tr>\n",
       "      <th>246820</th>\n",
       "      <td>DS_246820</td>\n",
       "      <td>VN_246820</td>\n",
       "      <td>BLACK BOX NETWORK SERVICES NV</td>\n",
       "      <td>2</td>\n",
       "    </tr>\n",
       "    <tr>\n",
       "      <th>...</th>\n",
       "      <td>...</td>\n",
       "      <td>...</td>\n",
       "      <td>...</td>\n",
       "      <td>...</td>\n",
       "    </tr>\n",
       "    <tr>\n",
       "      <th>265603</th>\n",
       "      <td>DS_265603</td>\n",
       "      <td>VN_265603</td>\n",
       "      <td>ANTALIS FRANCE</td>\n",
       "      <td>2</td>\n",
       "    </tr>\n",
       "    <tr>\n",
       "      <th>265604</th>\n",
       "      <td>DS_265604</td>\n",
       "      <td>VN_265604</td>\n",
       "      <td>Key Equipment Finance</td>\n",
       "      <td>2</td>\n",
       "    </tr>\n",
       "    <tr>\n",
       "      <th>265605</th>\n",
       "      <td>DS_265605</td>\n",
       "      <td>VN_265605</td>\n",
       "      <td>SEMA-PRINT SP. Z O.O. SP. K.</td>\n",
       "      <td>2</td>\n",
       "    </tr>\n",
       "    <tr>\n",
       "      <th>265606</th>\n",
       "      <td>DS_265606</td>\n",
       "      <td>VN_265606</td>\n",
       "      <td>FABORY CENTRES</td>\n",
       "      <td>2</td>\n",
       "    </tr>\n",
       "    <tr>\n",
       "      <th>265607</th>\n",
       "      <td>DS_265607</td>\n",
       "      <td>VN_265607</td>\n",
       "      <td>KEYCOM HOLDINGS (PTY) LTD</td>\n",
       "      <td>2</td>\n",
       "    </tr>\n",
       "  </tbody>\n",
       "</table>\n",
       "<p>18792 rows × 4 columns</p>\n",
       "</div>\n",
       "      <button class=\"colab-df-convert\" onclick=\"convertToInteractive('df-3bdb9928-034b-4ed8-be04-da363d7f3151')\"\n",
       "              title=\"Convert this dataframe to an interactive table.\"\n",
       "              style=\"display:none;\">\n",
       "        \n",
       "  <svg xmlns=\"http://www.w3.org/2000/svg\" height=\"24px\"viewBox=\"0 0 24 24\"\n",
       "       width=\"24px\">\n",
       "    <path d=\"M0 0h24v24H0V0z\" fill=\"none\"/>\n",
       "    <path d=\"M18.56 5.44l.94 2.06.94-2.06 2.06-.94-2.06-.94-.94-2.06-.94 2.06-2.06.94zm-11 1L8.5 8.5l.94-2.06 2.06-.94-2.06-.94L8.5 2.5l-.94 2.06-2.06.94zm10 10l.94 2.06.94-2.06 2.06-.94-2.06-.94-.94-2.06-.94 2.06-2.06.94z\"/><path d=\"M17.41 7.96l-1.37-1.37c-.4-.4-.92-.59-1.43-.59-.52 0-1.04.2-1.43.59L10.3 9.45l-7.72 7.72c-.78.78-.78 2.05 0 2.83L4 21.41c.39.39.9.59 1.41.59.51 0 1.02-.2 1.41-.59l7.78-7.78 2.81-2.81c.8-.78.8-2.07 0-2.86zM5.41 20L4 18.59l7.72-7.72 1.47 1.35L5.41 20z\"/>\n",
       "  </svg>\n",
       "      </button>\n",
       "      \n",
       "  <style>\n",
       "    .colab-df-container {\n",
       "      display:flex;\n",
       "      flex-wrap:wrap;\n",
       "      gap: 12px;\n",
       "    }\n",
       "\n",
       "    .colab-df-convert {\n",
       "      background-color: #E8F0FE;\n",
       "      border: none;\n",
       "      border-radius: 50%;\n",
       "      cursor: pointer;\n",
       "      display: none;\n",
       "      fill: #1967D2;\n",
       "      height: 32px;\n",
       "      padding: 0 0 0 0;\n",
       "      width: 32px;\n",
       "    }\n",
       "\n",
       "    .colab-df-convert:hover {\n",
       "      background-color: #E2EBFA;\n",
       "      box-shadow: 0px 1px 2px rgba(60, 64, 67, 0.3), 0px 1px 3px 1px rgba(60, 64, 67, 0.15);\n",
       "      fill: #174EA6;\n",
       "    }\n",
       "\n",
       "    [theme=dark] .colab-df-convert {\n",
       "      background-color: #3B4455;\n",
       "      fill: #D2E3FC;\n",
       "    }\n",
       "\n",
       "    [theme=dark] .colab-df-convert:hover {\n",
       "      background-color: #434B5C;\n",
       "      box-shadow: 0px 1px 3px 1px rgba(0, 0, 0, 0.15);\n",
       "      filter: drop-shadow(0px 1px 2px rgba(0, 0, 0, 0.3));\n",
       "      fill: #FFFFFF;\n",
       "    }\n",
       "  </style>\n",
       "\n",
       "      <script>\n",
       "        const buttonEl =\n",
       "          document.querySelector('#df-3bdb9928-034b-4ed8-be04-da363d7f3151 button.colab-df-convert');\n",
       "        buttonEl.style.display =\n",
       "          google.colab.kernel.accessAllowed ? 'block' : 'none';\n",
       "\n",
       "        async function convertToInteractive(key) {\n",
       "          const element = document.querySelector('#df-3bdb9928-034b-4ed8-be04-da363d7f3151');\n",
       "          const dataTable =\n",
       "            await google.colab.kernel.invokeFunction('convertToInteractive',\n",
       "                                                     [key], {});\n",
       "          if (!dataTable) return;\n",
       "\n",
       "          const docLinkHtml = 'Like what you see? Visit the ' +\n",
       "            '<a target=\"_blank\" href=https://colab.research.google.com/notebooks/data_table.ipynb>data table notebook</a>'\n",
       "            + ' to learn more about interactive tables.';\n",
       "          element.innerHTML = '';\n",
       "          dataTable['output_type'] = 'display_data';\n",
       "          await google.colab.output.renderOutput(dataTable, element);\n",
       "          const docLink = document.createElement('div');\n",
       "          docLink.innerHTML = docLinkHtml;\n",
       "          element.appendChild(docLink);\n",
       "        }\n",
       "      </script>\n",
       "    </div>\n",
       "  </div>\n",
       "  "
      ],
      "text/plain": [
       "       DataSource Vendor number                                   Vendor name  \\\n",
       "246816  DS_246816     VN_246816                                 J & M Plating   \n",
       "246817  DS_246817     VN_246817                                NEOPOST FRANCE   \n",
       "246818  DS_246818     VN_246818                                   PROWIT S.C.   \n",
       "246819  DS_246819     VN_246819  J & L TURNING INC/DBA ALLIANCE BROACH & TOOL   \n",
       "246820  DS_246820     VN_246820                 BLACK BOX NETWORK SERVICES NV   \n",
       "...           ...           ...                                           ...   \n",
       "265603  DS_265603     VN_265603                                ANTALIS FRANCE   \n",
       "265604  DS_265604     VN_265604                         Key Equipment Finance   \n",
       "265605  DS_265605     VN_265605                  SEMA-PRINT SP. Z O.O. SP. K.   \n",
       "265606  DS_265606     VN_265606                                FABORY CENTRES   \n",
       "265607  DS_265607     VN_265607                     KEYCOM HOLDINGS (PTY) LTD   \n",
       "\n",
       "        #VN  \n",
       "246816    2  \n",
       "246817    2  \n",
       "246818    2  \n",
       "246819    2  \n",
       "246820    2  \n",
       "...     ...  \n",
       "265603    2  \n",
       "265604    2  \n",
       "265605    2  \n",
       "265606    2  \n",
       "265607    2  \n",
       "\n",
       "[18792 rows x 4 columns]"
      ]
     },
     "execution_count": 35,
     "metadata": {},
     "output_type": "execute_result"
    }
   ],
   "source": [
    "final_dup_df[final_dup_df['#VN'] == 2]"
   ]
  },
  {
   "cell_type": "code",
   "execution_count": 36,
   "metadata": {
    "colab": {
     "base_uri": "https://localhost:8080/",
     "height": 112
    },
    "id": "YbFv3Hf82XFF",
    "outputId": "74463e4c-a689-4782-bb43-38b66ab50819"
   },
   "outputs": [
    {
     "data": {
      "text/html": [
       "\n",
       "  <div id=\"df-7c4b8e59-41f5-411d-a71c-dce5115342de\">\n",
       "    <div class=\"colab-df-container\">\n",
       "      <div>\n",
       "<style scoped>\n",
       "    .dataframe tbody tr th:only-of-type {\n",
       "        vertical-align: middle;\n",
       "    }\n",
       "\n",
       "    .dataframe tbody tr th {\n",
       "        vertical-align: top;\n",
       "    }\n",
       "\n",
       "    .dataframe thead th {\n",
       "        text-align: right;\n",
       "    }\n",
       "</style>\n",
       "<table border=\"1\" class=\"dataframe\">\n",
       "  <thead>\n",
       "    <tr style=\"text-align: right;\">\n",
       "      <th></th>\n",
       "      <th>DataSource</th>\n",
       "      <th>Vendor number</th>\n",
       "      <th>Vendor name</th>\n",
       "      <th>#VN</th>\n",
       "    </tr>\n",
       "  </thead>\n",
       "  <tbody>\n",
       "    <tr>\n",
       "      <th>256207</th>\n",
       "      <td>DS_256207</td>\n",
       "      <td>VN_256207</td>\n",
       "      <td>ANTALIS FRANCE</td>\n",
       "      <td>2</td>\n",
       "    </tr>\n",
       "    <tr>\n",
       "      <th>265603</th>\n",
       "      <td>DS_265603</td>\n",
       "      <td>VN_265603</td>\n",
       "      <td>ANTALIS FRANCE</td>\n",
       "      <td>2</td>\n",
       "    </tr>\n",
       "  </tbody>\n",
       "</table>\n",
       "</div>\n",
       "      <button class=\"colab-df-convert\" onclick=\"convertToInteractive('df-7c4b8e59-41f5-411d-a71c-dce5115342de')\"\n",
       "              title=\"Convert this dataframe to an interactive table.\"\n",
       "              style=\"display:none;\">\n",
       "        \n",
       "  <svg xmlns=\"http://www.w3.org/2000/svg\" height=\"24px\"viewBox=\"0 0 24 24\"\n",
       "       width=\"24px\">\n",
       "    <path d=\"M0 0h24v24H0V0z\" fill=\"none\"/>\n",
       "    <path d=\"M18.56 5.44l.94 2.06.94-2.06 2.06-.94-2.06-.94-.94-2.06-.94 2.06-2.06.94zm-11 1L8.5 8.5l.94-2.06 2.06-.94-2.06-.94L8.5 2.5l-.94 2.06-2.06.94zm10 10l.94 2.06.94-2.06 2.06-.94-2.06-.94-.94-2.06-.94 2.06-2.06.94z\"/><path d=\"M17.41 7.96l-1.37-1.37c-.4-.4-.92-.59-1.43-.59-.52 0-1.04.2-1.43.59L10.3 9.45l-7.72 7.72c-.78.78-.78 2.05 0 2.83L4 21.41c.39.39.9.59 1.41.59.51 0 1.02-.2 1.41-.59l7.78-7.78 2.81-2.81c.8-.78.8-2.07 0-2.86zM5.41 20L4 18.59l7.72-7.72 1.47 1.35L5.41 20z\"/>\n",
       "  </svg>\n",
       "      </button>\n",
       "      \n",
       "  <style>\n",
       "    .colab-df-container {\n",
       "      display:flex;\n",
       "      flex-wrap:wrap;\n",
       "      gap: 12px;\n",
       "    }\n",
       "\n",
       "    .colab-df-convert {\n",
       "      background-color: #E8F0FE;\n",
       "      border: none;\n",
       "      border-radius: 50%;\n",
       "      cursor: pointer;\n",
       "      display: none;\n",
       "      fill: #1967D2;\n",
       "      height: 32px;\n",
       "      padding: 0 0 0 0;\n",
       "      width: 32px;\n",
       "    }\n",
       "\n",
       "    .colab-df-convert:hover {\n",
       "      background-color: #E2EBFA;\n",
       "      box-shadow: 0px 1px 2px rgba(60, 64, 67, 0.3), 0px 1px 3px 1px rgba(60, 64, 67, 0.15);\n",
       "      fill: #174EA6;\n",
       "    }\n",
       "\n",
       "    [theme=dark] .colab-df-convert {\n",
       "      background-color: #3B4455;\n",
       "      fill: #D2E3FC;\n",
       "    }\n",
       "\n",
       "    [theme=dark] .colab-df-convert:hover {\n",
       "      background-color: #434B5C;\n",
       "      box-shadow: 0px 1px 3px 1px rgba(0, 0, 0, 0.15);\n",
       "      filter: drop-shadow(0px 1px 2px rgba(0, 0, 0, 0.3));\n",
       "      fill: #FFFFFF;\n",
       "    }\n",
       "  </style>\n",
       "\n",
       "      <script>\n",
       "        const buttonEl =\n",
       "          document.querySelector('#df-7c4b8e59-41f5-411d-a71c-dce5115342de button.colab-df-convert');\n",
       "        buttonEl.style.display =\n",
       "          google.colab.kernel.accessAllowed ? 'block' : 'none';\n",
       "\n",
       "        async function convertToInteractive(key) {\n",
       "          const element = document.querySelector('#df-7c4b8e59-41f5-411d-a71c-dce5115342de');\n",
       "          const dataTable =\n",
       "            await google.colab.kernel.invokeFunction('convertToInteractive',\n",
       "                                                     [key], {});\n",
       "          if (!dataTable) return;\n",
       "\n",
       "          const docLinkHtml = 'Like what you see? Visit the ' +\n",
       "            '<a target=\"_blank\" href=https://colab.research.google.com/notebooks/data_table.ipynb>data table notebook</a>'\n",
       "            + ' to learn more about interactive tables.';\n",
       "          element.innerHTML = '';\n",
       "          dataTable['output_type'] = 'display_data';\n",
       "          await google.colab.output.renderOutput(dataTable, element);\n",
       "          const docLink = document.createElement('div');\n",
       "          docLink.innerHTML = docLinkHtml;\n",
       "          element.appendChild(docLink);\n",
       "        }\n",
       "      </script>\n",
       "    </div>\n",
       "  </div>\n",
       "  "
      ],
      "text/plain": [
       "       DataSource Vendor number     Vendor name  #VN\n",
       "256207  DS_256207     VN_256207  ANTALIS FRANCE    2\n",
       "265603  DS_265603     VN_265603  ANTALIS FRANCE    2"
      ]
     },
     "execution_count": 36,
     "metadata": {},
     "output_type": "execute_result"
    }
   ],
   "source": [
    "final_dup_df[final_dup_df['Vendor name'] == 'ANTALIS FRANCE']"
   ]
  },
  {
   "cell_type": "code",
   "execution_count": 37,
   "metadata": {
    "id": "F9_SrUL626Ag"
   },
   "outputs": [],
   "source": [
    "final_dup_df.drop(columns=['#VN'],axis=1,inplace=True)"
   ]
  },
  {
   "cell_type": "code",
   "execution_count": 38,
   "metadata": {
    "colab": {
     "base_uri": "https://localhost:8080/",
     "height": 423
    },
    "id": "zzcjVfZo26DT",
    "outputId": "9caf8bff-3c65-4ba8-f30e-9711c307bf79"
   },
   "outputs": [
    {
     "data": {
      "text/html": [
       "\n",
       "  <div id=\"df-dba78f9d-38dd-4c68-ad94-53901b16f2f8\">\n",
       "    <div class=\"colab-df-container\">\n",
       "      <div>\n",
       "<style scoped>\n",
       "    .dataframe tbody tr th:only-of-type {\n",
       "        vertical-align: middle;\n",
       "    }\n",
       "\n",
       "    .dataframe tbody tr th {\n",
       "        vertical-align: top;\n",
       "    }\n",
       "\n",
       "    .dataframe thead th {\n",
       "        text-align: right;\n",
       "    }\n",
       "</style>\n",
       "<table border=\"1\" class=\"dataframe\">\n",
       "  <thead>\n",
       "    <tr style=\"text-align: right;\">\n",
       "      <th></th>\n",
       "      <th>DataSource</th>\n",
       "      <th>Vendor number</th>\n",
       "      <th>Vendor name</th>\n",
       "    </tr>\n",
       "  </thead>\n",
       "  <tbody>\n",
       "    <tr>\n",
       "      <th>0</th>\n",
       "      <td>DS_0</td>\n",
       "      <td>VN_0</td>\n",
       "      <td>Polymed Ltd</td>\n",
       "    </tr>\n",
       "    <tr>\n",
       "      <th>1</th>\n",
       "      <td>DS_1</td>\n",
       "      <td>VN_1</td>\n",
       "      <td>POLI PMI INDUSTRIA E COMERCIO LTDA</td>\n",
       "    </tr>\n",
       "    <tr>\n",
       "      <th>2</th>\n",
       "      <td>DS_2</td>\n",
       "      <td>VN_2</td>\n",
       "      <td>Pipe Line Contractors Association/of Canada</td>\n",
       "    </tr>\n",
       "    <tr>\n",
       "      <th>3</th>\n",
       "      <td>DS_3</td>\n",
       "      <td>VN_3</td>\n",
       "      <td>PERFUR REI PERFURACOES LTDA ME</td>\n",
       "    </tr>\n",
       "    <tr>\n",
       "      <th>4</th>\n",
       "      <td>DS_4</td>\n",
       "      <td>VN_4</td>\n",
       "      <td>RITA ANDERSON</td>\n",
       "    </tr>\n",
       "    <tr>\n",
       "      <th>...</th>\n",
       "      <td>...</td>\n",
       "      <td>...</td>\n",
       "      <td>...</td>\n",
       "    </tr>\n",
       "    <tr>\n",
       "      <th>266692</th>\n",
       "      <td>DS_266692</td>\n",
       "      <td>VN_266692</td>\n",
       "      <td>ROCKFORM CARBIDE MANUFACTURING, INC.</td>\n",
       "    </tr>\n",
       "    <tr>\n",
       "      <th>266693</th>\n",
       "      <td>DS_266693</td>\n",
       "      <td>VN_266693</td>\n",
       "      <td>GORE FREIGHT COMPANY LLC</td>\n",
       "    </tr>\n",
       "    <tr>\n",
       "      <th>266694</th>\n",
       "      <td>DS_266694</td>\n",
       "      <td>VN_266694</td>\n",
       "      <td>MOUNTZ INC</td>\n",
       "    </tr>\n",
       "    <tr>\n",
       "      <th>266695</th>\n",
       "      <td>DS_266695</td>\n",
       "      <td>VN_266695</td>\n",
       "      <td>L&amp;T TECHNOLOGY SERVICES LIMITED</td>\n",
       "    </tr>\n",
       "    <tr>\n",
       "      <th>266696</th>\n",
       "      <td>DS_266696</td>\n",
       "      <td>VN_266696</td>\n",
       "      <td>HERR INDUSTRIAL INC</td>\n",
       "    </tr>\n",
       "  </tbody>\n",
       "</table>\n",
       "<p>266697 rows × 3 columns</p>\n",
       "</div>\n",
       "      <button class=\"colab-df-convert\" onclick=\"convertToInteractive('df-dba78f9d-38dd-4c68-ad94-53901b16f2f8')\"\n",
       "              title=\"Convert this dataframe to an interactive table.\"\n",
       "              style=\"display:none;\">\n",
       "        \n",
       "  <svg xmlns=\"http://www.w3.org/2000/svg\" height=\"24px\"viewBox=\"0 0 24 24\"\n",
       "       width=\"24px\">\n",
       "    <path d=\"M0 0h24v24H0V0z\" fill=\"none\"/>\n",
       "    <path d=\"M18.56 5.44l.94 2.06.94-2.06 2.06-.94-2.06-.94-.94-2.06-.94 2.06-2.06.94zm-11 1L8.5 8.5l.94-2.06 2.06-.94-2.06-.94L8.5 2.5l-.94 2.06-2.06.94zm10 10l.94 2.06.94-2.06 2.06-.94-2.06-.94-.94-2.06-.94 2.06-2.06.94z\"/><path d=\"M17.41 7.96l-1.37-1.37c-.4-.4-.92-.59-1.43-.59-.52 0-1.04.2-1.43.59L10.3 9.45l-7.72 7.72c-.78.78-.78 2.05 0 2.83L4 21.41c.39.39.9.59 1.41.59.51 0 1.02-.2 1.41-.59l7.78-7.78 2.81-2.81c.8-.78.8-2.07 0-2.86zM5.41 20L4 18.59l7.72-7.72 1.47 1.35L5.41 20z\"/>\n",
       "  </svg>\n",
       "      </button>\n",
       "      \n",
       "  <style>\n",
       "    .colab-df-container {\n",
       "      display:flex;\n",
       "      flex-wrap:wrap;\n",
       "      gap: 12px;\n",
       "    }\n",
       "\n",
       "    .colab-df-convert {\n",
       "      background-color: #E8F0FE;\n",
       "      border: none;\n",
       "      border-radius: 50%;\n",
       "      cursor: pointer;\n",
       "      display: none;\n",
       "      fill: #1967D2;\n",
       "      height: 32px;\n",
       "      padding: 0 0 0 0;\n",
       "      width: 32px;\n",
       "    }\n",
       "\n",
       "    .colab-df-convert:hover {\n",
       "      background-color: #E2EBFA;\n",
       "      box-shadow: 0px 1px 2px rgba(60, 64, 67, 0.3), 0px 1px 3px 1px rgba(60, 64, 67, 0.15);\n",
       "      fill: #174EA6;\n",
       "    }\n",
       "\n",
       "    [theme=dark] .colab-df-convert {\n",
       "      background-color: #3B4455;\n",
       "      fill: #D2E3FC;\n",
       "    }\n",
       "\n",
       "    [theme=dark] .colab-df-convert:hover {\n",
       "      background-color: #434B5C;\n",
       "      box-shadow: 0px 1px 3px 1px rgba(0, 0, 0, 0.15);\n",
       "      filter: drop-shadow(0px 1px 2px rgba(0, 0, 0, 0.3));\n",
       "      fill: #FFFFFF;\n",
       "    }\n",
       "  </style>\n",
       "\n",
       "      <script>\n",
       "        const buttonEl =\n",
       "          document.querySelector('#df-dba78f9d-38dd-4c68-ad94-53901b16f2f8 button.colab-df-convert');\n",
       "        buttonEl.style.display =\n",
       "          google.colab.kernel.accessAllowed ? 'block' : 'none';\n",
       "\n",
       "        async function convertToInteractive(key) {\n",
       "          const element = document.querySelector('#df-dba78f9d-38dd-4c68-ad94-53901b16f2f8');\n",
       "          const dataTable =\n",
       "            await google.colab.kernel.invokeFunction('convertToInteractive',\n",
       "                                                     [key], {});\n",
       "          if (!dataTable) return;\n",
       "\n",
       "          const docLinkHtml = 'Like what you see? Visit the ' +\n",
       "            '<a target=\"_blank\" href=https://colab.research.google.com/notebooks/data_table.ipynb>data table notebook</a>'\n",
       "            + ' to learn more about interactive tables.';\n",
       "          element.innerHTML = '';\n",
       "          dataTable['output_type'] = 'display_data';\n",
       "          await google.colab.output.renderOutput(dataTable, element);\n",
       "          const docLink = document.createElement('div');\n",
       "          docLink.innerHTML = docLinkHtml;\n",
       "          element.appendChild(docLink);\n",
       "        }\n",
       "      </script>\n",
       "    </div>\n",
       "  </div>\n",
       "  "
      ],
      "text/plain": [
       "       DataSource Vendor number                                  Vendor name\n",
       "0            DS_0          VN_0                                  Polymed Ltd\n",
       "1            DS_1          VN_1           POLI PMI INDUSTRIA E COMERCIO LTDA\n",
       "2            DS_2          VN_2  Pipe Line Contractors Association/of Canada\n",
       "3            DS_3          VN_3               PERFUR REI PERFURACOES LTDA ME\n",
       "4            DS_4          VN_4                                RITA ANDERSON\n",
       "...           ...           ...                                          ...\n",
       "266692  DS_266692     VN_266692         ROCKFORM CARBIDE MANUFACTURING, INC.\n",
       "266693  DS_266693     VN_266693                     GORE FREIGHT COMPANY LLC\n",
       "266694  DS_266694     VN_266694                                   MOUNTZ INC\n",
       "266695  DS_266695     VN_266695              L&T TECHNOLOGY SERVICES LIMITED\n",
       "266696  DS_266696     VN_266696                          HERR INDUSTRIAL INC\n",
       "\n",
       "[266697 rows x 3 columns]"
      ]
     },
     "execution_count": 38,
     "metadata": {},
     "output_type": "execute_result"
    }
   ],
   "source": [
    "final_dup_df"
   ]
  },
  {
   "cell_type": "code",
   "execution_count": 39,
   "metadata": {
    "id": "cWrtN-Dn6rf_"
   },
   "outputs": [],
   "source": [
    "# Now get the New supplier info from the main dataframe by join\n",
    "final_dup_df = pd.merge(final_dup_df,df[['Vendor name','New Supplier']],how='left',on= 'Vendor name')\n"
   ]
  },
  {
   "cell_type": "code",
   "execution_count": 40,
   "metadata": {
    "id": "OLSRZXGt26HQ"
   },
   "outputs": [],
   "source": [
    "df_final = [df,final_dup_df]\n",
    "df = pd.concat(df_final)\n",
    "df.reset_index(drop=True, inplace=True)"
   ]
  },
  {
   "cell_type": "code",
   "execution_count": 40,
   "metadata": {
    "id": "ds7fap6N-G_v"
   },
   "outputs": [],
   "source": [
    "\n"
   ]
  },
  {
   "cell_type": "code",
   "execution_count": 41,
   "metadata": {
    "colab": {
     "base_uri": "https://localhost:8080/"
    },
    "id": "H26E5hDD26K_",
    "outputId": "fd4138a8-0b62-40dd-d2a5-d394271c043c"
   },
   "outputs": [
    {
     "data": {
      "text/plain": [
       "4.0"
      ]
     },
     "execution_count": 41,
     "metadata": {},
     "output_type": "execute_result"
    }
   ],
   "source": [
    "df['Vendor name'].value_counts().median()  # Before the median was: 1, now after resampling median: 4"
   ]
  },
  {
   "cell_type": "code",
   "execution_count": 42,
   "metadata": {
    "id": "Xb3m3U9auK3U"
   },
   "outputs": [],
   "source": [
    "df['DataSource']=df['DataSource'].apply(ds_cleansing)"
   ]
  },
  {
   "cell_type": "code",
   "execution_count": 43,
   "metadata": {
    "colab": {
     "base_uri": "https://localhost:8080/",
     "height": 206
    },
    "id": "Prs72LsMuRSX",
    "outputId": "1d61e1ff-a53b-4c22-fa3e-75887ff500a2"
   },
   "outputs": [
    {
     "data": {
      "text/html": [
       "\n",
       "  <div id=\"df-b9512767-0e5c-481b-8d26-46634e039695\">\n",
       "    <div class=\"colab-df-container\">\n",
       "      <div>\n",
       "<style scoped>\n",
       "    .dataframe tbody tr th:only-of-type {\n",
       "        vertical-align: middle;\n",
       "    }\n",
       "\n",
       "    .dataframe tbody tr th {\n",
       "        vertical-align: top;\n",
       "    }\n",
       "\n",
       "    .dataframe thead th {\n",
       "        text-align: right;\n",
       "    }\n",
       "</style>\n",
       "<table border=\"1\" class=\"dataframe\">\n",
       "  <thead>\n",
       "    <tr style=\"text-align: right;\">\n",
       "      <th></th>\n",
       "      <th>DataSource</th>\n",
       "      <th>Vendor number</th>\n",
       "      <th>Vendor name</th>\n",
       "      <th>New Supplier</th>\n",
       "    </tr>\n",
       "  </thead>\n",
       "  <tbody>\n",
       "    <tr>\n",
       "      <th>27512</th>\n",
       "      <td>Infor LX - CLVD</td>\n",
       "      <td>48803</td>\n",
       "      <td>DTS FLUID POWER LLC</td>\n",
       "      <td>DTS FLUID POWER</td>\n",
       "    </tr>\n",
       "    <tr>\n",
       "      <th>150721</th>\n",
       "      <td>DS_42867</td>\n",
       "      <td>VN_42867</td>\n",
       "      <td>CHAMBERS OWNERS ASSOCIATION</td>\n",
       "      <td>CHAMBERS OWNERS ASSOCIATION</td>\n",
       "    </tr>\n",
       "    <tr>\n",
       "      <th>179923</th>\n",
       "      <td>DS_72069</td>\n",
       "      <td>VN_72069</td>\n",
       "      <td>FABERTECK AUTOMACAO LTDA</td>\n",
       "      <td>FABRICIO ADRIA ME</td>\n",
       "    </tr>\n",
       "    <tr>\n",
       "      <th>157943</th>\n",
       "      <td>DS_50089</td>\n",
       "      <td>VN_50089</td>\n",
       "      <td>ALTIDO LONDON LTD</td>\n",
       "      <td>ALTIDO LONDON LTD</td>\n",
       "    </tr>\n",
       "    <tr>\n",
       "      <th>230058</th>\n",
       "      <td>DS_122204</td>\n",
       "      <td>VN_122204</td>\n",
       "      <td>CIREK KONSULT AB</td>\n",
       "      <td>CIREK KONSULT AB</td>\n",
       "    </tr>\n",
       "  </tbody>\n",
       "</table>\n",
       "</div>\n",
       "      <button class=\"colab-df-convert\" onclick=\"convertToInteractive('df-b9512767-0e5c-481b-8d26-46634e039695')\"\n",
       "              title=\"Convert this dataframe to an interactive table.\"\n",
       "              style=\"display:none;\">\n",
       "        \n",
       "  <svg xmlns=\"http://www.w3.org/2000/svg\" height=\"24px\"viewBox=\"0 0 24 24\"\n",
       "       width=\"24px\">\n",
       "    <path d=\"M0 0h24v24H0V0z\" fill=\"none\"/>\n",
       "    <path d=\"M18.56 5.44l.94 2.06.94-2.06 2.06-.94-2.06-.94-.94-2.06-.94 2.06-2.06.94zm-11 1L8.5 8.5l.94-2.06 2.06-.94-2.06-.94L8.5 2.5l-.94 2.06-2.06.94zm10 10l.94 2.06.94-2.06 2.06-.94-2.06-.94-.94-2.06-.94 2.06-2.06.94z\"/><path d=\"M17.41 7.96l-1.37-1.37c-.4-.4-.92-.59-1.43-.59-.52 0-1.04.2-1.43.59L10.3 9.45l-7.72 7.72c-.78.78-.78 2.05 0 2.83L4 21.41c.39.39.9.59 1.41.59.51 0 1.02-.2 1.41-.59l7.78-7.78 2.81-2.81c.8-.78.8-2.07 0-2.86zM5.41 20L4 18.59l7.72-7.72 1.47 1.35L5.41 20z\"/>\n",
       "  </svg>\n",
       "      </button>\n",
       "      \n",
       "  <style>\n",
       "    .colab-df-container {\n",
       "      display:flex;\n",
       "      flex-wrap:wrap;\n",
       "      gap: 12px;\n",
       "    }\n",
       "\n",
       "    .colab-df-convert {\n",
       "      background-color: #E8F0FE;\n",
       "      border: none;\n",
       "      border-radius: 50%;\n",
       "      cursor: pointer;\n",
       "      display: none;\n",
       "      fill: #1967D2;\n",
       "      height: 32px;\n",
       "      padding: 0 0 0 0;\n",
       "      width: 32px;\n",
       "    }\n",
       "\n",
       "    .colab-df-convert:hover {\n",
       "      background-color: #E2EBFA;\n",
       "      box-shadow: 0px 1px 2px rgba(60, 64, 67, 0.3), 0px 1px 3px 1px rgba(60, 64, 67, 0.15);\n",
       "      fill: #174EA6;\n",
       "    }\n",
       "\n",
       "    [theme=dark] .colab-df-convert {\n",
       "      background-color: #3B4455;\n",
       "      fill: #D2E3FC;\n",
       "    }\n",
       "\n",
       "    [theme=dark] .colab-df-convert:hover {\n",
       "      background-color: #434B5C;\n",
       "      box-shadow: 0px 1px 3px 1px rgba(0, 0, 0, 0.15);\n",
       "      filter: drop-shadow(0px 1px 2px rgba(0, 0, 0, 0.3));\n",
       "      fill: #FFFFFF;\n",
       "    }\n",
       "  </style>\n",
       "\n",
       "      <script>\n",
       "        const buttonEl =\n",
       "          document.querySelector('#df-b9512767-0e5c-481b-8d26-46634e039695 button.colab-df-convert');\n",
       "        buttonEl.style.display =\n",
       "          google.colab.kernel.accessAllowed ? 'block' : 'none';\n",
       "\n",
       "        async function convertToInteractive(key) {\n",
       "          const element = document.querySelector('#df-b9512767-0e5c-481b-8d26-46634e039695');\n",
       "          const dataTable =\n",
       "            await google.colab.kernel.invokeFunction('convertToInteractive',\n",
       "                                                     [key], {});\n",
       "          if (!dataTable) return;\n",
       "\n",
       "          const docLinkHtml = 'Like what you see? Visit the ' +\n",
       "            '<a target=\"_blank\" href=https://colab.research.google.com/notebooks/data_table.ipynb>data table notebook</a>'\n",
       "            + ' to learn more about interactive tables.';\n",
       "          element.innerHTML = '';\n",
       "          dataTable['output_type'] = 'display_data';\n",
       "          await google.colab.output.renderOutput(dataTable, element);\n",
       "          const docLink = document.createElement('div');\n",
       "          docLink.innerHTML = docLinkHtml;\n",
       "          element.appendChild(docLink);\n",
       "        }\n",
       "      </script>\n",
       "    </div>\n",
       "  </div>\n",
       "  "
      ],
      "text/plain": [
       "             DataSource Vendor number                  Vendor name  \\\n",
       "27512   Infor LX - CLVD         48803          DTS FLUID POWER LLC   \n",
       "150721         DS_42867      VN_42867  CHAMBERS OWNERS ASSOCIATION   \n",
       "179923         DS_72069      VN_72069     FABERTECK AUTOMACAO LTDA   \n",
       "157943         DS_50089      VN_50089            ALTIDO LONDON LTD   \n",
       "230058        DS_122204     VN_122204             CIREK KONSULT AB   \n",
       "\n",
       "                       New Supplier  \n",
       "27512               DTS FLUID POWER  \n",
       "150721  CHAMBERS OWNERS ASSOCIATION  \n",
       "179923            FABRICIO ADRIA ME  \n",
       "157943            ALTIDO LONDON LTD  \n",
       "230058             CIREK KONSULT AB  "
      ]
     },
     "execution_count": 43,
     "metadata": {},
     "output_type": "execute_result"
    }
   ],
   "source": [
    "df.sample(5)"
   ]
  },
  {
   "cell_type": "code",
   "execution_count": 44,
   "metadata": {
    "colab": {
     "base_uri": "https://localhost:8080/"
    },
    "id": "mzk-n4KCrxJ0",
    "outputId": "71dd3cda-5954-485a-ae06-d9c549894449"
   },
   "outputs": [
    {
     "data": {
      "text/plain": [
       "array(['3rd Party Security', 'SAP C11', 'SAP SP1', ..., 'DS_266694',\n",
       "       'DS_266695', 'DS_266696'], dtype=object)"
      ]
     },
     "execution_count": 44,
     "metadata": {},
     "output_type": "execute_result"
    }
   ],
   "source": [
    "df['DataSource'].unique()"
   ]
  },
  {
   "cell_type": "markdown",
   "metadata": {
    "id": "CelOnr2BcFpo"
   },
   "source": [
    "### Defined set of stopwords:"
   ]
  },
  {
   "cell_type": "code",
   "execution_count": 45,
   "metadata": {
    "id": "R900AMbucFpp"
   },
   "outputs": [],
   "source": [
    "vendor_harmonized_stopwords = ['me', 'my', 'myself', 'we', 'our', 'ours', 'ourselves', 'you',\n",
    "                \"you're\", \"you've\", \"you'll\", \"you'd\", 'your', 'yours', 'yourself',\n",
    "                'yourselves', 'him', 'his', 'himself', 'she', \"she's\", 'her', 'hers',\n",
    "                'herself', \"it's\", 'its', 'itself', 'they', 'them', 'their', 'theirs', #'it',\n",
    "                'themselves', 'what', 'which', 'who', 'whom', 'this', 'that', \"that'll\", 'these',\n",
    "                'those', 'am', 'is', 'are', 'was', 'were', 'be', 'been', 'being', 'have', 'has',\n",
    "                'had', 'having', 'do', 'does', 'did', 'doing','an', #'the', 'and',\n",
    "                'but','if', 'or', 'because', 'until', 'while', 'at', 'by', 'with', #'for','of', \n",
    "                'about', 'against', 'between', 'into', 'through', 'during', 'before', 'after',\n",
    "                'above', 'below', 'to', 'from', 'up', 'down', 'in', 'out', 'on', 'off', 'over',\n",
    "                'under', 'again', 'further', 'then', 'once', 'here', 'there', 'when', 'where',\n",
    "                'why', 'how', 'any', 'both', 'each', 'few', 'more', 'most', 'other',\n",
    "                'some', 'such', 'no', 'nor', 'not', 'only', 'own', 'same', 'so', 'than', 'too',\n",
    "                'very', 'can', 'just', 'don', \"don't\", 'should', \"should've\",\n",
    "                'now', 'll', 're', 've', 'ain', 'aren', \"aren't\", 'couldn',\n",
    "                \"couldn't\", 'didn', \"didn't\", 'doesn', \"doesn't\", 'hadn', \"hadn't\", 'hasn',\n",
    "                \"hasn't\", 'haven', \"haven't\", 'isn', \"isn't\", 'ma', 'mightn', \"mightn't\",\n",
    "                'mustn', \"mustn't\", 'needn', \"needn't\", 'shan', \"shan't\", 'shouldn', \"shouldn't\",\n",
    "                'wasn', \"wasn't\", 'weren', \"weren't\", 'won', \"won't\", 'wouldn', \"wouldn't\",'dr','use' #'co',\n",
    "                #'company', 'ltd', 'co ltd', 'company ltd', 'inc', 'llc', 'lp', 'corp', 'corporation',\n",
    "                ]#'a','d', 's','i','m', 't', 'o', 'y','he','all','will', 'as'\n",
    "\n"
   ]
  },
  {
   "cell_type": "code",
   "execution_count": 46,
   "metadata": {
    "id": "fakO7eYbpQYb"
   },
   "outputs": [],
   "source": [
    "new_old_match_stopwords = ['co', 'company', 'ltd', 'co ltd', 'company ltd', 'inc', 'llc', 'lp', 'corp', 'corporation','ltl','ftl']"
   ]
  },
  {
   "cell_type": "code",
   "execution_count": 47,
   "metadata": {
    "id": "5X0WxRX7KhUw"
   },
   "outputs": [],
   "source": [
    "supplier_stopwords = ['ZHEJIANG','ZHANGZHOU','ZHONGSHAN','QINGDAO','QIDONG','SUZHOU'] # all words should be in upper case"
   ]
  },
  {
   "cell_type": "code",
   "execution_count": 48,
   "metadata": {
    "id": "EXN7RFaHKnfk"
   },
   "outputs": [],
   "source": [
    "df['Vendor name'] = df['Vendor name'].apply(rem_first_char_punc)  # try to implement for input data also IF NOT\n",
    "df['New Supplier'] = df['New Supplier'].apply(rem_first_char_punc)\n",
    "df.drop_duplicates(inplace=True)\n",
    "#df['Vendor name'].drop_duplicates(inplace=True)  #"
   ]
  },
  {
   "cell_type": "code",
   "execution_count": 49,
   "metadata": {
    "colab": {
     "base_uri": "https://localhost:8080/"
    },
    "id": "I8X-C7xUqUNv",
    "outputId": "93e2c017-ea3d-4dd1-8c49-a50908868f99"
   },
   "outputs": [
    {
     "name": "stdout",
     "output_type": "stream",
     "text": [
      "<class 'pandas.core.frame.DataFrame'>\n",
      "Int64Index: 374732 entries, 0 to 395518\n",
      "Data columns (total 4 columns):\n",
      " #   Column         Non-Null Count   Dtype \n",
      "---  ------         --------------   ----- \n",
      " 0   DataSource     374732 non-null  object\n",
      " 1   Vendor number  374732 non-null  object\n",
      " 2   Vendor name    374732 non-null  object\n",
      " 3   New Supplier   374732 non-null  object\n",
      "dtypes: object(4)\n",
      "memory usage: 14.3+ MB\n"
     ]
    }
   ],
   "source": [
    "df.info()"
   ]
  },
  {
   "cell_type": "code",
   "execution_count": 50,
   "metadata": {
    "colab": {
     "base_uri": "https://localhost:8080/"
    },
    "id": "xsmS6oFB-zY3",
    "outputId": "b9e43a8e-25d9-45c6-cb44-2c0003fa678c"
   },
   "outputs": [
    {
     "data": {
      "text/plain": [
       "374732"
      ]
     },
     "execution_count": 50,
     "metadata": {},
     "output_type": "execute_result"
    }
   ],
   "source": [
    "sh_df = df.shape[0]\n",
    "sh_df"
   ]
  },
  {
   "cell_type": "code",
   "execution_count": 51,
   "metadata": {
    "colab": {
     "base_uri": "https://localhost:8080/"
    },
    "id": "TVEZWhq1SN4h",
    "outputId": "f4e1865a-2675-4297-b844-fc06fbafb531"
   },
   "outputs": [
    {
     "name": "stdout",
     "output_type": "stream",
     "text": [
      "Foreign name formats in \"new supplier\" column : 7294\n",
      "Foreign name formats in \"Vendor name\" column : 13764\n"
     ]
    }
   ],
   "source": [
    "# Below code is to verify whether are there any names apart from english lingual\n",
    "count = 0\n",
    "for n in df['New Supplier']:\n",
    "  srch = re.search(\"([^\\x00-\\x7F])+\",n)==None\n",
    "  if srch:\n",
    "    pass\n",
    "  else:\n",
    "    count = count + 1\n",
    "print(f'Foreign name formats in \"new supplier\" column : {count}')\n",
    "\n",
    "\n",
    "\n",
    "count = 0\n",
    "for n in df['Vendor name']:\n",
    "  srch = re.search(\"([^\\x00-\\x7F])+\",n)==None\n",
    "  if srch:\n",
    "    pass\n",
    "  else:\n",
    "    count = count + 1\n",
    "print(f'Foreign name formats in \"Vendor name\" column : {count}')\n"
   ]
  },
  {
   "cell_type": "code",
   "execution_count": 52,
   "metadata": {
    "colab": {
     "base_uri": "https://localhost:8080/",
     "height": 112
    },
    "id": "ZvyT_jYaQOCX",
    "outputId": "47ccb444-c48c-4189-943a-a02d832d2345"
   },
   "outputs": [
    {
     "data": {
      "text/html": [
       "\n",
       "  <div id=\"df-5216a8bc-ce7b-4a0b-88f6-cd57802065bc\">\n",
       "    <div class=\"colab-df-container\">\n",
       "      <div>\n",
       "<style scoped>\n",
       "    .dataframe tbody tr th:only-of-type {\n",
       "        vertical-align: middle;\n",
       "    }\n",
       "\n",
       "    .dataframe tbody tr th {\n",
       "        vertical-align: top;\n",
       "    }\n",
       "\n",
       "    .dataframe thead th {\n",
       "        text-align: right;\n",
       "    }\n",
       "</style>\n",
       "<table border=\"1\" class=\"dataframe\">\n",
       "  <thead>\n",
       "    <tr style=\"text-align: right;\">\n",
       "      <th></th>\n",
       "      <th>DataSource</th>\n",
       "      <th>Vendor number</th>\n",
       "      <th>Vendor name</th>\n",
       "      <th>New Supplier</th>\n",
       "    </tr>\n",
       "  </thead>\n",
       "  <tbody>\n",
       "    <tr>\n",
       "      <th>0</th>\n",
       "      <td>3rd Party Security</td>\n",
       "      <td>6412</td>\n",
       "      <td>� Leeuwenburgh Mark</td>\n",
       "      <td>LEEUWENBURGH MARK</td>\n",
       "    </tr>\n",
       "    <tr>\n",
       "      <th>1</th>\n",
       "      <td>SAP C11</td>\n",
       "      <td>30117052</td>\n",
       "      <td>ANTIESTATICA DE MEXICO, SA de CV\"</td>\n",
       "      <td>ANTIESTATICA DE MEXICO</td>\n",
       "    </tr>\n",
       "  </tbody>\n",
       "</table>\n",
       "</div>\n",
       "      <button class=\"colab-df-convert\" onclick=\"convertToInteractive('df-5216a8bc-ce7b-4a0b-88f6-cd57802065bc')\"\n",
       "              title=\"Convert this dataframe to an interactive table.\"\n",
       "              style=\"display:none;\">\n",
       "        \n",
       "  <svg xmlns=\"http://www.w3.org/2000/svg\" height=\"24px\"viewBox=\"0 0 24 24\"\n",
       "       width=\"24px\">\n",
       "    <path d=\"M0 0h24v24H0V0z\" fill=\"none\"/>\n",
       "    <path d=\"M18.56 5.44l.94 2.06.94-2.06 2.06-.94-2.06-.94-.94-2.06-.94 2.06-2.06.94zm-11 1L8.5 8.5l.94-2.06 2.06-.94-2.06-.94L8.5 2.5l-.94 2.06-2.06.94zm10 10l.94 2.06.94-2.06 2.06-.94-2.06-.94-.94-2.06-.94 2.06-2.06.94z\"/><path d=\"M17.41 7.96l-1.37-1.37c-.4-.4-.92-.59-1.43-.59-.52 0-1.04.2-1.43.59L10.3 9.45l-7.72 7.72c-.78.78-.78 2.05 0 2.83L4 21.41c.39.39.9.59 1.41.59.51 0 1.02-.2 1.41-.59l7.78-7.78 2.81-2.81c.8-.78.8-2.07 0-2.86zM5.41 20L4 18.59l7.72-7.72 1.47 1.35L5.41 20z\"/>\n",
       "  </svg>\n",
       "      </button>\n",
       "      \n",
       "  <style>\n",
       "    .colab-df-container {\n",
       "      display:flex;\n",
       "      flex-wrap:wrap;\n",
       "      gap: 12px;\n",
       "    }\n",
       "\n",
       "    .colab-df-convert {\n",
       "      background-color: #E8F0FE;\n",
       "      border: none;\n",
       "      border-radius: 50%;\n",
       "      cursor: pointer;\n",
       "      display: none;\n",
       "      fill: #1967D2;\n",
       "      height: 32px;\n",
       "      padding: 0 0 0 0;\n",
       "      width: 32px;\n",
       "    }\n",
       "\n",
       "    .colab-df-convert:hover {\n",
       "      background-color: #E2EBFA;\n",
       "      box-shadow: 0px 1px 2px rgba(60, 64, 67, 0.3), 0px 1px 3px 1px rgba(60, 64, 67, 0.15);\n",
       "      fill: #174EA6;\n",
       "    }\n",
       "\n",
       "    [theme=dark] .colab-df-convert {\n",
       "      background-color: #3B4455;\n",
       "      fill: #D2E3FC;\n",
       "    }\n",
       "\n",
       "    [theme=dark] .colab-df-convert:hover {\n",
       "      background-color: #434B5C;\n",
       "      box-shadow: 0px 1px 3px 1px rgba(0, 0, 0, 0.15);\n",
       "      filter: drop-shadow(0px 1px 2px rgba(0, 0, 0, 0.3));\n",
       "      fill: #FFFFFF;\n",
       "    }\n",
       "  </style>\n",
       "\n",
       "      <script>\n",
       "        const buttonEl =\n",
       "          document.querySelector('#df-5216a8bc-ce7b-4a0b-88f6-cd57802065bc button.colab-df-convert');\n",
       "        buttonEl.style.display =\n",
       "          google.colab.kernel.accessAllowed ? 'block' : 'none';\n",
       "\n",
       "        async function convertToInteractive(key) {\n",
       "          const element = document.querySelector('#df-5216a8bc-ce7b-4a0b-88f6-cd57802065bc');\n",
       "          const dataTable =\n",
       "            await google.colab.kernel.invokeFunction('convertToInteractive',\n",
       "                                                     [key], {});\n",
       "          if (!dataTable) return;\n",
       "\n",
       "          const docLinkHtml = 'Like what you see? Visit the ' +\n",
       "            '<a target=\"_blank\" href=https://colab.research.google.com/notebooks/data_table.ipynb>data table notebook</a>'\n",
       "            + ' to learn more about interactive tables.';\n",
       "          element.innerHTML = '';\n",
       "          dataTable['output_type'] = 'display_data';\n",
       "          await google.colab.output.renderOutput(dataTable, element);\n",
       "          const docLink = document.createElement('div');\n",
       "          docLink.innerHTML = docLinkHtml;\n",
       "          element.appendChild(docLink);\n",
       "        }\n",
       "      </script>\n",
       "    </div>\n",
       "  </div>\n",
       "  "
      ],
      "text/plain": [
       "           DataSource Vendor number                        Vendor name  \\\n",
       "0  3rd Party Security          6412                � Leeuwenburgh Mark   \n",
       "1             SAP C11      30117052  ANTIESTATICA DE MEXICO, SA de CV\"   \n",
       "\n",
       "             New Supplier  \n",
       "0       LEEUWENBURGH MARK  \n",
       "1  ANTIESTATICA DE MEXICO  "
      ]
     },
     "execution_count": 52,
     "metadata": {},
     "output_type": "execute_result"
    }
   ],
   "source": [
    "df.head(2)"
   ]
  },
  {
   "cell_type": "code",
   "execution_count": 53,
   "metadata": {
    "id": "Ey2GHGExW_w5"
   },
   "outputs": [],
   "source": [
    "## This snippet will print the name of the Column IF there are any NULL records in that Column\n",
    "if (df.isna().sum().unique()[0] != 0):\n",
    "  for i in df.columns:\n",
    "    if df[i].isna().sum() !=0:\n",
    "      print(i + '\\n')\n",
    "    else:\n",
    "      pass\n",
    "else:\n",
    "  pass"
   ]
  },
  {
   "cell_type": "code",
   "execution_count": 54,
   "metadata": {
    "id": "hhmXhLnKcFpu"
   },
   "outputs": [],
   "source": [
    "clean_df = data_clean(df)\n",
    "clean_df['Clean_Vendor_Name'] = clean_df['Clean_Vendor_Name'].apply(trim_spaces)\n",
    "clean_df.replace(\"\", np.nan, inplace=True)\n",
    "clean_df.dropna(subset = [\"Clean_Vendor_Name\",\"Vendor name\"],inplace=True)\n",
    "clean_df = data_clean_initials(clean_df)\n",
    "clean_df = crisp_vendor_name(clean_df)\n",
    "\n",
    "clean_df['DataSource'] = clean_df['DataSource'].apply(lambda x: str(x))\n",
    "clean_df['Vendor number'] = clean_df['Vendor number'].apply(lambda x: str(x))\n",
    "clean_df['DataSource'] = clean_df['DataSource'].apply(trim_spaces)\n",
    "clean_df['Vendor number'] = clean_df['Vendor number'].apply(trim_spaces)\n",
    "\n",
    "\n",
    "clean_df= clean_df[['DataSource', 'Vendor number', 'Vendor name','Clean_Vendor_Name','crisp_vendor_name','New Supplier','New_Supplier','Vendor_name_Initials']]\n",
    "clean_df.reset_index(inplace=True,drop=True)"
   ]
  },
  {
   "cell_type": "code",
   "execution_count": 55,
   "metadata": {
    "colab": {
     "base_uri": "https://localhost:8080/",
     "height": 112
    },
    "id": "My74J5Xhl0-u",
    "outputId": "abb2570a-d512-4ea2-f4b3-86e702e99c96"
   },
   "outputs": [
    {
     "data": {
      "text/html": [
       "\n",
       "  <div id=\"df-9ef18c77-5361-47e1-b6eb-8c509398474d\">\n",
       "    <div class=\"colab-df-container\">\n",
       "      <div>\n",
       "<style scoped>\n",
       "    .dataframe tbody tr th:only-of-type {\n",
       "        vertical-align: middle;\n",
       "    }\n",
       "\n",
       "    .dataframe tbody tr th {\n",
       "        vertical-align: top;\n",
       "    }\n",
       "\n",
       "    .dataframe thead th {\n",
       "        text-align: right;\n",
       "    }\n",
       "</style>\n",
       "<table border=\"1\" class=\"dataframe\">\n",
       "  <thead>\n",
       "    <tr style=\"text-align: right;\">\n",
       "      <th></th>\n",
       "      <th>DataSource</th>\n",
       "      <th>Vendor number</th>\n",
       "      <th>Vendor name</th>\n",
       "      <th>Clean_Vendor_Name</th>\n",
       "      <th>crisp_vendor_name</th>\n",
       "      <th>New Supplier</th>\n",
       "      <th>New_Supplier</th>\n",
       "      <th>Vendor_name_Initials</th>\n",
       "    </tr>\n",
       "  </thead>\n",
       "  <tbody>\n",
       "    <tr>\n",
       "      <th>73467</th>\n",
       "      <td>Ariba</td>\n",
       "      <td>20013851-A10</td>\n",
       "      <td>POWER CONTROL SYSTEMS INC</td>\n",
       "      <td>power control systems</td>\n",
       "      <td>powercontrolsystems</td>\n",
       "      <td>POWER CONTROL SYSTEMS INC</td>\n",
       "      <td>power control systems inc</td>\n",
       "      <td>p</td>\n",
       "    </tr>\n",
       "    <tr>\n",
       "      <th>370969</th>\n",
       "      <td>DS_263065</td>\n",
       "      <td>VN_263065</td>\n",
       "      <td>ENEA S.A. - WLE</td>\n",
       "      <td>enea s a wle</td>\n",
       "      <td>eneasawle</td>\n",
       "      <td>SKARB PANSTWA</td>\n",
       "      <td>skarb panstwa</td>\n",
       "      <td>e</td>\n",
       "    </tr>\n",
       "  </tbody>\n",
       "</table>\n",
       "</div>\n",
       "      <button class=\"colab-df-convert\" onclick=\"convertToInteractive('df-9ef18c77-5361-47e1-b6eb-8c509398474d')\"\n",
       "              title=\"Convert this dataframe to an interactive table.\"\n",
       "              style=\"display:none;\">\n",
       "        \n",
       "  <svg xmlns=\"http://www.w3.org/2000/svg\" height=\"24px\"viewBox=\"0 0 24 24\"\n",
       "       width=\"24px\">\n",
       "    <path d=\"M0 0h24v24H0V0z\" fill=\"none\"/>\n",
       "    <path d=\"M18.56 5.44l.94 2.06.94-2.06 2.06-.94-2.06-.94-.94-2.06-.94 2.06-2.06.94zm-11 1L8.5 8.5l.94-2.06 2.06-.94-2.06-.94L8.5 2.5l-.94 2.06-2.06.94zm10 10l.94 2.06.94-2.06 2.06-.94-2.06-.94-.94-2.06-.94 2.06-2.06.94z\"/><path d=\"M17.41 7.96l-1.37-1.37c-.4-.4-.92-.59-1.43-.59-.52 0-1.04.2-1.43.59L10.3 9.45l-7.72 7.72c-.78.78-.78 2.05 0 2.83L4 21.41c.39.39.9.59 1.41.59.51 0 1.02-.2 1.41-.59l7.78-7.78 2.81-2.81c.8-.78.8-2.07 0-2.86zM5.41 20L4 18.59l7.72-7.72 1.47 1.35L5.41 20z\"/>\n",
       "  </svg>\n",
       "      </button>\n",
       "      \n",
       "  <style>\n",
       "    .colab-df-container {\n",
       "      display:flex;\n",
       "      flex-wrap:wrap;\n",
       "      gap: 12px;\n",
       "    }\n",
       "\n",
       "    .colab-df-convert {\n",
       "      background-color: #E8F0FE;\n",
       "      border: none;\n",
       "      border-radius: 50%;\n",
       "      cursor: pointer;\n",
       "      display: none;\n",
       "      fill: #1967D2;\n",
       "      height: 32px;\n",
       "      padding: 0 0 0 0;\n",
       "      width: 32px;\n",
       "    }\n",
       "\n",
       "    .colab-df-convert:hover {\n",
       "      background-color: #E2EBFA;\n",
       "      box-shadow: 0px 1px 2px rgba(60, 64, 67, 0.3), 0px 1px 3px 1px rgba(60, 64, 67, 0.15);\n",
       "      fill: #174EA6;\n",
       "    }\n",
       "\n",
       "    [theme=dark] .colab-df-convert {\n",
       "      background-color: #3B4455;\n",
       "      fill: #D2E3FC;\n",
       "    }\n",
       "\n",
       "    [theme=dark] .colab-df-convert:hover {\n",
       "      background-color: #434B5C;\n",
       "      box-shadow: 0px 1px 3px 1px rgba(0, 0, 0, 0.15);\n",
       "      filter: drop-shadow(0px 1px 2px rgba(0, 0, 0, 0.3));\n",
       "      fill: #FFFFFF;\n",
       "    }\n",
       "  </style>\n",
       "\n",
       "      <script>\n",
       "        const buttonEl =\n",
       "          document.querySelector('#df-9ef18c77-5361-47e1-b6eb-8c509398474d button.colab-df-convert');\n",
       "        buttonEl.style.display =\n",
       "          google.colab.kernel.accessAllowed ? 'block' : 'none';\n",
       "\n",
       "        async function convertToInteractive(key) {\n",
       "          const element = document.querySelector('#df-9ef18c77-5361-47e1-b6eb-8c509398474d');\n",
       "          const dataTable =\n",
       "            await google.colab.kernel.invokeFunction('convertToInteractive',\n",
       "                                                     [key], {});\n",
       "          if (!dataTable) return;\n",
       "\n",
       "          const docLinkHtml = 'Like what you see? Visit the ' +\n",
       "            '<a target=\"_blank\" href=https://colab.research.google.com/notebooks/data_table.ipynb>data table notebook</a>'\n",
       "            + ' to learn more about interactive tables.';\n",
       "          element.innerHTML = '';\n",
       "          dataTable['output_type'] = 'display_data';\n",
       "          await google.colab.output.renderOutput(dataTable, element);\n",
       "          const docLink = document.createElement('div');\n",
       "          docLink.innerHTML = docLinkHtml;\n",
       "          element.appendChild(docLink);\n",
       "        }\n",
       "      </script>\n",
       "    </div>\n",
       "  </div>\n",
       "  "
      ],
      "text/plain": [
       "       DataSource Vendor number                Vendor name  \\\n",
       "73467       Ariba  20013851-A10  POWER CONTROL SYSTEMS INC   \n",
       "370969  DS_263065     VN_263065            ENEA S.A. - WLE   \n",
       "\n",
       "            Clean_Vendor_Name    crisp_vendor_name               New Supplier  \\\n",
       "73467   power control systems  powercontrolsystems  POWER CONTROL SYSTEMS INC   \n",
       "370969           enea s a wle            eneasawle              SKARB PANSTWA   \n",
       "\n",
       "                     New_Supplier Vendor_name_Initials  \n",
       "73467   power control systems inc                    p  \n",
       "370969              skarb panstwa                    e  "
      ]
     },
     "execution_count": 55,
     "metadata": {},
     "output_type": "execute_result"
    }
   ],
   "source": [
    "clean_df.sample(2)"
   ]
  },
  {
   "cell_type": "code",
   "execution_count": 56,
   "metadata": {
    "colab": {
     "base_uri": "https://localhost:8080/"
    },
    "id": "jdKOq6H6cFpv",
    "outputId": "6af02aa0-fd1e-4538-d13c-dc6d6b4464de"
   },
   "outputs": [
    {
     "name": "stdout",
     "output_type": "stream",
     "text": [
      "<class 'pandas.core.frame.DataFrame'>\n",
      "RangeIndex: 374647 entries, 0 to 374646\n",
      "Data columns (total 8 columns):\n",
      " #   Column                Non-Null Count   Dtype \n",
      "---  ------                --------------   ----- \n",
      " 0   DataSource            374647 non-null  object\n",
      " 1   Vendor number         374647 non-null  object\n",
      " 2   Vendor name           374647 non-null  object\n",
      " 3   Clean_Vendor_Name     374647 non-null  object\n",
      " 4   crisp_vendor_name     374647 non-null  object\n",
      " 5   New Supplier          374647 non-null  object\n",
      " 6   New_Supplier          374647 non-null  object\n",
      " 7   Vendor_name_Initials  374647 non-null  object\n",
      "dtypes: object(8)\n",
      "memory usage: 22.9+ MB\n"
     ]
    }
   ],
   "source": [
    "clean_df.info()"
   ]
  },
  {
   "cell_type": "code",
   "execution_count": 57,
   "metadata": {
    "id": "sGGRQUeqAfcj"
   },
   "outputs": [],
   "source": [
    "sh_clean_df = clean_df.shape[0]"
   ]
  },
  {
   "cell_type": "code",
   "execution_count": 58,
   "metadata": {
    "colab": {
     "base_uri": "https://localhost:8080/"
    },
    "id": "90O0OJ417dg7",
    "outputId": "8937a8cc-5934-4ff4-8258-8bfb29247175"
   },
   "outputs": [
    {
     "data": {
      "text/plain": [
       "85"
      ]
     },
     "execution_count": 58,
     "metadata": {},
     "output_type": "execute_result"
    }
   ],
   "source": [
    "no_of_null_records2 = sh_df - clean_df.shape[0]\n",
    "no_of_null_records2"
   ]
  },
  {
   "cell_type": "code",
   "execution_count": 59,
   "metadata": {
    "id": "ApCUg9AicFpv"
   },
   "outputs": [],
   "source": [
    "clean_df.replace(\"\", np.nan, inplace=True)\n",
    "clean_df.dropna(subset = [\"Clean_Vendor_Name\"],inplace=True)\n",
    "clean_df.dropna(subset = ['New_Supplier'],inplace=True)\n",
    "clean_ini_list = clean_df['Vendor_name_Initials'].apply(lambda x: re.sub(\"([^\\x00-\\x7F])+\",\" \",x)).unique()\n",
    "clean_ini_list = np.sort(clean_ini_list)\n",
    "clean_ini_list = list(filter(str.strip, clean_ini_list))"
   ]
  },
  {
   "cell_type": "code",
   "execution_count": 60,
   "metadata": {
    "colab": {
     "base_uri": "https://localhost:8080/"
    },
    "id": "gFBrbAFs1m4e",
    "outputId": "5e4f3a52-570f-49be-b975-04482938749c"
   },
   "outputs": [
    {
     "name": "stdout",
     "output_type": "stream",
     "text": [
      "<class 'pandas.core.frame.DataFrame'>\n",
      "Int64Index: 374639 entries, 0 to 374646\n",
      "Data columns (total 8 columns):\n",
      " #   Column                Non-Null Count   Dtype \n",
      "---  ------                --------------   ----- \n",
      " 0   DataSource            374639 non-null  object\n",
      " 1   Vendor number         374639 non-null  object\n",
      " 2   Vendor name           374639 non-null  object\n",
      " 3   Clean_Vendor_Name     374639 non-null  object\n",
      " 4   crisp_vendor_name     374639 non-null  object\n",
      " 5   New Supplier          374639 non-null  object\n",
      " 6   New_Supplier          374639 non-null  object\n",
      " 7   Vendor_name_Initials  374639 non-null  object\n",
      "dtypes: object(8)\n",
      "memory usage: 25.7+ MB\n"
     ]
    }
   ],
   "source": [
    "clean_df.info()"
   ]
  },
  {
   "cell_type": "code",
   "execution_count": 61,
   "metadata": {
    "colab": {
     "base_uri": "https://localhost:8080/"
    },
    "id": "xu3OSMgF_pJU",
    "outputId": "be030a68-8d69-46e5-d91f-95079dfb9130"
   },
   "outputs": [
    {
     "data": {
      "text/plain": [
       "8"
      ]
     },
     "execution_count": 61,
     "metadata": {},
     "output_type": "execute_result"
    }
   ],
   "source": [
    "no_of_null_records3 = sh_clean_df - clean_df.shape[0]\n",
    "no_of_null_records3"
   ]
  },
  {
   "cell_type": "code",
   "execution_count": 62,
   "metadata": {
    "id": "W1EQycoKcFpw"
   },
   "outputs": [],
   "source": [
    "# Filtering the Clean data from noisy data with Non-English Vendor Names\n",
    "clean_df['noise_flag'] = clean_df['Vendor name'].apply(lambda x: True if (re.findall(\"([^\\x00-\\x7F])+\",x)) else False)\n",
    "clean_main_df = clean_df[clean_df['noise_flag'] == False]\n",
    "clean_main_df.reset_index(inplace=True,drop=True)"
   ]
  },
  {
   "cell_type": "code",
   "execution_count": 63,
   "metadata": {
    "colab": {
     "base_uri": "https://localhost:8080/"
    },
    "id": "PPcZ0hIKOtKf",
    "outputId": "43ca76b0-aa80-407d-f6c1-8f0beebc37aa"
   },
   "outputs": [
    {
     "name": "stdout",
     "output_type": "stream",
     "text": [
      "<class 'pandas.core.frame.DataFrame'>\n",
      "RangeIndex: 374639 entries, 0 to 374638\n",
      "Data columns (total 9 columns):\n",
      " #   Column                Non-Null Count   Dtype \n",
      "---  ------                --------------   ----- \n",
      " 0   DataSource            374639 non-null  object\n",
      " 1   Vendor number         374639 non-null  object\n",
      " 2   Vendor name           374639 non-null  object\n",
      " 3   Clean_Vendor_Name     374639 non-null  object\n",
      " 4   crisp_vendor_name     374639 non-null  object\n",
      " 5   New Supplier          374639 non-null  object\n",
      " 6   New_Supplier          374639 non-null  object\n",
      " 7   Vendor_name_Initials  374639 non-null  object\n",
      " 8   noise_flag            374639 non-null  bool  \n",
      "dtypes: bool(1), object(8)\n",
      "memory usage: 23.2+ MB\n"
     ]
    }
   ],
   "source": [
    "clean_main_df.info()"
   ]
  },
  {
   "cell_type": "code",
   "execution_count": 64,
   "metadata": {
    "id": "mrAO7G2iDh9B"
   },
   "outputs": [],
   "source": [
    "sh_clean_main_df = clean_main_df.shape[0]\n",
    "#sh_clean_main_df"
   ]
  },
  {
   "cell_type": "code",
   "execution_count": 65,
   "metadata": {
    "colab": {
     "base_uri": "https://localhost:8080/"
    },
    "id": "8q8leZzJEyWr",
    "outputId": "6771488d-c27c-448f-bade-ff7d15442277"
   },
   "outputs": [
    {
     "data": {
      "text/plain": [
       "0"
      ]
     },
     "execution_count": 65,
     "metadata": {},
     "output_type": "execute_result"
    }
   ],
   "source": [
    "no_of_noise_flags = clean_df.shape[0] - clean_main_df.shape[0]\n",
    "no_of_noise_flags"
   ]
  },
  {
   "cell_type": "code",
   "execution_count": 69,
   "metadata": {
    "colab": {
     "base_uri": "https://localhost:8080/",
     "height": 174
    },
    "id": "wS4Q6IHRC72d",
    "outputId": "26376f44-0963-4cd6-f1b2-8f544b2b4434"
   },
   "outputs": [
    {
     "data": {
      "text/html": [
       "\n",
       "  <div id=\"df-b6541bdf-da91-4643-b81d-b8f831789b94\">\n",
       "    <div class=\"colab-df-container\">\n",
       "      <div>\n",
       "<style scoped>\n",
       "    .dataframe tbody tr th:only-of-type {\n",
       "        vertical-align: middle;\n",
       "    }\n",
       "\n",
       "    .dataframe tbody tr th {\n",
       "        vertical-align: top;\n",
       "    }\n",
       "\n",
       "    .dataframe thead th {\n",
       "        text-align: right;\n",
       "    }\n",
       "</style>\n",
       "<table border=\"1\" class=\"dataframe\">\n",
       "  <thead>\n",
       "    <tr style=\"text-align: right;\">\n",
       "      <th></th>\n",
       "      <th>DataSource</th>\n",
       "      <th>Vendor number</th>\n",
       "      <th>Vendor name</th>\n",
       "      <th>Clean_Vendor_Name</th>\n",
       "      <th>crisp_vendor_name</th>\n",
       "      <th>New Supplier</th>\n",
       "      <th>New_Supplier</th>\n",
       "      <th>Vendor_name_Initials</th>\n",
       "      <th>noise_flag</th>\n",
       "    </tr>\n",
       "  </thead>\n",
       "  <tbody>\n",
       "    <tr>\n",
       "      <th>2994</th>\n",
       "      <td>SAP P10</td>\n",
       "      <td>1105398</td>\n",
       "      <td>AG PRO</td>\n",
       "      <td>ag pro</td>\n",
       "      <td>agpro</td>\n",
       "      <td>AG PRO</td>\n",
       "      <td>ag pro</td>\n",
       "      <td>a</td>\n",
       "      <td>False</td>\n",
       "    </tr>\n",
       "    <tr>\n",
       "      <th>161548</th>\n",
       "      <td>DS_53738</td>\n",
       "      <td>VN_53738</td>\n",
       "      <td>AG PRO</td>\n",
       "      <td>ag pro</td>\n",
       "      <td>agpro</td>\n",
       "      <td>AG PRO</td>\n",
       "      <td>ag pro</td>\n",
       "      <td>a</td>\n",
       "      <td>False</td>\n",
       "    </tr>\n",
       "    <tr>\n",
       "      <th>243798</th>\n",
       "      <td>DS_136010</td>\n",
       "      <td>VN_136010</td>\n",
       "      <td>AG PRO</td>\n",
       "      <td>ag pro</td>\n",
       "      <td>agpro</td>\n",
       "      <td>AG PRO</td>\n",
       "      <td>ag pro</td>\n",
       "      <td>a</td>\n",
       "      <td>False</td>\n",
       "    </tr>\n",
       "    <tr>\n",
       "      <th>326048</th>\n",
       "      <td>DS_218282</td>\n",
       "      <td>VN_218282</td>\n",
       "      <td>AG PRO</td>\n",
       "      <td>ag pro</td>\n",
       "      <td>agpro</td>\n",
       "      <td>AG PRO</td>\n",
       "      <td>ag pro</td>\n",
       "      <td>a</td>\n",
       "      <td>False</td>\n",
       "    </tr>\n",
       "  </tbody>\n",
       "</table>\n",
       "</div>\n",
       "      <button class=\"colab-df-convert\" onclick=\"convertToInteractive('df-b6541bdf-da91-4643-b81d-b8f831789b94')\"\n",
       "              title=\"Convert this dataframe to an interactive table.\"\n",
       "              style=\"display:none;\">\n",
       "        \n",
       "  <svg xmlns=\"http://www.w3.org/2000/svg\" height=\"24px\"viewBox=\"0 0 24 24\"\n",
       "       width=\"24px\">\n",
       "    <path d=\"M0 0h24v24H0V0z\" fill=\"none\"/>\n",
       "    <path d=\"M18.56 5.44l.94 2.06.94-2.06 2.06-.94-2.06-.94-.94-2.06-.94 2.06-2.06.94zm-11 1L8.5 8.5l.94-2.06 2.06-.94-2.06-.94L8.5 2.5l-.94 2.06-2.06.94zm10 10l.94 2.06.94-2.06 2.06-.94-2.06-.94-.94-2.06-.94 2.06-2.06.94z\"/><path d=\"M17.41 7.96l-1.37-1.37c-.4-.4-.92-.59-1.43-.59-.52 0-1.04.2-1.43.59L10.3 9.45l-7.72 7.72c-.78.78-.78 2.05 0 2.83L4 21.41c.39.39.9.59 1.41.59.51 0 1.02-.2 1.41-.59l7.78-7.78 2.81-2.81c.8-.78.8-2.07 0-2.86zM5.41 20L4 18.59l7.72-7.72 1.47 1.35L5.41 20z\"/>\n",
       "  </svg>\n",
       "      </button>\n",
       "      \n",
       "  <style>\n",
       "    .colab-df-container {\n",
       "      display:flex;\n",
       "      flex-wrap:wrap;\n",
       "      gap: 12px;\n",
       "    }\n",
       "\n",
       "    .colab-df-convert {\n",
       "      background-color: #E8F0FE;\n",
       "      border: none;\n",
       "      border-radius: 50%;\n",
       "      cursor: pointer;\n",
       "      display: none;\n",
       "      fill: #1967D2;\n",
       "      height: 32px;\n",
       "      padding: 0 0 0 0;\n",
       "      width: 32px;\n",
       "    }\n",
       "\n",
       "    .colab-df-convert:hover {\n",
       "      background-color: #E2EBFA;\n",
       "      box-shadow: 0px 1px 2px rgba(60, 64, 67, 0.3), 0px 1px 3px 1px rgba(60, 64, 67, 0.15);\n",
       "      fill: #174EA6;\n",
       "    }\n",
       "\n",
       "    [theme=dark] .colab-df-convert {\n",
       "      background-color: #3B4455;\n",
       "      fill: #D2E3FC;\n",
       "    }\n",
       "\n",
       "    [theme=dark] .colab-df-convert:hover {\n",
       "      background-color: #434B5C;\n",
       "      box-shadow: 0px 1px 3px 1px rgba(0, 0, 0, 0.15);\n",
       "      filter: drop-shadow(0px 1px 2px rgba(0, 0, 0, 0.3));\n",
       "      fill: #FFFFFF;\n",
       "    }\n",
       "  </style>\n",
       "\n",
       "      <script>\n",
       "        const buttonEl =\n",
       "          document.querySelector('#df-b6541bdf-da91-4643-b81d-b8f831789b94 button.colab-df-convert');\n",
       "        buttonEl.style.display =\n",
       "          google.colab.kernel.accessAllowed ? 'block' : 'none';\n",
       "\n",
       "        async function convertToInteractive(key) {\n",
       "          const element = document.querySelector('#df-b6541bdf-da91-4643-b81d-b8f831789b94');\n",
       "          const dataTable =\n",
       "            await google.colab.kernel.invokeFunction('convertToInteractive',\n",
       "                                                     [key], {});\n",
       "          if (!dataTable) return;\n",
       "\n",
       "          const docLinkHtml = 'Like what you see? Visit the ' +\n",
       "            '<a target=\"_blank\" href=https://colab.research.google.com/notebooks/data_table.ipynb>data table notebook</a>'\n",
       "            + ' to learn more about interactive tables.';\n",
       "          element.innerHTML = '';\n",
       "          dataTable['output_type'] = 'display_data';\n",
       "          await google.colab.output.renderOutput(dataTable, element);\n",
       "          const docLink = document.createElement('div');\n",
       "          docLink.innerHTML = docLinkHtml;\n",
       "          element.appendChild(docLink);\n",
       "        }\n",
       "      </script>\n",
       "    </div>\n",
       "  </div>\n",
       "  "
      ],
      "text/plain": [
       "       DataSource Vendor number Vendor name Clean_Vendor_Name  \\\n",
       "2994      SAP P10       1105398      AG PRO            ag pro   \n",
       "161548   DS_53738      VN_53738      AG PRO            ag pro   \n",
       "243798  DS_136010     VN_136010      AG PRO            ag pro   \n",
       "326048  DS_218282     VN_218282      AG PRO            ag pro   \n",
       "\n",
       "       crisp_vendor_name New Supplier New_Supplier Vendor_name_Initials  \\\n",
       "2994               agpro       AG PRO       ag pro                    a   \n",
       "161548             agpro       AG PRO       ag pro                    a   \n",
       "243798             agpro       AG PRO       ag pro                    a   \n",
       "326048             agpro       AG PRO       ag pro                    a   \n",
       "\n",
       "        noise_flag  \n",
       "2994         False  \n",
       "161548       False  \n",
       "243798       False  \n",
       "326048       False  "
      ]
     },
     "execution_count": 69,
     "metadata": {},
     "output_type": "execute_result"
    }
   ],
   "source": [
    "clean_main_df[clean_main_df['Vendor name'] == ('AG PRO')]\n",
    "# clean_main_df[clean_main_df['Vendor number'] == '40002318']"
   ]
  },
  {
   "cell_type": "code",
   "execution_count": 70,
   "metadata": {
    "colab": {
     "base_uri": "https://localhost:8080/",
     "height": 363
    },
    "id": "pdnNaH8McXGT",
    "outputId": "9878d13a-bc40-4606-e355-6feaf7de99b4"
   },
   "outputs": [
    {
     "data": {
      "text/html": [
       "\n",
       "  <div id=\"df-33d798fd-e331-4412-ae8e-9cb0ad2c7421\">\n",
       "    <div class=\"colab-df-container\">\n",
       "      <div>\n",
       "<style scoped>\n",
       "    .dataframe tbody tr th:only-of-type {\n",
       "        vertical-align: middle;\n",
       "    }\n",
       "\n",
       "    .dataframe tbody tr th {\n",
       "        vertical-align: top;\n",
       "    }\n",
       "\n",
       "    .dataframe thead th {\n",
       "        text-align: right;\n",
       "    }\n",
       "</style>\n",
       "<table border=\"1\" class=\"dataframe\">\n",
       "  <thead>\n",
       "    <tr style=\"text-align: right;\">\n",
       "      <th></th>\n",
       "      <th>DataSource</th>\n",
       "      <th>Vendor number</th>\n",
       "      <th>Vendor name</th>\n",
       "      <th>Clean_Vendor_Name</th>\n",
       "      <th>crisp_vendor_name</th>\n",
       "      <th>New Supplier</th>\n",
       "      <th>New_Supplier</th>\n",
       "      <th>Vendor_name_Initials</th>\n",
       "      <th>noise_flag</th>\n",
       "    </tr>\n",
       "  </thead>\n",
       "  <tbody>\n",
       "    <tr>\n",
       "      <th>374629</th>\n",
       "      <td>DS_266687</td>\n",
       "      <td>VN_266687</td>\n",
       "      <td>CIM TECH CORP</td>\n",
       "      <td>cim tech</td>\n",
       "      <td>cimtech</td>\n",
       "      <td>CIM TECH</td>\n",
       "      <td>cim tech</td>\n",
       "      <td>c</td>\n",
       "      <td>False</td>\n",
       "    </tr>\n",
       "    <tr>\n",
       "      <th>374630</th>\n",
       "      <td>DS_266688</td>\n",
       "      <td>VN_266688</td>\n",
       "      <td>VIEW LINE BVBA</td>\n",
       "      <td>view line bvba</td>\n",
       "      <td>viewlinebvba</td>\n",
       "      <td>VIEW LINE</td>\n",
       "      <td>view line</td>\n",
       "      <td>v</td>\n",
       "      <td>False</td>\n",
       "    </tr>\n",
       "    <tr>\n",
       "      <th>374631</th>\n",
       "      <td>DS_266689</td>\n",
       "      <td>VN_266689</td>\n",
       "      <td>Workx Advocaten</td>\n",
       "      <td>workx advocaten</td>\n",
       "      <td>workxadvocaten</td>\n",
       "      <td>WORKX ADVOCATEN</td>\n",
       "      <td>workx advocaten</td>\n",
       "      <td>w</td>\n",
       "      <td>False</td>\n",
       "    </tr>\n",
       "    <tr>\n",
       "      <th>374632</th>\n",
       "      <td>DS_266690</td>\n",
       "      <td>VN_266690</td>\n",
       "      <td>TOOL &amp; GAGE ASSOCIATES INC</td>\n",
       "      <td>tool gage associates</td>\n",
       "      <td>toolgageassociates</td>\n",
       "      <td>TOOL &amp; GAGE ASSOCIATES</td>\n",
       "      <td>tool &amp; gage associates</td>\n",
       "      <td>t</td>\n",
       "      <td>False</td>\n",
       "    </tr>\n",
       "    <tr>\n",
       "      <th>374633</th>\n",
       "      <td>DS_266691</td>\n",
       "      <td>VN_266691</td>\n",
       "      <td>SmartSD BV</td>\n",
       "      <td>smartsd bv</td>\n",
       "      <td>smartsdbv</td>\n",
       "      <td>SMARTSD</td>\n",
       "      <td>smartsd</td>\n",
       "      <td>s</td>\n",
       "      <td>False</td>\n",
       "    </tr>\n",
       "    <tr>\n",
       "      <th>374634</th>\n",
       "      <td>DS_266692</td>\n",
       "      <td>VN_266692</td>\n",
       "      <td>ROCKFORM CARBIDE MANUFACTURING, INC.</td>\n",
       "      <td>rockform carbide manufacturing</td>\n",
       "      <td>rockformcarbidemanufacturing</td>\n",
       "      <td>ROCKFORM CARBIDE</td>\n",
       "      <td>rockform carbide</td>\n",
       "      <td>r</td>\n",
       "      <td>False</td>\n",
       "    </tr>\n",
       "    <tr>\n",
       "      <th>374635</th>\n",
       "      <td>DS_266693</td>\n",
       "      <td>VN_266693</td>\n",
       "      <td>GORE FREIGHT COMPANY LLC</td>\n",
       "      <td>gore freight</td>\n",
       "      <td>gorefreight</td>\n",
       "      <td>GORE FREIGHT COMPANY</td>\n",
       "      <td>gore freight company</td>\n",
       "      <td>g</td>\n",
       "      <td>False</td>\n",
       "    </tr>\n",
       "    <tr>\n",
       "      <th>374636</th>\n",
       "      <td>DS_266694</td>\n",
       "      <td>VN_266694</td>\n",
       "      <td>MOUNTZ INC</td>\n",
       "      <td>mountz</td>\n",
       "      <td>mountz</td>\n",
       "      <td>MOUNTZ</td>\n",
       "      <td>mountz</td>\n",
       "      <td>m</td>\n",
       "      <td>False</td>\n",
       "    </tr>\n",
       "    <tr>\n",
       "      <th>374637</th>\n",
       "      <td>DS_266695</td>\n",
       "      <td>VN_266695</td>\n",
       "      <td>L&amp;T TECHNOLOGY SERVICES LIMITED</td>\n",
       "      <td>lt technology services limited</td>\n",
       "      <td>lttechnologyserviceslimited</td>\n",
       "      <td>L&amp;T TECHNOLOGY SERVICES</td>\n",
       "      <td>l&amp;t technology services</td>\n",
       "      <td>l</td>\n",
       "      <td>False</td>\n",
       "    </tr>\n",
       "    <tr>\n",
       "      <th>374638</th>\n",
       "      <td>DS_266696</td>\n",
       "      <td>VN_266696</td>\n",
       "      <td>HERR INDUSTRIAL INC</td>\n",
       "      <td>herr industrial</td>\n",
       "      <td>herrindustrial</td>\n",
       "      <td>HERR INDUSTRIAL</td>\n",
       "      <td>herr industrial</td>\n",
       "      <td>h</td>\n",
       "      <td>False</td>\n",
       "    </tr>\n",
       "  </tbody>\n",
       "</table>\n",
       "</div>\n",
       "      <button class=\"colab-df-convert\" onclick=\"convertToInteractive('df-33d798fd-e331-4412-ae8e-9cb0ad2c7421')\"\n",
       "              title=\"Convert this dataframe to an interactive table.\"\n",
       "              style=\"display:none;\">\n",
       "        \n",
       "  <svg xmlns=\"http://www.w3.org/2000/svg\" height=\"24px\"viewBox=\"0 0 24 24\"\n",
       "       width=\"24px\">\n",
       "    <path d=\"M0 0h24v24H0V0z\" fill=\"none\"/>\n",
       "    <path d=\"M18.56 5.44l.94 2.06.94-2.06 2.06-.94-2.06-.94-.94-2.06-.94 2.06-2.06.94zm-11 1L8.5 8.5l.94-2.06 2.06-.94-2.06-.94L8.5 2.5l-.94 2.06-2.06.94zm10 10l.94 2.06.94-2.06 2.06-.94-2.06-.94-.94-2.06-.94 2.06-2.06.94z\"/><path d=\"M17.41 7.96l-1.37-1.37c-.4-.4-.92-.59-1.43-.59-.52 0-1.04.2-1.43.59L10.3 9.45l-7.72 7.72c-.78.78-.78 2.05 0 2.83L4 21.41c.39.39.9.59 1.41.59.51 0 1.02-.2 1.41-.59l7.78-7.78 2.81-2.81c.8-.78.8-2.07 0-2.86zM5.41 20L4 18.59l7.72-7.72 1.47 1.35L5.41 20z\"/>\n",
       "  </svg>\n",
       "      </button>\n",
       "      \n",
       "  <style>\n",
       "    .colab-df-container {\n",
       "      display:flex;\n",
       "      flex-wrap:wrap;\n",
       "      gap: 12px;\n",
       "    }\n",
       "\n",
       "    .colab-df-convert {\n",
       "      background-color: #E8F0FE;\n",
       "      border: none;\n",
       "      border-radius: 50%;\n",
       "      cursor: pointer;\n",
       "      display: none;\n",
       "      fill: #1967D2;\n",
       "      height: 32px;\n",
       "      padding: 0 0 0 0;\n",
       "      width: 32px;\n",
       "    }\n",
       "\n",
       "    .colab-df-convert:hover {\n",
       "      background-color: #E2EBFA;\n",
       "      box-shadow: 0px 1px 2px rgba(60, 64, 67, 0.3), 0px 1px 3px 1px rgba(60, 64, 67, 0.15);\n",
       "      fill: #174EA6;\n",
       "    }\n",
       "\n",
       "    [theme=dark] .colab-df-convert {\n",
       "      background-color: #3B4455;\n",
       "      fill: #D2E3FC;\n",
       "    }\n",
       "\n",
       "    [theme=dark] .colab-df-convert:hover {\n",
       "      background-color: #434B5C;\n",
       "      box-shadow: 0px 1px 3px 1px rgba(0, 0, 0, 0.15);\n",
       "      filter: drop-shadow(0px 1px 2px rgba(0, 0, 0, 0.3));\n",
       "      fill: #FFFFFF;\n",
       "    }\n",
       "  </style>\n",
       "\n",
       "      <script>\n",
       "        const buttonEl =\n",
       "          document.querySelector('#df-33d798fd-e331-4412-ae8e-9cb0ad2c7421 button.colab-df-convert');\n",
       "        buttonEl.style.display =\n",
       "          google.colab.kernel.accessAllowed ? 'block' : 'none';\n",
       "\n",
       "        async function convertToInteractive(key) {\n",
       "          const element = document.querySelector('#df-33d798fd-e331-4412-ae8e-9cb0ad2c7421');\n",
       "          const dataTable =\n",
       "            await google.colab.kernel.invokeFunction('convertToInteractive',\n",
       "                                                     [key], {});\n",
       "          if (!dataTable) return;\n",
       "\n",
       "          const docLinkHtml = 'Like what you see? Visit the ' +\n",
       "            '<a target=\"_blank\" href=https://colab.research.google.com/notebooks/data_table.ipynb>data table notebook</a>'\n",
       "            + ' to learn more about interactive tables.';\n",
       "          element.innerHTML = '';\n",
       "          dataTable['output_type'] = 'display_data';\n",
       "          await google.colab.output.renderOutput(dataTable, element);\n",
       "          const docLink = document.createElement('div');\n",
       "          docLink.innerHTML = docLinkHtml;\n",
       "          element.appendChild(docLink);\n",
       "        }\n",
       "      </script>\n",
       "    </div>\n",
       "  </div>\n",
       "  "
      ],
      "text/plain": [
       "       DataSource Vendor number                           Vendor name  \\\n",
       "374629  DS_266687     VN_266687                         CIM TECH CORP   \n",
       "374630  DS_266688     VN_266688                        VIEW LINE BVBA   \n",
       "374631  DS_266689     VN_266689                       Workx Advocaten   \n",
       "374632  DS_266690     VN_266690            TOOL & GAGE ASSOCIATES INC   \n",
       "374633  DS_266691     VN_266691                            SmartSD BV   \n",
       "374634  DS_266692     VN_266692  ROCKFORM CARBIDE MANUFACTURING, INC.   \n",
       "374635  DS_266693     VN_266693              GORE FREIGHT COMPANY LLC   \n",
       "374636  DS_266694     VN_266694                            MOUNTZ INC   \n",
       "374637  DS_266695     VN_266695       L&T TECHNOLOGY SERVICES LIMITED   \n",
       "374638  DS_266696     VN_266696                   HERR INDUSTRIAL INC   \n",
       "\n",
       "                     Clean_Vendor_Name             crisp_vendor_name  \\\n",
       "374629                        cim tech                       cimtech   \n",
       "374630                  view line bvba                  viewlinebvba   \n",
       "374631                 workx advocaten                workxadvocaten   \n",
       "374632            tool gage associates            toolgageassociates   \n",
       "374633                      smartsd bv                     smartsdbv   \n",
       "374634  rockform carbide manufacturing  rockformcarbidemanufacturing   \n",
       "374635                    gore freight                   gorefreight   \n",
       "374636                          mountz                        mountz   \n",
       "374637  lt technology services limited   lttechnologyserviceslimited   \n",
       "374638                 herr industrial                herrindustrial   \n",
       "\n",
       "                   New Supplier             New_Supplier Vendor_name_Initials  \\\n",
       "374629                 CIM TECH                 cim tech                    c   \n",
       "374630                VIEW LINE                view line                    v   \n",
       "374631          WORKX ADVOCATEN          workx advocaten                    w   \n",
       "374632   TOOL & GAGE ASSOCIATES   tool & gage associates                    t   \n",
       "374633                  SMARTSD                  smartsd                    s   \n",
       "374634         ROCKFORM CARBIDE         rockform carbide                    r   \n",
       "374635     GORE FREIGHT COMPANY     gore freight company                    g   \n",
       "374636                   MOUNTZ                   mountz                    m   \n",
       "374637  L&T TECHNOLOGY SERVICES  l&t technology services                    l   \n",
       "374638          HERR INDUSTRIAL          herr industrial                    h   \n",
       "\n",
       "        noise_flag  \n",
       "374629       False  \n",
       "374630       False  \n",
       "374631       False  \n",
       "374632       False  \n",
       "374633       False  \n",
       "374634       False  \n",
       "374635       False  \n",
       "374636       False  \n",
       "374637       False  \n",
       "374638       False  "
      ]
     },
     "execution_count": 70,
     "metadata": {},
     "output_type": "execute_result"
    }
   ],
   "source": [
    "clean_main_df.tail(10)"
   ]
  },
  {
   "cell_type": "code",
   "execution_count": 71,
   "metadata": {
    "id": "vzD9LFsjcQUR"
   },
   "outputs": [],
   "source": [
    "tot_no_of_clean_records = clean_main_df.shape[0]\n",
    "#tot_no_of_clean_records"
   ]
  },
  {
   "cell_type": "code",
   "execution_count": 72,
   "metadata": {
    "id": "PUje8l6FRgJz"
   },
   "outputs": [],
   "source": [
    "rest_main_df = clean_df[clean_df['noise_flag'] == True]\n",
    "rest_main_df.reset_index(inplace=True,drop=True)"
   ]
  },
  {
   "cell_type": "code",
   "execution_count": 73,
   "metadata": {
    "colab": {
     "base_uri": "https://localhost:8080/"
    },
    "id": "cDzUR2IDCF-x",
    "outputId": "d19b901b-402a-45c8-c754-147d0458ee01"
   },
   "outputs": [
    {
     "data": {
      "text/plain": [
       "0"
      ]
     },
     "execution_count": 73,
     "metadata": {},
     "output_type": "execute_result"
    }
   ],
   "source": [
    "rest_main_df.shape[0] # Duplicates may be present. So check the count of 'no_of_unique_dirty_records'"
   ]
  },
  {
   "cell_type": "code",
   "execution_count": 74,
   "metadata": {
    "colab": {
     "base_uri": "https://localhost:8080/",
     "height": 50
    },
    "id": "NHb4ymN-OboZ",
    "outputId": "369fdc43-8dc3-425c-e61d-c942a130fd26"
   },
   "outputs": [
    {
     "data": {
      "text/html": [
       "\n",
       "  <div id=\"df-23006cf9-feaa-4293-a6bb-51b07bb49bcb\">\n",
       "    <div class=\"colab-df-container\">\n",
       "      <div>\n",
       "<style scoped>\n",
       "    .dataframe tbody tr th:only-of-type {\n",
       "        vertical-align: middle;\n",
       "    }\n",
       "\n",
       "    .dataframe tbody tr th {\n",
       "        vertical-align: top;\n",
       "    }\n",
       "\n",
       "    .dataframe thead th {\n",
       "        text-align: right;\n",
       "    }\n",
       "</style>\n",
       "<table border=\"1\" class=\"dataframe\">\n",
       "  <thead>\n",
       "    <tr style=\"text-align: right;\">\n",
       "      <th></th>\n",
       "      <th>DataSource</th>\n",
       "      <th>Vendor number</th>\n",
       "      <th>Vendor name</th>\n",
       "      <th>Clean_Vendor_Name</th>\n",
       "      <th>crisp_vendor_name</th>\n",
       "      <th>New Supplier</th>\n",
       "      <th>New_Supplier</th>\n",
       "      <th>Vendor_name_Initials</th>\n",
       "      <th>noise_flag</th>\n",
       "    </tr>\n",
       "  </thead>\n",
       "  <tbody>\n",
       "  </tbody>\n",
       "</table>\n",
       "</div>\n",
       "      <button class=\"colab-df-convert\" onclick=\"convertToInteractive('df-23006cf9-feaa-4293-a6bb-51b07bb49bcb')\"\n",
       "              title=\"Convert this dataframe to an interactive table.\"\n",
       "              style=\"display:none;\">\n",
       "        \n",
       "  <svg xmlns=\"http://www.w3.org/2000/svg\" height=\"24px\"viewBox=\"0 0 24 24\"\n",
       "       width=\"24px\">\n",
       "    <path d=\"M0 0h24v24H0V0z\" fill=\"none\"/>\n",
       "    <path d=\"M18.56 5.44l.94 2.06.94-2.06 2.06-.94-2.06-.94-.94-2.06-.94 2.06-2.06.94zm-11 1L8.5 8.5l.94-2.06 2.06-.94-2.06-.94L8.5 2.5l-.94 2.06-2.06.94zm10 10l.94 2.06.94-2.06 2.06-.94-2.06-.94-.94-2.06-.94 2.06-2.06.94z\"/><path d=\"M17.41 7.96l-1.37-1.37c-.4-.4-.92-.59-1.43-.59-.52 0-1.04.2-1.43.59L10.3 9.45l-7.72 7.72c-.78.78-.78 2.05 0 2.83L4 21.41c.39.39.9.59 1.41.59.51 0 1.02-.2 1.41-.59l7.78-7.78 2.81-2.81c.8-.78.8-2.07 0-2.86zM5.41 20L4 18.59l7.72-7.72 1.47 1.35L5.41 20z\"/>\n",
       "  </svg>\n",
       "      </button>\n",
       "      \n",
       "  <style>\n",
       "    .colab-df-container {\n",
       "      display:flex;\n",
       "      flex-wrap:wrap;\n",
       "      gap: 12px;\n",
       "    }\n",
       "\n",
       "    .colab-df-convert {\n",
       "      background-color: #E8F0FE;\n",
       "      border: none;\n",
       "      border-radius: 50%;\n",
       "      cursor: pointer;\n",
       "      display: none;\n",
       "      fill: #1967D2;\n",
       "      height: 32px;\n",
       "      padding: 0 0 0 0;\n",
       "      width: 32px;\n",
       "    }\n",
       "\n",
       "    .colab-df-convert:hover {\n",
       "      background-color: #E2EBFA;\n",
       "      box-shadow: 0px 1px 2px rgba(60, 64, 67, 0.3), 0px 1px 3px 1px rgba(60, 64, 67, 0.15);\n",
       "      fill: #174EA6;\n",
       "    }\n",
       "\n",
       "    [theme=dark] .colab-df-convert {\n",
       "      background-color: #3B4455;\n",
       "      fill: #D2E3FC;\n",
       "    }\n",
       "\n",
       "    [theme=dark] .colab-df-convert:hover {\n",
       "      background-color: #434B5C;\n",
       "      box-shadow: 0px 1px 3px 1px rgba(0, 0, 0, 0.15);\n",
       "      filter: drop-shadow(0px 1px 2px rgba(0, 0, 0, 0.3));\n",
       "      fill: #FFFFFF;\n",
       "    }\n",
       "  </style>\n",
       "\n",
       "      <script>\n",
       "        const buttonEl =\n",
       "          document.querySelector('#df-23006cf9-feaa-4293-a6bb-51b07bb49bcb button.colab-df-convert');\n",
       "        buttonEl.style.display =\n",
       "          google.colab.kernel.accessAllowed ? 'block' : 'none';\n",
       "\n",
       "        async function convertToInteractive(key) {\n",
       "          const element = document.querySelector('#df-23006cf9-feaa-4293-a6bb-51b07bb49bcb');\n",
       "          const dataTable =\n",
       "            await google.colab.kernel.invokeFunction('convertToInteractive',\n",
       "                                                     [key], {});\n",
       "          if (!dataTable) return;\n",
       "\n",
       "          const docLinkHtml = 'Like what you see? Visit the ' +\n",
       "            '<a target=\"_blank\" href=https://colab.research.google.com/notebooks/data_table.ipynb>data table notebook</a>'\n",
       "            + ' to learn more about interactive tables.';\n",
       "          element.innerHTML = '';\n",
       "          dataTable['output_type'] = 'display_data';\n",
       "          await google.colab.output.renderOutput(dataTable, element);\n",
       "          const docLink = document.createElement('div');\n",
       "          docLink.innerHTML = docLinkHtml;\n",
       "          element.appendChild(docLink);\n",
       "        }\n",
       "      </script>\n",
       "    </div>\n",
       "  </div>\n",
       "  "
      ],
      "text/plain": [
       "Empty DataFrame\n",
       "Columns: [DataSource, Vendor number, Vendor name, Clean_Vendor_Name, crisp_vendor_name, New Supplier, New_Supplier, Vendor_name_Initials, noise_flag]\n",
       "Index: []"
      ]
     },
     "execution_count": 74,
     "metadata": {},
     "output_type": "execute_result"
    }
   ],
   "source": [
    "rest_main_df.head(2)"
   ]
  },
  {
   "cell_type": "code",
   "execution_count": 75,
   "metadata": {
    "colab": {
     "base_uri": "https://localhost:8080/",
     "height": 50
    },
    "id": "6UFuaE_5VBqr",
    "outputId": "e134697b-5ad6-42f2-abf3-c947781136fe"
   },
   "outputs": [
    {
     "data": {
      "text/html": [
       "\n",
       "  <div id=\"df-8de31a9e-48f3-46a5-83ba-34824079ca01\">\n",
       "    <div class=\"colab-df-container\">\n",
       "      <div>\n",
       "<style scoped>\n",
       "    .dataframe tbody tr th:only-of-type {\n",
       "        vertical-align: middle;\n",
       "    }\n",
       "\n",
       "    .dataframe tbody tr th {\n",
       "        vertical-align: top;\n",
       "    }\n",
       "\n",
       "    .dataframe thead th {\n",
       "        text-align: right;\n",
       "    }\n",
       "</style>\n",
       "<table border=\"1\" class=\"dataframe\">\n",
       "  <thead>\n",
       "    <tr style=\"text-align: right;\">\n",
       "      <th></th>\n",
       "      <th>DataSource</th>\n",
       "      <th>Vendor number</th>\n",
       "      <th>Vendor name</th>\n",
       "      <th>Clean_Vendor_Name</th>\n",
       "      <th>crisp_vendor_name</th>\n",
       "      <th>New Supplier</th>\n",
       "      <th>New_Supplier</th>\n",
       "      <th>Vendor_name_Initials</th>\n",
       "      <th>noise_flag</th>\n",
       "    </tr>\n",
       "  </thead>\n",
       "  <tbody>\n",
       "  </tbody>\n",
       "</table>\n",
       "</div>\n",
       "      <button class=\"colab-df-convert\" onclick=\"convertToInteractive('df-8de31a9e-48f3-46a5-83ba-34824079ca01')\"\n",
       "              title=\"Convert this dataframe to an interactive table.\"\n",
       "              style=\"display:none;\">\n",
       "        \n",
       "  <svg xmlns=\"http://www.w3.org/2000/svg\" height=\"24px\"viewBox=\"0 0 24 24\"\n",
       "       width=\"24px\">\n",
       "    <path d=\"M0 0h24v24H0V0z\" fill=\"none\"/>\n",
       "    <path d=\"M18.56 5.44l.94 2.06.94-2.06 2.06-.94-2.06-.94-.94-2.06-.94 2.06-2.06.94zm-11 1L8.5 8.5l.94-2.06 2.06-.94-2.06-.94L8.5 2.5l-.94 2.06-2.06.94zm10 10l.94 2.06.94-2.06 2.06-.94-2.06-.94-.94-2.06-.94 2.06-2.06.94z\"/><path d=\"M17.41 7.96l-1.37-1.37c-.4-.4-.92-.59-1.43-.59-.52 0-1.04.2-1.43.59L10.3 9.45l-7.72 7.72c-.78.78-.78 2.05 0 2.83L4 21.41c.39.39.9.59 1.41.59.51 0 1.02-.2 1.41-.59l7.78-7.78 2.81-2.81c.8-.78.8-2.07 0-2.86zM5.41 20L4 18.59l7.72-7.72 1.47 1.35L5.41 20z\"/>\n",
       "  </svg>\n",
       "      </button>\n",
       "      \n",
       "  <style>\n",
       "    .colab-df-container {\n",
       "      display:flex;\n",
       "      flex-wrap:wrap;\n",
       "      gap: 12px;\n",
       "    }\n",
       "\n",
       "    .colab-df-convert {\n",
       "      background-color: #E8F0FE;\n",
       "      border: none;\n",
       "      border-radius: 50%;\n",
       "      cursor: pointer;\n",
       "      display: none;\n",
       "      fill: #1967D2;\n",
       "      height: 32px;\n",
       "      padding: 0 0 0 0;\n",
       "      width: 32px;\n",
       "    }\n",
       "\n",
       "    .colab-df-convert:hover {\n",
       "      background-color: #E2EBFA;\n",
       "      box-shadow: 0px 1px 2px rgba(60, 64, 67, 0.3), 0px 1px 3px 1px rgba(60, 64, 67, 0.15);\n",
       "      fill: #174EA6;\n",
       "    }\n",
       "\n",
       "    [theme=dark] .colab-df-convert {\n",
       "      background-color: #3B4455;\n",
       "      fill: #D2E3FC;\n",
       "    }\n",
       "\n",
       "    [theme=dark] .colab-df-convert:hover {\n",
       "      background-color: #434B5C;\n",
       "      box-shadow: 0px 1px 3px 1px rgba(0, 0, 0, 0.15);\n",
       "      filter: drop-shadow(0px 1px 2px rgba(0, 0, 0, 0.3));\n",
       "      fill: #FFFFFF;\n",
       "    }\n",
       "  </style>\n",
       "\n",
       "      <script>\n",
       "        const buttonEl =\n",
       "          document.querySelector('#df-8de31a9e-48f3-46a5-83ba-34824079ca01 button.colab-df-convert');\n",
       "        buttonEl.style.display =\n",
       "          google.colab.kernel.accessAllowed ? 'block' : 'none';\n",
       "\n",
       "        async function convertToInteractive(key) {\n",
       "          const element = document.querySelector('#df-8de31a9e-48f3-46a5-83ba-34824079ca01');\n",
       "          const dataTable =\n",
       "            await google.colab.kernel.invokeFunction('convertToInteractive',\n",
       "                                                     [key], {});\n",
       "          if (!dataTable) return;\n",
       "\n",
       "          const docLinkHtml = 'Like what you see? Visit the ' +\n",
       "            '<a target=\"_blank\" href=https://colab.research.google.com/notebooks/data_table.ipynb>data table notebook</a>'\n",
       "            + ' to learn more about interactive tables.';\n",
       "          element.innerHTML = '';\n",
       "          dataTable['output_type'] = 'display_data';\n",
       "          await google.colab.output.renderOutput(dataTable, element);\n",
       "          const docLink = document.createElement('div');\n",
       "          docLink.innerHTML = docLinkHtml;\n",
       "          element.appendChild(docLink);\n",
       "        }\n",
       "      </script>\n",
       "    </div>\n",
       "  </div>\n",
       "  "
      ],
      "text/plain": [
       "Empty DataFrame\n",
       "Columns: [DataSource, Vendor number, Vendor name, Clean_Vendor_Name, crisp_vendor_name, New Supplier, New_Supplier, Vendor_name_Initials, noise_flag]\n",
       "Index: []"
      ]
     },
     "execution_count": 75,
     "metadata": {},
     "output_type": "execute_result"
    }
   ],
   "source": [
    "rest_main_df.drop_duplicates(subset=['Vendor name'], inplace=True)\n"
   ]
  },
  {
   "cell_type": "code",
   "execution_count": 76,
   "metadata": {
    "colab": {
     "base_uri": "https://localhost:8080/"
    },
    "id": "Lv5gx7nwFRoK",
    "outputId": "fe8b01ab-0a10-4020-d85b-bd038d790fba"
   },
   "outputs": [
    {
     "data": {
      "text/plain": [
       "0"
      ]
     },
     "execution_count": 76,
     "metadata": {},
     "output_type": "execute_result"
    }
   ],
   "source": [
    "no_of_unique_dirty_records = rest_main_df.shape[0] # Unique no of dirty records\n",
    "no_of_unique_dirty_records"
   ]
  },
  {
   "cell_type": "code",
   "execution_count": 77,
   "metadata": {
    "id": "TNms9LH5YSq6"
   },
   "outputs": [],
   "source": [
    "rest_main_df = rest_main_df[['DataSource', 'Vendor number','Vendor name', 'New Supplier']]"
   ]
  },
  {
   "cell_type": "code",
   "execution_count": 78,
   "metadata": {
    "colab": {
     "base_uri": "https://localhost:8080/"
    },
    "id": "atUR5atecFpw",
    "outputId": "3c67d687-41ad-46a4-97f7-d26e705bb49a"
   },
   "outputs": [
    {
     "name": "stdout",
     "output_type": "stream",
     "text": [
      "The percentage of irregular records is below the threshold value (5~8%):  0.000%\n"
     ]
    }
   ],
   "source": [
    "#This percentage is calculated to know how much irregular unique records are present. Need to check this evertime.\n",
    "# This percentage is good to be in range of 5~8%\n",
    "per_irr = format((rest_main_df.shape[0]/clean_df.shape[0])*100, \".3f\") # show this to Christian.\n",
    "if float(per_irr)<8:\n",
    "    print(f'The percentage of irregular records is below the threshold value (5~8%):  {per_irr}'+'%')\n",
    "else:\n",
    "    print(f'The percentage of irregular records is above the threshold value (5~8%):  {per_irr}'+'%')"
   ]
  },
  {
   "cell_type": "markdown",
   "metadata": {
    "id": "wxWSGDaycFpw"
   },
   "source": [
    "## Extracting Bad/uncleaned Master Data: "
   ]
  },
  {
   "cell_type": "code",
   "execution_count": 79,
   "metadata": {
    "colab": {
     "base_uri": "https://localhost:8080/"
    },
    "id": "6Y3gevdacFpw",
    "outputId": "42f697ae-4bf1-4e98-b28b-7c2b6f0651e8"
   },
   "outputs": [
    {
     "name": "stdout",
     "output_type": "stream",
     "text": [
      "No Uncleaned data\n"
     ]
    }
   ],
   "source": [
    "if rest_main_df.shape[0]>0:\n",
    "  rest_main_df.to_excel('Uncleaned_MainData.xlsx',index=False,encoding='utf8')\n",
    "  files.download('Uncleaned_MainData.xlsx')\n",
    "else:\n",
    "  print(\"No Uncleaned data\")"
   ]
  },
  {
   "cell_type": "code",
   "execution_count": 79,
   "metadata": {
    "id": "haeLst6ssd7o"
   },
   "outputs": [],
   "source": []
  },
  {
   "cell_type": "markdown",
   "metadata": {
    "id": "3vnH5I3AcFpx"
   },
   "source": [
    "## Bucketing the master data/ Group the initials"
   ]
  },
  {
   "cell_type": "code",
   "execution_count": 80,
   "metadata": {
    "id": "Km8FzdmwcFpx"
   },
   "outputs": [],
   "source": [
    "grp_clean_main_df_list = bucket_df(clean_main_df,clean_ini_list)"
   ]
  },
  {
   "cell_type": "code",
   "execution_count": 81,
   "metadata": {
    "id": "Th6UTFxI6Y4S"
   },
   "outputs": [],
   "source": [
    "#grp_clean_main_df_list[13]"
   ]
  },
  {
   "cell_type": "markdown",
   "metadata": {
    "id": "VPeWQ0gqcFpx"
   },
   "source": [
    "# Input file:"
   ]
  },
  {
   "cell_type": "code",
   "execution_count": 82,
   "metadata": {
    "colab": {
     "base_uri": "https://localhost:8080/",
     "height": 74,
     "resources": {
      "http://localhost:8080/nbextensions/google.colab/files.js": {
       "data": "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",
       "headers": [
        [
         "content-type",
         "application/javascript"
        ]
       ],
       "ok": true,
       "status": 200,
       "status_text": "OK"
      }
     }
    },
    "id": "2sITZDMTcFpy",
    "outputId": "2dea3d06-79e1-4e37-c98f-fdef9e0620f5"
   },
   "outputs": [
    {
     "data": {
      "text/html": [
       "\n",
       "     <input type=\"file\" id=\"files-eda31207-22f2-409a-9e35-17bc1b21d4ba\" name=\"files[]\" multiple disabled\n",
       "        style=\"border:none\" />\n",
       "     <output id=\"result-eda31207-22f2-409a-9e35-17bc1b21d4ba\">\n",
       "      Upload widget is only available when the cell has been executed in the\n",
       "      current browser session. Please rerun this cell to enable.\n",
       "      </output>\n",
       "      <script src=\"/nbextensions/google.colab/files.js\"></script> "
      ],
      "text/plain": [
       "<IPython.core.display.HTML object>"
      ]
     },
     "metadata": {},
     "output_type": "display_data"
    },
    {
     "name": "stdout",
     "output_type": "stream",
     "text": [
      "Saving major_df.xlsx to major_df.xlsx\n"
     ]
    }
   ],
   "source": [
    "input_uploads = files.upload()"
   ]
  },
  {
   "cell_type": "code",
   "execution_count": 84,
   "metadata": {
    "colab": {
     "base_uri": "https://localhost:8080/"
    },
    "id": "KKH6tvuAcFpy",
    "outputId": "3fca79e1-c541-41e7-eb2d-8570da925fd2"
   },
   "outputs": [
    {
     "name": "stdout",
     "output_type": "stream",
     "text": [
      "Info::\n",
      "File extension:: XLSX\n"
     ]
    }
   ],
   "source": [
    "# Input file extension validation\n",
    "\n",
    "name_ext_frame = []\n",
    "for fn in input_uploads.keys():\n",
    "  name, extension = os.path.splitext(fn)\n",
    "  ext = extension.replace('.','')\n",
    "  name_ext_frame.append([name,ext])\n",
    "\n",
    "\n",
    "for i in range(len(name_ext_frame)):\n",
    "    if str.lower(name_ext_frame[i][1]) != 'xlsx':\n",
    "      print('Alert Info:: file with other extension apart from \"XLSX\":', name_ext_frame[i])\n",
    "    else:\n",
    "      print('Info::'+'\\n'+\n",
    "            'File extension:: XLSX')\n",
    "\n",
    "\n"
   ]
  },
  {
   "cell_type": "code",
   "execution_count": 85,
   "metadata": {
    "colab": {
     "base_uri": "https://localhost:8080/"
    },
    "id": "ko7BOBHTcFpy",
    "outputId": "7581a4cc-d3af-4797-e3ce-01d7500abd63"
   },
   "outputs": [
    {
     "data": {
      "text/plain": [
       "1"
      ]
     },
     "execution_count": 85,
     "metadata": {},
     "output_type": "execute_result"
    }
   ],
   "source": [
    "tot_files = len(input_uploads.keys())\n",
    "tot_files"
   ]
  },
  {
   "cell_type": "code",
   "execution_count": 86,
   "metadata": {
    "id": "p7xMDbk9xR9y"
   },
   "outputs": [],
   "source": [
    "#fn = [fn for fn in input_uploads.keys()][0]\n",
    "#fn"
   ]
  },
  {
   "cell_type": "code",
   "execution_count": 87,
   "metadata": {
    "colab": {
     "base_uri": "https://localhost:8080/"
    },
    "id": "jgwUQw5QcFpz",
    "outputId": "30f7b6a5-6925-4f0e-a056-c46d1f08553c"
   },
   "outputs": [
    {
     "name": "stdout",
     "output_type": "stream",
     "text": [
      "Else- section\n",
      "Filename: major_df.xlsx\n",
      "\n",
      "No. of Rows: 9507\n",
      "No. of cols: 7\n",
      "\n",
      "\n",
      "\n",
      "total: 9507\n",
      "_________________________________________________________________________________________________\n"
     ]
    }
   ],
   "source": [
    "if tot_files >1:\n",
    "    inp_frame=[]\n",
    "    #total = 0\n",
    "    inp_total = 0\n",
    "    for fn in input_uploads.keys():\n",
    "        print(f'Filename: {fn}')\n",
    "        file = pd.read_excel(io.BytesIO(input_uploads[fn]))\n",
    "        dimen = file.shape\n",
    "        nr = dimen[0]\n",
    "        nc = dimen[1]\n",
    "        inp_total=inp_total+nr\n",
    "        print(f'\\nNo. of Rows: {nr}\\nNo. of cols: {nc}\\n')\n",
    "        print('\\n')\n",
    "        \n",
    "        file.reset_index(inplace=True,drop=True)\n",
    "        inp_frame.append(file)\n",
    "    cons_inp_df = pd.concat(inp_frame,sort=False)\n",
    "    print(f'total: {inp_total}\\n___________________________________________________________________________________________')\n",
    "    input_raw_df = cons_inp_df.copy()\n",
    "    refined_inp_col_names = (input_raw_df.columns.to_series(index=range(len(input_raw_df.columns))).apply(lambda x : trim_spaces(x))).to_list()\n",
    "    input_raw_df.columns=refined_inp_col_names\n",
    "else:\n",
    "    print('Else- section')\n",
    "    inp_total = 0\n",
    "    fn = [fn for fn in input_uploads.keys()][0]\n",
    "    print(f'Filename: {fn}')\n",
    "    file = pd.read_excel(io.BytesIO(input_uploads[fn]))\n",
    "    #file = file.head(2000)  #kept this line for testing purpose, keep the number as per your testing, top N records\n",
    "    #file = file.sample(2000) #kept this line for testing purpose, keep the number as per your testing, Random records\n",
    "    file.reset_index(inplace=True,drop=True) #kept this line for testing purpose, keep the number as per your testing, Random records\n",
    "    dimen = file.shape\n",
    "    nr = dimen[0]\n",
    "    nc = dimen[1]\n",
    "    inp_total=inp_total+nr\n",
    "    print(f'\\nNo. of Rows: {nr}\\nNo. of cols: {nc}\\n')\n",
    "    print('\\n')\n",
    "    print(f'total: {inp_total}\\n_________________________________________________________________________________________________')\n",
    "    input_raw_df = file.copy()\n",
    "    refined_inp_col_names = (input_raw_df.columns.to_series(index=range(len(input_raw_df.columns))).apply(lambda x : trim_spaces(str(x)))).to_list()\n",
    "    input_raw_df.columns=refined_inp_col_names\n"
   ]
  },
  {
   "cell_type": "code",
   "execution_count": 88,
   "metadata": {
    "colab": {
     "base_uri": "https://localhost:8080/"
    },
    "id": "F1CZ9HRvWB5R",
    "outputId": "08f99396-b724-454d-e594-3e744730d52c"
   },
   "outputs": [
    {
     "data": {
      "text/plain": [
       "9507"
      ]
     },
     "execution_count": 88,
     "metadata": {},
     "output_type": "execute_result"
    }
   ],
   "source": [
    "no_of_raw_inp_records = inp_total\n",
    "no_of_raw_inp_records"
   ]
  },
  {
   "cell_type": "code",
   "execution_count": 89,
   "metadata": {
    "id": "LR7vO9c7cFp0"
   },
   "outputs": [],
   "source": [
    "# give the input column names that is required and need to drop the rest \n",
    "acp_inp_col_names = ['DataSource','Vendor number','Vendor name','Spend (USD)','Segment','Primary Category'] "
   ]
  },
  {
   "cell_type": "code",
   "execution_count": 90,
   "metadata": {
    "colab": {
     "base_uri": "https://localhost:8080/",
     "height": 206
    },
    "id": "qyMvbsMsWbKI",
    "outputId": "8d72c415-425d-4332-cf57-df3220453c5f"
   },
   "outputs": [
    {
     "data": {
      "text/html": [
       "\n",
       "  <div id=\"df-d964866a-5d2f-4908-a8ef-f835f5d2d4f1\">\n",
       "    <div class=\"colab-df-container\">\n",
       "      <div>\n",
       "<style scoped>\n",
       "    .dataframe tbody tr th:only-of-type {\n",
       "        vertical-align: middle;\n",
       "    }\n",
       "\n",
       "    .dataframe tbody tr th {\n",
       "        vertical-align: top;\n",
       "    }\n",
       "\n",
       "    .dataframe thead th {\n",
       "        text-align: right;\n",
       "    }\n",
       "</style>\n",
       "<table border=\"1\" class=\"dataframe\">\n",
       "  <thead>\n",
       "    <tr style=\"text-align: right;\">\n",
       "      <th></th>\n",
       "      <th>DataSource</th>\n",
       "      <th>Vendor number</th>\n",
       "      <th>New Supplier</th>\n",
       "      <th>Vendor name</th>\n",
       "      <th>Spend (USD)</th>\n",
       "      <th>Segment</th>\n",
       "      <th>Primary Category</th>\n",
       "    </tr>\n",
       "  </thead>\n",
       "  <tbody>\n",
       "    <tr>\n",
       "      <th>0</th>\n",
       "      <td>68. 3rd Party Security</td>\n",
       "      <td>34001</td>\n",
       "      <td>4Launch</td>\n",
       "      <td>ACES Direct (4LAUNCH)</td>\n",
       "      <td>3281.538030</td>\n",
       "      <td>SECURITY</td>\n",
       "      <td>Finished Goods</td>\n",
       "    </tr>\n",
       "    <tr>\n",
       "      <th>1</th>\n",
       "      <td>09. SAP P10</td>\n",
       "      <td>1107212</td>\n",
       "      <td>a &amp;</td>\n",
       "      <td>A &amp; F ELECTRIC LLC</td>\n",
       "      <td>44000.000000</td>\n",
       "      <td>SECURITY</td>\n",
       "      <td>General Procurement</td>\n",
       "    </tr>\n",
       "    <tr>\n",
       "      <th>2</th>\n",
       "      <td>22. Syteline IES</td>\n",
       "      <td>9992470-DEX</td>\n",
       "      <td>a &amp; a Engineering Civil and Structural Engineers</td>\n",
       "      <td>A &amp; A ENGINEERING CIVIL AND STRUCTURAL ENGINEE...</td>\n",
       "      <td>3450.000000</td>\n",
       "      <td>INDUSTRIAL</td>\n",
       "      <td>Undefined</td>\n",
       "    </tr>\n",
       "    <tr>\n",
       "      <th>3</th>\n",
       "      <td>09. SAP P10</td>\n",
       "      <td>1072125</td>\n",
       "      <td>a &amp; a Hydraulic Repair CO DIV of Mcgivern</td>\n",
       "      <td>A &amp; A HYDRAULIC REPAIR CO/DIV OF MCGIVERN ENT INC</td>\n",
       "      <td>114.580000</td>\n",
       "      <td>GTS</td>\n",
       "      <td>Undefined</td>\n",
       "    </tr>\n",
       "    <tr>\n",
       "      <th>4</th>\n",
       "      <td>70. JDE CAM</td>\n",
       "      <td>177662</td>\n",
       "      <td>a &amp; a Machine &amp; Develop</td>\n",
       "      <td>A &amp; A MACHINE &amp; DEVELOP</td>\n",
       "      <td>294.793886</td>\n",
       "      <td>INDUSTRIAL</td>\n",
       "      <td>General Procurement</td>\n",
       "    </tr>\n",
       "  </tbody>\n",
       "</table>\n",
       "</div>\n",
       "      <button class=\"colab-df-convert\" onclick=\"convertToInteractive('df-d964866a-5d2f-4908-a8ef-f835f5d2d4f1')\"\n",
       "              title=\"Convert this dataframe to an interactive table.\"\n",
       "              style=\"display:none;\">\n",
       "        \n",
       "  <svg xmlns=\"http://www.w3.org/2000/svg\" height=\"24px\"viewBox=\"0 0 24 24\"\n",
       "       width=\"24px\">\n",
       "    <path d=\"M0 0h24v24H0V0z\" fill=\"none\"/>\n",
       "    <path d=\"M18.56 5.44l.94 2.06.94-2.06 2.06-.94-2.06-.94-.94-2.06-.94 2.06-2.06.94zm-11 1L8.5 8.5l.94-2.06 2.06-.94-2.06-.94L8.5 2.5l-.94 2.06-2.06.94zm10 10l.94 2.06.94-2.06 2.06-.94-2.06-.94-.94-2.06-.94 2.06-2.06.94z\"/><path d=\"M17.41 7.96l-1.37-1.37c-.4-.4-.92-.59-1.43-.59-.52 0-1.04.2-1.43.59L10.3 9.45l-7.72 7.72c-.78.78-.78 2.05 0 2.83L4 21.41c.39.39.9.59 1.41.59.51 0 1.02-.2 1.41-.59l7.78-7.78 2.81-2.81c.8-.78.8-2.07 0-2.86zM5.41 20L4 18.59l7.72-7.72 1.47 1.35L5.41 20z\"/>\n",
       "  </svg>\n",
       "      </button>\n",
       "      \n",
       "  <style>\n",
       "    .colab-df-container {\n",
       "      display:flex;\n",
       "      flex-wrap:wrap;\n",
       "      gap: 12px;\n",
       "    }\n",
       "\n",
       "    .colab-df-convert {\n",
       "      background-color: #E8F0FE;\n",
       "      border: none;\n",
       "      border-radius: 50%;\n",
       "      cursor: pointer;\n",
       "      display: none;\n",
       "      fill: #1967D2;\n",
       "      height: 32px;\n",
       "      padding: 0 0 0 0;\n",
       "      width: 32px;\n",
       "    }\n",
       "\n",
       "    .colab-df-convert:hover {\n",
       "      background-color: #E2EBFA;\n",
       "      box-shadow: 0px 1px 2px rgba(60, 64, 67, 0.3), 0px 1px 3px 1px rgba(60, 64, 67, 0.15);\n",
       "      fill: #174EA6;\n",
       "    }\n",
       "\n",
       "    [theme=dark] .colab-df-convert {\n",
       "      background-color: #3B4455;\n",
       "      fill: #D2E3FC;\n",
       "    }\n",
       "\n",
       "    [theme=dark] .colab-df-convert:hover {\n",
       "      background-color: #434B5C;\n",
       "      box-shadow: 0px 1px 3px 1px rgba(0, 0, 0, 0.15);\n",
       "      filter: drop-shadow(0px 1px 2px rgba(0, 0, 0, 0.3));\n",
       "      fill: #FFFFFF;\n",
       "    }\n",
       "  </style>\n",
       "\n",
       "      <script>\n",
       "        const buttonEl =\n",
       "          document.querySelector('#df-d964866a-5d2f-4908-a8ef-f835f5d2d4f1 button.colab-df-convert');\n",
       "        buttonEl.style.display =\n",
       "          google.colab.kernel.accessAllowed ? 'block' : 'none';\n",
       "\n",
       "        async function convertToInteractive(key) {\n",
       "          const element = document.querySelector('#df-d964866a-5d2f-4908-a8ef-f835f5d2d4f1');\n",
       "          const dataTable =\n",
       "            await google.colab.kernel.invokeFunction('convertToInteractive',\n",
       "                                                     [key], {});\n",
       "          if (!dataTable) return;\n",
       "\n",
       "          const docLinkHtml = 'Like what you see? Visit the ' +\n",
       "            '<a target=\"_blank\" href=https://colab.research.google.com/notebooks/data_table.ipynb>data table notebook</a>'\n",
       "            + ' to learn more about interactive tables.';\n",
       "          element.innerHTML = '';\n",
       "          dataTable['output_type'] = 'display_data';\n",
       "          await google.colab.output.renderOutput(dataTable, element);\n",
       "          const docLink = document.createElement('div');\n",
       "          docLink.innerHTML = docLinkHtml;\n",
       "          element.appendChild(docLink);\n",
       "        }\n",
       "      </script>\n",
       "    </div>\n",
       "  </div>\n",
       "  "
      ],
      "text/plain": [
       "               DataSource Vendor number  \\\n",
       "0  68. 3rd Party Security         34001   \n",
       "1             09. SAP P10       1107212   \n",
       "2        22. Syteline IES   9992470-DEX   \n",
       "3             09. SAP P10       1072125   \n",
       "4             70. JDE CAM        177662   \n",
       "\n",
       "                                       New Supplier  \\\n",
       "0                                           4Launch   \n",
       "1                                               a &   \n",
       "2  a & a Engineering Civil and Structural Engineers   \n",
       "3         a & a Hydraulic Repair CO DIV of Mcgivern   \n",
       "4                           a & a Machine & Develop   \n",
       "\n",
       "                                         Vendor name   Spend (USD)  \\\n",
       "0                              ACES Direct (4LAUNCH)   3281.538030   \n",
       "1                                 A & F ELECTRIC LLC  44000.000000   \n",
       "2  A & A ENGINEERING CIVIL AND STRUCTURAL ENGINEE...   3450.000000   \n",
       "3  A & A HYDRAULIC REPAIR CO/DIV OF MCGIVERN ENT INC    114.580000   \n",
       "4                            A & A MACHINE & DEVELOP    294.793886   \n",
       "\n",
       "      Segment     Primary Category  \n",
       "0    SECURITY       Finished Goods  \n",
       "1    SECURITY  General Procurement  \n",
       "2  INDUSTRIAL            Undefined  \n",
       "3         GTS            Undefined  \n",
       "4  INDUSTRIAL  General Procurement  "
      ]
     },
     "execution_count": 90,
     "metadata": {},
     "output_type": "execute_result"
    }
   ],
   "source": [
    "input_raw_df.head()"
   ]
  },
  {
   "cell_type": "code",
   "execution_count": 91,
   "metadata": {
    "id": "rEEQ_-RxeRTI"
   },
   "outputs": [],
   "source": [
    "drop_cols_df(acp_inp_col_names,input_raw_df)"
   ]
  },
  {
   "cell_type": "code",
   "execution_count": 92,
   "metadata": {
    "colab": {
     "base_uri": "https://localhost:8080/"
    },
    "id": "W09Df1aEcFp0",
    "outputId": "73bfb0ea-3d3f-47ae-b44a-cf2ebda38b6b"
   },
   "outputs": [
    {
     "data": {
      "text/plain": [
       "Index(['DataSource', 'Vendor number', 'Vendor name', 'Spend (USD)', 'Segment',\n",
       "       'Primary Category'],\n",
       "      dtype='object')"
      ]
     },
     "execution_count": 92,
     "metadata": {},
     "output_type": "execute_result"
    }
   ],
   "source": [
    "input_raw_df.columns"
   ]
  },
  {
   "cell_type": "code",
   "execution_count": 93,
   "metadata": {
    "id": "LXvr-4wg7gF4"
   },
   "outputs": [],
   "source": [
    "#input_raw_df[input_raw_df.duplicated()==True].count()#.unique()[0]\n",
    "input_raw_df.reset_index(inplace=True,drop=True)"
   ]
  },
  {
   "cell_type": "code",
   "execution_count": 94,
   "metadata": {
    "colab": {
     "base_uri": "https://localhost:8080/"
    },
    "id": "bInBBJbUSqgy",
    "outputId": "86ccdf80-8281-4001-e0fe-640556f91ed8"
   },
   "outputs": [
    {
     "name": "stdout",
     "output_type": "stream",
     "text": [
      "Total Duplicates in Dataset:  0\n"
     ]
    },
    {
     "data": {
      "text/plain": [
       "0"
      ]
     },
     "execution_count": 94,
     "metadata": {},
     "output_type": "execute_result"
    }
   ],
   "source": [
    "count_dup,dup_df = check_dup_count(input_raw_df)\n",
    "count_dup\n"
   ]
  },
  {
   "cell_type": "code",
   "execution_count": 95,
   "metadata": {
    "colab": {
     "base_uri": "https://localhost:8080/",
     "height": 50
    },
    "id": "vcrgO5cT3KDt",
    "outputId": "8dcebc47-e414-4203-ce71-99b4f6f966ba"
   },
   "outputs": [
    {
     "data": {
      "text/html": [
       "\n",
       "  <div id=\"df-281c5d45-5225-4288-9181-a5f13d43ad7a\">\n",
       "    <div class=\"colab-df-container\">\n",
       "      <div>\n",
       "<style scoped>\n",
       "    .dataframe tbody tr th:only-of-type {\n",
       "        vertical-align: middle;\n",
       "    }\n",
       "\n",
       "    .dataframe tbody tr th {\n",
       "        vertical-align: top;\n",
       "    }\n",
       "\n",
       "    .dataframe thead th {\n",
       "        text-align: right;\n",
       "    }\n",
       "</style>\n",
       "<table border=\"1\" class=\"dataframe\">\n",
       "  <thead>\n",
       "    <tr style=\"text-align: right;\">\n",
       "      <th></th>\n",
       "      <th>DataSource</th>\n",
       "      <th>Vendor number</th>\n",
       "      <th>Vendor name</th>\n",
       "      <th>Spend (USD)</th>\n",
       "      <th>Segment</th>\n",
       "      <th>Primary Category</th>\n",
       "    </tr>\n",
       "  </thead>\n",
       "  <tbody>\n",
       "  </tbody>\n",
       "</table>\n",
       "</div>\n",
       "      <button class=\"colab-df-convert\" onclick=\"convertToInteractive('df-281c5d45-5225-4288-9181-a5f13d43ad7a')\"\n",
       "              title=\"Convert this dataframe to an interactive table.\"\n",
       "              style=\"display:none;\">\n",
       "        \n",
       "  <svg xmlns=\"http://www.w3.org/2000/svg\" height=\"24px\"viewBox=\"0 0 24 24\"\n",
       "       width=\"24px\">\n",
       "    <path d=\"M0 0h24v24H0V0z\" fill=\"none\"/>\n",
       "    <path d=\"M18.56 5.44l.94 2.06.94-2.06 2.06-.94-2.06-.94-.94-2.06-.94 2.06-2.06.94zm-11 1L8.5 8.5l.94-2.06 2.06-.94-2.06-.94L8.5 2.5l-.94 2.06-2.06.94zm10 10l.94 2.06.94-2.06 2.06-.94-2.06-.94-.94-2.06-.94 2.06-2.06.94z\"/><path d=\"M17.41 7.96l-1.37-1.37c-.4-.4-.92-.59-1.43-.59-.52 0-1.04.2-1.43.59L10.3 9.45l-7.72 7.72c-.78.78-.78 2.05 0 2.83L4 21.41c.39.39.9.59 1.41.59.51 0 1.02-.2 1.41-.59l7.78-7.78 2.81-2.81c.8-.78.8-2.07 0-2.86zM5.41 20L4 18.59l7.72-7.72 1.47 1.35L5.41 20z\"/>\n",
       "  </svg>\n",
       "      </button>\n",
       "      \n",
       "  <style>\n",
       "    .colab-df-container {\n",
       "      display:flex;\n",
       "      flex-wrap:wrap;\n",
       "      gap: 12px;\n",
       "    }\n",
       "\n",
       "    .colab-df-convert {\n",
       "      background-color: #E8F0FE;\n",
       "      border: none;\n",
       "      border-radius: 50%;\n",
       "      cursor: pointer;\n",
       "      display: none;\n",
       "      fill: #1967D2;\n",
       "      height: 32px;\n",
       "      padding: 0 0 0 0;\n",
       "      width: 32px;\n",
       "    }\n",
       "\n",
       "    .colab-df-convert:hover {\n",
       "      background-color: #E2EBFA;\n",
       "      box-shadow: 0px 1px 2px rgba(60, 64, 67, 0.3), 0px 1px 3px 1px rgba(60, 64, 67, 0.15);\n",
       "      fill: #174EA6;\n",
       "    }\n",
       "\n",
       "    [theme=dark] .colab-df-convert {\n",
       "      background-color: #3B4455;\n",
       "      fill: #D2E3FC;\n",
       "    }\n",
       "\n",
       "    [theme=dark] .colab-df-convert:hover {\n",
       "      background-color: #434B5C;\n",
       "      box-shadow: 0px 1px 3px 1px rgba(0, 0, 0, 0.15);\n",
       "      filter: drop-shadow(0px 1px 2px rgba(0, 0, 0, 0.3));\n",
       "      fill: #FFFFFF;\n",
       "    }\n",
       "  </style>\n",
       "\n",
       "      <script>\n",
       "        const buttonEl =\n",
       "          document.querySelector('#df-281c5d45-5225-4288-9181-a5f13d43ad7a button.colab-df-convert');\n",
       "        buttonEl.style.display =\n",
       "          google.colab.kernel.accessAllowed ? 'block' : 'none';\n",
       "\n",
       "        async function convertToInteractive(key) {\n",
       "          const element = document.querySelector('#df-281c5d45-5225-4288-9181-a5f13d43ad7a');\n",
       "          const dataTable =\n",
       "            await google.colab.kernel.invokeFunction('convertToInteractive',\n",
       "                                                     [key], {});\n",
       "          if (!dataTable) return;\n",
       "\n",
       "          const docLinkHtml = 'Like what you see? Visit the ' +\n",
       "            '<a target=\"_blank\" href=https://colab.research.google.com/notebooks/data_table.ipynb>data table notebook</a>'\n",
       "            + ' to learn more about interactive tables.';\n",
       "          element.innerHTML = '';\n",
       "          dataTable['output_type'] = 'display_data';\n",
       "          await google.colab.output.renderOutput(dataTable, element);\n",
       "          const docLink = document.createElement('div');\n",
       "          docLink.innerHTML = docLinkHtml;\n",
       "          element.appendChild(docLink);\n",
       "        }\n",
       "      </script>\n",
       "    </div>\n",
       "  </div>\n",
       "  "
      ],
      "text/plain": [
       "Empty DataFrame\n",
       "Columns: [DataSource, Vendor number, Vendor name, Spend (USD), Segment, Primary Category]\n",
       "Index: []"
      ]
     },
     "execution_count": 95,
     "metadata": {},
     "output_type": "execute_result"
    }
   ],
   "source": [
    "dup_df # Here we are getting duplicate records"
   ]
  },
  {
   "cell_type": "code",
   "execution_count": 96,
   "metadata": {
    "id": "r6lkiGIsXagj"
   },
   "outputs": [],
   "source": [
    "input_raw_df.replace(\" \", np.nan, inplace=True)\n",
    "input_raw_df.replace(\"\", np.nan, inplace=True)"
   ]
  },
  {
   "cell_type": "code",
   "execution_count": 97,
   "metadata": {
    "colab": {
     "base_uri": "https://localhost:8080/"
    },
    "id": "q9wnIL2-Wqc4",
    "outputId": "a7137613-b829-4f0d-e393-1f43a69c5174"
   },
   "outputs": [
    {
     "data": {
      "text/plain": [
       "DataSource          0\n",
       "Vendor number       0\n",
       "Vendor name         0\n",
       "Spend (USD)         0\n",
       "Segment             0\n",
       "Primary Category    0\n",
       "dtype: int64"
      ]
     },
     "execution_count": 97,
     "metadata": {},
     "output_type": "execute_result"
    }
   ],
   "source": [
    "input_raw_df.isnull().sum()"
   ]
  },
  {
   "cell_type": "code",
   "execution_count": 98,
   "metadata": {
    "colab": {
     "base_uri": "https://localhost:8080/"
    },
    "id": "iG8dJZdv_GsQ",
    "outputId": "cbb829dd-0406-4604-ae5f-fd02557e4182"
   },
   "outputs": [
    {
     "data": {
      "text/plain": [
       "0"
      ]
     },
     "execution_count": 98,
     "metadata": {},
     "output_type": "execute_result"
    }
   ],
   "source": [
    "input_raw_df_null_records = input_raw_df[input_raw_df['Vendor name'].isnull()]\n",
    "input_raw_df_null_records_counts = len(input_raw_df_null_records)\n",
    "input_raw_df_null_records_counts"
   ]
  },
  {
   "cell_type": "code",
   "execution_count": 99,
   "metadata": {
    "colab": {
     "base_uri": "https://localhost:8080/",
     "height": 50
    },
    "id": "fjFR_6nn1Xu1",
    "outputId": "ceffbccc-4c0c-4271-f9b1-7df99098fb4d"
   },
   "outputs": [
    {
     "data": {
      "text/html": [
       "\n",
       "  <div id=\"df-82ad72cd-8441-4a88-96f4-10ff28a8b6d8\">\n",
       "    <div class=\"colab-df-container\">\n",
       "      <div>\n",
       "<style scoped>\n",
       "    .dataframe tbody tr th:only-of-type {\n",
       "        vertical-align: middle;\n",
       "    }\n",
       "\n",
       "    .dataframe tbody tr th {\n",
       "        vertical-align: top;\n",
       "    }\n",
       "\n",
       "    .dataframe thead th {\n",
       "        text-align: right;\n",
       "    }\n",
       "</style>\n",
       "<table border=\"1\" class=\"dataframe\">\n",
       "  <thead>\n",
       "    <tr style=\"text-align: right;\">\n",
       "      <th></th>\n",
       "      <th>DataSource</th>\n",
       "      <th>Vendor number</th>\n",
       "      <th>Vendor name</th>\n",
       "      <th>Spend (USD)</th>\n",
       "      <th>Segment</th>\n",
       "      <th>Primary Category</th>\n",
       "    </tr>\n",
       "  </thead>\n",
       "  <tbody>\n",
       "  </tbody>\n",
       "</table>\n",
       "</div>\n",
       "      <button class=\"colab-df-convert\" onclick=\"convertToInteractive('df-82ad72cd-8441-4a88-96f4-10ff28a8b6d8')\"\n",
       "              title=\"Convert this dataframe to an interactive table.\"\n",
       "              style=\"display:none;\">\n",
       "        \n",
       "  <svg xmlns=\"http://www.w3.org/2000/svg\" height=\"24px\"viewBox=\"0 0 24 24\"\n",
       "       width=\"24px\">\n",
       "    <path d=\"M0 0h24v24H0V0z\" fill=\"none\"/>\n",
       "    <path d=\"M18.56 5.44l.94 2.06.94-2.06 2.06-.94-2.06-.94-.94-2.06-.94 2.06-2.06.94zm-11 1L8.5 8.5l.94-2.06 2.06-.94-2.06-.94L8.5 2.5l-.94 2.06-2.06.94zm10 10l.94 2.06.94-2.06 2.06-.94-2.06-.94-.94-2.06-.94 2.06-2.06.94z\"/><path d=\"M17.41 7.96l-1.37-1.37c-.4-.4-.92-.59-1.43-.59-.52 0-1.04.2-1.43.59L10.3 9.45l-7.72 7.72c-.78.78-.78 2.05 0 2.83L4 21.41c.39.39.9.59 1.41.59.51 0 1.02-.2 1.41-.59l7.78-7.78 2.81-2.81c.8-.78.8-2.07 0-2.86zM5.41 20L4 18.59l7.72-7.72 1.47 1.35L5.41 20z\"/>\n",
       "  </svg>\n",
       "      </button>\n",
       "      \n",
       "  <style>\n",
       "    .colab-df-container {\n",
       "      display:flex;\n",
       "      flex-wrap:wrap;\n",
       "      gap: 12px;\n",
       "    }\n",
       "\n",
       "    .colab-df-convert {\n",
       "      background-color: #E8F0FE;\n",
       "      border: none;\n",
       "      border-radius: 50%;\n",
       "      cursor: pointer;\n",
       "      display: none;\n",
       "      fill: #1967D2;\n",
       "      height: 32px;\n",
       "      padding: 0 0 0 0;\n",
       "      width: 32px;\n",
       "    }\n",
       "\n",
       "    .colab-df-convert:hover {\n",
       "      background-color: #E2EBFA;\n",
       "      box-shadow: 0px 1px 2px rgba(60, 64, 67, 0.3), 0px 1px 3px 1px rgba(60, 64, 67, 0.15);\n",
       "      fill: #174EA6;\n",
       "    }\n",
       "\n",
       "    [theme=dark] .colab-df-convert {\n",
       "      background-color: #3B4455;\n",
       "      fill: #D2E3FC;\n",
       "    }\n",
       "\n",
       "    [theme=dark] .colab-df-convert:hover {\n",
       "      background-color: #434B5C;\n",
       "      box-shadow: 0px 1px 3px 1px rgba(0, 0, 0, 0.15);\n",
       "      filter: drop-shadow(0px 1px 2px rgba(0, 0, 0, 0.3));\n",
       "      fill: #FFFFFF;\n",
       "    }\n",
       "  </style>\n",
       "\n",
       "      <script>\n",
       "        const buttonEl =\n",
       "          document.querySelector('#df-82ad72cd-8441-4a88-96f4-10ff28a8b6d8 button.colab-df-convert');\n",
       "        buttonEl.style.display =\n",
       "          google.colab.kernel.accessAllowed ? 'block' : 'none';\n",
       "\n",
       "        async function convertToInteractive(key) {\n",
       "          const element = document.querySelector('#df-82ad72cd-8441-4a88-96f4-10ff28a8b6d8');\n",
       "          const dataTable =\n",
       "            await google.colab.kernel.invokeFunction('convertToInteractive',\n",
       "                                                     [key], {});\n",
       "          if (!dataTable) return;\n",
       "\n",
       "          const docLinkHtml = 'Like what you see? Visit the ' +\n",
       "            '<a target=\"_blank\" href=https://colab.research.google.com/notebooks/data_table.ipynb>data table notebook</a>'\n",
       "            + ' to learn more about interactive tables.';\n",
       "          element.innerHTML = '';\n",
       "          dataTable['output_type'] = 'display_data';\n",
       "          await google.colab.output.renderOutput(dataTable, element);\n",
       "          const docLink = document.createElement('div');\n",
       "          docLink.innerHTML = docLinkHtml;\n",
       "          element.appendChild(docLink);\n",
       "        }\n",
       "      </script>\n",
       "    </div>\n",
       "  </div>\n",
       "  "
      ],
      "text/plain": [
       "Empty DataFrame\n",
       "Columns: [DataSource, Vendor number, Vendor name, Spend (USD), Segment, Primary Category]\n",
       "Index: []"
      ]
     },
     "execution_count": 99,
     "metadata": {},
     "output_type": "execute_result"
    }
   ],
   "source": [
    "input_raw_df_null_records"
   ]
  },
  {
   "cell_type": "code",
   "execution_count": 100,
   "metadata": {
    "colab": {
     "base_uri": "https://localhost:8080/"
    },
    "id": "SKtXQyJpRT5k",
    "outputId": "e567d3c4-0cb6-4eec-968e-1dff0ed383fc"
   },
   "outputs": [
    {
     "name": "stdout",
     "output_type": "stream",
     "text": [
      "No Null records in input file\n"
     ]
    }
   ],
   "source": [
    "if input_raw_df_null_records_counts>0:\n",
    "  input_raw_df_null_records.to_excel('input file null records.xlsx',index=False,encoding='utf8')\n",
    "  files.download('input file null records.xlsx')\n",
    "else:\n",
    "  print('No Null records in input file')"
   ]
  },
  {
   "cell_type": "code",
   "execution_count": 101,
   "metadata": {
    "colab": {
     "base_uri": "https://localhost:8080/"
    },
    "id": "AcXuJX5lcFp0",
    "outputId": "3da0e4b4-2943-4cf6-ba7f-d44227f0da9a"
   },
   "outputs": [
    {
     "name": "stdout",
     "output_type": "stream",
     "text": [
      "Raw Dataframe NA Count:  0\n"
     ]
    }
   ],
   "source": [
    "# Drop Na's if any:\n",
    "count_na_inp_raw_df = input_raw_df.isnull().sum().max()\n",
    "print(\"Raw Dataframe NA Count: \",count_na_inp_raw_df)\n",
    "if count_na_inp_raw_df>0:\n",
    "  na_dict  = input_raw_df.isnull().sum().to_dict()#:  #.max()>0\n",
    "  for k,v in na_dict.items():\n",
    "    if v>0:\n",
    "      if (v == input_raw_df.isnull().sum().max()) and (k in ['DataSource',\t'Vendor number',\t'Vendor name']):\n",
    "        print(\"The column with maximum NA counts: \",k)\n",
    "        print(\"Info:   Dropping the NAs from the Dataframe:::::::::::\")\n",
    "        input_raw_df.dropna(inplace=True)\n",
    "        input_raw_df.reset_index(inplace=True,drop=True)\n",
    "\n",
    "\n",
    "# Drop duplicates if any:\n",
    "if count_dup>0:\n",
    "  input_raw_df.drop_duplicates(inplace=True)\n",
    "\n",
    "\n",
    "# Now reset the index\n",
    "input_raw_df.reset_index(inplace=True,drop=True)"
   ]
  },
  {
   "cell_type": "code",
   "execution_count": 102,
   "metadata": {
    "id": "FCnvhrbHYf36"
   },
   "outputs": [],
   "source": [
    "#check_dup_count(input_raw_df)"
   ]
  },
  {
   "cell_type": "code",
   "execution_count": 103,
   "metadata": {
    "id": "8LO6nFnYcFp1"
   },
   "outputs": [],
   "source": [
    "input_raw_df.sort_index(inplace=True)\n",
    "input_raw_df.reset_index(drop=True, inplace=True)"
   ]
  },
  {
   "cell_type": "code",
   "execution_count": 104,
   "metadata": {
    "colab": {
     "base_uri": "https://localhost:8080/"
    },
    "id": "rS50AbGf2Qn-",
    "outputId": "80a10caf-e03a-4a5a-ecb0-6ddc49ed2c07"
   },
   "outputs": [
    {
     "data": {
      "text/plain": [
       "(9507, 6)"
      ]
     },
     "execution_count": 104,
     "metadata": {},
     "output_type": "execute_result"
    }
   ],
   "source": [
    "input_raw_df.shape"
   ]
  },
  {
   "cell_type": "code",
   "execution_count": 104,
   "metadata": {
    "id": "MMJfwz39Hj7G"
   },
   "outputs": [],
   "source": []
  },
  {
   "cell_type": "code",
   "execution_count": 105,
   "metadata": {
    "colab": {
     "base_uri": "https://localhost:8080/"
    },
    "id": "pnByHmCBoJWw",
    "outputId": "9cbbdb14-111d-4555-d6e7-04a0e495b8ff"
   },
   "outputs": [
    {
     "data": {
      "text/plain": [
       "0"
      ]
     },
     "execution_count": 105,
     "metadata": {},
     "output_type": "execute_result"
    }
   ],
   "source": [
    "# Method 1:\n",
    "#if (input_raw_df_null_records_counts == (inp_total - input_raw_df.shape[0])) and dup_count != input_raw_df_null_records_counts:\n",
    "#  no_of_null_inp_records1 = input_raw_df_null_records_counts\n",
    "#else:\n",
    "#  no_of_null_inp_records1 = inp_total - input_raw_df.shape[0]\n",
    "\n",
    "# Method 2:\n",
    "no_of_null_inp_records1 = input_raw_df_null_records_counts\n",
    "no_of_null_inp_records1"
   ]
  },
  {
   "cell_type": "code",
   "execution_count": 106,
   "metadata": {
    "colab": {
     "base_uri": "https://localhost:8080/"
    },
    "id": "tMkP16wH59yd",
    "outputId": "0115ca7d-ee22-4eba-8934-37799389e864"
   },
   "outputs": [
    {
     "name": "stdout",
     "output_type": "stream",
     "text": [
      "Foreign name/names count: 92\n"
     ]
    }
   ],
   "source": [
    "foreign_count_raw = count_foreign(input_raw_df,'Vendor name')\n",
    "print(f'Foreign name/names count: {foreign_count_raw}') # if foreign counts greater than 1 then fetch the records by implementing noise flag\n"
   ]
  },
  {
   "cell_type": "code",
   "execution_count": 107,
   "metadata": {
    "id": "pF-dEbO6HqdM"
   },
   "outputs": [],
   "source": [
    "# Comment this section since Christian asked not to remove rather to have in file by translating \n",
    "#if foreign_count>0:\n",
    "#  input_raw_df['noise_flag'] = input_raw_df['Vendor name'].apply(lambda x: True if (re.findall(\"([^\\x00-\\x7F])+\",x)) else False)\n",
    "#  foreign_inp_df = input_raw_df[input_raw_df['noise_flag'] == True]\n",
    "#  foreign_inp_df.to_excel('foreign input data.xlsx',index=False,encoding='utf8')\n",
    "#  files.download('foreign input data.xlsx')\n",
    "  \n",
    "  # Also filter non foreign data from input data\n",
    "#  input_raw_df = input_raw_df[input_raw_df['noise_flag'] == False]\n",
    "#  input_raw_df.drop(columns=['noise_flag'],axis = 1, inplace=True)\n",
    "#  input_raw_df.reset_index(drop=True,inplace=True)\n"
   ]
  },
  {
   "cell_type": "code",
   "execution_count": 108,
   "metadata": {
    "colab": {
     "base_uri": "https://localhost:8080/"
    },
    "id": "brolNsAyjDK2",
    "outputId": "5ad9639f-875e-44d2-f434-be9dd98fcef9"
   },
   "outputs": [
    {
     "data": {
      "text/plain": [
       "9507"
      ]
     },
     "execution_count": 108,
     "metadata": {},
     "output_type": "execute_result"
    }
   ],
   "source": [
    "input_raw_df.shape[0]"
   ]
  },
  {
   "cell_type": "code",
   "execution_count": 109,
   "metadata": {
    "id": "h9eURu3lH1ld"
   },
   "outputs": [],
   "source": [
    "#input_raw_df.head(2)"
   ]
  },
  {
   "cell_type": "code",
   "execution_count": 110,
   "metadata": {
    "id": "Cs-jKv-zJkHu"
   },
   "outputs": [],
   "source": [
    "#lingual_check(input_raw_df)"
   ]
  },
  {
   "cell_type": "code",
   "execution_count": 111,
   "metadata": {
    "id": "63LXLWleK2iU"
   },
   "outputs": [],
   "source": [
    "inp_match_df = input_raw_df.copy()"
   ]
  },
  {
   "cell_type": "code",
   "execution_count": 112,
   "metadata": {
    "id": "7RiEsX5Ao23q"
   },
   "outputs": [],
   "source": [
    "#inp_match_df.shape"
   ]
  },
  {
   "cell_type": "code",
   "execution_count": 113,
   "metadata": {
    "id": "NTD1MoniLDdz"
   },
   "outputs": [],
   "source": [
    "#lingual_check(inp_match_df)"
   ]
  },
  {
   "cell_type": "code",
   "execution_count": 114,
   "metadata": {
    "id": "0HrefQcfK8cy"
   },
   "outputs": [],
   "source": [
    "#inp_match_df.head(2)"
   ]
  },
  {
   "cell_type": "code",
   "execution_count": 115,
   "metadata": {
    "id": "GuaLysnycFp1"
   },
   "outputs": [],
   "source": [
    "# Input data cleaning\n",
    "\n",
    "input_df = input_df_data_clean(input_raw_df)\n",
    "input_df = input_df_data_ini(input_df)\n",
    "input_df = crisp_vendor_name(input_df)\n",
    "\n",
    "# this DS cleaning is optional\n",
    "for col in input_df.columns:\n",
    "  if col == 'DataSource':\n",
    "    input_df['DataSource']=input_df['DataSource'].apply(ds_cleansing)"
   ]
  },
  {
   "cell_type": "code",
   "execution_count": 116,
   "metadata": {
    "colab": {
     "base_uri": "https://localhost:8080/"
    },
    "id": "VqPl5SurLybB",
    "outputId": "f1cc11ee-e3bf-40a0-8fc7-800e028f02a1"
   },
   "outputs": [
    {
     "name": "stdout",
     "output_type": "stream",
     "text": [
      "Foreign name/names count Translated: 92\n"
     ]
    }
   ],
   "source": [
    "foreign_count = count_foreign(input_df,'Vendor name')\n",
    "if foreign_count==0 and foreign_count_raw>0:  \n",
    "  print(f'Foreign name/names count Translated: {foreign_count_raw}') # if foreign counts greater than 1 then fetch the records by implementing noise flag\n",
    "else:\n",
    "  print(f'Foreign name/names count not Translated: {foreign_count}')\n"
   ]
  },
  {
   "cell_type": "code",
   "execution_count": 117,
   "metadata": {
    "colab": {
     "base_uri": "https://localhost:8080/"
    },
    "id": "YXOvpqNEL6OL",
    "outputId": "ac73510b-d9ab-4c42-ee3f-93d574a8bb2c"
   },
   "outputs": [
    {
     "data": {
      "text/plain": [
       "9507"
      ]
     },
     "execution_count": 117,
     "metadata": {},
     "output_type": "execute_result"
    }
   ],
   "source": [
    "input_df.shape[0]"
   ]
  },
  {
   "cell_type": "code",
   "execution_count": 118,
   "metadata": {
    "colab": {
     "base_uri": "https://localhost:8080/"
    },
    "id": "87akc4gvT9Sa",
    "outputId": "2ba831d2-f693-4569-d4c5-b6c9eb35a598"
   },
   "outputs": [
    {
     "data": {
      "text/plain": [
       "0"
      ]
     },
     "execution_count": 118,
     "metadata": {},
     "output_type": "execute_result"
    }
   ],
   "source": [
    "records_removed_after_data_cleaning = inp_match_df.shape[0] - input_df.shape[0]\n",
    "records_removed_after_data_cleaning"
   ]
  },
  {
   "cell_type": "code",
   "execution_count": 119,
   "metadata": {
    "colab": {
     "base_uri": "https://localhost:8080/"
    },
    "id": "sG81SzLDKQEA",
    "outputId": "4db96f05-da18-4d41-b716-781d0111e498"
   },
   "outputs": [
    {
     "data": {
      "text/plain": [
       "Index(['DataSource', 'Vendor number', 'Vendor name', 'Spend (USD)', 'Segment',\n",
       "       'Primary Category', 'Clean_Vendor_Name', 'Vendor_name_Initials',\n",
       "       'crisp_vendor_name'],\n",
       "      dtype='object')"
      ]
     },
     "execution_count": 119,
     "metadata": {},
     "output_type": "execute_result"
    }
   ],
   "source": [
    "input_df.columns"
   ]
  },
  {
   "cell_type": "code",
   "execution_count": 120,
   "metadata": {
    "id": "MCRbhYgxTPzC"
   },
   "outputs": [],
   "source": [
    "for col in input_df.columns:\n",
    "  if col in ['DataSource','Vendor number']:\n",
    "    input_df['DataSource'] = input_df['DataSource'].apply(lambda x: str(x))\n",
    "    input_df['Vendor number'] = input_df['Vendor number'].apply(lambda x: str(x))\n",
    "    input_df['DataSource'] = input_df['DataSource'].apply(trim_spaces)\n",
    "    input_df['Vendor number'] = input_df['Vendor number'].apply(trim_spaces)\n",
    "  else:\n",
    "    pass\n"
   ]
  },
  {
   "cell_type": "code",
   "execution_count": 121,
   "metadata": {
    "colab": {
     "base_uri": "https://localhost:8080/"
    },
    "id": "J_1HWb0vKYhb",
    "outputId": "235cbb50-e519-42dd-d75b-24458ec4bfdf"
   },
   "outputs": [
    {
     "name": "stdout",
     "output_type": "stream",
     "text": [
      "no match\n"
     ]
    }
   ],
   "source": [
    "lingual_check(input_df)"
   ]
  },
  {
   "cell_type": "code",
   "execution_count": 122,
   "metadata": {
    "colab": {
     "base_uri": "https://localhost:8080/"
    },
    "id": "-VZzejhwcFp1",
    "outputId": "c41df27b-42bb-4c5e-d6c8-a772af08898f"
   },
   "outputs": [
    {
     "data": {
      "text/plain": [
       "9507"
      ]
     },
     "execution_count": 122,
     "metadata": {},
     "output_type": "execute_result"
    }
   ],
   "source": [
    "input_df.shape[0]"
   ]
  },
  {
   "cell_type": "code",
   "execution_count": 123,
   "metadata": {
    "id": "jP7pN8DKP8Pj"
   },
   "outputs": [],
   "source": [
    "input_df.reset_index(inplace=True,drop=True)"
   ]
  },
  {
   "cell_type": "code",
   "execution_count": 124,
   "metadata": {
    "colab": {
     "base_uri": "https://localhost:8080/",
     "height": 423
    },
    "id": "Wd3iWfnUiq1X",
    "outputId": "e3cc7b10-a4d2-489d-9c4a-ab22240a872d"
   },
   "outputs": [
    {
     "data": {
      "text/html": [
       "\n",
       "  <div id=\"df-7510ae96-ec10-4cde-9895-a06c1b161056\">\n",
       "    <div class=\"colab-df-container\">\n",
       "      <div>\n",
       "<style scoped>\n",
       "    .dataframe tbody tr th:only-of-type {\n",
       "        vertical-align: middle;\n",
       "    }\n",
       "\n",
       "    .dataframe tbody tr th {\n",
       "        vertical-align: top;\n",
       "    }\n",
       "\n",
       "    .dataframe thead th {\n",
       "        text-align: right;\n",
       "    }\n",
       "</style>\n",
       "<table border=\"1\" class=\"dataframe\">\n",
       "  <thead>\n",
       "    <tr style=\"text-align: right;\">\n",
       "      <th></th>\n",
       "      <th>DataSource</th>\n",
       "      <th>Vendor number</th>\n",
       "      <th>Vendor name</th>\n",
       "      <th>Spend (USD)</th>\n",
       "      <th>Segment</th>\n",
       "      <th>Primary Category</th>\n",
       "      <th>Clean_Vendor_Name</th>\n",
       "      <th>Vendor_name_Initials</th>\n",
       "      <th>crisp_vendor_name</th>\n",
       "    </tr>\n",
       "  </thead>\n",
       "  <tbody>\n",
       "    <tr>\n",
       "      <th>0</th>\n",
       "      <td>3rd Party Security</td>\n",
       "      <td>34001</td>\n",
       "      <td>ACES Direct (4LAUNCH)</td>\n",
       "      <td>3.281538e+03</td>\n",
       "      <td>SECURITY</td>\n",
       "      <td>Finished Goods</td>\n",
       "      <td>aces direct 4launch</td>\n",
       "      <td>a</td>\n",
       "      <td>acesdirect4launch</td>\n",
       "    </tr>\n",
       "    <tr>\n",
       "      <th>1</th>\n",
       "      <td>SAP P10</td>\n",
       "      <td>1107212</td>\n",
       "      <td>A &amp; F ELECTRIC LLC</td>\n",
       "      <td>4.400000e+04</td>\n",
       "      <td>SECURITY</td>\n",
       "      <td>General Procurement</td>\n",
       "      <td>a f electric</td>\n",
       "      <td>a</td>\n",
       "      <td>afelectric</td>\n",
       "    </tr>\n",
       "    <tr>\n",
       "      <th>2</th>\n",
       "      <td>Syteline IES</td>\n",
       "      <td>9992470-DEX</td>\n",
       "      <td>A &amp; A ENGINEERING CIVIL AND STRUCTURAL ENGINEE...</td>\n",
       "      <td>3.450000e+03</td>\n",
       "      <td>INDUSTRIAL</td>\n",
       "      <td>Undefined</td>\n",
       "      <td>a a engineering civil and structural engineers</td>\n",
       "      <td>a</td>\n",
       "      <td>aaengineeringcivilandstructuralengineers</td>\n",
       "    </tr>\n",
       "    <tr>\n",
       "      <th>3</th>\n",
       "      <td>SAP P10</td>\n",
       "      <td>1072125</td>\n",
       "      <td>A &amp; A HYDRAULIC REPAIR CO/DIV OF MCGIVERN ENT INC</td>\n",
       "      <td>1.145800e+02</td>\n",
       "      <td>GTS</td>\n",
       "      <td>Undefined</td>\n",
       "      <td>a a hydraulic repair div of mcgivern ent</td>\n",
       "      <td>a</td>\n",
       "      <td>aahydraulicrepairdivofmcgivernent</td>\n",
       "    </tr>\n",
       "    <tr>\n",
       "      <th>4</th>\n",
       "      <td>JDE CAM</td>\n",
       "      <td>177662</td>\n",
       "      <td>A &amp; A MACHINE &amp; DEVELOP</td>\n",
       "      <td>2.947939e+02</td>\n",
       "      <td>INDUSTRIAL</td>\n",
       "      <td>General Procurement</td>\n",
       "      <td>a a machine develop</td>\n",
       "      <td>a</td>\n",
       "      <td>aamachinedevelop</td>\n",
       "    </tr>\n",
       "    <tr>\n",
       "      <th>...</th>\n",
       "      <td>...</td>\n",
       "      <td>...</td>\n",
       "      <td>...</td>\n",
       "      <td>...</td>\n",
       "      <td>...</td>\n",
       "      <td>...</td>\n",
       "      <td>...</td>\n",
       "      <td>...</td>\n",
       "      <td>...</td>\n",
       "    </tr>\n",
       "    <tr>\n",
       "      <th>9502</th>\n",
       "      <td>INBUS</td>\n",
       "      <td>VCB0224-KOREA_SB</td>\n",
       "      <td>All Scale Co., Ltd.</td>\n",
       "      <td>4.409710e+02</td>\n",
       "      <td>INDUSTRIAL</td>\n",
       "      <td>General Procurement</td>\n",
       "      <td>all scale</td>\n",
       "      <td>a</td>\n",
       "      <td>allscale</td>\n",
       "    </tr>\n",
       "    <tr>\n",
       "      <th>9503</th>\n",
       "      <td>SAP C11</td>\n",
       "      <td>30113432</td>\n",
       "      <td>Accenture (China) Co., Ltd. / Accenture (China...</td>\n",
       "      <td>9.799743e+05</td>\n",
       "      <td>Undefined</td>\n",
       "      <td>Undefined</td>\n",
       "      <td>accenture china accenture china</td>\n",
       "      <td>a</td>\n",
       "      <td>accenturechinaaccenturechina</td>\n",
       "    </tr>\n",
       "    <tr>\n",
       "      <th>9504</th>\n",
       "      <td>UFIDA - SH</td>\n",
       "      <td>6012</td>\n",
       "      <td>ANCHOR FASTENERS IND.CO.,LTD</td>\n",
       "      <td>5.138550e+03</td>\n",
       "      <td>INDUSTRIAL</td>\n",
       "      <td>Undefined</td>\n",
       "      <td>anchor fasteners ind</td>\n",
       "      <td>a</td>\n",
       "      <td>anchorfastenersind</td>\n",
       "    </tr>\n",
       "    <tr>\n",
       "      <th>9505</th>\n",
       "      <td>SAP E03</td>\n",
       "      <td>180427</td>\n",
       "      <td>AKASHIDENKI CO., LTD.</td>\n",
       "      <td>8.589643e+01</td>\n",
       "      <td>GTS</td>\n",
       "      <td>Undefined</td>\n",
       "      <td>akashidenki</td>\n",
       "      <td>a</td>\n",
       "      <td>akashidenki</td>\n",
       "    </tr>\n",
       "    <tr>\n",
       "      <th>9506</th>\n",
       "      <td>SAP C11</td>\n",
       "      <td>30111933</td>\n",
       "      <td>Aiquxilai Ai Song Information Technology (Shan...</td>\n",
       "      <td>3.278903e+06</td>\n",
       "      <td>Undefined</td>\n",
       "      <td>General Procurement</td>\n",
       "      <td>aiquxilai ai song information technology shang...</td>\n",
       "      <td>a</td>\n",
       "      <td>aiquxilaiaisonginformationtechnologyshanghaiai...</td>\n",
       "    </tr>\n",
       "  </tbody>\n",
       "</table>\n",
       "<p>9507 rows × 9 columns</p>\n",
       "</div>\n",
       "      <button class=\"colab-df-convert\" onclick=\"convertToInteractive('df-7510ae96-ec10-4cde-9895-a06c1b161056')\"\n",
       "              title=\"Convert this dataframe to an interactive table.\"\n",
       "              style=\"display:none;\">\n",
       "        \n",
       "  <svg xmlns=\"http://www.w3.org/2000/svg\" height=\"24px\"viewBox=\"0 0 24 24\"\n",
       "       width=\"24px\">\n",
       "    <path d=\"M0 0h24v24H0V0z\" fill=\"none\"/>\n",
       "    <path d=\"M18.56 5.44l.94 2.06.94-2.06 2.06-.94-2.06-.94-.94-2.06-.94 2.06-2.06.94zm-11 1L8.5 8.5l.94-2.06 2.06-.94-2.06-.94L8.5 2.5l-.94 2.06-2.06.94zm10 10l.94 2.06.94-2.06 2.06-.94-2.06-.94-.94-2.06-.94 2.06-2.06.94z\"/><path d=\"M17.41 7.96l-1.37-1.37c-.4-.4-.92-.59-1.43-.59-.52 0-1.04.2-1.43.59L10.3 9.45l-7.72 7.72c-.78.78-.78 2.05 0 2.83L4 21.41c.39.39.9.59 1.41.59.51 0 1.02-.2 1.41-.59l7.78-7.78 2.81-2.81c.8-.78.8-2.07 0-2.86zM5.41 20L4 18.59l7.72-7.72 1.47 1.35L5.41 20z\"/>\n",
       "  </svg>\n",
       "      </button>\n",
       "      \n",
       "  <style>\n",
       "    .colab-df-container {\n",
       "      display:flex;\n",
       "      flex-wrap:wrap;\n",
       "      gap: 12px;\n",
       "    }\n",
       "\n",
       "    .colab-df-convert {\n",
       "      background-color: #E8F0FE;\n",
       "      border: none;\n",
       "      border-radius: 50%;\n",
       "      cursor: pointer;\n",
       "      display: none;\n",
       "      fill: #1967D2;\n",
       "      height: 32px;\n",
       "      padding: 0 0 0 0;\n",
       "      width: 32px;\n",
       "    }\n",
       "\n",
       "    .colab-df-convert:hover {\n",
       "      background-color: #E2EBFA;\n",
       "      box-shadow: 0px 1px 2px rgba(60, 64, 67, 0.3), 0px 1px 3px 1px rgba(60, 64, 67, 0.15);\n",
       "      fill: #174EA6;\n",
       "    }\n",
       "\n",
       "    [theme=dark] .colab-df-convert {\n",
       "      background-color: #3B4455;\n",
       "      fill: #D2E3FC;\n",
       "    }\n",
       "\n",
       "    [theme=dark] .colab-df-convert:hover {\n",
       "      background-color: #434B5C;\n",
       "      box-shadow: 0px 1px 3px 1px rgba(0, 0, 0, 0.15);\n",
       "      filter: drop-shadow(0px 1px 2px rgba(0, 0, 0, 0.3));\n",
       "      fill: #FFFFFF;\n",
       "    }\n",
       "  </style>\n",
       "\n",
       "      <script>\n",
       "        const buttonEl =\n",
       "          document.querySelector('#df-7510ae96-ec10-4cde-9895-a06c1b161056 button.colab-df-convert');\n",
       "        buttonEl.style.display =\n",
       "          google.colab.kernel.accessAllowed ? 'block' : 'none';\n",
       "\n",
       "        async function convertToInteractive(key) {\n",
       "          const element = document.querySelector('#df-7510ae96-ec10-4cde-9895-a06c1b161056');\n",
       "          const dataTable =\n",
       "            await google.colab.kernel.invokeFunction('convertToInteractive',\n",
       "                                                     [key], {});\n",
       "          if (!dataTable) return;\n",
       "\n",
       "          const docLinkHtml = 'Like what you see? Visit the ' +\n",
       "            '<a target=\"_blank\" href=https://colab.research.google.com/notebooks/data_table.ipynb>data table notebook</a>'\n",
       "            + ' to learn more about interactive tables.';\n",
       "          element.innerHTML = '';\n",
       "          dataTable['output_type'] = 'display_data';\n",
       "          await google.colab.output.renderOutput(dataTable, element);\n",
       "          const docLink = document.createElement('div');\n",
       "          docLink.innerHTML = docLinkHtml;\n",
       "          element.appendChild(docLink);\n",
       "        }\n",
       "      </script>\n",
       "    </div>\n",
       "  </div>\n",
       "  "
      ],
      "text/plain": [
       "              DataSource     Vendor number  \\\n",
       "0     3rd Party Security             34001   \n",
       "1                SAP P10           1107212   \n",
       "2           Syteline IES       9992470-DEX   \n",
       "3                SAP P10           1072125   \n",
       "4                JDE CAM            177662   \n",
       "...                  ...               ...   \n",
       "9502               INBUS  VCB0224-KOREA_SB   \n",
       "9503             SAP C11          30113432   \n",
       "9504          UFIDA - SH              6012   \n",
       "9505             SAP E03            180427   \n",
       "9506             SAP C11          30111933   \n",
       "\n",
       "                                            Vendor name   Spend (USD)  \\\n",
       "0                                 ACES Direct (4LAUNCH)  3.281538e+03   \n",
       "1                                    A & F ELECTRIC LLC  4.400000e+04   \n",
       "2     A & A ENGINEERING CIVIL AND STRUCTURAL ENGINEE...  3.450000e+03   \n",
       "3     A & A HYDRAULIC REPAIR CO/DIV OF MCGIVERN ENT INC  1.145800e+02   \n",
       "4                               A & A MACHINE & DEVELOP  2.947939e+02   \n",
       "...                                                 ...           ...   \n",
       "9502                                All Scale Co., Ltd.  4.409710e+02   \n",
       "9503  Accenture (China) Co., Ltd. / Accenture (China...  9.799743e+05   \n",
       "9504                       ANCHOR FASTENERS IND.CO.,LTD  5.138550e+03   \n",
       "9505                              AKASHIDENKI CO., LTD.  8.589643e+01   \n",
       "9506  Aiquxilai Ai Song Information Technology (Shan...  3.278903e+06   \n",
       "\n",
       "         Segment     Primary Category  \\\n",
       "0       SECURITY       Finished Goods   \n",
       "1       SECURITY  General Procurement   \n",
       "2     INDUSTRIAL            Undefined   \n",
       "3            GTS            Undefined   \n",
       "4     INDUSTRIAL  General Procurement   \n",
       "...          ...                  ...   \n",
       "9502  INDUSTRIAL  General Procurement   \n",
       "9503   Undefined            Undefined   \n",
       "9504  INDUSTRIAL            Undefined   \n",
       "9505         GTS            Undefined   \n",
       "9506   Undefined  General Procurement   \n",
       "\n",
       "                                      Clean_Vendor_Name Vendor_name_Initials  \\\n",
       "0                                   aces direct 4launch                    a   \n",
       "1                                          a f electric                    a   \n",
       "2        a a engineering civil and structural engineers                    a   \n",
       "3              a a hydraulic repair div of mcgivern ent                    a   \n",
       "4                                   a a machine develop                    a   \n",
       "...                                                 ...                  ...   \n",
       "9502                                          all scale                    a   \n",
       "9503                    accenture china accenture china                    a   \n",
       "9504                               anchor fasteners ind                    a   \n",
       "9505                                        akashidenki                    a   \n",
       "9506  aiquxilai ai song information technology shang...                    a   \n",
       "\n",
       "                                      crisp_vendor_name  \n",
       "0                                     acesdirect4launch  \n",
       "1                                            afelectric  \n",
       "2              aaengineeringcivilandstructuralengineers  \n",
       "3                     aahydraulicrepairdivofmcgivernent  \n",
       "4                                      aamachinedevelop  \n",
       "...                                                 ...  \n",
       "9502                                           allscale  \n",
       "9503                       accenturechinaaccenturechina  \n",
       "9504                                 anchorfastenersind  \n",
       "9505                                        akashidenki  \n",
       "9506  aiquxilaiaisonginformationtechnologyshanghaiai...  \n",
       "\n",
       "[9507 rows x 9 columns]"
      ]
     },
     "execution_count": 124,
     "metadata": {},
     "output_type": "execute_result"
    }
   ],
   "source": [
    "input_df"
   ]
  },
  {
   "cell_type": "code",
   "execution_count": 125,
   "metadata": {
    "colab": {
     "base_uri": "https://localhost:8080/",
     "height": 67,
     "referenced_widgets": [
      "8f1e236c1b1c48488bc2dd2f6847008a",
      "569e05f7b3a64ceab3eb662df4342078",
      "7c0f547322774df2a1c57f41be9326d5",
      "0135f251a5d34d7393a988d8411df150",
      "78a2bb5e5dfd4d9d9cf8b0911cc69cfe",
      "29ff2fa756fb4811a7e0de8602f4273b",
      "9fb76c362aa0458296628b2742c830a4",
      "8096f44444e145b49e512c97ded3fdc9",
      "bd49a5231b114b32a678ca50f6b571c6",
      "7661c03a5ab4473987ddc9805900ae41",
      "66dd0cc9682a46e9a2c6964fdbfbdc2c"
     ]
    },
    "id": "kM03kqfMY6ej",
    "outputId": "83ea4bd8-d5e9-4cc2-ee77-8d36c13a48ef"
   },
   "outputs": [
    {
     "name": "stdout",
     "output_type": "stream",
     "text": [
      "6\n"
     ]
    },
    {
     "data": {
      "application/vnd.jupyter.widget-view+json": {
       "model_id": "8f1e236c1b1c48488bc2dd2f6847008a",
       "version_major": 2,
       "version_minor": 0
      },
      "text/plain": [
       "  0%|          | 0/9507 [00:00<?, ?it/s]"
      ]
     },
     "metadata": {},
     "output_type": "display_data"
    }
   ],
   "source": [
    "count_col = 0\n",
    "for col in input_df.columns:\n",
    "  if col in acp_inp_col_names:\n",
    "    count_col = count_col +1\n",
    "print(count_col)\n",
    "input_df['Vendor_Flag']=np.nan\n",
    "if count_col==1:\n",
    "  for i in tqdm(range(len(input_df))):\n",
    "    vendorFlag_wo_VN(i)\n",
    "  input_df['DataSource']=np.nan\n",
    "  input_df['Vendor number']=np.nan\n",
    "  \n",
    "else:\n",
    "  for i in tqdm(range(len(input_df))):\n",
    "    vendorFlag(i)\n",
    "\n"
   ]
  },
  {
   "cell_type": "code",
   "execution_count": 126,
   "metadata": {
    "colab": {
     "base_uri": "https://localhost:8080/"
    },
    "id": "zYxyUhMpXVUF",
    "outputId": "1137a7f1-7560-4bde-b900-6745b781b97a"
   },
   "outputs": [
    {
     "data": {
      "text/plain": [
       "array(['New', 'Old'], dtype=object)"
      ]
     },
     "execution_count": 126,
     "metadata": {},
     "output_type": "execute_result"
    }
   ],
   "source": [
    "input_df.Vendor_Flag.unique()\n"
   ]
  },
  {
   "cell_type": "code",
   "execution_count": 127,
   "metadata": {
    "colab": {
     "base_uri": "https://localhost:8080/"
    },
    "id": "0C0S0XjdF4Sv",
    "outputId": "fad13d5a-bb05-4726-b31e-ed9715a63d61"
   },
   "outputs": [
    {
     "data": {
      "text/plain": [
       "9507"
      ]
     },
     "execution_count": 127,
     "metadata": {},
     "output_type": "execute_result"
    }
   ],
   "source": [
    "input_df.shape[0]"
   ]
  },
  {
   "cell_type": "code",
   "execution_count": 128,
   "metadata": {
    "id": "YzS3xKcr34T1"
   },
   "outputs": [],
   "source": [
    "#stop"
   ]
  },
  {
   "cell_type": "code",
   "execution_count": 129,
   "metadata": {
    "colab": {
     "base_uri": "https://localhost:8080/"
    },
    "id": "h4aCUl-_LskJ",
    "outputId": "8d836d98-1c47-447d-b787-8f981ab35a5c"
   },
   "outputs": [
    {
     "data": {
      "text/plain": [
       "8491"
      ]
     },
     "execution_count": 129,
     "metadata": {},
     "output_type": "execute_result"
    }
   ],
   "source": [
    "input_df['Vendor name'].nunique()"
   ]
  },
  {
   "cell_type": "code",
   "execution_count": 129,
   "metadata": {
    "id": "sbs-7PZ13cIO"
   },
   "outputs": [],
   "source": []
  },
  {
   "cell_type": "code",
   "execution_count": 130,
   "metadata": {
    "id": "ItkElrqvcFp1"
   },
   "outputs": [],
   "source": [
    "input_df.replace(\" \", np.nan, inplace=True)"
   ]
  },
  {
   "cell_type": "code",
   "execution_count": 131,
   "metadata": {
    "colab": {
     "base_uri": "https://localhost:8080/"
    },
    "id": "RlcdG0YgcFp2",
    "outputId": "9a6d8e44-2c06-4782-e73c-f4b0b12e3325"
   },
   "outputs": [
    {
     "data": {
      "text/plain": [
       "9507"
      ]
     },
     "execution_count": 131,
     "metadata": {},
     "output_type": "execute_result"
    }
   ],
   "source": [
    "input_df.shape[0]"
   ]
  },
  {
   "cell_type": "code",
   "execution_count": 132,
   "metadata": {
    "colab": {
     "base_uri": "https://localhost:8080/"
    },
    "id": "Vv8Tf7cWZ2ry",
    "outputId": "66d3767f-4584-4d6a-81ba-5df75cfbe180"
   },
   "outputs": [
    {
     "data": {
      "text/plain": [
       "9507"
      ]
     },
     "execution_count": 132,
     "metadata": {},
     "output_type": "execute_result"
    }
   ],
   "source": [
    "inp_df_shape1 = input_df.shape[0]\n",
    "inp_df_shape1"
   ]
  },
  {
   "cell_type": "code",
   "execution_count": 133,
   "metadata": {
    "colab": {
     "base_uri": "https://localhost:8080/"
    },
    "id": "7IPIwLFkcFp2",
    "outputId": "89a98a2d-4337-4c6d-c4c2-4eec894c8ff3"
   },
   "outputs": [
    {
     "data": {
      "text/plain": [
       "DataSource              0\n",
       "Vendor number           0\n",
       "Vendor name             0\n",
       "Spend (USD)             0\n",
       "Segment                 0\n",
       "Primary Category        0\n",
       "Clean_Vendor_Name       0\n",
       "Vendor_name_Initials    0\n",
       "crisp_vendor_name       0\n",
       "Vendor_Flag             0\n",
       "dtype: int64"
      ]
     },
     "execution_count": 133,
     "metadata": {},
     "output_type": "execute_result"
    }
   ],
   "source": [
    "input_df.isna().sum()"
   ]
  },
  {
   "cell_type": "code",
   "execution_count": 134,
   "metadata": {
    "colab": {
     "base_uri": "https://localhost:8080/"
    },
    "id": "I7a-QQwTcFp2",
    "outputId": "9b834763-9bc4-4af1-8ee8-d18e8cdb7925"
   },
   "outputs": [
    {
     "data": {
      "text/plain": [
       "9507"
      ]
     },
     "execution_count": 134,
     "metadata": {},
     "output_type": "execute_result"
    }
   ],
   "source": [
    "if input_df['Vendor_name_Initials'].isna().sum() > 0:\n",
    "  input_df_null_Vn_initial_records = input_df[input_df['Vendor_name_Initials'].isnull()]\n",
    "  input_df_null_Vn_initial_records.to_excel('input df null Vn initials.xlsx',index=False,encoding='utf8')\n",
    "  files.download('input df null Vn initials.xlsx')\n",
    "  input_df.dropna(subset = [\"Vendor_name_Initials\"],inplace=True) \n",
    "  \n",
    "input_df.shape[0] # also add a condition if any NULLs are present in the initials. And take the count for the final info\n",
    "# this code can also be alter where one choose to have the filtered input data "
   ]
  },
  {
   "cell_type": "code",
   "execution_count": 135,
   "metadata": {
    "colab": {
     "base_uri": "https://localhost:8080/"
    },
    "id": "YFif3b6AYzuv",
    "outputId": "9dc5a332-5cd3-4d91-cb3f-f0e406a99fc7"
   },
   "outputs": [
    {
     "data": {
      "text/plain": [
       "0"
      ]
     },
     "execution_count": 135,
     "metadata": {},
     "output_type": "execute_result"
    }
   ],
   "source": [
    "# dropping NA again IF there is any while creating Vendor_name_Initials else it will be zero\n",
    "no_of_null_inp_records2 = inp_df_shape1 - input_df.shape[0]\n",
    "no_of_null_inp_records2"
   ]
  },
  {
   "cell_type": "code",
   "execution_count": 136,
   "metadata": {
    "colab": {
     "base_uri": "https://localhost:8080/"
    },
    "id": "MBKKp5RjcFp2",
    "outputId": "7c5b9e0e-ef37-4e7e-e4cf-c6fb470812db"
   },
   "outputs": [
    {
     "data": {
      "text/plain": [
       "(9507, 10)"
      ]
     },
     "execution_count": 136,
     "metadata": {},
     "output_type": "execute_result"
    }
   ],
   "source": [
    "input_df.shape"
   ]
  },
  {
   "cell_type": "code",
   "execution_count": 137,
   "metadata": {
    "colab": {
     "base_uri": "https://localhost:8080/"
    },
    "id": "btGGP934cFp2",
    "outputId": "d214948b-5c80-4436-f46c-324dcdab31b6"
   },
   "outputs": [
    {
     "data": {
      "text/plain": [
       "0"
      ]
     },
     "execution_count": 137,
     "metadata": {},
     "output_type": "execute_result"
    }
   ],
   "source": [
    "input_df['Vendor name'].isna().sum()"
   ]
  },
  {
   "cell_type": "code",
   "execution_count": 138,
   "metadata": {
    "id": "dyKzOfS9cFp2"
   },
   "outputs": [],
   "source": [
    "input_df.reset_index(inplace=True,drop=True)"
   ]
  },
  {
   "cell_type": "code",
   "execution_count": 139,
   "metadata": {
    "id": "U8dcaCtvcFp3"
   },
   "outputs": [],
   "source": [
    "#input_df[input_df['Clean_Vendor_Name'] == input_df['Clean_Vendor_Name'].iloc[276]]"
   ]
  },
  {
   "cell_type": "code",
   "execution_count": 140,
   "metadata": {
    "colab": {
     "base_uri": "https://localhost:8080/"
    },
    "id": "IF9t0m8xcFp3",
    "outputId": "c9b398c4-9b0e-4b34-ebaa-4d969d69394f"
   },
   "outputs": [
    {
     "data": {
      "text/plain": [
       "9507"
      ]
     },
     "execution_count": 140,
     "metadata": {},
     "output_type": "execute_result"
    }
   ],
   "source": [
    "input_df.shape[0]"
   ]
  },
  {
   "cell_type": "code",
   "execution_count": 141,
   "metadata": {
    "colab": {
     "base_uri": "https://localhost:8080/"
    },
    "id": "CQuiOuiLcFp3",
    "outputId": "67d8b5fe-7223-4373-99c9-b043681315dc"
   },
   "outputs": [
    {
     "name": "stdout",
     "output_type": "stream",
     "text": [
      "2\n"
     ]
    }
   ],
   "source": [
    "n= input_df.Vendor_Flag.nunique()\n",
    "print(n)"
   ]
  },
  {
   "cell_type": "code",
   "execution_count": 141,
   "metadata": {
    "id": "qdKdZrpbqSxv"
   },
   "outputs": [],
   "source": []
  },
  {
   "cell_type": "code",
   "execution_count": 141,
   "metadata": {
    "id": "U4JKGIVqJj8N"
   },
   "outputs": [],
   "source": []
  },
  {
   "cell_type": "code",
   "execution_count": 142,
   "metadata": {
    "colab": {
     "base_uri": "https://localhost:8080/"
    },
    "id": "n20T-yRNcFp4",
    "outputId": "23bddb42-89a6-4dbb-eb57-212857e44e64"
   },
   "outputs": [
    {
     "data": {
      "text/plain": [
       "1344"
      ]
     },
     "execution_count": 142,
     "metadata": {},
     "output_type": "execute_result"
    }
   ],
   "source": [
    "new_records_with_dup = input_df[input_df.Vendor_Flag =='New'].shape[0] #Duplicate vendor names\n",
    "new_records_with_dup"
   ]
  },
  {
   "cell_type": "code",
   "execution_count": 143,
   "metadata": {
    "colab": {
     "base_uri": "https://localhost:8080/"
    },
    "id": "sciKp2WDcFp4",
    "outputId": "e13413ff-9dec-4a43-a6ab-21cebd965df8"
   },
   "outputs": [
    {
     "data": {
      "text/plain": [
       "8163"
      ]
     },
     "execution_count": 143,
     "metadata": {},
     "output_type": "execute_result"
    }
   ],
   "source": [
    "old_records_with_dup = input_df[input_df.Vendor_Flag =='Old'].shape[0] #Duplicate vendor names\n",
    "old_records_with_dup"
   ]
  },
  {
   "cell_type": "code",
   "execution_count": 144,
   "metadata": {
    "colab": {
     "base_uri": "https://localhost:8080/",
     "height": 206
    },
    "id": "jvU-5sz-RVup",
    "outputId": "50faec9d-d34d-40de-8dc5-527f708aaefb"
   },
   "outputs": [
    {
     "data": {
      "text/html": [
       "\n",
       "  <div id=\"df-147ab527-151f-4a9c-91f8-ca83ae559ba7\">\n",
       "    <div class=\"colab-df-container\">\n",
       "      <div>\n",
       "<style scoped>\n",
       "    .dataframe tbody tr th:only-of-type {\n",
       "        vertical-align: middle;\n",
       "    }\n",
       "\n",
       "    .dataframe tbody tr th {\n",
       "        vertical-align: top;\n",
       "    }\n",
       "\n",
       "    .dataframe thead th {\n",
       "        text-align: right;\n",
       "    }\n",
       "</style>\n",
       "<table border=\"1\" class=\"dataframe\">\n",
       "  <thead>\n",
       "    <tr style=\"text-align: right;\">\n",
       "      <th></th>\n",
       "      <th>DataSource</th>\n",
       "      <th>Vendor number</th>\n",
       "      <th>Vendor name</th>\n",
       "      <th>Spend (USD)</th>\n",
       "      <th>Segment</th>\n",
       "      <th>Primary Category</th>\n",
       "      <th>Clean_Vendor_Name</th>\n",
       "      <th>Vendor_name_Initials</th>\n",
       "      <th>crisp_vendor_name</th>\n",
       "      <th>Vendor_Flag</th>\n",
       "    </tr>\n",
       "  </thead>\n",
       "  <tbody>\n",
       "    <tr>\n",
       "      <th>0</th>\n",
       "      <td>3rd Party Security</td>\n",
       "      <td>34001</td>\n",
       "      <td>ACES Direct (4LAUNCH)</td>\n",
       "      <td>3281.53803</td>\n",
       "      <td>SECURITY</td>\n",
       "      <td>Finished Goods</td>\n",
       "      <td>aces direct 4launch</td>\n",
       "      <td>a</td>\n",
       "      <td>acesdirect4launch</td>\n",
       "      <td>New</td>\n",
       "    </tr>\n",
       "    <tr>\n",
       "      <th>1</th>\n",
       "      <td>SAP P10</td>\n",
       "      <td>1107212</td>\n",
       "      <td>A &amp; F ELECTRIC LLC</td>\n",
       "      <td>44000.00000</td>\n",
       "      <td>SECURITY</td>\n",
       "      <td>General Procurement</td>\n",
       "      <td>a f electric</td>\n",
       "      <td>a</td>\n",
       "      <td>afelectric</td>\n",
       "      <td>New</td>\n",
       "    </tr>\n",
       "    <tr>\n",
       "      <th>2</th>\n",
       "      <td>SAP P10</td>\n",
       "      <td>1072125</td>\n",
       "      <td>A &amp; A HYDRAULIC REPAIR CO/DIV OF MCGIVERN ENT INC</td>\n",
       "      <td>114.58000</td>\n",
       "      <td>GTS</td>\n",
       "      <td>Undefined</td>\n",
       "      <td>a a hydraulic repair div of mcgivern ent</td>\n",
       "      <td>a</td>\n",
       "      <td>aahydraulicrepairdivofmcgivernent</td>\n",
       "      <td>New</td>\n",
       "    </tr>\n",
       "    <tr>\n",
       "      <th>3</th>\n",
       "      <td>Navision Hydraulics</td>\n",
       "      <td>92574-311</td>\n",
       "      <td>A &amp; A SAFETY INC</td>\n",
       "      <td>0.00000</td>\n",
       "      <td>INDUSTRIAL</td>\n",
       "      <td>Not Controllable</td>\n",
       "      <td>a a safety</td>\n",
       "      <td>a</td>\n",
       "      <td>aasafety</td>\n",
       "      <td>New</td>\n",
       "    </tr>\n",
       "    <tr>\n",
       "      <th>4</th>\n",
       "      <td>JDE CAM</td>\n",
       "      <td>141835</td>\n",
       "      <td>A &amp; S CUT OFF CENTER INC.</td>\n",
       "      <td>7810.42000</td>\n",
       "      <td>INDUSTRIAL</td>\n",
       "      <td>Commodities</td>\n",
       "      <td>a s cut off center</td>\n",
       "      <td>a</td>\n",
       "      <td>ascutoffcenter</td>\n",
       "      <td>New</td>\n",
       "    </tr>\n",
       "  </tbody>\n",
       "</table>\n",
       "</div>\n",
       "      <button class=\"colab-df-convert\" onclick=\"convertToInteractive('df-147ab527-151f-4a9c-91f8-ca83ae559ba7')\"\n",
       "              title=\"Convert this dataframe to an interactive table.\"\n",
       "              style=\"display:none;\">\n",
       "        \n",
       "  <svg xmlns=\"http://www.w3.org/2000/svg\" height=\"24px\"viewBox=\"0 0 24 24\"\n",
       "       width=\"24px\">\n",
       "    <path d=\"M0 0h24v24H0V0z\" fill=\"none\"/>\n",
       "    <path d=\"M18.56 5.44l.94 2.06.94-2.06 2.06-.94-2.06-.94-.94-2.06-.94 2.06-2.06.94zm-11 1L8.5 8.5l.94-2.06 2.06-.94-2.06-.94L8.5 2.5l-.94 2.06-2.06.94zm10 10l.94 2.06.94-2.06 2.06-.94-2.06-.94-.94-2.06-.94 2.06-2.06.94z\"/><path d=\"M17.41 7.96l-1.37-1.37c-.4-.4-.92-.59-1.43-.59-.52 0-1.04.2-1.43.59L10.3 9.45l-7.72 7.72c-.78.78-.78 2.05 0 2.83L4 21.41c.39.39.9.59 1.41.59.51 0 1.02-.2 1.41-.59l7.78-7.78 2.81-2.81c.8-.78.8-2.07 0-2.86zM5.41 20L4 18.59l7.72-7.72 1.47 1.35L5.41 20z\"/>\n",
       "  </svg>\n",
       "      </button>\n",
       "      \n",
       "  <style>\n",
       "    .colab-df-container {\n",
       "      display:flex;\n",
       "      flex-wrap:wrap;\n",
       "      gap: 12px;\n",
       "    }\n",
       "\n",
       "    .colab-df-convert {\n",
       "      background-color: #E8F0FE;\n",
       "      border: none;\n",
       "      border-radius: 50%;\n",
       "      cursor: pointer;\n",
       "      display: none;\n",
       "      fill: #1967D2;\n",
       "      height: 32px;\n",
       "      padding: 0 0 0 0;\n",
       "      width: 32px;\n",
       "    }\n",
       "\n",
       "    .colab-df-convert:hover {\n",
       "      background-color: #E2EBFA;\n",
       "      box-shadow: 0px 1px 2px rgba(60, 64, 67, 0.3), 0px 1px 3px 1px rgba(60, 64, 67, 0.15);\n",
       "      fill: #174EA6;\n",
       "    }\n",
       "\n",
       "    [theme=dark] .colab-df-convert {\n",
       "      background-color: #3B4455;\n",
       "      fill: #D2E3FC;\n",
       "    }\n",
       "\n",
       "    [theme=dark] .colab-df-convert:hover {\n",
       "      background-color: #434B5C;\n",
       "      box-shadow: 0px 1px 3px 1px rgba(0, 0, 0, 0.15);\n",
       "      filter: drop-shadow(0px 1px 2px rgba(0, 0, 0, 0.3));\n",
       "      fill: #FFFFFF;\n",
       "    }\n",
       "  </style>\n",
       "\n",
       "      <script>\n",
       "        const buttonEl =\n",
       "          document.querySelector('#df-147ab527-151f-4a9c-91f8-ca83ae559ba7 button.colab-df-convert');\n",
       "        buttonEl.style.display =\n",
       "          google.colab.kernel.accessAllowed ? 'block' : 'none';\n",
       "\n",
       "        async function convertToInteractive(key) {\n",
       "          const element = document.querySelector('#df-147ab527-151f-4a9c-91f8-ca83ae559ba7');\n",
       "          const dataTable =\n",
       "            await google.colab.kernel.invokeFunction('convertToInteractive',\n",
       "                                                     [key], {});\n",
       "          if (!dataTable) return;\n",
       "\n",
       "          const docLinkHtml = 'Like what you see? Visit the ' +\n",
       "            '<a target=\"_blank\" href=https://colab.research.google.com/notebooks/data_table.ipynb>data table notebook</a>'\n",
       "            + ' to learn more about interactive tables.';\n",
       "          element.innerHTML = '';\n",
       "          dataTable['output_type'] = 'display_data';\n",
       "          await google.colab.output.renderOutput(dataTable, element);\n",
       "          const docLink = document.createElement('div');\n",
       "          docLink.innerHTML = docLinkHtml;\n",
       "          element.appendChild(docLink);\n",
       "        }\n",
       "      </script>\n",
       "    </div>\n",
       "  </div>\n",
       "  "
      ],
      "text/plain": [
       "            DataSource Vendor number  \\\n",
       "0   3rd Party Security         34001   \n",
       "1              SAP P10       1107212   \n",
       "2              SAP P10       1072125   \n",
       "3  Navision Hydraulics     92574-311   \n",
       "4              JDE CAM        141835   \n",
       "\n",
       "                                         Vendor name  Spend (USD)     Segment  \\\n",
       "0                              ACES Direct (4LAUNCH)   3281.53803    SECURITY   \n",
       "1                                 A & F ELECTRIC LLC  44000.00000    SECURITY   \n",
       "2  A & A HYDRAULIC REPAIR CO/DIV OF MCGIVERN ENT INC    114.58000         GTS   \n",
       "3                                   A & A SAFETY INC      0.00000  INDUSTRIAL   \n",
       "4                          A & S CUT OFF CENTER INC.   7810.42000  INDUSTRIAL   \n",
       "\n",
       "      Primary Category                         Clean_Vendor_Name  \\\n",
       "0       Finished Goods                       aces direct 4launch   \n",
       "1  General Procurement                              a f electric   \n",
       "2            Undefined  a a hydraulic repair div of mcgivern ent   \n",
       "3     Not Controllable                                a a safety   \n",
       "4          Commodities                        a s cut off center   \n",
       "\n",
       "  Vendor_name_Initials                  crisp_vendor_name Vendor_Flag  \n",
       "0                    a                  acesdirect4launch         New  \n",
       "1                    a                         afelectric         New  \n",
       "2                    a  aahydraulicrepairdivofmcgivernent         New  \n",
       "3                    a                           aasafety         New  \n",
       "4                    a                     ascutoffcenter         New  "
      ]
     },
     "execution_count": 144,
     "metadata": {},
     "output_type": "execute_result"
    }
   ],
   "source": [
    "inp_new_flag_df = input_df[input_df.Vendor_Flag =='New']\n",
    "inp_new_flag_df.reset_index(drop=True,inplace=True)\n",
    "inp_new_flag_df.head(5)"
   ]
  },
  {
   "cell_type": "code",
   "execution_count": 145,
   "metadata": {
    "colab": {
     "base_uri": "https://localhost:8080/"
    },
    "id": "IibKcNiAmYvn",
    "outputId": "13fa5fb5-3bd1-4e65-cc0e-a2a373c65bc0"
   },
   "outputs": [
    {
     "data": {
      "text/plain": [
       "DataSource                52\n",
       "Vendor number           9422\n",
       "Vendor name             8491\n",
       "Spend (USD)             4841\n",
       "Segment                    5\n",
       "Primary Category           9\n",
       "Clean_Vendor_Name       8026\n",
       "Vendor_name_Initials       1\n",
       "crisp_vendor_name       7974\n",
       "Vendor_Flag                2\n",
       "dtype: int64"
      ]
     },
     "execution_count": 145,
     "metadata": {},
     "output_type": "execute_result"
    }
   ],
   "source": [
    "input_df.nunique()"
   ]
  },
  {
   "cell_type": "code",
   "execution_count": 146,
   "metadata": {
    "colab": {
     "base_uri": "https://localhost:8080/"
    },
    "id": "L7KoPpfCCyLc",
    "outputId": "def55620-22a0-4867-efa0-ad27bf6c1470"
   },
   "outputs": [
    {
     "name": "stdout",
     "output_type": "stream",
     "text": [
      "Count of new records with duplicate vendor names: 1344\n",
      "Count of new records with unique vendor names: 1303\n"
     ]
    }
   ],
   "source": [
    "new_records = inp_new_flag_df['Vendor name'].count()\n",
    "new_record_non_dup = inp_new_flag_df['Vendor name'].nunique()\n",
    "print(f'Count of new records with duplicate vendor names: {new_records}\\nCount of new records with unique vendor names: {new_record_non_dup}')"
   ]
  },
  {
   "cell_type": "code",
   "execution_count": 147,
   "metadata": {
    "colab": {
     "base_uri": "https://localhost:8080/"
    },
    "id": "9hAUAMMNXRCB",
    "outputId": "bd31773e-5b95-46e0-f430-839d96151dcc"
   },
   "outputs": [
    {
     "data": {
      "text/plain": [
       "8163"
      ]
     },
     "execution_count": 147,
     "metadata": {},
     "output_type": "execute_result"
    }
   ],
   "source": [
    "inp_old_flag_df = input_df[input_df.Vendor_Flag == 'Old']\n",
    "inp_old_flag_df.reset_index(drop=True,inplace=True)\n",
    "inp_old_flag_df.shape[0]"
   ]
  },
  {
   "cell_type": "code",
   "execution_count": 148,
   "metadata": {
    "colab": {
     "base_uri": "https://localhost:8080/"
    },
    "id": "ZLyOiQptS4y8",
    "outputId": "53a73f86-ac2f-418e-9081-579d01882413"
   },
   "outputs": [
    {
     "name": "stdout",
     "output_type": "stream",
     "text": [
      "Count of old records with duplicate vendor names: 8163\n",
      "Count of old records with unique vendor names: 7261\n"
     ]
    }
   ],
   "source": [
    "old_records = inp_old_flag_df['Vendor name'].count()\n",
    "old_records_non_dup = inp_old_flag_df['Vendor name'].nunique()\n",
    "print(f'Count of old records with duplicate vendor names: {old_records}\\nCount of old records with unique vendor names: {old_records_non_dup}')\n",
    "\n",
    "# summation of \"new_record_non_dup\" + \"old_records_non_dup\" != \"tot_no_of_unique_vendors\" because of the condtion of NEW and OLD. Since, if the same record would be there in OLD records, irrespective of the condition, then Nunique would have return\n",
    "# the same result as \"tot_no_of_unique_vendors\". So the record which should have been in OLD that moved to NEW, so the numbers changed.\n",
    "# The correct result is \"tot_no_of_unique_vendors\". SO, \"tot_no_of_unique_vendors\"<=  \"new_record_non_dup\" + \"old_records_non_dup\""
   ]
  },
  {
   "cell_type": "code",
   "execution_count": 149,
   "metadata": {
    "colab": {
     "base_uri": "https://localhost:8080/",
     "height": 206
    },
    "id": "1Y-5nvQsgTQk",
    "outputId": "ffa37d25-f37e-4a50-d47a-eeada45a8f39"
   },
   "outputs": [
    {
     "data": {
      "text/html": [
       "\n",
       "  <div id=\"df-e22438fb-0fba-4049-a519-078f7f4596ac\">\n",
       "    <div class=\"colab-df-container\">\n",
       "      <div>\n",
       "<style scoped>\n",
       "    .dataframe tbody tr th:only-of-type {\n",
       "        vertical-align: middle;\n",
       "    }\n",
       "\n",
       "    .dataframe tbody tr th {\n",
       "        vertical-align: top;\n",
       "    }\n",
       "\n",
       "    .dataframe thead th {\n",
       "        text-align: right;\n",
       "    }\n",
       "</style>\n",
       "<table border=\"1\" class=\"dataframe\">\n",
       "  <thead>\n",
       "    <tr style=\"text-align: right;\">\n",
       "      <th></th>\n",
       "      <th>DataSource</th>\n",
       "      <th>Vendor number</th>\n",
       "      <th>Vendor name</th>\n",
       "      <th>Spend (USD)</th>\n",
       "      <th>Segment</th>\n",
       "      <th>Primary Category</th>\n",
       "      <th>Clean_Vendor_Name</th>\n",
       "      <th>Vendor_name_Initials</th>\n",
       "      <th>crisp_vendor_name</th>\n",
       "      <th>Vendor_Flag</th>\n",
       "    </tr>\n",
       "  </thead>\n",
       "  <tbody>\n",
       "    <tr>\n",
       "      <th>0</th>\n",
       "      <td>Syteline IES</td>\n",
       "      <td>9992470-DEX</td>\n",
       "      <td>A &amp; A ENGINEERING CIVIL AND STRUCTURAL ENGINEE...</td>\n",
       "      <td>3450.000000</td>\n",
       "      <td>INDUSTRIAL</td>\n",
       "      <td>Undefined</td>\n",
       "      <td>a a engineering civil and structural engineers</td>\n",
       "      <td>a</td>\n",
       "      <td>aaengineeringcivilandstructuralengineers</td>\n",
       "      <td>Old</td>\n",
       "    </tr>\n",
       "    <tr>\n",
       "      <th>1</th>\n",
       "      <td>JDE CAM</td>\n",
       "      <td>177662</td>\n",
       "      <td>A &amp; A MACHINE &amp; DEVELOP</td>\n",
       "      <td>294.793886</td>\n",
       "      <td>INDUSTRIAL</td>\n",
       "      <td>General Procurement</td>\n",
       "      <td>a a machine develop</td>\n",
       "      <td>a</td>\n",
       "      <td>aamachinedevelop</td>\n",
       "      <td>Old</td>\n",
       "    </tr>\n",
       "    <tr>\n",
       "      <th>2</th>\n",
       "      <td>SAP C11</td>\n",
       "      <td>30101537</td>\n",
       "      <td>A &amp; A TROPHY HOUSE INC/DBA A&amp;A AWARDS &amp; PROMOT...</td>\n",
       "      <td>0.000000</td>\n",
       "      <td>GTS</td>\n",
       "      <td>General Procurement</td>\n",
       "      <td>a a trophy house dba aa awards promotionals</td>\n",
       "      <td>a</td>\n",
       "      <td>aatrophyhousedbaaaawardspromotionals</td>\n",
       "      <td>Old</td>\n",
       "    </tr>\n",
       "    <tr>\n",
       "      <th>3</th>\n",
       "      <td>Ariba</td>\n",
       "      <td>30101537-A10</td>\n",
       "      <td>A &amp; A TROPHY HOUSE INC/DBA A&amp;A AWARDS &amp; PROMOT...</td>\n",
       "      <td>0.000000</td>\n",
       "      <td>GTS</td>\n",
       "      <td>General Procurement</td>\n",
       "      <td>a a trophy house dba aa awards promotionals</td>\n",
       "      <td>a</td>\n",
       "      <td>aatrophyhousedbaaaawardspromotionals</td>\n",
       "      <td>Old</td>\n",
       "    </tr>\n",
       "    <tr>\n",
       "      <th>4</th>\n",
       "      <td>Ariba</td>\n",
       "      <td>1099744-A9</td>\n",
       "      <td>A &amp; A TROPHY HOUSE INC/A &amp; A AWARDS &amp; PROMOTIO...</td>\n",
       "      <td>31207.080000</td>\n",
       "      <td>CORPORATE</td>\n",
       "      <td>General Procurement</td>\n",
       "      <td>a a trophy house a a awards promotionals</td>\n",
       "      <td>a</td>\n",
       "      <td>aatrophyhouseaaawardspromotionals</td>\n",
       "      <td>Old</td>\n",
       "    </tr>\n",
       "  </tbody>\n",
       "</table>\n",
       "</div>\n",
       "      <button class=\"colab-df-convert\" onclick=\"convertToInteractive('df-e22438fb-0fba-4049-a519-078f7f4596ac')\"\n",
       "              title=\"Convert this dataframe to an interactive table.\"\n",
       "              style=\"display:none;\">\n",
       "        \n",
       "  <svg xmlns=\"http://www.w3.org/2000/svg\" height=\"24px\"viewBox=\"0 0 24 24\"\n",
       "       width=\"24px\">\n",
       "    <path d=\"M0 0h24v24H0V0z\" fill=\"none\"/>\n",
       "    <path d=\"M18.56 5.44l.94 2.06.94-2.06 2.06-.94-2.06-.94-.94-2.06-.94 2.06-2.06.94zm-11 1L8.5 8.5l.94-2.06 2.06-.94-2.06-.94L8.5 2.5l-.94 2.06-2.06.94zm10 10l.94 2.06.94-2.06 2.06-.94-2.06-.94-.94-2.06-.94 2.06-2.06.94z\"/><path d=\"M17.41 7.96l-1.37-1.37c-.4-.4-.92-.59-1.43-.59-.52 0-1.04.2-1.43.59L10.3 9.45l-7.72 7.72c-.78.78-.78 2.05 0 2.83L4 21.41c.39.39.9.59 1.41.59.51 0 1.02-.2 1.41-.59l7.78-7.78 2.81-2.81c.8-.78.8-2.07 0-2.86zM5.41 20L4 18.59l7.72-7.72 1.47 1.35L5.41 20z\"/>\n",
       "  </svg>\n",
       "      </button>\n",
       "      \n",
       "  <style>\n",
       "    .colab-df-container {\n",
       "      display:flex;\n",
       "      flex-wrap:wrap;\n",
       "      gap: 12px;\n",
       "    }\n",
       "\n",
       "    .colab-df-convert {\n",
       "      background-color: #E8F0FE;\n",
       "      border: none;\n",
       "      border-radius: 50%;\n",
       "      cursor: pointer;\n",
       "      display: none;\n",
       "      fill: #1967D2;\n",
       "      height: 32px;\n",
       "      padding: 0 0 0 0;\n",
       "      width: 32px;\n",
       "    }\n",
       "\n",
       "    .colab-df-convert:hover {\n",
       "      background-color: #E2EBFA;\n",
       "      box-shadow: 0px 1px 2px rgba(60, 64, 67, 0.3), 0px 1px 3px 1px rgba(60, 64, 67, 0.15);\n",
       "      fill: #174EA6;\n",
       "    }\n",
       "\n",
       "    [theme=dark] .colab-df-convert {\n",
       "      background-color: #3B4455;\n",
       "      fill: #D2E3FC;\n",
       "    }\n",
       "\n",
       "    [theme=dark] .colab-df-convert:hover {\n",
       "      background-color: #434B5C;\n",
       "      box-shadow: 0px 1px 3px 1px rgba(0, 0, 0, 0.15);\n",
       "      filter: drop-shadow(0px 1px 2px rgba(0, 0, 0, 0.3));\n",
       "      fill: #FFFFFF;\n",
       "    }\n",
       "  </style>\n",
       "\n",
       "      <script>\n",
       "        const buttonEl =\n",
       "          document.querySelector('#df-e22438fb-0fba-4049-a519-078f7f4596ac button.colab-df-convert');\n",
       "        buttonEl.style.display =\n",
       "          google.colab.kernel.accessAllowed ? 'block' : 'none';\n",
       "\n",
       "        async function convertToInteractive(key) {\n",
       "          const element = document.querySelector('#df-e22438fb-0fba-4049-a519-078f7f4596ac');\n",
       "          const dataTable =\n",
       "            await google.colab.kernel.invokeFunction('convertToInteractive',\n",
       "                                                     [key], {});\n",
       "          if (!dataTable) return;\n",
       "\n",
       "          const docLinkHtml = 'Like what you see? Visit the ' +\n",
       "            '<a target=\"_blank\" href=https://colab.research.google.com/notebooks/data_table.ipynb>data table notebook</a>'\n",
       "            + ' to learn more about interactive tables.';\n",
       "          element.innerHTML = '';\n",
       "          dataTable['output_type'] = 'display_data';\n",
       "          await google.colab.output.renderOutput(dataTable, element);\n",
       "          const docLink = document.createElement('div');\n",
       "          docLink.innerHTML = docLinkHtml;\n",
       "          element.appendChild(docLink);\n",
       "        }\n",
       "      </script>\n",
       "    </div>\n",
       "  </div>\n",
       "  "
      ],
      "text/plain": [
       "     DataSource Vendor number  \\\n",
       "0  Syteline IES   9992470-DEX   \n",
       "1       JDE CAM        177662   \n",
       "2       SAP C11      30101537   \n",
       "3         Ariba  30101537-A10   \n",
       "4         Ariba    1099744-A9   \n",
       "\n",
       "                                         Vendor name   Spend (USD)  \\\n",
       "0  A & A ENGINEERING CIVIL AND STRUCTURAL ENGINEE...   3450.000000   \n",
       "1                            A & A MACHINE & DEVELOP    294.793886   \n",
       "2  A & A TROPHY HOUSE INC/DBA A&A AWARDS & PROMOT...      0.000000   \n",
       "3  A & A TROPHY HOUSE INC/DBA A&A AWARDS & PROMOT...      0.000000   \n",
       "4  A & A TROPHY HOUSE INC/A & A AWARDS & PROMOTIO...  31207.080000   \n",
       "\n",
       "      Segment     Primary Category  \\\n",
       "0  INDUSTRIAL            Undefined   \n",
       "1  INDUSTRIAL  General Procurement   \n",
       "2         GTS  General Procurement   \n",
       "3         GTS  General Procurement   \n",
       "4   CORPORATE  General Procurement   \n",
       "\n",
       "                                Clean_Vendor_Name Vendor_name_Initials  \\\n",
       "0  a a engineering civil and structural engineers                    a   \n",
       "1                             a a machine develop                    a   \n",
       "2     a a trophy house dba aa awards promotionals                    a   \n",
       "3     a a trophy house dba aa awards promotionals                    a   \n",
       "4        a a trophy house a a awards promotionals                    a   \n",
       "\n",
       "                          crisp_vendor_name Vendor_Flag  \n",
       "0  aaengineeringcivilandstructuralengineers         Old  \n",
       "1                          aamachinedevelop         Old  \n",
       "2      aatrophyhousedbaaaawardspromotionals         Old  \n",
       "3      aatrophyhousedbaaaawardspromotionals         Old  \n",
       "4         aatrophyhouseaaawardspromotionals         Old  "
      ]
     },
     "execution_count": 149,
     "metadata": {},
     "output_type": "execute_result"
    }
   ],
   "source": [
    "inp_old_flag_df.head()"
   ]
  },
  {
   "cell_type": "code",
   "execution_count": 150,
   "metadata": {
    "id": "y_tmD_dMgZl7"
   },
   "outputs": [],
   "source": [
    "merged_inp_old_flag_df = pd.merge(inp_old_flag_df, clean_main_df['Clean_Vendor_Name'], on=['Clean_Vendor_Name'], how='inner')\n",
    "##merged_inp_old_flag_df.dropna(subset=['Clean_Vendor_Name','Vendor_name_Initials'],inplace=True)\n",
    "merged_inp_old_flag_df.drop_duplicates(subset=['Vendor name'],inplace=True)\n",
    "merged_inp_old_flag_df.reset_index(drop=True,inplace=True)"
   ]
  },
  {
   "cell_type": "code",
   "execution_count": 151,
   "metadata": {
    "colab": {
     "base_uri": "https://localhost:8080/",
     "height": 206
    },
    "id": "DYjI6tosc5os",
    "outputId": "7c76088f-464f-4062-d11f-dcbaedeb5195"
   },
   "outputs": [
    {
     "data": {
      "text/html": [
       "\n",
       "  <div id=\"df-f519ee6c-b888-41c1-91c0-7bb19f3de3bf\">\n",
       "    <div class=\"colab-df-container\">\n",
       "      <div>\n",
       "<style scoped>\n",
       "    .dataframe tbody tr th:only-of-type {\n",
       "        vertical-align: middle;\n",
       "    }\n",
       "\n",
       "    .dataframe tbody tr th {\n",
       "        vertical-align: top;\n",
       "    }\n",
       "\n",
       "    .dataframe thead th {\n",
       "        text-align: right;\n",
       "    }\n",
       "</style>\n",
       "<table border=\"1\" class=\"dataframe\">\n",
       "  <thead>\n",
       "    <tr style=\"text-align: right;\">\n",
       "      <th></th>\n",
       "      <th>DataSource</th>\n",
       "      <th>Vendor number</th>\n",
       "      <th>Vendor name</th>\n",
       "      <th>Spend (USD)</th>\n",
       "      <th>Segment</th>\n",
       "      <th>Primary Category</th>\n",
       "      <th>Clean_Vendor_Name</th>\n",
       "      <th>Vendor_name_Initials</th>\n",
       "      <th>crisp_vendor_name</th>\n",
       "      <th>Vendor_Flag</th>\n",
       "    </tr>\n",
       "  </thead>\n",
       "  <tbody>\n",
       "    <tr>\n",
       "      <th>0</th>\n",
       "      <td>Syteline IES</td>\n",
       "      <td>9992470-DEX</td>\n",
       "      <td>A &amp; A ENGINEERING CIVIL AND STRUCTURAL ENGINEE...</td>\n",
       "      <td>3450.000000</td>\n",
       "      <td>INDUSTRIAL</td>\n",
       "      <td>Undefined</td>\n",
       "      <td>a a engineering civil and structural engineers</td>\n",
       "      <td>a</td>\n",
       "      <td>aaengineeringcivilandstructuralengineers</td>\n",
       "      <td>Old</td>\n",
       "    </tr>\n",
       "    <tr>\n",
       "      <th>1</th>\n",
       "      <td>JDE CAM</td>\n",
       "      <td>177662</td>\n",
       "      <td>A &amp; A MACHINE &amp; DEVELOP</td>\n",
       "      <td>294.793886</td>\n",
       "      <td>INDUSTRIAL</td>\n",
       "      <td>General Procurement</td>\n",
       "      <td>a a machine develop</td>\n",
       "      <td>a</td>\n",
       "      <td>aamachinedevelop</td>\n",
       "      <td>Old</td>\n",
       "    </tr>\n",
       "    <tr>\n",
       "      <th>2</th>\n",
       "      <td>SAP C11</td>\n",
       "      <td>30101537</td>\n",
       "      <td>A &amp; A TROPHY HOUSE INC/DBA A&amp;A AWARDS &amp; PROMOT...</td>\n",
       "      <td>0.000000</td>\n",
       "      <td>GTS</td>\n",
       "      <td>General Procurement</td>\n",
       "      <td>a a trophy house dba aa awards promotionals</td>\n",
       "      <td>a</td>\n",
       "      <td>aatrophyhousedbaaaawardspromotionals</td>\n",
       "      <td>Old</td>\n",
       "    </tr>\n",
       "    <tr>\n",
       "      <th>3</th>\n",
       "      <td>Ariba</td>\n",
       "      <td>1099744-A9</td>\n",
       "      <td>A &amp; A TROPHY HOUSE INC/A &amp; A AWARDS &amp; PROMOTIO...</td>\n",
       "      <td>31207.080000</td>\n",
       "      <td>CORPORATE</td>\n",
       "      <td>General Procurement</td>\n",
       "      <td>a a trophy house a a awards promotionals</td>\n",
       "      <td>a</td>\n",
       "      <td>aatrophyhouseaaawardspromotionals</td>\n",
       "      <td>Old</td>\n",
       "    </tr>\n",
       "    <tr>\n",
       "      <th>4</th>\n",
       "      <td>3rd Party Security</td>\n",
       "      <td>108742</td>\n",
       "      <td>A &amp; B JERNVARE A/S</td>\n",
       "      <td>63.097460</td>\n",
       "      <td>SECURITY</td>\n",
       "      <td>Finished Goods</td>\n",
       "      <td>a b jernvare a s</td>\n",
       "      <td>a</td>\n",
       "      <td>abjernvareas</td>\n",
       "      <td>Old</td>\n",
       "    </tr>\n",
       "  </tbody>\n",
       "</table>\n",
       "</div>\n",
       "      <button class=\"colab-df-convert\" onclick=\"convertToInteractive('df-f519ee6c-b888-41c1-91c0-7bb19f3de3bf')\"\n",
       "              title=\"Convert this dataframe to an interactive table.\"\n",
       "              style=\"display:none;\">\n",
       "        \n",
       "  <svg xmlns=\"http://www.w3.org/2000/svg\" height=\"24px\"viewBox=\"0 0 24 24\"\n",
       "       width=\"24px\">\n",
       "    <path d=\"M0 0h24v24H0V0z\" fill=\"none\"/>\n",
       "    <path d=\"M18.56 5.44l.94 2.06.94-2.06 2.06-.94-2.06-.94-.94-2.06-.94 2.06-2.06.94zm-11 1L8.5 8.5l.94-2.06 2.06-.94-2.06-.94L8.5 2.5l-.94 2.06-2.06.94zm10 10l.94 2.06.94-2.06 2.06-.94-2.06-.94-.94-2.06-.94 2.06-2.06.94z\"/><path d=\"M17.41 7.96l-1.37-1.37c-.4-.4-.92-.59-1.43-.59-.52 0-1.04.2-1.43.59L10.3 9.45l-7.72 7.72c-.78.78-.78 2.05 0 2.83L4 21.41c.39.39.9.59 1.41.59.51 0 1.02-.2 1.41-.59l7.78-7.78 2.81-2.81c.8-.78.8-2.07 0-2.86zM5.41 20L4 18.59l7.72-7.72 1.47 1.35L5.41 20z\"/>\n",
       "  </svg>\n",
       "      </button>\n",
       "      \n",
       "  <style>\n",
       "    .colab-df-container {\n",
       "      display:flex;\n",
       "      flex-wrap:wrap;\n",
       "      gap: 12px;\n",
       "    }\n",
       "\n",
       "    .colab-df-convert {\n",
       "      background-color: #E8F0FE;\n",
       "      border: none;\n",
       "      border-radius: 50%;\n",
       "      cursor: pointer;\n",
       "      display: none;\n",
       "      fill: #1967D2;\n",
       "      height: 32px;\n",
       "      padding: 0 0 0 0;\n",
       "      width: 32px;\n",
       "    }\n",
       "\n",
       "    .colab-df-convert:hover {\n",
       "      background-color: #E2EBFA;\n",
       "      box-shadow: 0px 1px 2px rgba(60, 64, 67, 0.3), 0px 1px 3px 1px rgba(60, 64, 67, 0.15);\n",
       "      fill: #174EA6;\n",
       "    }\n",
       "\n",
       "    [theme=dark] .colab-df-convert {\n",
       "      background-color: #3B4455;\n",
       "      fill: #D2E3FC;\n",
       "    }\n",
       "\n",
       "    [theme=dark] .colab-df-convert:hover {\n",
       "      background-color: #434B5C;\n",
       "      box-shadow: 0px 1px 3px 1px rgba(0, 0, 0, 0.15);\n",
       "      filter: drop-shadow(0px 1px 2px rgba(0, 0, 0, 0.3));\n",
       "      fill: #FFFFFF;\n",
       "    }\n",
       "  </style>\n",
       "\n",
       "      <script>\n",
       "        const buttonEl =\n",
       "          document.querySelector('#df-f519ee6c-b888-41c1-91c0-7bb19f3de3bf button.colab-df-convert');\n",
       "        buttonEl.style.display =\n",
       "          google.colab.kernel.accessAllowed ? 'block' : 'none';\n",
       "\n",
       "        async function convertToInteractive(key) {\n",
       "          const element = document.querySelector('#df-f519ee6c-b888-41c1-91c0-7bb19f3de3bf');\n",
       "          const dataTable =\n",
       "            await google.colab.kernel.invokeFunction('convertToInteractive',\n",
       "                                                     [key], {});\n",
       "          if (!dataTable) return;\n",
       "\n",
       "          const docLinkHtml = 'Like what you see? Visit the ' +\n",
       "            '<a target=\"_blank\" href=https://colab.research.google.com/notebooks/data_table.ipynb>data table notebook</a>'\n",
       "            + ' to learn more about interactive tables.';\n",
       "          element.innerHTML = '';\n",
       "          dataTable['output_type'] = 'display_data';\n",
       "          await google.colab.output.renderOutput(dataTable, element);\n",
       "          const docLink = document.createElement('div');\n",
       "          docLink.innerHTML = docLinkHtml;\n",
       "          element.appendChild(docLink);\n",
       "        }\n",
       "      </script>\n",
       "    </div>\n",
       "  </div>\n",
       "  "
      ],
      "text/plain": [
       "           DataSource Vendor number  \\\n",
       "0        Syteline IES   9992470-DEX   \n",
       "1             JDE CAM        177662   \n",
       "2             SAP C11      30101537   \n",
       "3               Ariba    1099744-A9   \n",
       "4  3rd Party Security        108742   \n",
       "\n",
       "                                         Vendor name   Spend (USD)  \\\n",
       "0  A & A ENGINEERING CIVIL AND STRUCTURAL ENGINEE...   3450.000000   \n",
       "1                            A & A MACHINE & DEVELOP    294.793886   \n",
       "2  A & A TROPHY HOUSE INC/DBA A&A AWARDS & PROMOT...      0.000000   \n",
       "3  A & A TROPHY HOUSE INC/A & A AWARDS & PROMOTIO...  31207.080000   \n",
       "4                                 A & B JERNVARE A/S     63.097460   \n",
       "\n",
       "      Segment     Primary Category  \\\n",
       "0  INDUSTRIAL            Undefined   \n",
       "1  INDUSTRIAL  General Procurement   \n",
       "2         GTS  General Procurement   \n",
       "3   CORPORATE  General Procurement   \n",
       "4    SECURITY       Finished Goods   \n",
       "\n",
       "                                Clean_Vendor_Name Vendor_name_Initials  \\\n",
       "0  a a engineering civil and structural engineers                    a   \n",
       "1                             a a machine develop                    a   \n",
       "2     a a trophy house dba aa awards promotionals                    a   \n",
       "3        a a trophy house a a awards promotionals                    a   \n",
       "4                                a b jernvare a s                    a   \n",
       "\n",
       "                          crisp_vendor_name Vendor_Flag  \n",
       "0  aaengineeringcivilandstructuralengineers         Old  \n",
       "1                          aamachinedevelop         Old  \n",
       "2      aatrophyhousedbaaaawardspromotionals         Old  \n",
       "3         aatrophyhouseaaawardspromotionals         Old  \n",
       "4                              abjernvareas         Old  "
      ]
     },
     "execution_count": 151,
     "metadata": {},
     "output_type": "execute_result"
    }
   ],
   "source": [
    "merged_inp_old_flag_df.head()"
   ]
  },
  {
   "cell_type": "code",
   "execution_count": 152,
   "metadata": {
    "id": "jndSz3mlePMA"
   },
   "outputs": [],
   "source": [
    "\n",
    "merged_inp_old_flag_df.reset_index(drop=True,inplace=True)\n",
    "\n",
    "if merged_inp_old_flag_df[merged_inp_old_flag_df.duplicated(subset='Vendor name')].shape[0]>0:\n",
    "  merged_inp_old_flag_df[merged_inp_old_flag_df.drop_duplicates(subset='Vendor name')]\n",
    "\n",
    "\n",
    "merged_inp_old_flag_df_VN_list = merged_inp_old_flag_df['Clean_Vendor_Name'].tolist()\n",
    "\n",
    "#no_of_fit_old_records\n",
    "no_of_fit_old_records = merged_inp_old_flag_df.shape[0]"
   ]
  },
  {
   "cell_type": "code",
   "execution_count": 153,
   "metadata": {
    "id": "UZkKjPVTblNX"
   },
   "outputs": [],
   "source": [
    "#to take out tthe unfit data\n",
    "# unfit data tells about those vendor names were the names are not present correctly\n",
    "# As unfit data is not required to have seperately so COMMENT this as of now\n",
    "#inp_old_flag_df_unfit= inp_old_flag_df[~inp_old_flag_df['Clean_Vendor_Name'].isin(merged_inp_old_flag_df_VN_list)]\n",
    "#inp_old_flag_df_unfit[inp_old_flag_df_unfit.duplicated(subset='Vendor name')].shape[0]\n",
    "#inp_old_flag_df_unfit.to_excel(f'Input_old_unfit_data.xlsx',index=False,encoding='utf8')\n",
    "#files.download('Input_old_unfit_data.xlsx')\n",
    "#inp_old_flag_df_unfit.shape[0]"
   ]
  },
  {
   "cell_type": "code",
   "execution_count": 153,
   "metadata": {
    "id": "Q3OQOC4T7nDX"
   },
   "outputs": [],
   "source": []
  },
  {
   "cell_type": "code",
   "execution_count": 153,
   "metadata": {
    "id": "1Gu6VCKwTHJt"
   },
   "outputs": [],
   "source": []
  },
  {
   "cell_type": "code",
   "execution_count": 154,
   "metadata": {
    "colab": {
     "base_uri": "https://localhost:8080/"
    },
    "id": "KNTly9tEcFp4",
    "outputId": "3bf5c5b3-19a1-45ef-b7fc-4ba5108cf5cf"
   },
   "outputs": [
    {
     "data": {
      "text/plain": [
       "9507"
      ]
     },
     "execution_count": 154,
     "metadata": {},
     "output_type": "execute_result"
    }
   ],
   "source": [
    "input_df.shape[0]"
   ]
  },
  {
   "cell_type": "code",
   "execution_count": 155,
   "metadata": {
    "colab": {
     "base_uri": "https://localhost:8080/"
    },
    "id": "E5z9nPjGffZT",
    "outputId": "9485ef55-16d0-4c9e-ca7e-9867f3ef4a0b"
   },
   "outputs": [
    {
     "data": {
      "text/plain": [
       "0"
      ]
     },
     "execution_count": 155,
     "metadata": {},
     "output_type": "execute_result"
    }
   ],
   "source": [
    "tot_no_of_null_inp_records = no_of_null_inp_records1 + no_of_null_inp_records2 \n",
    "tot_no_of_null_inp_records"
   ]
  },
  {
   "cell_type": "code",
   "execution_count": 156,
   "metadata": {
    "id": "skl-1wuyf2Pk"
   },
   "outputs": [],
   "source": [
    "# Since we are not taking out and considering the irregular old matched vendor names EX: Samsung == Sam sung. Since this two are completely different but they are old # Ask whether he wants to have such list or not/ Counts\n",
    "#no_of_unfit_old_records = inp_old_flag_df.shape[0] - no_of_fit_old_records\n",
    "#no_of_unfit_old_records\n"
   ]
  },
  {
   "cell_type": "code",
   "execution_count": 157,
   "metadata": {
    "id": "OgU5g0O4rYwG"
   },
   "outputs": [],
   "source": [
    "tot_no_of_clean_inp_records = input_df.shape[0]# this contains duplicate Vendon names but combination of all columns are unique\n",
    "tot_no_of_unique_vendors = input_df['Vendor name'].nunique() "
   ]
  },
  {
   "cell_type": "code",
   "execution_count": 158,
   "metadata": {
    "id": "x_j1VcN8ytD3"
   },
   "outputs": [],
   "source": [
    "#input_df = input_df.sample(100)\n",
    "input_df.reset_index(drop=True,inplace=True)\n"
   ]
  },
  {
   "cell_type": "code",
   "execution_count": 159,
   "metadata": {
    "id": "zZnTcNDiU958"
   },
   "outputs": [],
   "source": [
    "#stop"
   ]
  },
  {
   "cell_type": "code",
   "execution_count": 160,
   "metadata": {
    "id": "VXfshbq_UGum"
   },
   "outputs": [],
   "source": [
    "#input_df['Vendor_Flag'].unique() == 'Old'"
   ]
  },
  {
   "cell_type": "code",
   "execution_count": 161,
   "metadata": {
    "colab": {
     "base_uri": "https://localhost:8080/",
     "height": 311,
     "referenced_widgets": [
      "ec6f95fa2e6c437f9d6e738dfb9ab61c",
      "2f9e3fffc99e441db32d1975cbc41a77",
      "67e0aff4e6a74f07bd59c86b9a232d6b",
      "a105d9d9924f4174add62f855e3751c7",
      "23245018004a484f95cb7a2869f78ec6",
      "b467df4c896343879b1a386db53ce72d",
      "f25d1230214a41e69324fd9ebde8dba6",
      "66eabbbdb1d44ccca87eb7eec0dcb407",
      "d97ef737ec1d4d169c70b583ef867752",
      "fbeba8b81e3c4a5fa71666cad388bd58",
      "6423eedbe4e94aa48c8260e1f2164699",
      "fefb2e053dd94bf18b426aaa72859af8",
      "4fdff7d2113546ff98ae9742af93af82",
      "7ef14e2fe274414692e6d5652d97b8d3",
      "4c7aae4041d0446b919c74a8b7445523",
      "18e0c218341847008b73f55e93e7ba96",
      "9b858c59f5e54a33bb78d03541687671",
      "28228e244aaf476b87e481f88a659843",
      "96e712d40f1449baa6b2211433025d1e",
      "f95a2b345e674d48bc0f66e9f82a3a87",
      "e3aea68d7f124c3882859c9e863efcb6",
      "2aa32601c894467a81b2a686bbe6abb6",
      "982b84b1f14d41a79eddde28d9924c05",
      "10c0b63bc1bb4638a01b33709e19bdc0",
      "9936e5f11c8549f3b9646bf4f1f4aaa0",
      "fc2da46e68894af09be6bd994e53e4a8",
      "a041187ba99c410783160d683f4bb49c",
      "132c3daa13864a85aff703806cb6c502",
      "4461a73fb95549758d249f2e373e8f85",
      "c6aa992689314dab8e42114777dfdaa5",
      "c8cb583223ef456aa0246bcffce8adf3",
      "7d202c89f2ea4c8894ea8f192d77bcba",
      "9ba82d4b29944221a373af6c71306346",
      "ac84764d8db741629fc4437e3d837190",
      "b62183980f9e40ddbee1bc40198953fb",
      "c3288660b1574a2a9e47649d1a3c600f",
      "ab375e7bfd4d45b9a664fb6adb107045",
      "5cbacd538d674685b3183246bb75d3bf",
      "d23ef01ab4614a8cbcae378eff512f84",
      "71ad22af6e124ca8ba255376011d6222",
      "610817ab5e5a4229ae0e3e1c2b69ec91",
      "230df590909543eebc23baa2ba5e7750",
      "620b7f49cdc94448b1b059e1d464c762",
      "d99dce8892de45929e295bb669e2b3c6"
     ]
    },
    "id": "CYIbEZ_WcFp5",
    "outputId": "823233d1-4dc4-4034-c5ae-534dcd8e107a"
   },
   "outputs": [
    {
     "name": "stdout",
     "output_type": "stream",
     "text": [
      "Unique Vendor counts: 7261\n",
      "old record counts: 8163\n",
      "Again old record counts: 8163\n"
     ]
    },
    {
     "data": {
      "application/vnd.jupyter.widget-view+json": {
       "model_id": "ec6f95fa2e6c437f9d6e738dfb9ab61c",
       "version_major": 2,
       "version_minor": 0
      },
      "text/plain": [
       "  0%|          | 0/1 [00:00<?, ?it/s]"
      ]
     },
     "metadata": {},
     "output_type": "display_data"
    },
    {
     "name": "stdout",
     "output_type": "stream",
     "text": [
      "index value of clean_ini_list to be matched with inp_ini_list :  10\n",
      "a\n",
      "a\n",
      "[Info] Time taken to train group member \"a\": 2 mins & 5 secs\n"
     ]
    },
    {
     "data": {
      "application/vnd.jupyter.widget-view+json": {
       "model_id": "fefb2e053dd94bf18b426aaa72859af8",
       "version_major": 2,
       "version_minor": 0
      },
      "text/plain": [
       "  0%|          | 0/8163 [00:00<?, ?it/s]"
      ]
     },
     "metadata": {},
     "output_type": "display_data"
    },
    {
     "name": "stdout",
     "output_type": "stream",
     "text": [
      "[Info] Time taken to predict a: 107 mins & 22 secs\n",
      "-----------------------------------------------------------------------------------------------\n"
     ]
    },
    {
     "data": {
      "application/vnd.jupyter.widget-view+json": {
       "model_id": "982b84b1f14d41a79eddde28d9924c05",
       "version_major": 2,
       "version_minor": 0
      },
      "text/plain": [
       "  0%|          | 0/8163 [00:00<?, ?it/s]"
      ]
     },
     "metadata": {},
     "output_type": "display_data"
    },
    {
     "data": {
      "application/vnd.jupyter.widget-view+json": {
       "model_id": "ac84764d8db741629fc4437e3d837190",
       "version_major": 2,
       "version_minor": 0
      },
      "text/plain": [
       "  0%|          | 0/8163 [00:00<?, ?it/s]"
      ]
     },
     "metadata": {},
     "output_type": "display_data"
    }
   ],
   "source": [
    "\n",
    "if n==2:\n",
    "    inp_df_New, inp_df_Old = [x for _, x in input_df.groupby(input_df['Vendor_Flag'] == 'Old')]\n",
    "    print(f\"Unique Vendor counts: {inp_df_Old['Vendor name'].nunique()}\")\n",
    "    print(f\"old record counts: {len(inp_df_Old['Vendor name'])}\")\n",
    "\n",
    "    inp_ini_list = np.sort(inp_df_Old.Vendor_name_Initials.unique())\n",
    "    grp_input_df_new=[]\n",
    "    \n",
    "    # Cleaning chamber:\n",
    "    inp_df_New_output=inp_CleaningChamber(inp_df_New) #added new line after this line # this is one of the Dataframe\n",
    "    inp_df_New_output.drop(columns=['Vendor_name_Initials','Clean_Vendor_Name'],axis=1,inplace=True)\n",
    "    inp_df_New_output['Vendor_Name_cleansed'] = inp_df_New_output['Vendor_Name_cleansed'].apply(lambda x: x.upper())\n",
    "    # write a condition that if there is no values in datasource or vendor number then  replace the same with nan\n",
    "    \n",
    "    inp_df_New_output['Manual Harmonized']=np.nan\n",
    "    inp_df_New_output['Match Ratio']=np.nan\n",
    "    inp_df_New_output['True Match Flag']=np.nan\n",
    "    inp_df_New_output['Match_word_len'] = np.nan\n",
    "    \n",
    "    inp_df_New_output= inp_df_New_output[['DataSource','Vendor number','Vendor name','Vendor_Name_cleansed','Manual Harmonized','Vendor_Flag','Spend (USD)','Segment','Primary Category','Match Ratio','Match_word_len','True Match Flag']]\n",
    "    \n",
    "    inp_df_New_output.columns=['DataSource','Vendor number','Vendor name','Predicted Names/ Model Cleansed','Manual Harmonized','Vendor_Flag','Spend (USD)','Segment','Primary Category','Match Ratio','Match_word_len','True Match Flag']\n",
    "\n",
    "    inp_df_New_output.reset_index(drop=True,inplace=True)\n",
    "    \n",
    "    \n",
    "    # Model chamber:\n",
    "    inp_ini_list = inp_ini_list.tolist()\n",
    "    print(f\"Again old record counts: {len(inp_df_Old['Vendor name'])}\")\n",
    "    grp_input_df = bucket_df(inp_df_Old,inp_ini_list)\n",
    "    \n",
    "    \n",
    "    final_frame = []\n",
    "    for i in tqdm(range(len(inp_ini_list))):\n",
    "        for j in range(len(clean_ini_list)):\n",
    "            if inp_ini_list[i]==clean_ini_list[j]:\n",
    "                # we need to pass index ('j') to model defination. After this you can do global to name the DF's\n",
    "                print('index value of clean_ini_list to be matched with inp_ini_list : ',j)\n",
    "                print(inp_ini_list[i])\n",
    "                print(clean_ini_list[j])                \n",
    "                time_taken,grp_number,sgd_classifier=sgd_clf(j)\n",
    "                print(f'[Info] Time taken to train group member \"{grp_number}\": {time_taken}')\n",
    "                \n",
    "                df_list = grp_input_df[i]['Clean_Vendor_Name'].values\n",
    "                #print(df_list)\n",
    "                frame=[]\n",
    "                pred_st_time =  datetime.now()\n",
    "                for k in tqdm(df_list):\n",
    "                    predict_val = pd.DataFrame(sgd_classifier.predict(count_vect.transform([str(k)])))\n",
    "                    frame.append(predict_val)\n",
    "                inter_frame = pd.concat(frame).reset_index()\n",
    "                inter_frame.drop('index',axis=1,inplace=True)\n",
    "                frame_df_list= pd.DataFrame(df_list)\n",
    "                row_val= pd.concat([frame_df_list, inter_frame], axis = 1) # try global here\n",
    "                pred_end_time =  datetime.now()\n",
    "                pred_time_taken = pred_end_time - pred_st_time\n",
    "                pred_time_taken = time_util(pred_time_taken)\n",
    "                print(f'[Info] Time taken to predict {grp_number}: {pred_time_taken}')\n",
    "                print('-----------------------------------------------------------------------------------------------')\n",
    "                final_frame.append(row_val)  \n",
    "    final_output = pd.concat(final_frame)\n",
    "    final_output.reset_index(inplace=True)\n",
    "    final_output.drop('index',axis=1,inplace=True)\n",
    "    final_output.columns=['Vendor_names','New_Supplier_Pred']\n",
    "    final_output['New_Supplier_Pred'] = final_output['New_Supplier_Pred'].apply(lambda x: x.upper())\n",
    "    final_output['New_Supplier_Pred'] = final_output['New_Supplier_Pred'].apply(lambda x: x.upper())\n",
    "    clean_main_df.sort_values(by=['Clean_Vendor_Name'])\n",
    "    final_output.drop_duplicates(inplace=True)\n",
    "     \n",
    "    merged_final = pd.merge(final_output,inp_df_Old,left_on='Vendor_names',right_on='Clean_Vendor_Name',how='left')   \n",
    "        ##merged_final.drop_duplicates(subset=['Vendor name'],inplace=True)\n",
    "    merged_final.drop(columns=['Vendor_names','Vendor_name_Initials'],axis=1,inplace=True)\n",
    "    merged_final = merged_final[['DataSource','Vendor number','Vendor name','New_Supplier_Pred','Clean_Vendor_Name','crisp_vendor_name','Vendor_Flag', 'Spend (USD)','Segment','Primary Category']]\n",
    "    #clean_main_df_test.drop_duplicates(inplace=True) #uncomment this and drop duplicates from clean_main_df if needed    \n",
    "    merged_final =  pd.merge(merged_final,clean_main_df[['DataSource',\t'Vendor number','crisp_vendor_name','New Supplier']],left_on=['DataSource','Vendor number','crisp_vendor_name'],right_on=['DataSource','Vendor number','crisp_vendor_name'],how='left') # previously used 'Clean_Vendor_Name' and removed 'Clean_Vendor_Name' from clean_main_df col list\n",
    "    merged_final.drop_duplicates(inplace=True) #subset=['Vendor name'],\n",
    "\n",
    "        \n",
    "    ##merged_final.drop(columns=['Clean_Vendor_Name','crisp_vendor_name'],axis=1,inplace=True)\n",
    "    merged_final = merged_final[['DataSource','Vendor number','Vendor name','New_Supplier_Pred','New Supplier','Vendor_Flag','Spend (USD)','Segment','Primary Category']] \n",
    "    merged_final.columns=['DataSource','Vendor number','Vendor name','Model_pred_Supplier','Prev_Predicted_Supplier','Vendor_Flag','Spend (USD)','Segment','Primary Category']\n",
    "    merged_final['Prev_Predicted_Supplier'] = merged_final['Prev_Predicted_Supplier'].apply(lambda x: str(x).upper())\n",
    "    merged_final['Match_ratio']= merged_final.apply(lambda x: fuzz.ratio(str(x['Model_pred_Supplier']),str(x['Prev_Predicted_Supplier'])),axis=1)\n",
    "    merged_final['Match_word_len'] = np.nan\n",
    "    merged_final['True Match Flag']= ''\n",
    "    merged_final.reset_index(drop=True,inplace=True)\n",
    "\n",
    "    for i in tqdm(range(len(merged_final))):\n",
    "        Match_wordLength(i)\n",
    "\n",
    "    for i in tqdm(range(len(merged_final))):\n",
    "      if (str(merged_final['Match_ratio'][i])=='100') & (merged_final['Match_word_len'][i] == 'Same Length'):\n",
    "          merged_final['True Match Flag'].loc[i]= 'Yes'\n",
    "      else:\n",
    "          merged_final['True Match Flag'].loc[i]= 'No'\n",
    "\n",
    "    merged_final.columns=['DataSource','Vendor number','Vendor name','Predicted Names/ Model Cleansed','Manual Harmonized','Vendor_Flag','Spend (USD)','Segment','Primary Category','Match Ratio','Match_word_len','True Match Flag']\n",
    "    merged_final['DataSource']=merged_final['DataSource'].apply(ds_cleansing)\n",
    "\n",
    "    merged_final= final_output_sup_name_Cleaning(merged_final,'Predicted Names/ Model Cleansed')\n",
    "    merged_final= final_output_sup_name_Cleaning(merged_final,'Manual Harmonized')\n",
    "\n",
    "\n",
    "elif(n==1 and (input_df['Vendor_Flag'].unique() == 'New')):\n",
    "  # put logic when the output is needed for only OLD records and n==1 \n",
    "  # write a elif condition that if n==1 and only New records are there then\n",
    "    print('Elif section is running for NEW...')\n",
    "    print(input_df['Vendor name'].nunique())\n",
    "\n",
    "    inp_ini_list = np.sort(input_df.Vendor_name_Initials.unique())\n",
    "        \n",
    "    # Cleaning chamber:\n",
    "    inp_df_New_output=inp_CleaningChamber(input_df) #added new line after this line # this is one of the Dataframe\n",
    "    inp_df_New_output.drop(columns=['Vendor_name_Initials','Clean_Vendor_Name'],axis=1,inplace=True)\n",
    "    inp_df_New_output['Vendor_Name_cleansed'] = inp_df_New_output['Vendor_Name_cleansed'].apply(lambda x: x.upper())\n",
    "    # write a condition that if there is no values in datasource or vendor number then  replace the same with nan\n",
    "    \n",
    "    inp_df_New_output['Manual Harmonized']=np.nan\n",
    "    inp_df_New_output['Match Ratio']=np.nan\n",
    "    inp_df_New_output['True Match Flag']=np.nan\n",
    "    inp_df_New_output['Match_word_len'] = np.nan\n",
    "    \n",
    "    inp_df_New_output= inp_df_New_output[['DataSource','Vendor number','Vendor name','Vendor_Name_cleansed','Manual Harmonized','Vendor_Flag','Spend (USD)','Segment','Primary Category','Match Ratio','Match_word_len','True Match Flag']]\n",
    "    \n",
    "    inp_df_New_output.columns=['DataSource','Vendor number','Vendor name','Predicted Names/ Model Cleansed','Manual Harmonized','Vendor_Flag','Spend (USD)','Segment','Primary Category','Match Ratio','Match_word_len','True Match Flag']\n",
    "\n",
    "    inp_df_New_output.reset_index(drop=True,inplace=True)\n",
    "    \n",
    "elif(n==1 and (input_df['Vendor_Flag'].unique() == 'Old')):\n",
    "  # put logic when the output is needed for only OLD records and n==1 \n",
    "  # write a elif condition that if n==1 and only New records are there then\n",
    "  print('Elif section is running  for Old records...')\n",
    "  print(input_df['Vendor name'].nunique())\n",
    "\n",
    "  inp_ini_list = np.sort(input_df.Vendor_name_Initials.unique())  \n",
    "  # Model chamber:\n",
    "  inp_ini_list = inp_ini_list.tolist()\n",
    "  grp_input_df = bucket_df(input_df,inp_ini_list)\n",
    "  \n",
    "  final_frame = []\n",
    "  for i in tqdm(range(len(inp_ini_list))):\n",
    "      for j in range(len(clean_ini_list)):\n",
    "          if inp_ini_list[i]==clean_ini_list[j]:\n",
    "              # we need to pass index ('j') to model defination. After this you can do global to name the DF's\n",
    "              print('index value of clean_ini_list to be matched with inp_ini_list : ',j)\n",
    "              print(inp_ini_list[i])\n",
    "              print(clean_ini_list[j])                \n",
    "              time_taken,grp_number,sgd_classifier=sgd_clf(j)\n",
    "              print(f'[Info] Time taken to train group member \"{grp_number}\": {time_taken}')\n",
    "              \n",
    "              df_list = grp_input_df[i]['Clean_Vendor_Name'].values\n",
    "              #print(df_list)\n",
    "              frame=[]\n",
    "              pred_st_time =  datetime.now()\n",
    "              for k in tqdm(df_list):\n",
    "                  predict_val = pd.DataFrame(sgd_classifier.predict(count_vect.transform([str(k)])))\n",
    "                  frame.append(predict_val)\n",
    "              inter_frame = pd.concat(frame).reset_index()\n",
    "              inter_frame.drop('index',axis=1,inplace=True)\n",
    "              frame_df_list= pd.DataFrame(df_list)\n",
    "              row_val= pd.concat([frame_df_list, inter_frame], axis = 1) # try global here\n",
    "              pred_end_time =  datetime.now()\n",
    "              pred_time_taken = pred_end_time - pred_st_time\n",
    "              pred_time_taken = time_util(pred_time_taken)\n",
    "              print(f'[Info] Time taken to predict {grp_number}: {pred_time_taken}')\n",
    "              print('-----------------------------------------------------------------------------------------------')\n",
    "              final_frame.append(row_val)  \n",
    "  final_output = pd.concat(final_frame)\n",
    "  final_output.reset_index(inplace=True)\n",
    "  final_output.drop('index',axis=1,inplace=True)\n",
    "  final_output.columns=['Vendor_names','New_Supplier_Pred']\n",
    "  final_output['New_Supplier_Pred'] = final_output['New_Supplier_Pred'].apply(lambda x: x.upper())\n",
    "  final_output['New_Supplier_Pred'] = final_output['New_Supplier_Pred'].apply(lambda x: x.upper())\n",
    "  clean_main_df.sort_values(by=['Clean_Vendor_Name'])\n",
    "  final_output.drop_duplicates(inplace=True)\n",
    "    \n",
    "  merged_final = pd.merge(final_output,inp_df_Old,left_on='Vendor_names',right_on='Clean_Vendor_Name',how='left')   \n",
    "      ##merged_final.drop_duplicates(subset=['Vendor name'],inplace=True)\n",
    "  merged_final.drop(columns=['Vendor_names','Vendor_name_Initials'],axis=1,inplace=True)\n",
    "  merged_final = merged_final[['DataSource','Vendor number','Vendor name','New_Supplier_Pred','Clean_Vendor_Name','crisp_vendor_name','Vendor_Flag', 'Spend (USD)','Segment','Primary Category']]\n",
    "  #clean_main_df_test.drop_duplicates(inplace=True) #uncomment this and drop duplicates from clean_main_df if needed    \n",
    "  merged_final =  pd.merge(merged_final,clean_main_df[['DataSource',\t'Vendor number','crisp_vendor_name','New Supplier']],left_on=['DataSource','Vendor number','crisp_vendor_name'],right_on=['DataSource','Vendor number','crisp_vendor_name'],how='left') # previously used 'Clean_Vendor_Name' and removed 'Clean_Vendor_Name' from clean_main_df col list\n",
    "  merged_final.drop_duplicates(inplace=True) #subset=['Vendor name'],\n",
    "\n",
    "      \n",
    "  ##merged_final.drop(columns=['Clean_Vendor_Name','crisp_vendor_name'],axis=1,inplace=True)\n",
    "  merged_final = merged_final[['DataSource','Vendor number','Vendor name','New_Supplier_Pred','New Supplier','Vendor_Flag','Spend (USD)','Segment','Primary Category']] \n",
    "  merged_final.columns=['DataSource','Vendor number','Vendor name','Model_pred_Supplier','Prev_Predicted_Supplier','Vendor_Flag','Spend (USD)','Segment','Primary Category']\n",
    "  merged_final['Prev_Predicted_Supplier'] = merged_final['Prev_Predicted_Supplier'].apply(lambda x: str(x).upper())\n",
    "  merged_final['Match_ratio']= merged_final.apply(lambda x: fuzz.ratio(str(x['Model_pred_Supplier']),str(x['Prev_Predicted_Supplier'])),axis=1)\n",
    "  merged_final['Match_word_len'] = np.nan\n",
    "  merged_final['True Match Flag']= ''\n",
    "  merged_final.reset_index(drop=True,inplace=True)\n",
    "\n",
    "  for i in tqdm(range(len(merged_final))):\n",
    "      Match_wordLength(i)\n",
    "\n",
    "  for i in tqdm(range(len(merged_final))):\n",
    "    if (str(merged_final['Match_ratio'][i])=='100') & (merged_final['Match_word_len'][i] == 'Same Length'):\n",
    "        merged_final['True Match Flag'].loc[i]= 'Yes'\n",
    "    else:\n",
    "        merged_final['True Match Flag'].loc[i]= 'No'\n",
    "\n",
    "  merged_final.columns=['DataSource','Vendor number','Vendor name','Predicted Names/ Model Cleansed','Manual Harmonized','Vendor_Flag','Spend (USD)','Segment','Primary Category','Match Ratio','Match_word_len','True Match Flag']\n",
    "  merged_final['DataSource']=merged_final['DataSource'].apply(ds_cleansing)\n",
    "\n",
    "  merged_final= final_output_sup_name_Cleaning(merged_final,'Predicted Names/ Model Cleansed')\n",
    "  merged_final= final_output_sup_name_Cleaning(merged_final,'Manual Harmonized')\n",
    "\n",
    "  \n",
    "  \n",
    "  \n",
    "  "
   ]
  },
  {
   "cell_type": "code",
   "execution_count": 162,
   "metadata": {
    "id": "aaqqh0gLfvB2"
   },
   "outputs": [],
   "source": [
    "#merged_final[merged_final.duplicated()==True]\n",
    "#merged_final1.drop_duplicates(inplace=True)"
   ]
  },
  {
   "cell_type": "code",
   "execution_count": 163,
   "metadata": {
    "id": "rBxlFy7ndnhH"
   },
   "outputs": [],
   "source": [
    "#merged_final"
   ]
  },
  {
   "cell_type": "code",
   "execution_count": 164,
   "metadata": {
    "id": "5V0RooL9dtMU"
   },
   "outputs": [],
   "source": [
    "#clean_main_df_test = clean_main_df[clean_main_df.crisp_vendor_name.str.contains('48forty')]\n",
    "#clean_main_df_test.drop_duplicates(inplace=True)\n",
    "#clean_main_df_test[clean_main_df_test.crisp_vendor_name.str.contains('48forty')]"
   ]
  },
  {
   "cell_type": "code",
   "execution_count": 165,
   "metadata": {
    "id": "SckmHbNIqs3B"
   },
   "outputs": [],
   "source": [
    "#merged_final[merged_final.crisp_vendor_name.str.contains('48forty')]"
   ]
  },
  {
   "cell_type": "code",
   "execution_count": 166,
   "metadata": {
    "colab": {
     "base_uri": "https://localhost:8080/",
     "height": 641
    },
    "id": "kC3Td_iSskIf",
    "outputId": "98ffac3f-d928-4152-8e1a-a1f3bc9dad6d"
   },
   "outputs": [
    {
     "data": {
      "text/html": [
       "\n",
       "  <div id=\"df-1d00570b-cbb2-4552-98ac-92c80e3ac237\">\n",
       "    <div class=\"colab-df-container\">\n",
       "      <div>\n",
       "<style scoped>\n",
       "    .dataframe tbody tr th:only-of-type {\n",
       "        vertical-align: middle;\n",
       "    }\n",
       "\n",
       "    .dataframe tbody tr th {\n",
       "        vertical-align: top;\n",
       "    }\n",
       "\n",
       "    .dataframe thead th {\n",
       "        text-align: right;\n",
       "    }\n",
       "</style>\n",
       "<table border=\"1\" class=\"dataframe\">\n",
       "  <thead>\n",
       "    <tr style=\"text-align: right;\">\n",
       "      <th></th>\n",
       "      <th>DataSource</th>\n",
       "      <th>Vendor number</th>\n",
       "      <th>Vendor name</th>\n",
       "      <th>Predicted Names/ Model Cleansed</th>\n",
       "      <th>Manual Harmonized</th>\n",
       "      <th>Vendor_Flag</th>\n",
       "      <th>Spend (USD)</th>\n",
       "      <th>Segment</th>\n",
       "      <th>Primary Category</th>\n",
       "      <th>Match Ratio</th>\n",
       "      <th>Match_word_len</th>\n",
       "      <th>True Match Flag</th>\n",
       "    </tr>\n",
       "  </thead>\n",
       "  <tbody>\n",
       "    <tr>\n",
       "      <th>0</th>\n",
       "      <td>Syteline IES</td>\n",
       "      <td>9992470-DEX</td>\n",
       "      <td>A &amp; A ENGINEERING CIVIL AND STRUCTURAL ENGINEE...</td>\n",
       "      <td>A &amp; A ENGINEERING CIVIL AND STRUCTURAL ENGINEE...</td>\n",
       "      <td>A &amp; A ENGINEERING CIVIL AND STRUCTURAL ENGINEE...</td>\n",
       "      <td>Old</td>\n",
       "      <td>3450.000000</td>\n",
       "      <td>INDUSTRIAL</td>\n",
       "      <td>Undefined</td>\n",
       "      <td>100</td>\n",
       "      <td>Same Length</td>\n",
       "      <td>Yes</td>\n",
       "    </tr>\n",
       "    <tr>\n",
       "      <th>1</th>\n",
       "      <td>JDE CAM</td>\n",
       "      <td>177662</td>\n",
       "      <td>A &amp; A MACHINE &amp; DEVELOP</td>\n",
       "      <td>A &amp; A MACHINE &amp; DEVELOP</td>\n",
       "      <td>A &amp; A MACHINE &amp; DEVELOP</td>\n",
       "      <td>Old</td>\n",
       "      <td>294.793886</td>\n",
       "      <td>INDUSTRIAL</td>\n",
       "      <td>General Procurement</td>\n",
       "      <td>100</td>\n",
       "      <td>Same Length</td>\n",
       "      <td>Yes</td>\n",
       "    </tr>\n",
       "    <tr>\n",
       "      <th>2</th>\n",
       "      <td>SAP C11</td>\n",
       "      <td>30101537</td>\n",
       "      <td>A &amp; A TROPHY HOUSE INC/DBA A&amp;A AWARDS &amp; PROMOT...</td>\n",
       "      <td>A&amp;A AWARDS &amp; PROMOTIONALS</td>\n",
       "      <td>A&amp;A AWARDS &amp; PROMOTIONALS</td>\n",
       "      <td>Old</td>\n",
       "      <td>0.000000</td>\n",
       "      <td>GTS</td>\n",
       "      <td>General Procurement</td>\n",
       "      <td>100</td>\n",
       "      <td>Same Length</td>\n",
       "      <td>Yes</td>\n",
       "    </tr>\n",
       "    <tr>\n",
       "      <th>3</th>\n",
       "      <td>Ariba</td>\n",
       "      <td>30101537-A10</td>\n",
       "      <td>A &amp; A TROPHY HOUSE INC/DBA A&amp;A AWARDS &amp; PROMOT...</td>\n",
       "      <td>A&amp;A AWARDS &amp; PROMOTIONALS</td>\n",
       "      <td>A&amp;A AWARDS &amp; PROMOTIONALS</td>\n",
       "      <td>Old</td>\n",
       "      <td>0.000000</td>\n",
       "      <td>GTS</td>\n",
       "      <td>General Procurement</td>\n",
       "      <td>100</td>\n",
       "      <td>Same Length</td>\n",
       "      <td>Yes</td>\n",
       "    </tr>\n",
       "    <tr>\n",
       "      <th>4</th>\n",
       "      <td>Ariba</td>\n",
       "      <td>1099744-A9</td>\n",
       "      <td>A &amp; A TROPHY HOUSE INC/A &amp; A AWARDS &amp; PROMOTIO...</td>\n",
       "      <td>A&amp;A AWARDS &amp; PROMOTIONALS</td>\n",
       "      <td>A&amp;A AWARDS &amp; PROMOTIONALS</td>\n",
       "      <td>Old</td>\n",
       "      <td>31207.080000</td>\n",
       "      <td>CORPORATE</td>\n",
       "      <td>General Procurement</td>\n",
       "      <td>100</td>\n",
       "      <td>Same Length</td>\n",
       "      <td>Yes</td>\n",
       "    </tr>\n",
       "    <tr>\n",
       "      <th>...</th>\n",
       "      <td>...</td>\n",
       "      <td>...</td>\n",
       "      <td>...</td>\n",
       "      <td>...</td>\n",
       "      <td>...</td>\n",
       "      <td>...</td>\n",
       "      <td>...</td>\n",
       "      <td>...</td>\n",
       "      <td>...</td>\n",
       "      <td>...</td>\n",
       "      <td>...</td>\n",
       "      <td>...</td>\n",
       "    </tr>\n",
       "    <tr>\n",
       "      <th>8158</th>\n",
       "      <td>3rd Party Security</td>\n",
       "      <td>601127</td>\n",
       "      <td>Agam-Flame Service Center Ltd</td>\n",
       "      <td>IMAGE</td>\n",
       "      <td>YOUR IMAGE</td>\n",
       "      <td>Old</td>\n",
       "      <td>372.161686</td>\n",
       "      <td>GTS</td>\n",
       "      <td>General Procurement</td>\n",
       "      <td>67</td>\n",
       "      <td>Different Length</td>\n",
       "      <td>No</td>\n",
       "    </tr>\n",
       "    <tr>\n",
       "      <th>8159</th>\n",
       "      <td>3rd Party Security</td>\n",
       "      <td>601034</td>\n",
       "      <td>Agam Shivuk Net Ltd.</td>\n",
       "      <td>AGAM SHIVUK NET LTD.</td>\n",
       "      <td>AGAM SHIVUK NET LTD.</td>\n",
       "      <td>Old</td>\n",
       "      <td>5360.041475</td>\n",
       "      <td>GTS</td>\n",
       "      <td>General Procurement</td>\n",
       "      <td>100</td>\n",
       "      <td>Same Length</td>\n",
       "      <td>Yes</td>\n",
       "    </tr>\n",
       "    <tr>\n",
       "      <th>8160</th>\n",
       "      <td>SAP E03</td>\n",
       "      <td>175269</td>\n",
       "      <td>ANTIGON OF PARISIAN CO. EU</td>\n",
       "      <td>ANTIGON OF PARISIAN CO. EU</td>\n",
       "      <td>ANTIGON OF PARISIAN CO. EU</td>\n",
       "      <td>Old</td>\n",
       "      <td>0.000000</td>\n",
       "      <td>GTS</td>\n",
       "      <td>Undefined</td>\n",
       "      <td>100</td>\n",
       "      <td>Same Length</td>\n",
       "      <td>Yes</td>\n",
       "    </tr>\n",
       "    <tr>\n",
       "      <th>8161</th>\n",
       "      <td>SAP E03</td>\n",
       "      <td>173799</td>\n",
       "      <td>ARISTEIDIS BALOMENOS AND SIA OE</td>\n",
       "      <td>ARISTEIDIS BALOMENOS AND SIA OE</td>\n",
       "      <td>ARISTEIDIS BALOMENOS AND SIA OE</td>\n",
       "      <td>Old</td>\n",
       "      <td>0.000000</td>\n",
       "      <td>GTS</td>\n",
       "      <td>General Procurement</td>\n",
       "      <td>100</td>\n",
       "      <td>Same Length</td>\n",
       "      <td>Yes</td>\n",
       "    </tr>\n",
       "    <tr>\n",
       "      <th>8162</th>\n",
       "      <td>INBUS</td>\n",
       "      <td>CA6438-KOREA</td>\n",
       "      <td>Arraymond Co., Ltd.</td>\n",
       "      <td>AREIMONDEU</td>\n",
       "      <td>AREIMONDEU</td>\n",
       "      <td>Old</td>\n",
       "      <td>0.000000</td>\n",
       "      <td>INDUSTRIAL</td>\n",
       "      <td>Finished Goods</td>\n",
       "      <td>100</td>\n",
       "      <td>Same Length</td>\n",
       "      <td>Yes</td>\n",
       "    </tr>\n",
       "  </tbody>\n",
       "</table>\n",
       "<p>8163 rows × 12 columns</p>\n",
       "</div>\n",
       "      <button class=\"colab-df-convert\" onclick=\"convertToInteractive('df-1d00570b-cbb2-4552-98ac-92c80e3ac237')\"\n",
       "              title=\"Convert this dataframe to an interactive table.\"\n",
       "              style=\"display:none;\">\n",
       "        \n",
       "  <svg xmlns=\"http://www.w3.org/2000/svg\" height=\"24px\"viewBox=\"0 0 24 24\"\n",
       "       width=\"24px\">\n",
       "    <path d=\"M0 0h24v24H0V0z\" fill=\"none\"/>\n",
       "    <path d=\"M18.56 5.44l.94 2.06.94-2.06 2.06-.94-2.06-.94-.94-2.06-.94 2.06-2.06.94zm-11 1L8.5 8.5l.94-2.06 2.06-.94-2.06-.94L8.5 2.5l-.94 2.06-2.06.94zm10 10l.94 2.06.94-2.06 2.06-.94-2.06-.94-.94-2.06-.94 2.06-2.06.94z\"/><path d=\"M17.41 7.96l-1.37-1.37c-.4-.4-.92-.59-1.43-.59-.52 0-1.04.2-1.43.59L10.3 9.45l-7.72 7.72c-.78.78-.78 2.05 0 2.83L4 21.41c.39.39.9.59 1.41.59.51 0 1.02-.2 1.41-.59l7.78-7.78 2.81-2.81c.8-.78.8-2.07 0-2.86zM5.41 20L4 18.59l7.72-7.72 1.47 1.35L5.41 20z\"/>\n",
       "  </svg>\n",
       "      </button>\n",
       "      \n",
       "  <style>\n",
       "    .colab-df-container {\n",
       "      display:flex;\n",
       "      flex-wrap:wrap;\n",
       "      gap: 12px;\n",
       "    }\n",
       "\n",
       "    .colab-df-convert {\n",
       "      background-color: #E8F0FE;\n",
       "      border: none;\n",
       "      border-radius: 50%;\n",
       "      cursor: pointer;\n",
       "      display: none;\n",
       "      fill: #1967D2;\n",
       "      height: 32px;\n",
       "      padding: 0 0 0 0;\n",
       "      width: 32px;\n",
       "    }\n",
       "\n",
       "    .colab-df-convert:hover {\n",
       "      background-color: #E2EBFA;\n",
       "      box-shadow: 0px 1px 2px rgba(60, 64, 67, 0.3), 0px 1px 3px 1px rgba(60, 64, 67, 0.15);\n",
       "      fill: #174EA6;\n",
       "    }\n",
       "\n",
       "    [theme=dark] .colab-df-convert {\n",
       "      background-color: #3B4455;\n",
       "      fill: #D2E3FC;\n",
       "    }\n",
       "\n",
       "    [theme=dark] .colab-df-convert:hover {\n",
       "      background-color: #434B5C;\n",
       "      box-shadow: 0px 1px 3px 1px rgba(0, 0, 0, 0.15);\n",
       "      filter: drop-shadow(0px 1px 2px rgba(0, 0, 0, 0.3));\n",
       "      fill: #FFFFFF;\n",
       "    }\n",
       "  </style>\n",
       "\n",
       "      <script>\n",
       "        const buttonEl =\n",
       "          document.querySelector('#df-1d00570b-cbb2-4552-98ac-92c80e3ac237 button.colab-df-convert');\n",
       "        buttonEl.style.display =\n",
       "          google.colab.kernel.accessAllowed ? 'block' : 'none';\n",
       "\n",
       "        async function convertToInteractive(key) {\n",
       "          const element = document.querySelector('#df-1d00570b-cbb2-4552-98ac-92c80e3ac237');\n",
       "          const dataTable =\n",
       "            await google.colab.kernel.invokeFunction('convertToInteractive',\n",
       "                                                     [key], {});\n",
       "          if (!dataTable) return;\n",
       "\n",
       "          const docLinkHtml = 'Like what you see? Visit the ' +\n",
       "            '<a target=\"_blank\" href=https://colab.research.google.com/notebooks/data_table.ipynb>data table notebook</a>'\n",
       "            + ' to learn more about interactive tables.';\n",
       "          element.innerHTML = '';\n",
       "          dataTable['output_type'] = 'display_data';\n",
       "          await google.colab.output.renderOutput(dataTable, element);\n",
       "          const docLink = document.createElement('div');\n",
       "          docLink.innerHTML = docLinkHtml;\n",
       "          element.appendChild(docLink);\n",
       "        }\n",
       "      </script>\n",
       "    </div>\n",
       "  </div>\n",
       "  "
      ],
      "text/plain": [
       "              DataSource Vendor number  \\\n",
       "0           Syteline IES   9992470-DEX   \n",
       "1                JDE CAM        177662   \n",
       "2                SAP C11      30101537   \n",
       "3                  Ariba  30101537-A10   \n",
       "4                  Ariba    1099744-A9   \n",
       "...                  ...           ...   \n",
       "8158  3rd Party Security        601127   \n",
       "8159  3rd Party Security        601034   \n",
       "8160             SAP E03        175269   \n",
       "8161             SAP E03        173799   \n",
       "8162               INBUS  CA6438-KOREA   \n",
       "\n",
       "                                            Vendor name  \\\n",
       "0     A & A ENGINEERING CIVIL AND STRUCTURAL ENGINEE...   \n",
       "1                               A & A MACHINE & DEVELOP   \n",
       "2     A & A TROPHY HOUSE INC/DBA A&A AWARDS & PROMOT...   \n",
       "3     A & A TROPHY HOUSE INC/DBA A&A AWARDS & PROMOT...   \n",
       "4     A & A TROPHY HOUSE INC/A & A AWARDS & PROMOTIO...   \n",
       "...                                                 ...   \n",
       "8158                      Agam-Flame Service Center Ltd   \n",
       "8159                               Agam Shivuk Net Ltd.   \n",
       "8160                         ANTIGON OF PARISIAN CO. EU   \n",
       "8161                    ARISTEIDIS BALOMENOS AND SIA OE   \n",
       "8162                                Arraymond Co., Ltd.   \n",
       "\n",
       "                        Predicted Names/ Model Cleansed  \\\n",
       "0     A & A ENGINEERING CIVIL AND STRUCTURAL ENGINEE...   \n",
       "1                               A & A MACHINE & DEVELOP   \n",
       "2                             A&A AWARDS & PROMOTIONALS   \n",
       "3                             A&A AWARDS & PROMOTIONALS   \n",
       "4                             A&A AWARDS & PROMOTIONALS   \n",
       "...                                                 ...   \n",
       "8158                                              IMAGE   \n",
       "8159                               AGAM SHIVUK NET LTD.   \n",
       "8160                         ANTIGON OF PARISIAN CO. EU   \n",
       "8161                    ARISTEIDIS BALOMENOS AND SIA OE   \n",
       "8162                                         AREIMONDEU   \n",
       "\n",
       "                                      Manual Harmonized Vendor_Flag  \\\n",
       "0     A & A ENGINEERING CIVIL AND STRUCTURAL ENGINEE...         Old   \n",
       "1                               A & A MACHINE & DEVELOP         Old   \n",
       "2                             A&A AWARDS & PROMOTIONALS         Old   \n",
       "3                             A&A AWARDS & PROMOTIONALS         Old   \n",
       "4                             A&A AWARDS & PROMOTIONALS         Old   \n",
       "...                                                 ...         ...   \n",
       "8158                                         YOUR IMAGE         Old   \n",
       "8159                               AGAM SHIVUK NET LTD.         Old   \n",
       "8160                         ANTIGON OF PARISIAN CO. EU         Old   \n",
       "8161                    ARISTEIDIS BALOMENOS AND SIA OE         Old   \n",
       "8162                                         AREIMONDEU         Old   \n",
       "\n",
       "       Spend (USD)     Segment     Primary Category  Match Ratio  \\\n",
       "0      3450.000000  INDUSTRIAL            Undefined          100   \n",
       "1       294.793886  INDUSTRIAL  General Procurement          100   \n",
       "2         0.000000         GTS  General Procurement          100   \n",
       "3         0.000000         GTS  General Procurement          100   \n",
       "4     31207.080000   CORPORATE  General Procurement          100   \n",
       "...            ...         ...                  ...          ...   \n",
       "8158    372.161686         GTS  General Procurement           67   \n",
       "8159   5360.041475         GTS  General Procurement          100   \n",
       "8160      0.000000         GTS            Undefined          100   \n",
       "8161      0.000000         GTS  General Procurement          100   \n",
       "8162      0.000000  INDUSTRIAL       Finished Goods          100   \n",
       "\n",
       "        Match_word_len True Match Flag  \n",
       "0          Same Length             Yes  \n",
       "1          Same Length             Yes  \n",
       "2          Same Length             Yes  \n",
       "3          Same Length             Yes  \n",
       "4          Same Length             Yes  \n",
       "...                ...             ...  \n",
       "8158  Different Length              No  \n",
       "8159       Same Length             Yes  \n",
       "8160       Same Length             Yes  \n",
       "8161       Same Length             Yes  \n",
       "8162       Same Length             Yes  \n",
       "\n",
       "[8163 rows x 12 columns]"
      ]
     },
     "execution_count": 166,
     "metadata": {},
     "output_type": "execute_result"
    }
   ],
   "source": [
    "merged_final"
   ]
  },
  {
   "cell_type": "code",
   "execution_count": 202,
   "metadata": {
    "colab": {
     "base_uri": "https://localhost:8080/",
     "height": 81
    },
    "id": "pypWKjFnsk9d",
    "outputId": "44da1998-7f1f-4afc-babc-0ab2f1a3dad3"
   },
   "outputs": [
    {
     "data": {
      "text/html": [
       "\n",
       "  <div id=\"df-5fd8d579-f0aa-4cc9-bf06-ca462b9aa0e0\">\n",
       "    <div class=\"colab-df-container\">\n",
       "      <div>\n",
       "<style scoped>\n",
       "    .dataframe tbody tr th:only-of-type {\n",
       "        vertical-align: middle;\n",
       "    }\n",
       "\n",
       "    .dataframe tbody tr th {\n",
       "        vertical-align: top;\n",
       "    }\n",
       "\n",
       "    .dataframe thead th {\n",
       "        text-align: right;\n",
       "    }\n",
       "</style>\n",
       "<table border=\"1\" class=\"dataframe\">\n",
       "  <thead>\n",
       "    <tr style=\"text-align: right;\">\n",
       "      <th></th>\n",
       "      <th>DataSource</th>\n",
       "      <th>Vendor number</th>\n",
       "      <th>Vendor name</th>\n",
       "      <th>Predicted Names/ Model Cleansed</th>\n",
       "      <th>Manual Harmonized</th>\n",
       "      <th>Vendor_Flag</th>\n",
       "      <th>Spend (USD)</th>\n",
       "      <th>Segment</th>\n",
       "      <th>Primary Category</th>\n",
       "      <th>Match Ratio</th>\n",
       "      <th>Match_word_len</th>\n",
       "      <th>True Match Flag</th>\n",
       "    </tr>\n",
       "  </thead>\n",
       "  <tbody>\n",
       "    <tr>\n",
       "      <th>7735</th>\n",
       "      <td>SAP E03</td>\n",
       "      <td>400374</td>\n",
       "      <td>ALL FREIGHT LOGISTICS</td>\n",
       "      <td>ALL FREIGHT LOGISTICS</td>\n",
       "      <td>ALL FREIGHT LOGISTICS</td>\n",
       "      <td>Old</td>\n",
       "      <td>0.0</td>\n",
       "      <td>GTS</td>\n",
       "      <td>Transportation</td>\n",
       "      <td>100</td>\n",
       "      <td>Same Length</td>\n",
       "      <td>Yes</td>\n",
       "    </tr>\n",
       "  </tbody>\n",
       "</table>\n",
       "</div>\n",
       "      <button class=\"colab-df-convert\" onclick=\"convertToInteractive('df-5fd8d579-f0aa-4cc9-bf06-ca462b9aa0e0')\"\n",
       "              title=\"Convert this dataframe to an interactive table.\"\n",
       "              style=\"display:none;\">\n",
       "        \n",
       "  <svg xmlns=\"http://www.w3.org/2000/svg\" height=\"24px\"viewBox=\"0 0 24 24\"\n",
       "       width=\"24px\">\n",
       "    <path d=\"M0 0h24v24H0V0z\" fill=\"none\"/>\n",
       "    <path d=\"M18.56 5.44l.94 2.06.94-2.06 2.06-.94-2.06-.94-.94-2.06-.94 2.06-2.06.94zm-11 1L8.5 8.5l.94-2.06 2.06-.94-2.06-.94L8.5 2.5l-.94 2.06-2.06.94zm10 10l.94 2.06.94-2.06 2.06-.94-2.06-.94-.94-2.06-.94 2.06-2.06.94z\"/><path d=\"M17.41 7.96l-1.37-1.37c-.4-.4-.92-.59-1.43-.59-.52 0-1.04.2-1.43.59L10.3 9.45l-7.72 7.72c-.78.78-.78 2.05 0 2.83L4 21.41c.39.39.9.59 1.41.59.51 0 1.02-.2 1.41-.59l7.78-7.78 2.81-2.81c.8-.78.8-2.07 0-2.86zM5.41 20L4 18.59l7.72-7.72 1.47 1.35L5.41 20z\"/>\n",
       "  </svg>\n",
       "      </button>\n",
       "      \n",
       "  <style>\n",
       "    .colab-df-container {\n",
       "      display:flex;\n",
       "      flex-wrap:wrap;\n",
       "      gap: 12px;\n",
       "    }\n",
       "\n",
       "    .colab-df-convert {\n",
       "      background-color: #E8F0FE;\n",
       "      border: none;\n",
       "      border-radius: 50%;\n",
       "      cursor: pointer;\n",
       "      display: none;\n",
       "      fill: #1967D2;\n",
       "      height: 32px;\n",
       "      padding: 0 0 0 0;\n",
       "      width: 32px;\n",
       "    }\n",
       "\n",
       "    .colab-df-convert:hover {\n",
       "      background-color: #E2EBFA;\n",
       "      box-shadow: 0px 1px 2px rgba(60, 64, 67, 0.3), 0px 1px 3px 1px rgba(60, 64, 67, 0.15);\n",
       "      fill: #174EA6;\n",
       "    }\n",
       "\n",
       "    [theme=dark] .colab-df-convert {\n",
       "      background-color: #3B4455;\n",
       "      fill: #D2E3FC;\n",
       "    }\n",
       "\n",
       "    [theme=dark] .colab-df-convert:hover {\n",
       "      background-color: #434B5C;\n",
       "      box-shadow: 0px 1px 3px 1px rgba(0, 0, 0, 0.15);\n",
       "      filter: drop-shadow(0px 1px 2px rgba(0, 0, 0, 0.3));\n",
       "      fill: #FFFFFF;\n",
       "    }\n",
       "  </style>\n",
       "\n",
       "      <script>\n",
       "        const buttonEl =\n",
       "          document.querySelector('#df-5fd8d579-f0aa-4cc9-bf06-ca462b9aa0e0 button.colab-df-convert');\n",
       "        buttonEl.style.display =\n",
       "          google.colab.kernel.accessAllowed ? 'block' : 'none';\n",
       "\n",
       "        async function convertToInteractive(key) {\n",
       "          const element = document.querySelector('#df-5fd8d579-f0aa-4cc9-bf06-ca462b9aa0e0');\n",
       "          const dataTable =\n",
       "            await google.colab.kernel.invokeFunction('convertToInteractive',\n",
       "                                                     [key], {});\n",
       "          if (!dataTable) return;\n",
       "\n",
       "          const docLinkHtml = 'Like what you see? Visit the ' +\n",
       "            '<a target=\"_blank\" href=https://colab.research.google.com/notebooks/data_table.ipynb>data table notebook</a>'\n",
       "            + ' to learn more about interactive tables.';\n",
       "          element.innerHTML = '';\n",
       "          dataTable['output_type'] = 'display_data';\n",
       "          await google.colab.output.renderOutput(dataTable, element);\n",
       "          const docLink = document.createElement('div');\n",
       "          docLink.innerHTML = docLinkHtml;\n",
       "          element.appendChild(docLink);\n",
       "        }\n",
       "      </script>\n",
       "    </div>\n",
       "  </div>\n",
       "  "
      ],
      "text/plain": [
       "     DataSource Vendor number            Vendor name  \\\n",
       "7735    SAP E03        400374  ALL FREIGHT LOGISTICS   \n",
       "\n",
       "     Predicted Names/ Model Cleansed      Manual Harmonized Vendor_Flag  \\\n",
       "7735           ALL FREIGHT LOGISTICS  ALL FREIGHT LOGISTICS         Old   \n",
       "\n",
       "      Spend (USD) Segment Primary Category  Match Ratio Match_word_len  \\\n",
       "7735          0.0     GTS   Transportation          100    Same Length   \n",
       "\n",
       "     True Match Flag  \n",
       "7735             Yes  "
      ]
     },
     "execution_count": 202,
     "metadata": {},
     "output_type": "execute_result"
    }
   ],
   "source": [
    "merged_final[merged_final['Vendor name'] == 'ALL FREIGHT LOGISTICS']"
   ]
  },
  {
   "cell_type": "code",
   "execution_count": 167,
   "metadata": {
    "id": "ADcNw-BWslUE"
   },
   "outputs": [],
   "source": []
  },
  {
   "cell_type": "code",
   "execution_count": 167,
   "metadata": {
    "id": "a4XD0FXLslkg"
   },
   "outputs": [],
   "source": []
  },
  {
   "cell_type": "code",
   "execution_count": 167,
   "metadata": {
    "id": "o0gYUqJbslzz"
   },
   "outputs": [],
   "source": []
  },
  {
   "cell_type": "code",
   "execution_count": 168,
   "metadata": {
    "colab": {
     "base_uri": "https://localhost:8080/"
    },
    "id": "-DoPm959fjTk",
    "outputId": "733e496a-5583-4fbe-f95a-0e4e02896553"
   },
   "outputs": [
    {
     "name": "stdout",
     "output_type": "stream",
     "text": [
      "No of duplicate records: 0 \n",
      "No of Non duplicate records: 8163\n"
     ]
    }
   ],
   "source": [
    "no_of_dup_merged_records = merged_final[merged_final.duplicated()==True].shape[0] # this will give duplicates if any gets generated # subset=['Vendor name']\n",
    "non_dup_merged_records = merged_final.shape[0] - no_of_dup_merged_records\n",
    "print(f\"No of duplicate records: {no_of_dup_merged_records} \\nNo of Non duplicate records: {non_dup_merged_records}\") #it is good to have \"No of duplicate records:\" as \"0\"\n"
   ]
  },
  {
   "cell_type": "code",
   "execution_count": 169,
   "metadata": {
    "id": "JddJYM3mf205"
   },
   "outputs": [],
   "source": [
    "if no_of_dup_merged_records>0:\n",
    "  merged_final.drop_duplicates(inplace=True) # Put if condition when no_of_dup_merged_records> 0, then do the drop #subset=['Vendor name'],"
   ]
  },
  {
   "cell_type": "code",
   "execution_count": 170,
   "metadata": {
    "colab": {
     "base_uri": "https://localhost:8080/"
    },
    "id": "_rHNHrYarh3D",
    "outputId": "1e87a6b1-aae3-41a6-9124-d19f8c36d71c"
   },
   "outputs": [
    {
     "data": {
      "text/plain": [
       "8163"
      ]
     },
     "execution_count": 170,
     "metadata": {},
     "output_type": "execute_result"
    }
   ],
   "source": [
    "predict_df_len = merged_final.shape[0]\n",
    "predict_df_len"
   ]
  },
  {
   "cell_type": "code",
   "execution_count": 171,
   "metadata": {
    "colab": {
     "base_uri": "https://localhost:8080/"
    },
    "id": "zmBgyJMiBo2p",
    "outputId": "118b5f85-eae1-4430-9cb8-5e7acf29eaca"
   },
   "outputs": [
    {
     "data": {
      "text/plain": [
       "0"
      ]
     },
     "execution_count": 171,
     "metadata": {},
     "output_type": "execute_result"
    }
   ],
   "source": [
    "merged_final.isnull().sum().max()"
   ]
  },
  {
   "cell_type": "code",
   "execution_count": 172,
   "metadata": {
    "colab": {
     "base_uri": "https://localhost:8080/"
    },
    "id": "wVV83_TuV2js",
    "outputId": "5936dcd6-2673-4a04-b91b-dc1b434a9beb"
   },
   "outputs": [
    {
     "name": "stdout",
     "output_type": "stream",
     "text": [
      "Predicted Dataframe NA Count:  0\n"
     ]
    }
   ],
   "source": [
    "# drop Nan from vendor names\n",
    "count_na_merged_final = merged_final.isnull().sum().max()\n",
    "print(\"Predicted Dataframe NA Count: \",count_na_merged_final)\n",
    "if count_na_merged_final>0:\n",
    "  na_dict  = merged_final.isnull().sum().to_dict()#:  #.max()>0\n",
    "  for k,v in na_dict.items():\n",
    "    if v>0:\n",
    "      if (v == merged_final.isnull().sum().max()) and (k in ['DataSource',\t'Vendor number',\t'Vendor name']):\n",
    "        print(\"The column with maximum NA counts: \",k)\n",
    "        print(\"Info:   Dropping the NAs from the Dataframe:::::::::::\")\n",
    "        merged_final.dropna(inplace=True)\n",
    "        merged_final.reset_index(inplace=True,drop=True)\n",
    "\n",
    "#merged_final.dropna(subset = [\"Vendor name\"],inplace=True)  # here also put condition for NA then do Na and take the count as well\n",
    "\n",
    "merged_final.sort_values(\"Spend (USD)\", ascending=False,inplace=True)\n",
    "merged_final.reset_index(drop=True,inplace=True)\n",
    "validation_file = merged_final.copy()\n",
    "validation_file.sort_values(\"Predicted Names/ Model Cleansed\", ascending=True,inplace=True)\n",
    "validation_file = validation_file[['Predicted Names/ Model Cleansed', 'Manual Harmonized', 'Vendor_Flag','DataSource', 'Vendor number', 'Vendor name','Spend (USD)','Segment','Primary Category', 'Match Ratio','Match_word_len','True Match Flag']]\n",
    "validation_file.reset_index(drop=True,inplace=True)"
   ]
  },
  {
   "cell_type": "code",
   "execution_count": 172,
   "metadata": {
    "id": "TYw3Rp0JNYec"
   },
   "outputs": [],
   "source": []
  },
  {
   "cell_type": "code",
   "execution_count": 173,
   "metadata": {
    "id": "jdoh4CjaNjqC"
   },
   "outputs": [],
   "source": [
    "#inp_df_New_output.columns, validation_file.columns\n",
    "#match_ratio_filter = 78"
   ]
  },
  {
   "cell_type": "code",
   "execution_count": 174,
   "metadata": {
    "colab": {
     "base_uri": "https://localhost:8080/"
    },
    "id": "q-J_FQey0lax",
    "outputId": "9623b37f-da24-4d9b-cb8f-68975ad1f90b"
   },
   "outputs": [
    {
     "name": "stdout",
     "output_type": "stream",
     "text": [
      "Count of records in Validation file with 'Match Ration' more than 90%: 9507\n",
      "Count of records with 'Match Ration' less than 90%: 0\n"
     ]
    }
   ],
   "source": [
    "inp_df_New_output = inp_df_New_output[['Predicted Names/ Model Cleansed', 'Manual Harmonized', 'Vendor_Flag','DataSource', 'Vendor number', 'Vendor name','Spend (USD)','Segment','Primary Category', 'Match Ratio','Match_word_len','True Match Flag']]\n",
    "merged_validation_file  = pd.concat([validation_file, inp_df_New_output])\n",
    "merged_validation_file.sort_values(\"Spend (USD)\", ascending=False,inplace=True)\n",
    "merged_validation_file.reset_index(inplace=True,drop=True)\n",
    "non_match_final_validation = merged_validation_file.copy()\n",
    "non_match_final_validation = non_match_final_validation[(non_match_final_validation['Match Ratio']<00.00000000000)]#(non_match_final_validation['True Match Flag'] == 'No')] # include less than 90%\n",
    "count_non_match_final_validation = non_match_final_validation.shape[0]\n",
    "\n",
    "final_validation_file = merged_validation_file.copy()\n",
    "final_validation_file = final_validation_file[(final_validation_file['True Match Flag'] != 'No') | (final_validation_file['Match Ratio']>=00.000000000000000000000) | (final_validation_file['True Match Flag'] == 'Yes')] # 90% include\n",
    "print(f\"Count of records in Validation file with 'Match Ration' more than 90%: {final_validation_file.shape[0]}\\n\"\\\n",
    "        f\"Count of records with 'Match Ration' less than 90%: {count_non_match_final_validation}\")"
   ]
  },
  {
   "cell_type": "code",
   "execution_count": 174,
   "metadata": {
    "id": "Vi8QSZY_5bmX"
   },
   "outputs": [],
   "source": []
  },
  {
   "cell_type": "code",
   "execution_count": 175,
   "metadata": {
    "id": "brLyQn9TPPV4"
   },
   "outputs": [],
   "source": [
    "merged_validation_file['Spend (USD)']=merged_validation_file['Spend (USD)'].astype(float)\n",
    "merged_validation_file = merged_validation_file[(merged_validation_file['True Match Flag'] != 'No') | (merged_validation_file['Match Ratio']>=00.000000000000)] # 90% include\n",
    "merged_validation_file.reset_index(inplace=True,drop=True)\n",
    "merged_validation_file['Spend (USD)']=merged_validation_file['Spend (USD)'].astype(float)\n",
    "merged_validation_file = merged_validation_file.assign(totalSpend = merged_validation_file['Spend (USD)']).groupby('Predicted Names/ Model Cleansed').agg({'totalSpend':sum})\n",
    "#merged_validation_file = merged_validation_file.assign(totalSpend = np.where(merged_validation_file['True Match Flag']!='No',merged_validation_file['Spend (USD)'],0)).groupby('Predicted Names/ Model Cleansed').agg({'totalSpend':sum})\n",
    "merged_validation_file.sort_values(\"totalSpend\", ascending=False,inplace=True)\n",
    "merged_validation_file.reset_index(inplace=True)\n",
    "merged_validation_file['totalSpend']=merged_validation_file['totalSpend'].astype(float)\n",
    "merged_validation_file['Spend (USD)_cumulative'] = merged_validation_file['totalSpend'].cumsum()\n",
    "merged_validation_file['Spend (USD)_cumulative']=merged_validation_file['Spend (USD)_cumulative'].astype(float)\n",
    "merged_validation_file['totalSpend']=merged_validation_file['totalSpend'].astype(float)\n",
    "merged_validation_file['Cumulative Rolling %'] = (merged_validation_file['Spend (USD)_cumulative']  / merged_validation_file['totalSpend'].sum())*100\n",
    "merged_validation_file['Supplier %'] = (merged_validation_file['totalSpend']  / merged_validation_file['totalSpend'].sum())*100\n",
    "\n",
    "merged_validation_file['Spend (USD)_cumulative'] = merged_validation_file['Spend (USD)_cumulative'].apply(lambda x: f'{x:.2f}')\n",
    "\n",
    "merged_validation_file['Cumulative Rolling %'] = pd.to_numeric(merged_validation_file['Cumulative Rolling %'], downcast=\"float\")\n",
    "merged_validation_file['Cumulative Rolling %'] = merged_validation_file['Cumulative Rolling %'].apply(lambda x: f'{x:.2f}')\n",
    "\n",
    "merged_validation_file['Supplier %'] = pd.to_numeric(merged_validation_file['Supplier %'], downcast=\"float\")\n",
    "merged_validation_file['Supplier %'] = merged_validation_file['Supplier %'].apply(lambda x: f'{x:.2f}')\n",
    "merged_validation_file.reset_index(drop=True,inplace=True)\n",
    "\n",
    "\n",
    "merged_validation_file['Group'] = ''\n",
    "merged_validation_file['Cumulative Rolling %'] = pd.to_numeric(merged_validation_file['Cumulative Rolling %'], downcast=\"float\")\n",
    "merged_validation_file.loc[merged_validation_file['Cumulative Rolling %']<=80.0, ['Group']] = 1\n",
    "merged_validation_file.loc[merged_validation_file['Cumulative Rolling %']>80.0, ['Group']] = 2\n",
    "merged_validation_file.loc[merged_validation_file['Cumulative Rolling %']>90, ['Group']] = 3\n",
    "merged_validation_file.loc[merged_validation_file['Cumulative Rolling %']>95, ['Group']] = 4\n",
    "merged_validation_file.loc[merged_validation_file['Cumulative Rolling %']>98, ['Group']] = 5\n",
    "\n",
    "merged_validation_file['Cumulative Rolling %'] = merged_validation_file['Cumulative Rolling %'].apply(lambda x: f'{float(x):.2f}')\n",
    "merged_validation_file['totalSpend'] = merged_validation_file['totalSpend'].apply(lambda x: f'{float(x):.2f}')\n"
   ]
  },
  {
   "cell_type": "code",
   "execution_count": 176,
   "metadata": {
    "colab": {
     "base_uri": "https://localhost:8080/",
     "height": 423
    },
    "id": "Xc6j4Jm2HOsu",
    "outputId": "fd856632-4e35-4cdd-8b91-0da5f6a89776"
   },
   "outputs": [
    {
     "data": {
      "text/html": [
       "\n",
       "  <div id=\"df-312e0047-7ba2-448f-a1a7-b1cfd05bb379\">\n",
       "    <div class=\"colab-df-container\">\n",
       "      <div>\n",
       "<style scoped>\n",
       "    .dataframe tbody tr th:only-of-type {\n",
       "        vertical-align: middle;\n",
       "    }\n",
       "\n",
       "    .dataframe tbody tr th {\n",
       "        vertical-align: top;\n",
       "    }\n",
       "\n",
       "    .dataframe thead th {\n",
       "        text-align: right;\n",
       "    }\n",
       "</style>\n",
       "<table border=\"1\" class=\"dataframe\">\n",
       "  <thead>\n",
       "    <tr style=\"text-align: right;\">\n",
       "      <th></th>\n",
       "      <th>Predicted Names/ Model Cleansed</th>\n",
       "      <th>totalSpend</th>\n",
       "      <th>Spend (USD)_cumulative</th>\n",
       "      <th>Cumulative Rolling %</th>\n",
       "      <th>Supplier %</th>\n",
       "      <th>Group</th>\n",
       "    </tr>\n",
       "  </thead>\n",
       "  <tbody>\n",
       "    <tr>\n",
       "      <th>0</th>\n",
       "      <td>ADI</td>\n",
       "      <td>98174717.43</td>\n",
       "      <td>98174717.43</td>\n",
       "      <td>10.27</td>\n",
       "      <td>10.27</td>\n",
       "      <td>1</td>\n",
       "    </tr>\n",
       "    <tr>\n",
       "      <th>1</th>\n",
       "      <td>ACCENTURE</td>\n",
       "      <td>83303109.68</td>\n",
       "      <td>181477827.11</td>\n",
       "      <td>18.98</td>\n",
       "      <td>8.71</td>\n",
       "      <td>1</td>\n",
       "    </tr>\n",
       "    <tr>\n",
       "      <th>2</th>\n",
       "      <td>AKF INTERNATIONAL</td>\n",
       "      <td>41529533.65</td>\n",
       "      <td>223007360.76</td>\n",
       "      <td>23.32</td>\n",
       "      <td>4.34</td>\n",
       "      <td>1</td>\n",
       "    </tr>\n",
       "    <tr>\n",
       "      <th>3</th>\n",
       "      <td>ARCELORMITTAL</td>\n",
       "      <td>35957979.98</td>\n",
       "      <td>258965340.74</td>\n",
       "      <td>27.08</td>\n",
       "      <td>3.76</td>\n",
       "      <td>1</td>\n",
       "    </tr>\n",
       "    <tr>\n",
       "      <th>4</th>\n",
       "      <td>APEX MANUFACTURING</td>\n",
       "      <td>26010552.93</td>\n",
       "      <td>284975893.66</td>\n",
       "      <td>29.80</td>\n",
       "      <td>2.72</td>\n",
       "      <td>1</td>\n",
       "    </tr>\n",
       "    <tr>\n",
       "      <th>...</th>\n",
       "      <td>...</td>\n",
       "      <td>...</td>\n",
       "      <td>...</td>\n",
       "      <td>...</td>\n",
       "      <td>...</td>\n",
       "      <td>...</td>\n",
       "    </tr>\n",
       "    <tr>\n",
       "      <th>6754</th>\n",
       "      <td>AUTOMATION R &amp; D</td>\n",
       "      <td>-8965.00</td>\n",
       "      <td>956635805.54</td>\n",
       "      <td>100.05</td>\n",
       "      <td>-0.00</td>\n",
       "      <td>5</td>\n",
       "    </tr>\n",
       "    <tr>\n",
       "      <th>6755</th>\n",
       "      <td>ASSOCIATION OF NORTH AMERICAN TOOL/SUPPLIERS I...</td>\n",
       "      <td>-20137.15</td>\n",
       "      <td>956615668.39</td>\n",
       "      <td>100.05</td>\n",
       "      <td>-0.00</td>\n",
       "      <td>5</td>\n",
       "    </tr>\n",
       "    <tr>\n",
       "      <th>6756</th>\n",
       "      <td>AXIS COMMUNICATIONS</td>\n",
       "      <td>-21235.35</td>\n",
       "      <td>956594433.04</td>\n",
       "      <td>100.05</td>\n",
       "      <td>-0.00</td>\n",
       "      <td>5</td>\n",
       "    </tr>\n",
       "    <tr>\n",
       "      <th>6757</th>\n",
       "      <td>AVDEL FRANCE SAS</td>\n",
       "      <td>-29284.80</td>\n",
       "      <td>956565148.25</td>\n",
       "      <td>100.04</td>\n",
       "      <td>-0.00</td>\n",
       "      <td>5</td>\n",
       "    </tr>\n",
       "    <tr>\n",
       "      <th>6758</th>\n",
       "      <td>AVDEL UK LTD</td>\n",
       "      <td>-401124.12</td>\n",
       "      <td>956164024.13</td>\n",
       "      <td>100.00</td>\n",
       "      <td>-0.04</td>\n",
       "      <td>5</td>\n",
       "    </tr>\n",
       "  </tbody>\n",
       "</table>\n",
       "<p>6759 rows × 6 columns</p>\n",
       "</div>\n",
       "      <button class=\"colab-df-convert\" onclick=\"convertToInteractive('df-312e0047-7ba2-448f-a1a7-b1cfd05bb379')\"\n",
       "              title=\"Convert this dataframe to an interactive table.\"\n",
       "              style=\"display:none;\">\n",
       "        \n",
       "  <svg xmlns=\"http://www.w3.org/2000/svg\" height=\"24px\"viewBox=\"0 0 24 24\"\n",
       "       width=\"24px\">\n",
       "    <path d=\"M0 0h24v24H0V0z\" fill=\"none\"/>\n",
       "    <path d=\"M18.56 5.44l.94 2.06.94-2.06 2.06-.94-2.06-.94-.94-2.06-.94 2.06-2.06.94zm-11 1L8.5 8.5l.94-2.06 2.06-.94-2.06-.94L8.5 2.5l-.94 2.06-2.06.94zm10 10l.94 2.06.94-2.06 2.06-.94-2.06-.94-.94-2.06-.94 2.06-2.06.94z\"/><path d=\"M17.41 7.96l-1.37-1.37c-.4-.4-.92-.59-1.43-.59-.52 0-1.04.2-1.43.59L10.3 9.45l-7.72 7.72c-.78.78-.78 2.05 0 2.83L4 21.41c.39.39.9.59 1.41.59.51 0 1.02-.2 1.41-.59l7.78-7.78 2.81-2.81c.8-.78.8-2.07 0-2.86zM5.41 20L4 18.59l7.72-7.72 1.47 1.35L5.41 20z\"/>\n",
       "  </svg>\n",
       "      </button>\n",
       "      \n",
       "  <style>\n",
       "    .colab-df-container {\n",
       "      display:flex;\n",
       "      flex-wrap:wrap;\n",
       "      gap: 12px;\n",
       "    }\n",
       "\n",
       "    .colab-df-convert {\n",
       "      background-color: #E8F0FE;\n",
       "      border: none;\n",
       "      border-radius: 50%;\n",
       "      cursor: pointer;\n",
       "      display: none;\n",
       "      fill: #1967D2;\n",
       "      height: 32px;\n",
       "      padding: 0 0 0 0;\n",
       "      width: 32px;\n",
       "    }\n",
       "\n",
       "    .colab-df-convert:hover {\n",
       "      background-color: #E2EBFA;\n",
       "      box-shadow: 0px 1px 2px rgba(60, 64, 67, 0.3), 0px 1px 3px 1px rgba(60, 64, 67, 0.15);\n",
       "      fill: #174EA6;\n",
       "    }\n",
       "\n",
       "    [theme=dark] .colab-df-convert {\n",
       "      background-color: #3B4455;\n",
       "      fill: #D2E3FC;\n",
       "    }\n",
       "\n",
       "    [theme=dark] .colab-df-convert:hover {\n",
       "      background-color: #434B5C;\n",
       "      box-shadow: 0px 1px 3px 1px rgba(0, 0, 0, 0.15);\n",
       "      filter: drop-shadow(0px 1px 2px rgba(0, 0, 0, 0.3));\n",
       "      fill: #FFFFFF;\n",
       "    }\n",
       "  </style>\n",
       "\n",
       "      <script>\n",
       "        const buttonEl =\n",
       "          document.querySelector('#df-312e0047-7ba2-448f-a1a7-b1cfd05bb379 button.colab-df-convert');\n",
       "        buttonEl.style.display =\n",
       "          google.colab.kernel.accessAllowed ? 'block' : 'none';\n",
       "\n",
       "        async function convertToInteractive(key) {\n",
       "          const element = document.querySelector('#df-312e0047-7ba2-448f-a1a7-b1cfd05bb379');\n",
       "          const dataTable =\n",
       "            await google.colab.kernel.invokeFunction('convertToInteractive',\n",
       "                                                     [key], {});\n",
       "          if (!dataTable) return;\n",
       "\n",
       "          const docLinkHtml = 'Like what you see? Visit the ' +\n",
       "            '<a target=\"_blank\" href=https://colab.research.google.com/notebooks/data_table.ipynb>data table notebook</a>'\n",
       "            + ' to learn more about interactive tables.';\n",
       "          element.innerHTML = '';\n",
       "          dataTable['output_type'] = 'display_data';\n",
       "          await google.colab.output.renderOutput(dataTable, element);\n",
       "          const docLink = document.createElement('div');\n",
       "          docLink.innerHTML = docLinkHtml;\n",
       "          element.appendChild(docLink);\n",
       "        }\n",
       "      </script>\n",
       "    </div>\n",
       "  </div>\n",
       "  "
      ],
      "text/plain": [
       "                        Predicted Names/ Model Cleansed   totalSpend  \\\n",
       "0                                                   ADI  98174717.43   \n",
       "1                                             ACCENTURE  83303109.68   \n",
       "2                                     AKF INTERNATIONAL  41529533.65   \n",
       "3                                         ARCELORMITTAL  35957979.98   \n",
       "4                                    APEX MANUFACTURING  26010552.93   \n",
       "...                                                 ...          ...   \n",
       "6754                                   AUTOMATION R & D     -8965.00   \n",
       "6755  ASSOCIATION OF NORTH AMERICAN TOOL/SUPPLIERS I...    -20137.15   \n",
       "6756                                AXIS COMMUNICATIONS    -21235.35   \n",
       "6757                                   AVDEL FRANCE SAS    -29284.80   \n",
       "6758                                       AVDEL UK LTD   -401124.12   \n",
       "\n",
       "     Spend (USD)_cumulative Cumulative Rolling % Supplier % Group  \n",
       "0               98174717.43                10.27      10.27     1  \n",
       "1              181477827.11                18.98       8.71     1  \n",
       "2              223007360.76                23.32       4.34     1  \n",
       "3              258965340.74                27.08       3.76     1  \n",
       "4              284975893.66                29.80       2.72     1  \n",
       "...                     ...                  ...        ...   ...  \n",
       "6754           956635805.54               100.05      -0.00     5  \n",
       "6755           956615668.39               100.05      -0.00     5  \n",
       "6756           956594433.04               100.05      -0.00     5  \n",
       "6757           956565148.25               100.04      -0.00     5  \n",
       "6758           956164024.13               100.00      -0.04     5  \n",
       "\n",
       "[6759 rows x 6 columns]"
      ]
     },
     "execution_count": 176,
     "metadata": {},
     "output_type": "execute_result"
    }
   ],
   "source": [
    "merged_validation_file"
   ]
  },
  {
   "cell_type": "code",
   "execution_count": 177,
   "metadata": {
    "id": "rbFdXFRpPj6l"
   },
   "outputs": [],
   "source": [
    "final_validation_file =  pd.merge(final_validation_file,merged_validation_file[['Predicted Names/ Model Cleansed','totalSpend','Supplier %','Spend (USD)_cumulative','Cumulative Rolling %','Group']],left_on='Predicted Names/ Model Cleansed',right_on='Predicted Names/ Model Cleansed',how='left')\n",
    "final_validation_file.sort_values(\"Predicted Names/ Model Cleansed\", ascending=True,inplace=True)\n",
    "final_validation_file.drop(columns=['Match Ratio', 'True Match Flag',\t'Match_word_len'],inplace=True)\n",
    "final_validation_file['Spend (USD)'] = final_validation_file['Spend (USD)'].apply(lambda x: f'{x:.2f}')\n",
    "final_validation_file['Suggested Relationship Owner']=np.nan\n",
    "final_validation_file['Correct/Incorrect']=np.nan\n",
    "final_validation_file['Correct Revision'] = np.nan\n",
    "\n",
    "final_validation_file = final_validation_file[['Predicted Names/ Model Cleansed', 'Manual Harmonized', 'Vendor_Flag',\\\n",
    "                                        'DataSource', 'Vendor number', 'Vendor name', 'Spend (USD)',\\\n",
    "                                        'totalSpend','Supplier %','Spend (USD)_cumulative', 'Cumulative Rolling %',\\\n",
    "                                        'Group','Segment','Primary Category','Suggested Relationship Owner','Correct/Incorrect','Correct Revision']]\n",
    "final_validation_file.reset_index(drop=True,inplace=True)\n"
   ]
  },
  {
   "cell_type": "code",
   "execution_count": 178,
   "metadata": {
    "id": "fo5Q2YPFHOpg"
   },
   "outputs": [],
   "source": [
    "#final_validation_file.tail(5)\n",
    "#final_validation_file['Vendor name'].nunique()"
   ]
  },
  {
   "cell_type": "code",
   "execution_count": 179,
   "metadata": {
    "colab": {
     "base_uri": "https://localhost:8080/"
    },
    "id": "BwYXokGu4jv_",
    "outputId": "5daec053-2e29-476d-92cf-d05f3143497a"
   },
   "outputs": [
    {
     "data": {
      "text/plain": [
       "9507"
      ]
     },
     "execution_count": 179,
     "metadata": {},
     "output_type": "execute_result"
    }
   ],
   "source": [
    "final_validation_records = final_validation_file.shape[0]\n",
    "final_validation_records"
   ]
  },
  {
   "cell_type": "code",
   "execution_count": 180,
   "metadata": {
    "id": "RSI-o5h5HOm1"
   },
   "outputs": [],
   "source": [
    "#((326911619.44+85615877.26+206579069.43)/1806555966.77)*100"
   ]
  },
  {
   "cell_type": "code",
   "execution_count": 181,
   "metadata": {
    "colab": {
     "base_uri": "https://localhost:8080/"
    },
    "id": "-OHUV9xtWfUS",
    "outputId": "3067cac4-c47a-45a2-c98d-55f885b354cc"
   },
   "outputs": [
    {
     "data": {
      "text/plain": [
       "8163"
      ]
     },
     "execution_count": 181,
     "metadata": {},
     "output_type": "execute_result"
    }
   ],
   "source": [
    "model_chamber_records = merged_final.shape[0]\n",
    "model_chamber_records\n"
   ]
  },
  {
   "cell_type": "code",
   "execution_count": 182,
   "metadata": {
    "colab": {
     "base_uri": "https://localhost:8080/"
    },
    "id": "RL9YFDsKWqol",
    "outputId": "05440f3d-fe6e-4eec-d9a1-9b0280434340"
   },
   "outputs": [
    {
     "data": {
      "text/plain": [
       "1344"
      ]
     },
     "execution_count": 182,
     "metadata": {},
     "output_type": "execute_result"
    }
   ],
   "source": [
    "cleansed_records = inp_df_New_output.shape[0]\n",
    "cleansed_records"
   ]
  },
  {
   "cell_type": "code",
   "execution_count": 182,
   "metadata": {
    "id": "oc0P7MHlmHOt"
   },
   "outputs": [],
   "source": [
    "\n"
   ]
  },
  {
   "cell_type": "markdown",
   "metadata": {
    "id": "QNMZ6aEemwiM"
   },
   "source": [
    "# Accuracy:"
   ]
  },
  {
   "cell_type": "code",
   "execution_count": 183,
   "metadata": {
    "colab": {
     "base_uri": "https://localhost:8080/"
    },
    "id": "DBesGFXmwDlw",
    "outputId": "2f6c1a5c-75bf-4cbc-d3c8-2b7ee6fe7c2f"
   },
   "outputs": [
    {
     "data": {
      "text/plain": [
       "7648"
      ]
     },
     "execution_count": 183,
     "metadata": {},
     "output_type": "execute_result"
    }
   ],
   "source": [
    "true_matched_records = merged_final[merged_final['True Match Flag'] == 'Yes'].shape[0]\n",
    "true_matched_records"
   ]
  },
  {
   "cell_type": "code",
   "execution_count": 184,
   "metadata": {
    "colab": {
     "base_uri": "https://localhost:8080/"
    },
    "id": "3AYxo-fal9Fs",
    "outputId": "64136fd4-83c7-48f5-90ed-f4d9ce9570f3"
   },
   "outputs": [
    {
     "data": {
      "text/plain": [
       "93.69104495896117"
      ]
     },
     "execution_count": 184,
     "metadata": {},
     "output_type": "execute_result"
    }
   ],
   "source": [
    "model_accuracy = (true_matched_records/model_chamber_records)*100\n",
    "model_accuracy"
   ]
  },
  {
   "cell_type": "code",
   "execution_count": 185,
   "metadata": {
    "id": "DxG8YTJOcFp6"
   },
   "outputs": [],
   "source": [
    "date = datetime.now().strftime(\"%Y_%b_%d\")"
   ]
  },
  {
   "cell_type": "code",
   "execution_count": 185,
   "metadata": {
    "id": "7EJPIz_XC2Hw"
   },
   "outputs": [],
   "source": []
  },
  {
   "cell_type": "code",
   "execution_count": 186,
   "metadata": {
    "colab": {
     "base_uri": "https://localhost:8080/",
     "height": 16
    },
    "id": "7JAKBUQ5l9i2",
    "outputId": "5a077503-95dd-4a0b-91dd-5354125e0e60"
   },
   "outputs": [
    {
     "data": {
      "application/javascript": [
       "\n",
       "    async function download(id, filename, size) {\n",
       "      if (!google.colab.kernel.accessAllowed) {\n",
       "        return;\n",
       "      }\n",
       "      const div = document.createElement('div');\n",
       "      const label = document.createElement('label');\n",
       "      label.textContent = `Downloading \"${filename}\": `;\n",
       "      div.appendChild(label);\n",
       "      const progress = document.createElement('progress');\n",
       "      progress.max = size;\n",
       "      div.appendChild(progress);\n",
       "      document.body.appendChild(div);\n",
       "\n",
       "      const buffers = [];\n",
       "      let downloaded = 0;\n",
       "\n",
       "      const channel = await google.colab.kernel.comms.open(id);\n",
       "      // Send a message to notify the kernel that we're ready.\n",
       "      channel.send({})\n",
       "\n",
       "      for await (const message of channel.messages) {\n",
       "        // Send a message to notify the kernel that we're ready.\n",
       "        channel.send({})\n",
       "        if (message.buffers) {\n",
       "          for (const buffer of message.buffers) {\n",
       "            buffers.push(buffer);\n",
       "            downloaded += buffer.byteLength;\n",
       "            progress.value = downloaded;\n",
       "          }\n",
       "        }\n",
       "      }\n",
       "      const blob = new Blob(buffers, {type: 'application/binary'});\n",
       "      const a = document.createElement('a');\n",
       "      a.href = window.URL.createObjectURL(blob);\n",
       "      a.download = filename;\n",
       "      div.appendChild(a);\n",
       "      a.click();\n",
       "      div.remove();\n",
       "    }\n",
       "  "
      ],
      "text/plain": [
       "<IPython.core.display.Javascript object>"
      ]
     },
     "metadata": {},
     "output_type": "display_data"
    },
    {
     "data": {
      "application/javascript": [
       "download(\"download_b34be806-7a95-418c-a634-86e35dacbaf7\", \"Validation.xlsx\", 870944)"
      ],
      "text/plain": [
       "<IPython.core.display.Javascript object>"
      ]
     },
     "metadata": {},
     "output_type": "display_data"
    }
   ],
   "source": [
    "final_validation_file.to_excel('Validation.xlsx',index=False,encoding='utf8')\n",
    "files.download('Validation.xlsx')"
   ]
  },
  {
   "cell_type": "code",
   "execution_count": 187,
   "metadata": {
    "colab": {
     "base_uri": "https://localhost:8080/",
     "height": 16
    },
    "id": "94VQuN9QcFp6",
    "outputId": "cd1113d6-3ac9-4d32-ae65-34743b97d332"
   },
   "outputs": [
    {
     "data": {
      "application/javascript": [
       "\n",
       "    async function download(id, filename, size) {\n",
       "      if (!google.colab.kernel.accessAllowed) {\n",
       "        return;\n",
       "      }\n",
       "      const div = document.createElement('div');\n",
       "      const label = document.createElement('label');\n",
       "      label.textContent = `Downloading \"${filename}\": `;\n",
       "      div.appendChild(label);\n",
       "      const progress = document.createElement('progress');\n",
       "      progress.max = size;\n",
       "      div.appendChild(progress);\n",
       "      document.body.appendChild(div);\n",
       "\n",
       "      const buffers = [];\n",
       "      let downloaded = 0;\n",
       "\n",
       "      const channel = await google.colab.kernel.comms.open(id);\n",
       "      // Send a message to notify the kernel that we're ready.\n",
       "      channel.send({})\n",
       "\n",
       "      for await (const message of channel.messages) {\n",
       "        // Send a message to notify the kernel that we're ready.\n",
       "        channel.send({})\n",
       "        if (message.buffers) {\n",
       "          for (const buffer of message.buffers) {\n",
       "            buffers.push(buffer);\n",
       "            downloaded += buffer.byteLength;\n",
       "            progress.value = downloaded;\n",
       "          }\n",
       "        }\n",
       "      }\n",
       "      const blob = new Blob(buffers, {type: 'application/binary'});\n",
       "      const a = document.createElement('a');\n",
       "      a.href = window.URL.createObjectURL(blob);\n",
       "      a.download = filename;\n",
       "      div.appendChild(a);\n",
       "      a.click();\n",
       "      div.remove();\n",
       "    }\n",
       "  "
      ],
      "text/plain": [
       "<IPython.core.display.Javascript object>"
      ]
     },
     "metadata": {},
     "output_type": "display_data"
    },
    {
     "data": {
      "application/javascript": [
       "download(\"download_97764cbe-4641-477f-ad0c-34a777702f04\", \"Prediction.xlsx\", 595496)"
      ],
      "text/plain": [
       "<IPython.core.display.Javascript object>"
      ]
     },
     "metadata": {},
     "output_type": "display_data"
    }
   ],
   "source": [
    "# Send the ouput prredicted file to ouput folder\n",
    "#merged_final.to_excel(f'C:/Users/PXC0909/OneDrive - Stanley Black & Decker/Desktop/SBD/Vendor Harmonization/VH_Data/Predicted/merged_final_{date}.xlsx',index=False,encoding='utf_8_sig')\n",
    "merged_final.to_excel('Prediction.xlsx',index=False,encoding='utf8')\n",
    "files.download('Prediction.xlsx')"
   ]
  },
  {
   "cell_type": "code",
   "execution_count": 188,
   "metadata": {
    "colab": {
     "base_uri": "https://localhost:8080/",
     "height": 16
    },
    "id": "IkLT5fqmcFp7",
    "outputId": "5ee0d293-e2f2-489e-e849-608fa09b267e"
   },
   "outputs": [
    {
     "data": {
      "application/javascript": [
       "\n",
       "    async function download(id, filename, size) {\n",
       "      if (!google.colab.kernel.accessAllowed) {\n",
       "        return;\n",
       "      }\n",
       "      const div = document.createElement('div');\n",
       "      const label = document.createElement('label');\n",
       "      label.textContent = `Downloading \"${filename}\": `;\n",
       "      div.appendChild(label);\n",
       "      const progress = document.createElement('progress');\n",
       "      progress.max = size;\n",
       "      div.appendChild(progress);\n",
       "      document.body.appendChild(div);\n",
       "\n",
       "      const buffers = [];\n",
       "      let downloaded = 0;\n",
       "\n",
       "      const channel = await google.colab.kernel.comms.open(id);\n",
       "      // Send a message to notify the kernel that we're ready.\n",
       "      channel.send({})\n",
       "\n",
       "      for await (const message of channel.messages) {\n",
       "        // Send a message to notify the kernel that we're ready.\n",
       "        channel.send({})\n",
       "        if (message.buffers) {\n",
       "          for (const buffer of message.buffers) {\n",
       "            buffers.push(buffer);\n",
       "            downloaded += buffer.byteLength;\n",
       "            progress.value = downloaded;\n",
       "          }\n",
       "        }\n",
       "      }\n",
       "      const blob = new Blob(buffers, {type: 'application/binary'});\n",
       "      const a = document.createElement('a');\n",
       "      a.href = window.URL.createObjectURL(blob);\n",
       "      a.download = filename;\n",
       "      div.appendChild(a);\n",
       "      a.click();\n",
       "      div.remove();\n",
       "    }\n",
       "  "
      ],
      "text/plain": [
       "<IPython.core.display.Javascript object>"
      ]
     },
     "metadata": {},
     "output_type": "display_data"
    },
    {
     "data": {
      "application/javascript": [
       "download(\"download_2eb96290-50ff-4b20-9d86-306bc1bb3693\", \"Cleansed_Vendors.xlsx\", 103228)"
      ],
      "text/plain": [
       "<IPython.core.display.Javascript object>"
      ]
     },
     "metadata": {},
     "output_type": "display_data"
    }
   ],
   "source": [
    "# Send the new/ Ambiguous vendor output file to conformation folder\n",
    "#inp_df_New_output.to_excel(f'C:/Users/PXC0909/OneDrive - Stanley Black & Decker/Desktop/SBD/Vendor Harmonization/VH_Data/Cleansed/Cleansed_Vendors_{date}.xlsx',index=False,encoding='utf_8_sig')\n",
    "inp_df_New_output.to_excel(f'Cleansed_Vendors.xlsx',index=False,encoding='utf8')\n",
    "files.download('Cleansed_Vendors.xlsx')"
   ]
  },
  {
   "cell_type": "code",
   "execution_count": 189,
   "metadata": {
    "id": "sEUMSu4DcFp7"
   },
   "outputs": [],
   "source": [
    "#inp_df_New_output.head()"
   ]
  },
  {
   "cell_type": "code",
   "execution_count": 190,
   "metadata": {
    "id": "JOr5XQmHcFp7"
   },
   "outputs": [],
   "source": [
    "#merged_final.shape"
   ]
  },
  {
   "cell_type": "code",
   "execution_count": 191,
   "metadata": {
    "id": "JO-xBJI_cFp7"
   },
   "outputs": [],
   "source": [
    "process_end_time =  datetime.now()"
   ]
  },
  {
   "cell_type": "code",
   "execution_count": 192,
   "metadata": {
    "id": "TmmqXZu4cFp7"
   },
   "outputs": [],
   "source": [
    "process_time_taken = process_end_time - process_start_time\n",
    "process_time_taken = time_util(process_time_taken)"
   ]
  },
  {
   "cell_type": "code",
   "execution_count": 193,
   "metadata": {
    "colab": {
     "base_uri": "https://localhost:8080/"
    },
    "id": "K0ReUxGZcFp7",
    "outputId": "7725aa23-8ed8-439b-ef6c-e67130ce8c37"
   },
   "outputs": [
    {
     "name": "stdout",
     "output_type": "stream",
     "text": [
      "Time taken to execute complete script: 129 mins & 25 secs\n"
     ]
    }
   ],
   "source": [
    "print(f'Time taken to execute complete script: {process_time_taken}')"
   ]
  },
  {
   "cell_type": "code",
   "execution_count": 194,
   "metadata": {
    "id": "AIr0eun8cFp8"
   },
   "outputs": [],
   "source": [
    "#mytext = 'The program is executed' #+str(process_time_taken)\n",
    "#language = 'en'\n",
    "#myobj = gTTS(text=mytext, lang=language, slow=False)\n",
    "#myobj.save(\"time_taken.mp3\")\n",
    "#os.system(\"time_taken.mp3\")"
   ]
  },
  {
   "cell_type": "code",
   "execution_count": 195,
   "metadata": {
    "colab": {
     "base_uri": "https://localhost:8080/"
    },
    "id": "_2CNcdGNcFp8",
    "outputId": "6d653bf1-b8fc-4df0-9e04-cf3d85eb2429"
   },
   "outputs": [
    {
     "name": "stdout",
     "output_type": "stream",
     "text": [
      "No of master files/ file used:  1\n",
      "Total no of records:  228994\n",
      "Total no of Null records:  121233\n",
      "No of bad/filtered/uncleaned master data:  0\n",
      "Total no of records removed:  121233\n",
      "No of Clean records: 107761\n",
      "No of (non-duplicate) records to clean:  0\n",
      "No of records used as Master data:  374639\n",
      "Percentage of Foreign/ Dirty records:  0.000\n"
     ]
    }
   ],
   "source": [
    "# Code to get the full information on data\n",
    "\n",
    "# Information of Raw master data:::\n",
    "# No of master files used:\n",
    "print('No of master files/ file used: ',no_of_files)\n",
    "\n",
    "# Total no of records in master data (including all type of records)\n",
    "print(\"Total no of records: \", length)\n",
    "\n",
    "# Total no of null records (repeatative cleaning)\n",
    "tot_no_of_null_records = no_of_null_records1 + no_of_null_records2 + no_of_null_records3 \n",
    "print(\"Total no of Null records: \",tot_no_of_null_records)\n",
    "\n",
    "# No of bad/uncleaned master data:\n",
    "print(f\"No of bad/filtered/uncleaned master data: \", no_of_noise_flags)\n",
    "\n",
    "# Total no of dropped records\n",
    "no_of_dropped_records = tot_no_of_null_records + no_of_noise_flags\n",
    "print(\"Total no of records removed: \",no_of_dropped_records)\n",
    "\n",
    "# Total no of clean records:\n",
    "no_of_clean_records =  length - no_of_dropped_records\n",
    "print(\"No of Clean records:\", no_of_clean_records)\n",
    "\n",
    "# Total no of unique bad/uncleaned:\n",
    "tot_no_of_unique_dirty_records = no_of_unique_dirty_records\n",
    "print(\"No of (non-duplicate) records to clean: \", tot_no_of_unique_dirty_records)\n",
    "\n",
    "# Total no of master records in use\n",
    "print(\"No of records used as Master data: \", tot_no_of_clean_records)\n",
    "\n",
    "# Percentage of unique bad/uncleaned records\n",
    "print(\"Percentage of Foreign/ Dirty records: \", per_irr)\n"
   ]
  },
  {
   "cell_type": "code",
   "execution_count": 196,
   "metadata": {
    "colab": {
     "base_uri": "https://localhost:8080/"
    },
    "id": "pHuHECmnilbN",
    "outputId": "e51fc7e2-183f-4f2b-f9be-97508dee4588"
   },
   "outputs": [
    {
     "name": "stdout",
     "output_type": "stream",
     "text": [
      "No of input files used:  1\n",
      "No of records in input data:  9507\n",
      "Unique Flags are:  ('New', 'Old')\n",
      "No of duplicate records:  0\n",
      "Total no of null records to drop:  0\n",
      "Count of Foreign name/names Translated: 92\n",
      "No of \"New\" records:  1344\n",
      "No of \"Old\" records:  8163\n",
      "Total no of clean inp records:  9507\n",
      "Total no of Unique vendors:  8491\n",
      "No of records predicted:  8163\n",
      "No of records cleansed:  1344\n",
      "No of records in Validation file having 'Match Ratio' more than 0%:  9507\n",
      "No of records not in Validation file having 'Match Ratio' less than 0%:  0\n",
      "Model accuracy:  93.69104495896117\n"
     ]
    }
   ],
   "source": [
    "# Information of Input data:::\n",
    "# No of Input files used\n",
    "print('No of input files used: ', tot_files)\n",
    "tot_files\n",
    "\n",
    "# Total no of records in input data (including all type of records)\n",
    "print('No of records in input data: ', no_of_raw_inp_records)\n",
    "\n",
    "# Unique Flags:\n",
    "print(\"Unique Flags are: \",unique_vendor_flag(n))\n",
    "\n",
    "# Duplicate records:\n",
    "print(\"No of duplicate records: \",count_dup)\n",
    "\n",
    "# No of Null records\n",
    "tot_no_of_null_inp_records = no_of_null_inp_records1 + no_of_null_inp_records2 \n",
    "print('Total no of null records to drop: ', tot_no_of_null_inp_records)\n",
    "\n",
    "# Foreign counts:\n",
    "if (foreign_count == 0) and (foreign_count_raw>0):\n",
    "  print(f'Count of Foreign name/names Translated: {foreign_count_raw}')\n",
    "\n",
    "# No of new records:\n",
    "no_of_new_records = new_records\n",
    "print('No of \"New\" records: ',no_of_new_records)\n",
    "\n",
    "\n",
    "# No of old records:\n",
    "no_of_old_records = old_records\n",
    "print('No of \"Old\" records: ',no_of_old_records)\n",
    "\n",
    "# No of fit old records:\n",
    "no_of_fit_old_records\n",
    "#print('No of fit old records: ', no_of_fit_old_records)\n",
    "\n",
    "# No of unfit old records:\n",
    "#no_of_unfit_old_records\n",
    "#print('No of unfit old records: ', no_of_unfit_old_records)\n",
    "\n",
    "# total no of clean input records\n",
    "print('Total no of clean inp records: ',tot_no_of_clean_inp_records)\n",
    "\n",
    "# total no of Unique vendors\n",
    "print('Total no of Unique vendors: ',tot_no_of_unique_vendors)\n",
    "\n",
    "\n",
    "# After Run:\n",
    "# Total no of records as output from Model chamber:\n",
    "print(\"No of records predicted: \", model_chamber_records)\n",
    "\n",
    "# Total no of records as output from cleansing chamber:\n",
    "print(\"No of records cleansed: \", cleansed_records)\n",
    "\n",
    "# For Validaton file:\n",
    "print(\"No of records in Validation file having 'Match Ratio' more than 0%: \", final_validation_records)\n",
    "print(\"No of records not in Validation file having 'Match Ratio' less than 0%: \", count_non_match_final_validation)\n",
    "\n",
    "# Model Accuracy:\n",
    "print(\"Model accuracy: \",model_accuracy)"
   ]
  },
  {
   "cell_type": "code",
   "execution_count": 196,
   "metadata": {
    "id": "Ol63g5CYL8oR"
   },
   "outputs": [],
   "source": []
  },
  {
   "cell_type": "markdown",
   "metadata": {
    "id": "42vpEBBuET1J"
   },
   "source": [
    "# End of Script"
   ]
  },
  {
   "cell_type": "markdown",
   "metadata": {
    "id": "KkPVrQ2w3UIq"
   },
   "source": [
    "# Below snippets are for testing purpose only"
   ]
  },
  {
   "cell_type": "code",
   "execution_count": null,
   "metadata": {
    "colab": {
     "base_uri": "https://localhost:8080/",
     "height": 91
    },
    "id": "t6irzjpnZ_n7",
    "outputId": "40f8591b-43ea-4aa4-b11f-b1945707c967"
   },
   "outputs": [
    {
     "data": {
      "application/vnd.google.colaboratory.intrinsic+json": {
       "type": "string"
      },
      "text/plain": [
       "'\\nimport unicodedata\\nvn = \"ł\"\\ndef norm_vendorNames1(vname):\\n  normalized = unicodedata.normalize(\\'NFD\\', vname)\\n  norm_vname = u\"\".join([c for c in normalized if not unicodedata.combining(c)])\\n  norm_vname = trans_name(norm_vname)\\n  return(norm_vname)\\n\\nprint(norm_vendorNames1(vn))\\ndanish_text_raw = \\'ø\\' # here you would load your text\\nprint(danish_text_raw) # returns string\\ndanish_text = danish_text_raw.encode(\\'utf-8\\').decode() \\nprint(danish_text)\\ndef to_unicode(in_string):\\n  if isinstance(in_string,str):\\n    out_string = in_string.encode().decode(\\'utf-8\\')\\n  elif isinstance(in_string,unicode):\\n    out_string = in_string\\n  else:\\n    raise TypeError(\\'not stringy\\')\\n  return out_string\\nto_unicode(danish_text_raw)\\nimport unicodedata as ud\\n\\ndef rmdiacritics(name):\\n    \\'\\'\\'\\n    Return the base character of char, by \"removing\" any\\n    diacritics like accents or curls and strokes and the like.\\n    \\'\\'\\'\\n    char_list = []\\n    for char in name:\\n      desc = ud.name(char)\\n      #print(desc)\\n      cutoff = desc.find(\\' WITH \\')\\n      #print(cutoff)\\n      if cutoff == -1:\\n        char_list.append(char)\\n      elif cutoff != -1:\\n        desc = desc[:cutoff]\\n        #print(desc)\\n        try:\\n          char = ud.lookup(desc)\\n          #print(char)\\n          char_list.append(char)\\n        except KeyError:\\n            pass  # removing \"WITH ...\" produced an invalid name\\n    \\n    return \\'\\'.join(char_list)\\n\\nrmdiacritics(\\'BYMILJØETATEN\\')\\n!pip install unidecode\\nfrom unidecode import unidecode\\nfrom unidecode import unidecode\\ntext = \"E & Y K÷NYVVIZSGßLO KFT.\"\\nprint(unidecode(text))\\ndef decode_vnames(vname):\\n  return(unidecode(vname))\\n#decode_vnames(s)\\ndecode_vnames(\\'永恒力合力工业车辆租赁（上海）有限公司\\')\\n\\'THEO’S PRESTIGE PAINT & PANE\\'\\ns = \\'André\\'\\ns.encode().decode(\\'utf-8\\', \\'replace\\')\\nu = s.encode(\\'latin-1\\',\\'replace\\').decode(\\'ascii\\',\\'replace\\')#.encode(\\'utf-8\\', \\'replace\\')#.decode(\\'ascii\\',\\'replace\\')\\nf= u.encode(encoding=\\'utf-8\\', errors=\\'strict\\')\\nu\\nd = u.encode(\\'utf-8\\',\\'replace\\').decode(\\'utf-8\\',\\'replace\\')\\nd\\ng = bytes(s, \\'utf-8\\')\\ng= g.decode(\\'ascii\\',\\'replace\\')\\ng\\ntype(f),f\\nh = f.decode(\\'utf-8\\',\\'replace\\').encode().decode(\\'utf-8\\',\\'replace\\')\\nh.encode().decode(\\'utf-8\\', \\'replace\\')\\n'"
      ]
     },
     "execution_count": 959,
     "metadata": {},
     "output_type": "execute_result"
    }
   ],
   "source": [
    "\"\"\"\n",
    "import unicodedata\n",
    "vn = \"ł\"\n",
    "def norm_vendorNames1(vname):\n",
    "  normalized = unicodedata.normalize('NFD', vname)\n",
    "  norm_vname = u\"\".join([c for c in normalized if not unicodedata.combining(c)])\n",
    "  norm_vname = trans_name(norm_vname)\n",
    "  return(norm_vname)\n",
    "\n",
    "print(norm_vendorNames1(vn))\n",
    "danish_text_raw = 'ø' # here you would load your text\n",
    "print(danish_text_raw) # returns string\n",
    "danish_text = danish_text_raw.encode('utf-8').decode() \n",
    "print(danish_text)\n",
    "def to_unicode(in_string):\n",
    "  if isinstance(in_string,str):\n",
    "    out_string = in_string.encode().decode('utf-8')\n",
    "  elif isinstance(in_string,unicode):\n",
    "    out_string = in_string\n",
    "  else:\n",
    "    raise TypeError('not stringy')\n",
    "  return out_string\n",
    "to_unicode(danish_text_raw)\n",
    "import unicodedata as ud\n",
    "\n",
    "def rmdiacritics(name):\n",
    "    '''\n",
    "    Return the base character of char, by \"removing\" any\n",
    "    diacritics like accents or curls and strokes and the like.\n",
    "    '''\n",
    "    char_list = []\n",
    "    for char in name:\n",
    "      desc = ud.name(char)\n",
    "      #print(desc)\n",
    "      cutoff = desc.find(' WITH ')\n",
    "      #print(cutoff)\n",
    "      if cutoff == -1:\n",
    "        char_list.append(char)\n",
    "      elif cutoff != -1:\n",
    "        desc = desc[:cutoff]\n",
    "        #print(desc)\n",
    "        try:\n",
    "          char = ud.lookup(desc)\n",
    "          #print(char)\n",
    "          char_list.append(char)\n",
    "        except KeyError:\n",
    "            pass  # removing \"WITH ...\" produced an invalid name\n",
    "    \n",
    "    return ''.join(char_list)\n",
    "\n",
    "rmdiacritics('BYMILJØETATEN')\n",
    "!pip install unidecode\n",
    "from unidecode import unidecode\n",
    "from unidecode import unidecode\n",
    "text = \"E & Y K÷NYVVIZSGßLO KFT.\"\n",
    "print(unidecode(text))\n",
    "def decode_vnames(vname):\n",
    "  return(unidecode(vname))\n",
    "#decode_vnames(s)\n",
    "decode_vnames('永恒力合力工业车辆租赁（上海）有限公司')\n",
    "'THEO’S PRESTIGE PAINT & PANE'\n",
    "s = 'Andr\\xE9'\n",
    "s.encode().decode('utf-8', 'replace')\n",
    "u = s.encode('latin-1','replace').decode('ascii','replace')#.encode('utf-8', 'replace')#.decode('ascii','replace')\n",
    "f= u.encode(encoding='utf-8', errors='strict')\n",
    "u\n",
    "d = u.encode('utf-8','replace').decode('utf-8','replace')\n",
    "d\n",
    "g = bytes(s, 'utf-8')\n",
    "g= g.decode('ascii','replace')\n",
    "g\n",
    "type(f),f\n",
    "h = f.decode('utf-8','replace').encode().decode('utf-8','replace')\n",
    "h.encode().decode('utf-8', 'replace')\n",
    "\"\"\""
   ]
  }
 ],
 "metadata": {
  "colab": {
   "collapsed_sections": [],
   "name": "VH_Automation_gcolab_version16.ipynb",
   "provenance": []
  },
  "kernelspec": {
   "display_name": "Python 3",
   "language": "python",
   "name": "python3"
  },
  "language_info": {
   "codemirror_mode": {
    "name": "ipython",
    "version": 3
   },
   "file_extension": ".py",
   "mimetype": "text/x-python",
   "name": "python",
   "nbconvert_exporter": "python",
   "pygments_lexer": "ipython3",
   "version": "3.8.5"
  },
  "widgets": {
   "application/vnd.jupyter.widget-state+json": {
    "0135f251a5d34d7393a988d8411df150": {
     "model_module": "@jupyter-widgets/controls",
     "model_module_version": "1.5.0",
     "model_name": "HTMLModel",
     "state": {
      "_dom_classes": [],
      "_model_module": "@jupyter-widgets/controls",
      "_model_module_version": "1.5.0",
      "_model_name": "HTMLModel",
      "_view_count": null,
      "_view_module": "@jupyter-widgets/controls",
      "_view_module_version": "1.5.0",
      "_view_name": "HTMLView",
      "description": "",
      "description_tooltip": null,
      "layout": "IPY_MODEL_7661c03a5ab4473987ddc9805900ae41",
      "placeholder": "​",
      "style": "IPY_MODEL_66dd0cc9682a46e9a2c6964fdbfbdc2c",
      "value": " 9507/9507 [06:23&lt;00:00, 31.90it/s]"
     }
    },
    "10c0b63bc1bb4638a01b33709e19bdc0": {
     "model_module": "@jupyter-widgets/controls",
     "model_module_version": "1.5.0",
     "model_name": "HTMLModel",
     "state": {
      "_dom_classes": [],
      "_model_module": "@jupyter-widgets/controls",
      "_model_module_version": "1.5.0",
      "_model_name": "HTMLModel",
      "_view_count": null,
      "_view_module": "@jupyter-widgets/controls",
      "_view_module_version": "1.5.0",
      "_view_name": "HTMLView",
      "description": "",
      "description_tooltip": null,
      "layout": "IPY_MODEL_132c3daa13864a85aff703806cb6c502",
      "placeholder": "​",
      "style": "IPY_MODEL_4461a73fb95549758d249f2e373e8f85",
      "value": "100%"
     }
    },
    "132c3daa13864a85aff703806cb6c502": {
     "model_module": "@jupyter-widgets/base",
     "model_module_version": "1.2.0",
     "model_name": "LayoutModel",
     "state": {
      "_model_module": "@jupyter-widgets/base",
      "_model_module_version": "1.2.0",
      "_model_name": "LayoutModel",
      "_view_count": null,
      "_view_module": "@jupyter-widgets/base",
      "_view_module_version": "1.2.0",
      "_view_name": "LayoutView",
      "align_content": null,
      "align_items": null,
      "align_self": null,
      "border": null,
      "bottom": null,
      "display": null,
      "flex": null,
      "flex_flow": null,
      "grid_area": null,
      "grid_auto_columns": null,
      "grid_auto_flow": null,
      "grid_auto_rows": null,
      "grid_column": null,
      "grid_gap": null,
      "grid_row": null,
      "grid_template_areas": null,
      "grid_template_columns": null,
      "grid_template_rows": null,
      "height": null,
      "justify_content": null,
      "justify_items": null,
      "left": null,
      "margin": null,
      "max_height": null,
      "max_width": null,
      "min_height": null,
      "min_width": null,
      "object_fit": null,
      "object_position": null,
      "order": null,
      "overflow": null,
      "overflow_x": null,
      "overflow_y": null,
      "padding": null,
      "right": null,
      "top": null,
      "visibility": null,
      "width": null
     }
    },
    "18e0c218341847008b73f55e93e7ba96": {
     "model_module": "@jupyter-widgets/base",
     "model_module_version": "1.2.0",
     "model_name": "LayoutModel",
     "state": {
      "_model_module": "@jupyter-widgets/base",
      "_model_module_version": "1.2.0",
      "_model_name": "LayoutModel",
      "_view_count": null,
      "_view_module": "@jupyter-widgets/base",
      "_view_module_version": "1.2.0",
      "_view_name": "LayoutView",
      "align_content": null,
      "align_items": null,
      "align_self": null,
      "border": null,
      "bottom": null,
      "display": null,
      "flex": null,
      "flex_flow": null,
      "grid_area": null,
      "grid_auto_columns": null,
      "grid_auto_flow": null,
      "grid_auto_rows": null,
      "grid_column": null,
      "grid_gap": null,
      "grid_row": null,
      "grid_template_areas": null,
      "grid_template_columns": null,
      "grid_template_rows": null,
      "height": null,
      "justify_content": null,
      "justify_items": null,
      "left": null,
      "margin": null,
      "max_height": null,
      "max_width": null,
      "min_height": null,
      "min_width": null,
      "object_fit": null,
      "object_position": null,
      "order": null,
      "overflow": null,
      "overflow_x": null,
      "overflow_y": null,
      "padding": null,
      "right": null,
      "top": null,
      "visibility": null,
      "width": null
     }
    },
    "230df590909543eebc23baa2ba5e7750": {
     "model_module": "@jupyter-widgets/controls",
     "model_module_version": "1.5.0",
     "model_name": "ProgressStyleModel",
     "state": {
      "_model_module": "@jupyter-widgets/controls",
      "_model_module_version": "1.5.0",
      "_model_name": "ProgressStyleModel",
      "_view_count": null,
      "_view_module": "@jupyter-widgets/base",
      "_view_module_version": "1.2.0",
      "_view_name": "StyleView",
      "bar_color": null,
      "description_width": ""
     }
    },
    "23245018004a484f95cb7a2869f78ec6": {
     "model_module": "@jupyter-widgets/base",
     "model_module_version": "1.2.0",
     "model_name": "LayoutModel",
     "state": {
      "_model_module": "@jupyter-widgets/base",
      "_model_module_version": "1.2.0",
      "_model_name": "LayoutModel",
      "_view_count": null,
      "_view_module": "@jupyter-widgets/base",
      "_view_module_version": "1.2.0",
      "_view_name": "LayoutView",
      "align_content": null,
      "align_items": null,
      "align_self": null,
      "border": null,
      "bottom": null,
      "display": null,
      "flex": null,
      "flex_flow": null,
      "grid_area": null,
      "grid_auto_columns": null,
      "grid_auto_flow": null,
      "grid_auto_rows": null,
      "grid_column": null,
      "grid_gap": null,
      "grid_row": null,
      "grid_template_areas": null,
      "grid_template_columns": null,
      "grid_template_rows": null,
      "height": null,
      "justify_content": null,
      "justify_items": null,
      "left": null,
      "margin": null,
      "max_height": null,
      "max_width": null,
      "min_height": null,
      "min_width": null,
      "object_fit": null,
      "object_position": null,
      "order": null,
      "overflow": null,
      "overflow_x": null,
      "overflow_y": null,
      "padding": null,
      "right": null,
      "top": null,
      "visibility": null,
      "width": null
     }
    },
    "28228e244aaf476b87e481f88a659843": {
     "model_module": "@jupyter-widgets/controls",
     "model_module_version": "1.5.0",
     "model_name": "DescriptionStyleModel",
     "state": {
      "_model_module": "@jupyter-widgets/controls",
      "_model_module_version": "1.5.0",
      "_model_name": "DescriptionStyleModel",
      "_view_count": null,
      "_view_module": "@jupyter-widgets/base",
      "_view_module_version": "1.2.0",
      "_view_name": "StyleView",
      "description_width": ""
     }
    },
    "29ff2fa756fb4811a7e0de8602f4273b": {
     "model_module": "@jupyter-widgets/base",
     "model_module_version": "1.2.0",
     "model_name": "LayoutModel",
     "state": {
      "_model_module": "@jupyter-widgets/base",
      "_model_module_version": "1.2.0",
      "_model_name": "LayoutModel",
      "_view_count": null,
      "_view_module": "@jupyter-widgets/base",
      "_view_module_version": "1.2.0",
      "_view_name": "LayoutView",
      "align_content": null,
      "align_items": null,
      "align_self": null,
      "border": null,
      "bottom": null,
      "display": null,
      "flex": null,
      "flex_flow": null,
      "grid_area": null,
      "grid_auto_columns": null,
      "grid_auto_flow": null,
      "grid_auto_rows": null,
      "grid_column": null,
      "grid_gap": null,
      "grid_row": null,
      "grid_template_areas": null,
      "grid_template_columns": null,
      "grid_template_rows": null,
      "height": null,
      "justify_content": null,
      "justify_items": null,
      "left": null,
      "margin": null,
      "max_height": null,
      "max_width": null,
      "min_height": null,
      "min_width": null,
      "object_fit": null,
      "object_position": null,
      "order": null,
      "overflow": null,
      "overflow_x": null,
      "overflow_y": null,
      "padding": null,
      "right": null,
      "top": null,
      "visibility": null,
      "width": null
     }
    },
    "2aa32601c894467a81b2a686bbe6abb6": {
     "model_module": "@jupyter-widgets/controls",
     "model_module_version": "1.5.0",
     "model_name": "DescriptionStyleModel",
     "state": {
      "_model_module": "@jupyter-widgets/controls",
      "_model_module_version": "1.5.0",
      "_model_name": "DescriptionStyleModel",
      "_view_count": null,
      "_view_module": "@jupyter-widgets/base",
      "_view_module_version": "1.2.0",
      "_view_name": "StyleView",
      "description_width": ""
     }
    },
    "2f9e3fffc99e441db32d1975cbc41a77": {
     "model_module": "@jupyter-widgets/controls",
     "model_module_version": "1.5.0",
     "model_name": "HTMLModel",
     "state": {
      "_dom_classes": [],
      "_model_module": "@jupyter-widgets/controls",
      "_model_module_version": "1.5.0",
      "_model_name": "HTMLModel",
      "_view_count": null,
      "_view_module": "@jupyter-widgets/controls",
      "_view_module_version": "1.5.0",
      "_view_name": "HTMLView",
      "description": "",
      "description_tooltip": null,
      "layout": "IPY_MODEL_b467df4c896343879b1a386db53ce72d",
      "placeholder": "​",
      "style": "IPY_MODEL_f25d1230214a41e69324fd9ebde8dba6",
      "value": "100%"
     }
    },
    "4461a73fb95549758d249f2e373e8f85": {
     "model_module": "@jupyter-widgets/controls",
     "model_module_version": "1.5.0",
     "model_name": "DescriptionStyleModel",
     "state": {
      "_model_module": "@jupyter-widgets/controls",
      "_model_module_version": "1.5.0",
      "_model_name": "DescriptionStyleModel",
      "_view_count": null,
      "_view_module": "@jupyter-widgets/base",
      "_view_module_version": "1.2.0",
      "_view_name": "StyleView",
      "description_width": ""
     }
    },
    "4c7aae4041d0446b919c74a8b7445523": {
     "model_module": "@jupyter-widgets/controls",
     "model_module_version": "1.5.0",
     "model_name": "HTMLModel",
     "state": {
      "_dom_classes": [],
      "_model_module": "@jupyter-widgets/controls",
      "_model_module_version": "1.5.0",
      "_model_name": "HTMLModel",
      "_view_count": null,
      "_view_module": "@jupyter-widgets/controls",
      "_view_module_version": "1.5.0",
      "_view_name": "HTMLView",
      "description": "",
      "description_tooltip": null,
      "layout": "IPY_MODEL_e3aea68d7f124c3882859c9e863efcb6",
      "placeholder": "​",
      "style": "IPY_MODEL_2aa32601c894467a81b2a686bbe6abb6",
      "value": " 8163/8163 [1:47:21&lt;00:00,  1.22it/s]"
     }
    },
    "4fdff7d2113546ff98ae9742af93af82": {
     "model_module": "@jupyter-widgets/controls",
     "model_module_version": "1.5.0",
     "model_name": "HTMLModel",
     "state": {
      "_dom_classes": [],
      "_model_module": "@jupyter-widgets/controls",
      "_model_module_version": "1.5.0",
      "_model_name": "HTMLModel",
      "_view_count": null,
      "_view_module": "@jupyter-widgets/controls",
      "_view_module_version": "1.5.0",
      "_view_name": "HTMLView",
      "description": "",
      "description_tooltip": null,
      "layout": "IPY_MODEL_9b858c59f5e54a33bb78d03541687671",
      "placeholder": "​",
      "style": "IPY_MODEL_28228e244aaf476b87e481f88a659843",
      "value": "100%"
     }
    },
    "569e05f7b3a64ceab3eb662df4342078": {
     "model_module": "@jupyter-widgets/controls",
     "model_module_version": "1.5.0",
     "model_name": "HTMLModel",
     "state": {
      "_dom_classes": [],
      "_model_module": "@jupyter-widgets/controls",
      "_model_module_version": "1.5.0",
      "_model_name": "HTMLModel",
      "_view_count": null,
      "_view_module": "@jupyter-widgets/controls",
      "_view_module_version": "1.5.0",
      "_view_name": "HTMLView",
      "description": "",
      "description_tooltip": null,
      "layout": "IPY_MODEL_29ff2fa756fb4811a7e0de8602f4273b",
      "placeholder": "​",
      "style": "IPY_MODEL_9fb76c362aa0458296628b2742c830a4",
      "value": "100%"
     }
    },
    "5cbacd538d674685b3183246bb75d3bf": {
     "model_module": "@jupyter-widgets/base",
     "model_module_version": "1.2.0",
     "model_name": "LayoutModel",
     "state": {
      "_model_module": "@jupyter-widgets/base",
      "_model_module_version": "1.2.0",
      "_model_name": "LayoutModel",
      "_view_count": null,
      "_view_module": "@jupyter-widgets/base",
      "_view_module_version": "1.2.0",
      "_view_name": "LayoutView",
      "align_content": null,
      "align_items": null,
      "align_self": null,
      "border": null,
      "bottom": null,
      "display": null,
      "flex": null,
      "flex_flow": null,
      "grid_area": null,
      "grid_auto_columns": null,
      "grid_auto_flow": null,
      "grid_auto_rows": null,
      "grid_column": null,
      "grid_gap": null,
      "grid_row": null,
      "grid_template_areas": null,
      "grid_template_columns": null,
      "grid_template_rows": null,
      "height": null,
      "justify_content": null,
      "justify_items": null,
      "left": null,
      "margin": null,
      "max_height": null,
      "max_width": null,
      "min_height": null,
      "min_width": null,
      "object_fit": null,
      "object_position": null,
      "order": null,
      "overflow": null,
      "overflow_x": null,
      "overflow_y": null,
      "padding": null,
      "right": null,
      "top": null,
      "visibility": null,
      "width": null
     }
    },
    "610817ab5e5a4229ae0e3e1c2b69ec91": {
     "model_module": "@jupyter-widgets/base",
     "model_module_version": "1.2.0",
     "model_name": "LayoutModel",
     "state": {
      "_model_module": "@jupyter-widgets/base",
      "_model_module_version": "1.2.0",
      "_model_name": "LayoutModel",
      "_view_count": null,
      "_view_module": "@jupyter-widgets/base",
      "_view_module_version": "1.2.0",
      "_view_name": "LayoutView",
      "align_content": null,
      "align_items": null,
      "align_self": null,
      "border": null,
      "bottom": null,
      "display": null,
      "flex": null,
      "flex_flow": null,
      "grid_area": null,
      "grid_auto_columns": null,
      "grid_auto_flow": null,
      "grid_auto_rows": null,
      "grid_column": null,
      "grid_gap": null,
      "grid_row": null,
      "grid_template_areas": null,
      "grid_template_columns": null,
      "grid_template_rows": null,
      "height": null,
      "justify_content": null,
      "justify_items": null,
      "left": null,
      "margin": null,
      "max_height": null,
      "max_width": null,
      "min_height": null,
      "min_width": null,
      "object_fit": null,
      "object_position": null,
      "order": null,
      "overflow": null,
      "overflow_x": null,
      "overflow_y": null,
      "padding": null,
      "right": null,
      "top": null,
      "visibility": null,
      "width": null
     }
    },
    "620b7f49cdc94448b1b059e1d464c762": {
     "model_module": "@jupyter-widgets/base",
     "model_module_version": "1.2.0",
     "model_name": "LayoutModel",
     "state": {
      "_model_module": "@jupyter-widgets/base",
      "_model_module_version": "1.2.0",
      "_model_name": "LayoutModel",
      "_view_count": null,
      "_view_module": "@jupyter-widgets/base",
      "_view_module_version": "1.2.0",
      "_view_name": "LayoutView",
      "align_content": null,
      "align_items": null,
      "align_self": null,
      "border": null,
      "bottom": null,
      "display": null,
      "flex": null,
      "flex_flow": null,
      "grid_area": null,
      "grid_auto_columns": null,
      "grid_auto_flow": null,
      "grid_auto_rows": null,
      "grid_column": null,
      "grid_gap": null,
      "grid_row": null,
      "grid_template_areas": null,
      "grid_template_columns": null,
      "grid_template_rows": null,
      "height": null,
      "justify_content": null,
      "justify_items": null,
      "left": null,
      "margin": null,
      "max_height": null,
      "max_width": null,
      "min_height": null,
      "min_width": null,
      "object_fit": null,
      "object_position": null,
      "order": null,
      "overflow": null,
      "overflow_x": null,
      "overflow_y": null,
      "padding": null,
      "right": null,
      "top": null,
      "visibility": null,
      "width": null
     }
    },
    "6423eedbe4e94aa48c8260e1f2164699": {
     "model_module": "@jupyter-widgets/controls",
     "model_module_version": "1.5.0",
     "model_name": "DescriptionStyleModel",
     "state": {
      "_model_module": "@jupyter-widgets/controls",
      "_model_module_version": "1.5.0",
      "_model_name": "DescriptionStyleModel",
      "_view_count": null,
      "_view_module": "@jupyter-widgets/base",
      "_view_module_version": "1.2.0",
      "_view_name": "StyleView",
      "description_width": ""
     }
    },
    "66dd0cc9682a46e9a2c6964fdbfbdc2c": {
     "model_module": "@jupyter-widgets/controls",
     "model_module_version": "1.5.0",
     "model_name": "DescriptionStyleModel",
     "state": {
      "_model_module": "@jupyter-widgets/controls",
      "_model_module_version": "1.5.0",
      "_model_name": "DescriptionStyleModel",
      "_view_count": null,
      "_view_module": "@jupyter-widgets/base",
      "_view_module_version": "1.2.0",
      "_view_name": "StyleView",
      "description_width": ""
     }
    },
    "66eabbbdb1d44ccca87eb7eec0dcb407": {
     "model_module": "@jupyter-widgets/base",
     "model_module_version": "1.2.0",
     "model_name": "LayoutModel",
     "state": {
      "_model_module": "@jupyter-widgets/base",
      "_model_module_version": "1.2.0",
      "_model_name": "LayoutModel",
      "_view_count": null,
      "_view_module": "@jupyter-widgets/base",
      "_view_module_version": "1.2.0",
      "_view_name": "LayoutView",
      "align_content": null,
      "align_items": null,
      "align_self": null,
      "border": null,
      "bottom": null,
      "display": null,
      "flex": null,
      "flex_flow": null,
      "grid_area": null,
      "grid_auto_columns": null,
      "grid_auto_flow": null,
      "grid_auto_rows": null,
      "grid_column": null,
      "grid_gap": null,
      "grid_row": null,
      "grid_template_areas": null,
      "grid_template_columns": null,
      "grid_template_rows": null,
      "height": null,
      "justify_content": null,
      "justify_items": null,
      "left": null,
      "margin": null,
      "max_height": null,
      "max_width": null,
      "min_height": null,
      "min_width": null,
      "object_fit": null,
      "object_position": null,
      "order": null,
      "overflow": null,
      "overflow_x": null,
      "overflow_y": null,
      "padding": null,
      "right": null,
      "top": null,
      "visibility": null,
      "width": null
     }
    },
    "67e0aff4e6a74f07bd59c86b9a232d6b": {
     "model_module": "@jupyter-widgets/controls",
     "model_module_version": "1.5.0",
     "model_name": "FloatProgressModel",
     "state": {
      "_dom_classes": [],
      "_model_module": "@jupyter-widgets/controls",
      "_model_module_version": "1.5.0",
      "_model_name": "FloatProgressModel",
      "_view_count": null,
      "_view_module": "@jupyter-widgets/controls",
      "_view_module_version": "1.5.0",
      "_view_name": "ProgressView",
      "bar_style": "success",
      "description": "",
      "description_tooltip": null,
      "layout": "IPY_MODEL_66eabbbdb1d44ccca87eb7eec0dcb407",
      "max": 1,
      "min": 0,
      "orientation": "horizontal",
      "style": "IPY_MODEL_d97ef737ec1d4d169c70b583ef867752",
      "value": 1
     }
    },
    "71ad22af6e124ca8ba255376011d6222": {
     "model_module": "@jupyter-widgets/controls",
     "model_module_version": "1.5.0",
     "model_name": "DescriptionStyleModel",
     "state": {
      "_model_module": "@jupyter-widgets/controls",
      "_model_module_version": "1.5.0",
      "_model_name": "DescriptionStyleModel",
      "_view_count": null,
      "_view_module": "@jupyter-widgets/base",
      "_view_module_version": "1.2.0",
      "_view_name": "StyleView",
      "description_width": ""
     }
    },
    "7661c03a5ab4473987ddc9805900ae41": {
     "model_module": "@jupyter-widgets/base",
     "model_module_version": "1.2.0",
     "model_name": "LayoutModel",
     "state": {
      "_model_module": "@jupyter-widgets/base",
      "_model_module_version": "1.2.0",
      "_model_name": "LayoutModel",
      "_view_count": null,
      "_view_module": "@jupyter-widgets/base",
      "_view_module_version": "1.2.0",
      "_view_name": "LayoutView",
      "align_content": null,
      "align_items": null,
      "align_self": null,
      "border": null,
      "bottom": null,
      "display": null,
      "flex": null,
      "flex_flow": null,
      "grid_area": null,
      "grid_auto_columns": null,
      "grid_auto_flow": null,
      "grid_auto_rows": null,
      "grid_column": null,
      "grid_gap": null,
      "grid_row": null,
      "grid_template_areas": null,
      "grid_template_columns": null,
      "grid_template_rows": null,
      "height": null,
      "justify_content": null,
      "justify_items": null,
      "left": null,
      "margin": null,
      "max_height": null,
      "max_width": null,
      "min_height": null,
      "min_width": null,
      "object_fit": null,
      "object_position": null,
      "order": null,
      "overflow": null,
      "overflow_x": null,
      "overflow_y": null,
      "padding": null,
      "right": null,
      "top": null,
      "visibility": null,
      "width": null
     }
    },
    "78a2bb5e5dfd4d9d9cf8b0911cc69cfe": {
     "model_module": "@jupyter-widgets/base",
     "model_module_version": "1.2.0",
     "model_name": "LayoutModel",
     "state": {
      "_model_module": "@jupyter-widgets/base",
      "_model_module_version": "1.2.0",
      "_model_name": "LayoutModel",
      "_view_count": null,
      "_view_module": "@jupyter-widgets/base",
      "_view_module_version": "1.2.0",
      "_view_name": "LayoutView",
      "align_content": null,
      "align_items": null,
      "align_self": null,
      "border": null,
      "bottom": null,
      "display": null,
      "flex": null,
      "flex_flow": null,
      "grid_area": null,
      "grid_auto_columns": null,
      "grid_auto_flow": null,
      "grid_auto_rows": null,
      "grid_column": null,
      "grid_gap": null,
      "grid_row": null,
      "grid_template_areas": null,
      "grid_template_columns": null,
      "grid_template_rows": null,
      "height": null,
      "justify_content": null,
      "justify_items": null,
      "left": null,
      "margin": null,
      "max_height": null,
      "max_width": null,
      "min_height": null,
      "min_width": null,
      "object_fit": null,
      "object_position": null,
      "order": null,
      "overflow": null,
      "overflow_x": null,
      "overflow_y": null,
      "padding": null,
      "right": null,
      "top": null,
      "visibility": null,
      "width": null
     }
    },
    "7c0f547322774df2a1c57f41be9326d5": {
     "model_module": "@jupyter-widgets/controls",
     "model_module_version": "1.5.0",
     "model_name": "FloatProgressModel",
     "state": {
      "_dom_classes": [],
      "_model_module": "@jupyter-widgets/controls",
      "_model_module_version": "1.5.0",
      "_model_name": "FloatProgressModel",
      "_view_count": null,
      "_view_module": "@jupyter-widgets/controls",
      "_view_module_version": "1.5.0",
      "_view_name": "ProgressView",
      "bar_style": "success",
      "description": "",
      "description_tooltip": null,
      "layout": "IPY_MODEL_8096f44444e145b49e512c97ded3fdc9",
      "max": 9507,
      "min": 0,
      "orientation": "horizontal",
      "style": "IPY_MODEL_bd49a5231b114b32a678ca50f6b571c6",
      "value": 9507
     }
    },
    "7d202c89f2ea4c8894ea8f192d77bcba": {
     "model_module": "@jupyter-widgets/base",
     "model_module_version": "1.2.0",
     "model_name": "LayoutModel",
     "state": {
      "_model_module": "@jupyter-widgets/base",
      "_model_module_version": "1.2.0",
      "_model_name": "LayoutModel",
      "_view_count": null,
      "_view_module": "@jupyter-widgets/base",
      "_view_module_version": "1.2.0",
      "_view_name": "LayoutView",
      "align_content": null,
      "align_items": null,
      "align_self": null,
      "border": null,
      "bottom": null,
      "display": null,
      "flex": null,
      "flex_flow": null,
      "grid_area": null,
      "grid_auto_columns": null,
      "grid_auto_flow": null,
      "grid_auto_rows": null,
      "grid_column": null,
      "grid_gap": null,
      "grid_row": null,
      "grid_template_areas": null,
      "grid_template_columns": null,
      "grid_template_rows": null,
      "height": null,
      "justify_content": null,
      "justify_items": null,
      "left": null,
      "margin": null,
      "max_height": null,
      "max_width": null,
      "min_height": null,
      "min_width": null,
      "object_fit": null,
      "object_position": null,
      "order": null,
      "overflow": null,
      "overflow_x": null,
      "overflow_y": null,
      "padding": null,
      "right": null,
      "top": null,
      "visibility": null,
      "width": null
     }
    },
    "7ef14e2fe274414692e6d5652d97b8d3": {
     "model_module": "@jupyter-widgets/controls",
     "model_module_version": "1.5.0",
     "model_name": "FloatProgressModel",
     "state": {
      "_dom_classes": [],
      "_model_module": "@jupyter-widgets/controls",
      "_model_module_version": "1.5.0",
      "_model_name": "FloatProgressModel",
      "_view_count": null,
      "_view_module": "@jupyter-widgets/controls",
      "_view_module_version": "1.5.0",
      "_view_name": "ProgressView",
      "bar_style": "success",
      "description": "",
      "description_tooltip": null,
      "layout": "IPY_MODEL_96e712d40f1449baa6b2211433025d1e",
      "max": 8163,
      "min": 0,
      "orientation": "horizontal",
      "style": "IPY_MODEL_f95a2b345e674d48bc0f66e9f82a3a87",
      "value": 8163
     }
    },
    "8096f44444e145b49e512c97ded3fdc9": {
     "model_module": "@jupyter-widgets/base",
     "model_module_version": "1.2.0",
     "model_name": "LayoutModel",
     "state": {
      "_model_module": "@jupyter-widgets/base",
      "_model_module_version": "1.2.0",
      "_model_name": "LayoutModel",
      "_view_count": null,
      "_view_module": "@jupyter-widgets/base",
      "_view_module_version": "1.2.0",
      "_view_name": "LayoutView",
      "align_content": null,
      "align_items": null,
      "align_self": null,
      "border": null,
      "bottom": null,
      "display": null,
      "flex": null,
      "flex_flow": null,
      "grid_area": null,
      "grid_auto_columns": null,
      "grid_auto_flow": null,
      "grid_auto_rows": null,
      "grid_column": null,
      "grid_gap": null,
      "grid_row": null,
      "grid_template_areas": null,
      "grid_template_columns": null,
      "grid_template_rows": null,
      "height": null,
      "justify_content": null,
      "justify_items": null,
      "left": null,
      "margin": null,
      "max_height": null,
      "max_width": null,
      "min_height": null,
      "min_width": null,
      "object_fit": null,
      "object_position": null,
      "order": null,
      "overflow": null,
      "overflow_x": null,
      "overflow_y": null,
      "padding": null,
      "right": null,
      "top": null,
      "visibility": null,
      "width": null
     }
    },
    "8f1e236c1b1c48488bc2dd2f6847008a": {
     "model_module": "@jupyter-widgets/controls",
     "model_module_version": "1.5.0",
     "model_name": "HBoxModel",
     "state": {
      "_dom_classes": [],
      "_model_module": "@jupyter-widgets/controls",
      "_model_module_version": "1.5.0",
      "_model_name": "HBoxModel",
      "_view_count": null,
      "_view_module": "@jupyter-widgets/controls",
      "_view_module_version": "1.5.0",
      "_view_name": "HBoxView",
      "box_style": "",
      "children": [
       "IPY_MODEL_569e05f7b3a64ceab3eb662df4342078",
       "IPY_MODEL_7c0f547322774df2a1c57f41be9326d5",
       "IPY_MODEL_0135f251a5d34d7393a988d8411df150"
      ],
      "layout": "IPY_MODEL_78a2bb5e5dfd4d9d9cf8b0911cc69cfe"
     }
    },
    "96e712d40f1449baa6b2211433025d1e": {
     "model_module": "@jupyter-widgets/base",
     "model_module_version": "1.2.0",
     "model_name": "LayoutModel",
     "state": {
      "_model_module": "@jupyter-widgets/base",
      "_model_module_version": "1.2.0",
      "_model_name": "LayoutModel",
      "_view_count": null,
      "_view_module": "@jupyter-widgets/base",
      "_view_module_version": "1.2.0",
      "_view_name": "LayoutView",
      "align_content": null,
      "align_items": null,
      "align_self": null,
      "border": null,
      "bottom": null,
      "display": null,
      "flex": null,
      "flex_flow": null,
      "grid_area": null,
      "grid_auto_columns": null,
      "grid_auto_flow": null,
      "grid_auto_rows": null,
      "grid_column": null,
      "grid_gap": null,
      "grid_row": null,
      "grid_template_areas": null,
      "grid_template_columns": null,
      "grid_template_rows": null,
      "height": null,
      "justify_content": null,
      "justify_items": null,
      "left": null,
      "margin": null,
      "max_height": null,
      "max_width": null,
      "min_height": null,
      "min_width": null,
      "object_fit": null,
      "object_position": null,
      "order": null,
      "overflow": null,
      "overflow_x": null,
      "overflow_y": null,
      "padding": null,
      "right": null,
      "top": null,
      "visibility": null,
      "width": null
     }
    },
    "982b84b1f14d41a79eddde28d9924c05": {
     "model_module": "@jupyter-widgets/controls",
     "model_module_version": "1.5.0",
     "model_name": "HBoxModel",
     "state": {
      "_dom_classes": [],
      "_model_module": "@jupyter-widgets/controls",
      "_model_module_version": "1.5.0",
      "_model_name": "HBoxModel",
      "_view_count": null,
      "_view_module": "@jupyter-widgets/controls",
      "_view_module_version": "1.5.0",
      "_view_name": "HBoxView",
      "box_style": "",
      "children": [
       "IPY_MODEL_10c0b63bc1bb4638a01b33709e19bdc0",
       "IPY_MODEL_9936e5f11c8549f3b9646bf4f1f4aaa0",
       "IPY_MODEL_fc2da46e68894af09be6bd994e53e4a8"
      ],
      "layout": "IPY_MODEL_a041187ba99c410783160d683f4bb49c"
     }
    },
    "9936e5f11c8549f3b9646bf4f1f4aaa0": {
     "model_module": "@jupyter-widgets/controls",
     "model_module_version": "1.5.0",
     "model_name": "FloatProgressModel",
     "state": {
      "_dom_classes": [],
      "_model_module": "@jupyter-widgets/controls",
      "_model_module_version": "1.5.0",
      "_model_name": "FloatProgressModel",
      "_view_count": null,
      "_view_module": "@jupyter-widgets/controls",
      "_view_module_version": "1.5.0",
      "_view_name": "ProgressView",
      "bar_style": "success",
      "description": "",
      "description_tooltip": null,
      "layout": "IPY_MODEL_c6aa992689314dab8e42114777dfdaa5",
      "max": 8163,
      "min": 0,
      "orientation": "horizontal",
      "style": "IPY_MODEL_c8cb583223ef456aa0246bcffce8adf3",
      "value": 8163
     }
    },
    "9b858c59f5e54a33bb78d03541687671": {
     "model_module": "@jupyter-widgets/base",
     "model_module_version": "1.2.0",
     "model_name": "LayoutModel",
     "state": {
      "_model_module": "@jupyter-widgets/base",
      "_model_module_version": "1.2.0",
      "_model_name": "LayoutModel",
      "_view_count": null,
      "_view_module": "@jupyter-widgets/base",
      "_view_module_version": "1.2.0",
      "_view_name": "LayoutView",
      "align_content": null,
      "align_items": null,
      "align_self": null,
      "border": null,
      "bottom": null,
      "display": null,
      "flex": null,
      "flex_flow": null,
      "grid_area": null,
      "grid_auto_columns": null,
      "grid_auto_flow": null,
      "grid_auto_rows": null,
      "grid_column": null,
      "grid_gap": null,
      "grid_row": null,
      "grid_template_areas": null,
      "grid_template_columns": null,
      "grid_template_rows": null,
      "height": null,
      "justify_content": null,
      "justify_items": null,
      "left": null,
      "margin": null,
      "max_height": null,
      "max_width": null,
      "min_height": null,
      "min_width": null,
      "object_fit": null,
      "object_position": null,
      "order": null,
      "overflow": null,
      "overflow_x": null,
      "overflow_y": null,
      "padding": null,
      "right": null,
      "top": null,
      "visibility": null,
      "width": null
     }
    },
    "9ba82d4b29944221a373af6c71306346": {
     "model_module": "@jupyter-widgets/controls",
     "model_module_version": "1.5.0",
     "model_name": "DescriptionStyleModel",
     "state": {
      "_model_module": "@jupyter-widgets/controls",
      "_model_module_version": "1.5.0",
      "_model_name": "DescriptionStyleModel",
      "_view_count": null,
      "_view_module": "@jupyter-widgets/base",
      "_view_module_version": "1.2.0",
      "_view_name": "StyleView",
      "description_width": ""
     }
    },
    "9fb76c362aa0458296628b2742c830a4": {
     "model_module": "@jupyter-widgets/controls",
     "model_module_version": "1.5.0",
     "model_name": "DescriptionStyleModel",
     "state": {
      "_model_module": "@jupyter-widgets/controls",
      "_model_module_version": "1.5.0",
      "_model_name": "DescriptionStyleModel",
      "_view_count": null,
      "_view_module": "@jupyter-widgets/base",
      "_view_module_version": "1.2.0",
      "_view_name": "StyleView",
      "description_width": ""
     }
    },
    "a041187ba99c410783160d683f4bb49c": {
     "model_module": "@jupyter-widgets/base",
     "model_module_version": "1.2.0",
     "model_name": "LayoutModel",
     "state": {
      "_model_module": "@jupyter-widgets/base",
      "_model_module_version": "1.2.0",
      "_model_name": "LayoutModel",
      "_view_count": null,
      "_view_module": "@jupyter-widgets/base",
      "_view_module_version": "1.2.0",
      "_view_name": "LayoutView",
      "align_content": null,
      "align_items": null,
      "align_self": null,
      "border": null,
      "bottom": null,
      "display": null,
      "flex": null,
      "flex_flow": null,
      "grid_area": null,
      "grid_auto_columns": null,
      "grid_auto_flow": null,
      "grid_auto_rows": null,
      "grid_column": null,
      "grid_gap": null,
      "grid_row": null,
      "grid_template_areas": null,
      "grid_template_columns": null,
      "grid_template_rows": null,
      "height": null,
      "justify_content": null,
      "justify_items": null,
      "left": null,
      "margin": null,
      "max_height": null,
      "max_width": null,
      "min_height": null,
      "min_width": null,
      "object_fit": null,
      "object_position": null,
      "order": null,
      "overflow": null,
      "overflow_x": null,
      "overflow_y": null,
      "padding": null,
      "right": null,
      "top": null,
      "visibility": null,
      "width": null
     }
    },
    "a105d9d9924f4174add62f855e3751c7": {
     "model_module": "@jupyter-widgets/controls",
     "model_module_version": "1.5.0",
     "model_name": "HTMLModel",
     "state": {
      "_dom_classes": [],
      "_model_module": "@jupyter-widgets/controls",
      "_model_module_version": "1.5.0",
      "_model_name": "HTMLModel",
      "_view_count": null,
      "_view_module": "@jupyter-widgets/controls",
      "_view_module_version": "1.5.0",
      "_view_name": "HTMLView",
      "description": "",
      "description_tooltip": null,
      "layout": "IPY_MODEL_fbeba8b81e3c4a5fa71666cad388bd58",
      "placeholder": "​",
      "style": "IPY_MODEL_6423eedbe4e94aa48c8260e1f2164699",
      "value": " 1/1 [1:49:28&lt;00:00, 6568.06s/it]"
     }
    },
    "ab375e7bfd4d45b9a664fb6adb107045": {
     "model_module": "@jupyter-widgets/controls",
     "model_module_version": "1.5.0",
     "model_name": "HTMLModel",
     "state": {
      "_dom_classes": [],
      "_model_module": "@jupyter-widgets/controls",
      "_model_module_version": "1.5.0",
      "_model_name": "HTMLModel",
      "_view_count": null,
      "_view_module": "@jupyter-widgets/controls",
      "_view_module_version": "1.5.0",
      "_view_name": "HTMLView",
      "description": "",
      "description_tooltip": null,
      "layout": "IPY_MODEL_620b7f49cdc94448b1b059e1d464c762",
      "placeholder": "​",
      "style": "IPY_MODEL_d99dce8892de45929e295bb669e2b3c6",
      "value": " 8163/8163 [00:04&lt;00:00, 2002.28it/s]"
     }
    },
    "ac84764d8db741629fc4437e3d837190": {
     "model_module": "@jupyter-widgets/controls",
     "model_module_version": "1.5.0",
     "model_name": "HBoxModel",
     "state": {
      "_dom_classes": [],
      "_model_module": "@jupyter-widgets/controls",
      "_model_module_version": "1.5.0",
      "_model_name": "HBoxModel",
      "_view_count": null,
      "_view_module": "@jupyter-widgets/controls",
      "_view_module_version": "1.5.0",
      "_view_name": "HBoxView",
      "box_style": "",
      "children": [
       "IPY_MODEL_b62183980f9e40ddbee1bc40198953fb",
       "IPY_MODEL_c3288660b1574a2a9e47649d1a3c600f",
       "IPY_MODEL_ab375e7bfd4d45b9a664fb6adb107045"
      ],
      "layout": "IPY_MODEL_5cbacd538d674685b3183246bb75d3bf"
     }
    },
    "b467df4c896343879b1a386db53ce72d": {
     "model_module": "@jupyter-widgets/base",
     "model_module_version": "1.2.0",
     "model_name": "LayoutModel",
     "state": {
      "_model_module": "@jupyter-widgets/base",
      "_model_module_version": "1.2.0",
      "_model_name": "LayoutModel",
      "_view_count": null,
      "_view_module": "@jupyter-widgets/base",
      "_view_module_version": "1.2.0",
      "_view_name": "LayoutView",
      "align_content": null,
      "align_items": null,
      "align_self": null,
      "border": null,
      "bottom": null,
      "display": null,
      "flex": null,
      "flex_flow": null,
      "grid_area": null,
      "grid_auto_columns": null,
      "grid_auto_flow": null,
      "grid_auto_rows": null,
      "grid_column": null,
      "grid_gap": null,
      "grid_row": null,
      "grid_template_areas": null,
      "grid_template_columns": null,
      "grid_template_rows": null,
      "height": null,
      "justify_content": null,
      "justify_items": null,
      "left": null,
      "margin": null,
      "max_height": null,
      "max_width": null,
      "min_height": null,
      "min_width": null,
      "object_fit": null,
      "object_position": null,
      "order": null,
      "overflow": null,
      "overflow_x": null,
      "overflow_y": null,
      "padding": null,
      "right": null,
      "top": null,
      "visibility": null,
      "width": null
     }
    },
    "b62183980f9e40ddbee1bc40198953fb": {
     "model_module": "@jupyter-widgets/controls",
     "model_module_version": "1.5.0",
     "model_name": "HTMLModel",
     "state": {
      "_dom_classes": [],
      "_model_module": "@jupyter-widgets/controls",
      "_model_module_version": "1.5.0",
      "_model_name": "HTMLModel",
      "_view_count": null,
      "_view_module": "@jupyter-widgets/controls",
      "_view_module_version": "1.5.0",
      "_view_name": "HTMLView",
      "description": "",
      "description_tooltip": null,
      "layout": "IPY_MODEL_d23ef01ab4614a8cbcae378eff512f84",
      "placeholder": "​",
      "style": "IPY_MODEL_71ad22af6e124ca8ba255376011d6222",
      "value": "100%"
     }
    },
    "bd49a5231b114b32a678ca50f6b571c6": {
     "model_module": "@jupyter-widgets/controls",
     "model_module_version": "1.5.0",
     "model_name": "ProgressStyleModel",
     "state": {
      "_model_module": "@jupyter-widgets/controls",
      "_model_module_version": "1.5.0",
      "_model_name": "ProgressStyleModel",
      "_view_count": null,
      "_view_module": "@jupyter-widgets/base",
      "_view_module_version": "1.2.0",
      "_view_name": "StyleView",
      "bar_color": null,
      "description_width": ""
     }
    },
    "c3288660b1574a2a9e47649d1a3c600f": {
     "model_module": "@jupyter-widgets/controls",
     "model_module_version": "1.5.0",
     "model_name": "FloatProgressModel",
     "state": {
      "_dom_classes": [],
      "_model_module": "@jupyter-widgets/controls",
      "_model_module_version": "1.5.0",
      "_model_name": "FloatProgressModel",
      "_view_count": null,
      "_view_module": "@jupyter-widgets/controls",
      "_view_module_version": "1.5.0",
      "_view_name": "ProgressView",
      "bar_style": "success",
      "description": "",
      "description_tooltip": null,
      "layout": "IPY_MODEL_610817ab5e5a4229ae0e3e1c2b69ec91",
      "max": 8163,
      "min": 0,
      "orientation": "horizontal",
      "style": "IPY_MODEL_230df590909543eebc23baa2ba5e7750",
      "value": 8163
     }
    },
    "c6aa992689314dab8e42114777dfdaa5": {
     "model_module": "@jupyter-widgets/base",
     "model_module_version": "1.2.0",
     "model_name": "LayoutModel",
     "state": {
      "_model_module": "@jupyter-widgets/base",
      "_model_module_version": "1.2.0",
      "_model_name": "LayoutModel",
      "_view_count": null,
      "_view_module": "@jupyter-widgets/base",
      "_view_module_version": "1.2.0",
      "_view_name": "LayoutView",
      "align_content": null,
      "align_items": null,
      "align_self": null,
      "border": null,
      "bottom": null,
      "display": null,
      "flex": null,
      "flex_flow": null,
      "grid_area": null,
      "grid_auto_columns": null,
      "grid_auto_flow": null,
      "grid_auto_rows": null,
      "grid_column": null,
      "grid_gap": null,
      "grid_row": null,
      "grid_template_areas": null,
      "grid_template_columns": null,
      "grid_template_rows": null,
      "height": null,
      "justify_content": null,
      "justify_items": null,
      "left": null,
      "margin": null,
      "max_height": null,
      "max_width": null,
      "min_height": null,
      "min_width": null,
      "object_fit": null,
      "object_position": null,
      "order": null,
      "overflow": null,
      "overflow_x": null,
      "overflow_y": null,
      "padding": null,
      "right": null,
      "top": null,
      "visibility": null,
      "width": null
     }
    },
    "c8cb583223ef456aa0246bcffce8adf3": {
     "model_module": "@jupyter-widgets/controls",
     "model_module_version": "1.5.0",
     "model_name": "ProgressStyleModel",
     "state": {
      "_model_module": "@jupyter-widgets/controls",
      "_model_module_version": "1.5.0",
      "_model_name": "ProgressStyleModel",
      "_view_count": null,
      "_view_module": "@jupyter-widgets/base",
      "_view_module_version": "1.2.0",
      "_view_name": "StyleView",
      "bar_color": null,
      "description_width": ""
     }
    },
    "d23ef01ab4614a8cbcae378eff512f84": {
     "model_module": "@jupyter-widgets/base",
     "model_module_version": "1.2.0",
     "model_name": "LayoutModel",
     "state": {
      "_model_module": "@jupyter-widgets/base",
      "_model_module_version": "1.2.0",
      "_model_name": "LayoutModel",
      "_view_count": null,
      "_view_module": "@jupyter-widgets/base",
      "_view_module_version": "1.2.0",
      "_view_name": "LayoutView",
      "align_content": null,
      "align_items": null,
      "align_self": null,
      "border": null,
      "bottom": null,
      "display": null,
      "flex": null,
      "flex_flow": null,
      "grid_area": null,
      "grid_auto_columns": null,
      "grid_auto_flow": null,
      "grid_auto_rows": null,
      "grid_column": null,
      "grid_gap": null,
      "grid_row": null,
      "grid_template_areas": null,
      "grid_template_columns": null,
      "grid_template_rows": null,
      "height": null,
      "justify_content": null,
      "justify_items": null,
      "left": null,
      "margin": null,
      "max_height": null,
      "max_width": null,
      "min_height": null,
      "min_width": null,
      "object_fit": null,
      "object_position": null,
      "order": null,
      "overflow": null,
      "overflow_x": null,
      "overflow_y": null,
      "padding": null,
      "right": null,
      "top": null,
      "visibility": null,
      "width": null
     }
    },
    "d97ef737ec1d4d169c70b583ef867752": {
     "model_module": "@jupyter-widgets/controls",
     "model_module_version": "1.5.0",
     "model_name": "ProgressStyleModel",
     "state": {
      "_model_module": "@jupyter-widgets/controls",
      "_model_module_version": "1.5.0",
      "_model_name": "ProgressStyleModel",
      "_view_count": null,
      "_view_module": "@jupyter-widgets/base",
      "_view_module_version": "1.2.0",
      "_view_name": "StyleView",
      "bar_color": null,
      "description_width": ""
     }
    },
    "d99dce8892de45929e295bb669e2b3c6": {
     "model_module": "@jupyter-widgets/controls",
     "model_module_version": "1.5.0",
     "model_name": "DescriptionStyleModel",
     "state": {
      "_model_module": "@jupyter-widgets/controls",
      "_model_module_version": "1.5.0",
      "_model_name": "DescriptionStyleModel",
      "_view_count": null,
      "_view_module": "@jupyter-widgets/base",
      "_view_module_version": "1.2.0",
      "_view_name": "StyleView",
      "description_width": ""
     }
    },
    "e3aea68d7f124c3882859c9e863efcb6": {
     "model_module": "@jupyter-widgets/base",
     "model_module_version": "1.2.0",
     "model_name": "LayoutModel",
     "state": {
      "_model_module": "@jupyter-widgets/base",
      "_model_module_version": "1.2.0",
      "_model_name": "LayoutModel",
      "_view_count": null,
      "_view_module": "@jupyter-widgets/base",
      "_view_module_version": "1.2.0",
      "_view_name": "LayoutView",
      "align_content": null,
      "align_items": null,
      "align_self": null,
      "border": null,
      "bottom": null,
      "display": null,
      "flex": null,
      "flex_flow": null,
      "grid_area": null,
      "grid_auto_columns": null,
      "grid_auto_flow": null,
      "grid_auto_rows": null,
      "grid_column": null,
      "grid_gap": null,
      "grid_row": null,
      "grid_template_areas": null,
      "grid_template_columns": null,
      "grid_template_rows": null,
      "height": null,
      "justify_content": null,
      "justify_items": null,
      "left": null,
      "margin": null,
      "max_height": null,
      "max_width": null,
      "min_height": null,
      "min_width": null,
      "object_fit": null,
      "object_position": null,
      "order": null,
      "overflow": null,
      "overflow_x": null,
      "overflow_y": null,
      "padding": null,
      "right": null,
      "top": null,
      "visibility": null,
      "width": null
     }
    },
    "ec6f95fa2e6c437f9d6e738dfb9ab61c": {
     "model_module": "@jupyter-widgets/controls",
     "model_module_version": "1.5.0",
     "model_name": "HBoxModel",
     "state": {
      "_dom_classes": [],
      "_model_module": "@jupyter-widgets/controls",
      "_model_module_version": "1.5.0",
      "_model_name": "HBoxModel",
      "_view_count": null,
      "_view_module": "@jupyter-widgets/controls",
      "_view_module_version": "1.5.0",
      "_view_name": "HBoxView",
      "box_style": "",
      "children": [
       "IPY_MODEL_2f9e3fffc99e441db32d1975cbc41a77",
       "IPY_MODEL_67e0aff4e6a74f07bd59c86b9a232d6b",
       "IPY_MODEL_a105d9d9924f4174add62f855e3751c7"
      ],
      "layout": "IPY_MODEL_23245018004a484f95cb7a2869f78ec6"
     }
    },
    "f25d1230214a41e69324fd9ebde8dba6": {
     "model_module": "@jupyter-widgets/controls",
     "model_module_version": "1.5.0",
     "model_name": "DescriptionStyleModel",
     "state": {
      "_model_module": "@jupyter-widgets/controls",
      "_model_module_version": "1.5.0",
      "_model_name": "DescriptionStyleModel",
      "_view_count": null,
      "_view_module": "@jupyter-widgets/base",
      "_view_module_version": "1.2.0",
      "_view_name": "StyleView",
      "description_width": ""
     }
    },
    "f95a2b345e674d48bc0f66e9f82a3a87": {
     "model_module": "@jupyter-widgets/controls",
     "model_module_version": "1.5.0",
     "model_name": "ProgressStyleModel",
     "state": {
      "_model_module": "@jupyter-widgets/controls",
      "_model_module_version": "1.5.0",
      "_model_name": "ProgressStyleModel",
      "_view_count": null,
      "_view_module": "@jupyter-widgets/base",
      "_view_module_version": "1.2.0",
      "_view_name": "StyleView",
      "bar_color": null,
      "description_width": ""
     }
    },
    "fbeba8b81e3c4a5fa71666cad388bd58": {
     "model_module": "@jupyter-widgets/base",
     "model_module_version": "1.2.0",
     "model_name": "LayoutModel",
     "state": {
      "_model_module": "@jupyter-widgets/base",
      "_model_module_version": "1.2.0",
      "_model_name": "LayoutModel",
      "_view_count": null,
      "_view_module": "@jupyter-widgets/base",
      "_view_module_version": "1.2.0",
      "_view_name": "LayoutView",
      "align_content": null,
      "align_items": null,
      "align_self": null,
      "border": null,
      "bottom": null,
      "display": null,
      "flex": null,
      "flex_flow": null,
      "grid_area": null,
      "grid_auto_columns": null,
      "grid_auto_flow": null,
      "grid_auto_rows": null,
      "grid_column": null,
      "grid_gap": null,
      "grid_row": null,
      "grid_template_areas": null,
      "grid_template_columns": null,
      "grid_template_rows": null,
      "height": null,
      "justify_content": null,
      "justify_items": null,
      "left": null,
      "margin": null,
      "max_height": null,
      "max_width": null,
      "min_height": null,
      "min_width": null,
      "object_fit": null,
      "object_position": null,
      "order": null,
      "overflow": null,
      "overflow_x": null,
      "overflow_y": null,
      "padding": null,
      "right": null,
      "top": null,
      "visibility": null,
      "width": null
     }
    },
    "fc2da46e68894af09be6bd994e53e4a8": {
     "model_module": "@jupyter-widgets/controls",
     "model_module_version": "1.5.0",
     "model_name": "HTMLModel",
     "state": {
      "_dom_classes": [],
      "_model_module": "@jupyter-widgets/controls",
      "_model_module_version": "1.5.0",
      "_model_name": "HTMLModel",
      "_view_count": null,
      "_view_module": "@jupyter-widgets/controls",
      "_view_module_version": "1.5.0",
      "_view_name": "HTMLView",
      "description": "",
      "description_tooltip": null,
      "layout": "IPY_MODEL_7d202c89f2ea4c8894ea8f192d77bcba",
      "placeholder": "​",
      "style": "IPY_MODEL_9ba82d4b29944221a373af6c71306346",
      "value": " 8163/8163 [00:01&lt;00:00, 3831.81it/s]"
     }
    },
    "fefb2e053dd94bf18b426aaa72859af8": {
     "model_module": "@jupyter-widgets/controls",
     "model_module_version": "1.5.0",
     "model_name": "HBoxModel",
     "state": {
      "_dom_classes": [],
      "_model_module": "@jupyter-widgets/controls",
      "_model_module_version": "1.5.0",
      "_model_name": "HBoxModel",
      "_view_count": null,
      "_view_module": "@jupyter-widgets/controls",
      "_view_module_version": "1.5.0",
      "_view_name": "HBoxView",
      "box_style": "",
      "children": [
       "IPY_MODEL_4fdff7d2113546ff98ae9742af93af82",
       "IPY_MODEL_7ef14e2fe274414692e6d5652d97b8d3",
       "IPY_MODEL_4c7aae4041d0446b919c74a8b7445523"
      ],
      "layout": "IPY_MODEL_18e0c218341847008b73f55e93e7ba96"
     }
    }
   }
  }
 },
 "nbformat": 4,
 "nbformat_minor": 0
}
